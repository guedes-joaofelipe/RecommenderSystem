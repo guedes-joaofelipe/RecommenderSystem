{
 "cells": [
  {
   "cell_type": "markdown",
   "metadata": {},
   "source": [
    "## Imports"
   ]
  },
  {
   "cell_type": "code",
   "execution_count": 1,
   "metadata": {},
   "outputs": [],
   "source": [
    "import os, sys, joblib, json\n",
    "import pandas as pd\n",
    "import numpy as np\n",
    "import pandas as pd\n",
    "import matplotlib.pyplot as plt \n",
    "from sklearn.model_selection import KFold\n",
    "from IPython.display import clear_output\n",
    "lib_path = './../Sources'\n",
    "if (lib_path not in sys.path):\n",
    "    sys.path.append(lib_path) #src directory\n",
    "from lpsrec.messaging.print_functions import ProgressBar\n",
    "from lpsrec.messaging.telegrambot import Bot\n",
    "import lpsrec.database as db\n",
    "%matplotlib inline "
   ]
  },
  {
   "cell_type": "markdown",
   "metadata": {},
   "source": [
    "## Parameters"
   ]
  },
  {
   "cell_type": "code",
   "execution_count": 2,
   "metadata": {
    "tags": [
     "parameters"
    ]
   },
   "outputs": [],
   "source": [
    "dataset_tag = 'AMZIV'\n",
    "model_tag = 'OS'\n",
    "bot_alive = False"
   ]
  },
  {
   "cell_type": "code",
   "execution_count": 3,
   "metadata": {},
   "outputs": [],
   "source": [
    "# Creating output folders\n",
    "dataset_output_folder = os.path.join('.', 'Outputs', dataset_tag)\n",
    "variables_output_folder = os.path.join(dataset_output_folder, model_tag, 'Variables')\n",
    "figures_output_folder = os.path.join(dataset_output_folder, model_tag, 'Figures')\n",
    "if not os.path.exists(variables_output_folder):    \n",
    "    os.makedirs(variables_output_folder)    \n",
    "if not os.path.exists(figures_output_folder):        \n",
    "    os.makedirs(figures_output_folder)"
   ]
  },
  {
   "cell_type": "code",
   "execution_count": 4,
   "metadata": {},
   "outputs": [],
   "source": [
    "style_dict = json.load(open('./style_dict.json', 'r'))\n",
    "plt.rc('font', **style_dict['font'])\n",
    "# plt.rc('axes.titlesize', fontsize=20)\n",
    "plt.rc('xtick', labelsize=style_dict['tick']['fontsize']) \n",
    "plt.rc('ytick', labelsize=style_dict['tick']['fontsize']) "
   ]
  },
  {
   "cell_type": "code",
   "execution_count": 5,
   "metadata": {},
   "outputs": [
    {
     "data": {
      "text/plain": [
       "''"
      ]
     },
     "execution_count": 5,
     "metadata": {},
     "output_type": "execute_result"
    }
   ],
   "source": [
    "progbar = ProgressBar(bar_length=20, bar_fill='#', elapsed_time=True)\n",
    "bot = Bot(user_credentials='./JFGS.json')\n",
    "# # Checking if bot is ok\n",
    "bot.send_message(text=\"{}\\nHello, John. Initiating sparsity analysis for the {} dataset\".format('-'*20, dataset_tag)) if bot_alive else ''  "
   ]
  },
  {
   "cell_type": "markdown",
   "metadata": {},
   "source": [
    "## Connecting to Database"
   ]
  },
  {
   "cell_type": "code",
   "execution_count": 6,
   "metadata": {},
   "outputs": [],
   "source": [
    "username = 'postgres'\n",
    "password = 'admin'\n",
    "dbname = 'RecSys'\n",
    "hostname = 'localhost:5432'\n",
    "conn = db.get_database_connection(username, password, hostname, dbname)"
   ]
  },
  {
   "cell_type": "markdown",
   "metadata": {},
   "source": [
    "## Getting Dataset"
   ]
  },
  {
   "cell_type": "code",
   "execution_count": 7,
   "metadata": {},
   "outputs": [
    {
     "name": "stdout",
     "output_type": "stream",
     "text": [
      "Dataset Amazon Instant Video (id_dataset = 6) with 583933 registers\n",
      "Number of sparsity cenarios:  1296\n",
      "Training ratio:  0.7\n"
     ]
    },
    {
     "data": {
      "text/html": [
       "<div>\n",
       "<style scoped>\n",
       "    .dataframe tbody tr th:only-of-type {\n",
       "        vertical-align: middle;\n",
       "    }\n",
       "\n",
       "    .dataframe tbody tr th {\n",
       "        vertical-align: top;\n",
       "    }\n",
       "\n",
       "    .dataframe thead th {\n",
       "        text-align: right;\n",
       "    }\n",
       "</style>\n",
       "<table border=\"1\" class=\"dataframe\">\n",
       "  <thead>\n",
       "    <tr style=\"text-align: right;\">\n",
       "      <th></th>\n",
       "      <th>id_sparsity_cenario</th>\n",
       "      <th>uss</th>\n",
       "      <th>iss</th>\n",
       "    </tr>\n",
       "  </thead>\n",
       "  <tbody>\n",
       "    <tr>\n",
       "      <th>0</th>\n",
       "      <td>10759</td>\n",
       "      <td>0.3</td>\n",
       "      <td>0.30</td>\n",
       "    </tr>\n",
       "    <tr>\n",
       "      <th>1</th>\n",
       "      <td>10760</td>\n",
       "      <td>0.3</td>\n",
       "      <td>0.32</td>\n",
       "    </tr>\n",
       "    <tr>\n",
       "      <th>2</th>\n",
       "      <td>10761</td>\n",
       "      <td>0.3</td>\n",
       "      <td>0.34</td>\n",
       "    </tr>\n",
       "    <tr>\n",
       "      <th>3</th>\n",
       "      <td>10762</td>\n",
       "      <td>0.3</td>\n",
       "      <td>0.36</td>\n",
       "    </tr>\n",
       "    <tr>\n",
       "      <th>4</th>\n",
       "      <td>10763</td>\n",
       "      <td>0.3</td>\n",
       "      <td>0.38</td>\n",
       "    </tr>\n",
       "  </tbody>\n",
       "</table>\n",
       "</div>"
      ],
      "text/plain": [
       "   id_sparsity_cenario  uss   iss\n",
       "0                10759  0.3  0.30\n",
       "1                10760  0.3  0.32\n",
       "2                10761  0.3  0.34\n",
       "3                10762  0.3  0.36\n",
       "4                10763  0.3  0.38"
      ]
     },
     "execution_count": 7,
     "metadata": {},
     "output_type": "execute_result"
    }
   ],
   "source": [
    "dataset_info = pd.read_sql(con= conn , sql=\"select * from datasets.dataset where version='{}'\".format(dataset_tag))\n",
    "training_ratio = float(pd.read_sql(con= conn , sql=\"select max(training_ratio) from sparsity.folder\")['max'][0])\n",
    "df_sparsity_cenario = pd.read_sql(con= conn , sql=\"select * from sparsity.cenario\")\n",
    "df_whole = db.get_dataset_from_sparsity(conn, dataset_tag=dataset_tag)\n",
    "print (\"Dataset {} (id_dataset = {}) with {} registers\".format(dataset_info['name'][0], dataset_info['id_dataset'][0], df_whole.shape[0]))\n",
    "print (\"Number of sparsity cenarios: \", df_sparsity_cenario.shape[0])\n",
    "print (\"Training ratio: \", training_ratio)\n",
    "df_sparsity_cenario.head()"
   ]
  },
  {
   "cell_type": "code",
   "execution_count": 8,
   "metadata": {},
   "outputs": [
    {
     "data": {
      "text/html": [
       "<div>\n",
       "<style scoped>\n",
       "    .dataframe tbody tr th:only-of-type {\n",
       "        vertical-align: middle;\n",
       "    }\n",
       "\n",
       "    .dataframe tbody tr th {\n",
       "        vertical-align: top;\n",
       "    }\n",
       "\n",
       "    .dataframe thead th {\n",
       "        text-align: right;\n",
       "    }\n",
       "</style>\n",
       "<table border=\"1\" class=\"dataframe\">\n",
       "  <thead>\n",
       "    <tr style=\"text-align: right;\">\n",
       "      <th></th>\n",
       "      <th>user</th>\n",
       "      <th>item</th>\n",
       "      <th>feedback_value</th>\n",
       "      <th>timestamp</th>\n",
       "      <th>id_user</th>\n",
       "      <th>id_item</th>\n",
       "    </tr>\n",
       "  </thead>\n",
       "  <tbody>\n",
       "    <tr>\n",
       "      <th>583928</th>\n",
       "      <td>AZYKTSGSVUGEL</td>\n",
       "      <td>B004TJRCU4</td>\n",
       "      <td>5.0</td>\n",
       "      <td>2011-06-06 21:00:00</td>\n",
       "      <td>2522394</td>\n",
       "      <td>227398</td>\n",
       "    </tr>\n",
       "    <tr>\n",
       "      <th>583929</th>\n",
       "      <td>AZZPCG11X8OBJ</td>\n",
       "      <td>B0072C8ME0</td>\n",
       "      <td>5.0</td>\n",
       "      <td>2014-01-03 22:00:00</td>\n",
       "      <td>2522500</td>\n",
       "      <td>210575</td>\n",
       "    </tr>\n",
       "    <tr>\n",
       "      <th>583930</th>\n",
       "      <td>AZZQH2RG6KPTR</td>\n",
       "      <td>B004CTBG1W</td>\n",
       "      <td>1.0</td>\n",
       "      <td>2014-03-03 21:00:00</td>\n",
       "      <td>2522504</td>\n",
       "      <td>230227</td>\n",
       "    </tr>\n",
       "    <tr>\n",
       "      <th>583931</th>\n",
       "      <td>AZZSKEO8CQK1Y</td>\n",
       "      <td>B00DIXFXHQ</td>\n",
       "      <td>5.0</td>\n",
       "      <td>2013-08-04 21:00:00</td>\n",
       "      <td>2522507</td>\n",
       "      <td>225072</td>\n",
       "    </tr>\n",
       "    <tr>\n",
       "      <th>583932</th>\n",
       "      <td>AZZVNH8GIA19N</td>\n",
       "      <td>B00BW75MKI</td>\n",
       "      <td>4.0</td>\n",
       "      <td>2013-12-11 22:00:00</td>\n",
       "      <td>2522513</td>\n",
       "      <td>210511</td>\n",
       "    </tr>\n",
       "  </tbody>\n",
       "</table>\n",
       "</div>"
      ],
      "text/plain": [
       "                 user        item feedback_value           timestamp  id_user  \\\n",
       "583928  AZYKTSGSVUGEL  B004TJRCU4            5.0 2011-06-06 21:00:00  2522394   \n",
       "583929  AZZPCG11X8OBJ  B0072C8ME0            5.0 2014-01-03 22:00:00  2522500   \n",
       "583930  AZZQH2RG6KPTR  B004CTBG1W            1.0 2014-03-03 21:00:00  2522504   \n",
       "583931  AZZSKEO8CQK1Y  B00DIXFXHQ            5.0 2013-08-04 21:00:00  2522507   \n",
       "583932  AZZVNH8GIA19N  B00BW75MKI            4.0 2013-12-11 22:00:00  2522513   \n",
       "\n",
       "        id_item  \n",
       "583928   227398  \n",
       "583929   210575  \n",
       "583930   230227  \n",
       "583931   225072  \n",
       "583932   210511  "
      ]
     },
     "execution_count": 8,
     "metadata": {},
     "output_type": "execute_result"
    }
   ],
   "source": [
    "df_whole.tail()"
   ]
  },
  {
   "cell_type": "markdown",
   "metadata": {},
   "source": [
    "## Getting Sparsity Information"
   ]
  },
  {
   "cell_type": "code",
   "execution_count": 9,
   "metadata": {},
   "outputs": [
    {
     "data": {
      "text/html": [
       "<div>\n",
       "<style scoped>\n",
       "    .dataframe tbody tr th:only-of-type {\n",
       "        vertical-align: middle;\n",
       "    }\n",
       "\n",
       "    .dataframe tbody tr th {\n",
       "        vertical-align: top;\n",
       "    }\n",
       "\n",
       "    .dataframe thead th {\n",
       "        text-align: right;\n",
       "    }\n",
       "</style>\n",
       "<table border=\"1\" class=\"dataframe\">\n",
       "  <thead>\n",
       "    <tr style=\"text-align: right;\">\n",
       "      <th></th>\n",
       "      <th>id_user_dataset</th>\n",
       "      <th>uss</th>\n",
       "      <th>n_feedback</th>\n",
       "      <th>max_feedback</th>\n",
       "      <th>id_user</th>\n",
       "    </tr>\n",
       "  </thead>\n",
       "  <tbody>\n",
       "    <tr>\n",
       "      <th>0</th>\n",
       "      <td>A00019103H5DUGXXX2UPR</td>\n",
       "      <td>0.99639</td>\n",
       "      <td>1</td>\n",
       "      <td>277</td>\n",
       "      <td>2095604</td>\n",
       "    </tr>\n",
       "    <tr>\n",
       "      <th>269517</th>\n",
       "      <td>A3DUBX6G6TOKQF</td>\n",
       "      <td>0.99639</td>\n",
       "      <td>1</td>\n",
       "      <td>277</td>\n",
       "      <td>2365121</td>\n",
       "    </tr>\n",
       "    <tr>\n",
       "      <th>269526</th>\n",
       "      <td>A3DUEQ9U25VQ31</td>\n",
       "      <td>0.99639</td>\n",
       "      <td>1</td>\n",
       "      <td>277</td>\n",
       "      <td>2365130</td>\n",
       "    </tr>\n",
       "    <tr>\n",
       "      <th>269525</th>\n",
       "      <td>A3DUEPZ1CXUF0S</td>\n",
       "      <td>0.99639</td>\n",
       "      <td>1</td>\n",
       "      <td>277</td>\n",
       "      <td>2365129</td>\n",
       "    </tr>\n",
       "    <tr>\n",
       "      <th>269524</th>\n",
       "      <td>A3DUE0YTDJJXTY</td>\n",
       "      <td>0.99639</td>\n",
       "      <td>1</td>\n",
       "      <td>277</td>\n",
       "      <td>2365128</td>\n",
       "    </tr>\n",
       "  </tbody>\n",
       "</table>\n",
       "</div>"
      ],
      "text/plain": [
       "              id_user_dataset      uss  n_feedback  max_feedback  id_user\n",
       "0       A00019103H5DUGXXX2UPR  0.99639           1           277  2095604\n",
       "269517         A3DUBX6G6TOKQF  0.99639           1           277  2365121\n",
       "269526         A3DUEQ9U25VQ31  0.99639           1           277  2365130\n",
       "269525         A3DUEPZ1CXUF0S  0.99639           1           277  2365129\n",
       "269524         A3DUE0YTDJJXTY  0.99639           1           277  2365128"
      ]
     },
     "execution_count": 9,
     "metadata": {},
     "output_type": "execute_result"
    }
   ],
   "source": [
    "sql_str = \"\"\"select * from sparsity.get_dataset_uss('{}')\"\"\".format(dataset_tag)\n",
    "df_users_uss = pd.read_sql(con= conn , sql=sql_str)\n",
    "df_users_uss.sort_values(['uss'], ascending=False).head()"
   ]
  },
  {
   "cell_type": "code",
   "execution_count": 10,
   "metadata": {},
   "outputs": [
    {
     "data": {
      "text/html": [
       "<div>\n",
       "<style scoped>\n",
       "    .dataframe tbody tr th:only-of-type {\n",
       "        vertical-align: middle;\n",
       "    }\n",
       "\n",
       "    .dataframe tbody tr th {\n",
       "        vertical-align: top;\n",
       "    }\n",
       "\n",
       "    .dataframe thead th {\n",
       "        text-align: right;\n",
       "    }\n",
       "</style>\n",
       "<table border=\"1\" class=\"dataframe\">\n",
       "  <thead>\n",
       "    <tr style=\"text-align: right;\">\n",
       "      <th></th>\n",
       "      <th>id_item_dataset</th>\n",
       "      <th>iss</th>\n",
       "      <th>n_feedback</th>\n",
       "      <th>max_feedback</th>\n",
       "      <th>id_item</th>\n",
       "    </tr>\n",
       "  </thead>\n",
       "  <tbody>\n",
       "    <tr>\n",
       "      <th>23964</th>\n",
       "      <td>B00B5J9WAE</td>\n",
       "      <td>0.999921</td>\n",
       "      <td>1</td>\n",
       "      <td>12633</td>\n",
       "      <td>230471</td>\n",
       "    </tr>\n",
       "    <tr>\n",
       "      <th>8697</th>\n",
       "      <td>B000YDR43E</td>\n",
       "      <td>0.999921</td>\n",
       "      <td>1</td>\n",
       "      <td>12633</td>\n",
       "      <td>215204</td>\n",
       "    </tr>\n",
       "    <tr>\n",
       "      <th>19377</th>\n",
       "      <td>B00AB925J4</td>\n",
       "      <td>0.999921</td>\n",
       "      <td>1</td>\n",
       "      <td>12633</td>\n",
       "      <td>225884</td>\n",
       "    </tr>\n",
       "    <tr>\n",
       "      <th>19374</th>\n",
       "      <td>B004RHRDZC</td>\n",
       "      <td>0.999921</td>\n",
       "      <td>1</td>\n",
       "      <td>12633</td>\n",
       "      <td>225881</td>\n",
       "    </tr>\n",
       "    <tr>\n",
       "      <th>8701</th>\n",
       "      <td>B0085IX7SG</td>\n",
       "      <td>0.999921</td>\n",
       "      <td>1</td>\n",
       "      <td>12633</td>\n",
       "      <td>215208</td>\n",
       "    </tr>\n",
       "  </tbody>\n",
       "</table>\n",
       "</div>"
      ],
      "text/plain": [
       "      id_item_dataset       iss  n_feedback  max_feedback  id_item\n",
       "23964      B00B5J9WAE  0.999921           1         12633   230471\n",
       "8697       B000YDR43E  0.999921           1         12633   215204\n",
       "19377      B00AB925J4  0.999921           1         12633   225884\n",
       "19374      B004RHRDZC  0.999921           1         12633   225881\n",
       "8701       B0085IX7SG  0.999921           1         12633   215208"
      ]
     },
     "execution_count": 10,
     "metadata": {},
     "output_type": "execute_result"
    }
   ],
   "source": [
    "sql_str = \"\"\"select * from sparsity.get_dataset_iss('{}')\"\"\".format(dataset_tag)\n",
    "df_items_iss = pd.read_sql(con= conn , sql=sql_str)\n",
    "df_items_iss.sort_values(['iss'], ascending=False).head()"
   ]
  },
  {
   "cell_type": "code",
   "execution_count": 11,
   "metadata": {},
   "outputs": [],
   "source": [
    "uss_limits = df_sparsity_cenario['uss'].unique()\n",
    "iss_limits = df_sparsity_cenario['iss'].unique()"
   ]
  },
  {
   "cell_type": "code",
   "execution_count": 12,
   "metadata": {},
   "outputs": [
    {
     "name": "stdout",
     "output_type": "stream",
     "text": [
      "[0:00:23][####################] 100.00% Done...\n",
      "Wall time: 31.5 s\n"
     ]
    }
   ],
   "source": [
    "%%time\n",
    "counter = 0\n",
    "df_overall_sparsity = pd.DataFrame(columns=['uss_limit', 'iss_limit', 'os', 'num_users', 'num_items'])\n",
    "\n",
    "for uss_index, uss_limit in enumerate(uss_limits):\n",
    "    progbar.update_progress(uss_index/float(len(uss_limits)-1))\n",
    "    \n",
    "    for iss_limit in iss_limits:\n",
    "        # Filtering users/items with lower specific sparsity than the limit \n",
    "        users_ids = np.array(df_users_uss[df_users_uss['uss'] <= uss_limit]['id_user'])\n",
    "        items_ids = np.array(df_items_iss[df_items_iss['iss'] <= iss_limit]['id_item'])\n",
    "\n",
    "        df_filtered = df_whole[df_whole['id_user'].isin(users_ids)].reset_index(drop = True)\n",
    "        df_filtered = df_filtered[df_filtered['id_item'].isin(items_ids)].reset_index(drop = True)\n",
    "\n",
    "        # Calculating Overall Sparsity\n",
    "        if (df_filtered.shape[0] == 0):\n",
    "            text = \"ERROR: dataset with 0 rows\"\n",
    "            bot.send_message(text=text)        \n",
    "            print (text)\n",
    "            break\n",
    "        \n",
    "        overall_sparsity = 1-df_filtered.shape[0]/float(len(df_filtered['id_user'].unique())*len(df_filtered['id_item'].unique()))        \n",
    "        df_overall_sparsity.loc[counter] = [uss_limit, iss_limit, overall_sparsity, len(users_ids), len(items_ids)]        \n",
    "        counter += 1\n",
    "\n",
    "text = \"Finished creating sparsity datasets for {} in {}\".format(dataset_tag, progbar.get_elapsed_time())\n",
    "bot.send_message(text=text) if bot_alive else ''         "
   ]
  },
  {
   "cell_type": "code",
   "execution_count": 13,
   "metadata": {},
   "outputs": [
    {
     "data": {
      "text/html": [
       "<div>\n",
       "<style scoped>\n",
       "    .dataframe tbody tr th:only-of-type {\n",
       "        vertical-align: middle;\n",
       "    }\n",
       "\n",
       "    .dataframe tbody tr th {\n",
       "        vertical-align: top;\n",
       "    }\n",
       "\n",
       "    .dataframe thead th {\n",
       "        text-align: right;\n",
       "    }\n",
       "</style>\n",
       "<table border=\"1\" class=\"dataframe\">\n",
       "  <thead>\n",
       "    <tr style=\"text-align: right;\">\n",
       "      <th></th>\n",
       "      <th>uss_limit</th>\n",
       "      <th>iss_limit</th>\n",
       "      <th>os</th>\n",
       "      <th>num_users</th>\n",
       "      <th>num_items</th>\n",
       "    </tr>\n",
       "  </thead>\n",
       "  <tbody>\n",
       "    <tr>\n",
       "      <th>1291</th>\n",
       "      <td>1.0</td>\n",
       "      <td>0.92</td>\n",
       "      <td>0.982808</td>\n",
       "      <td>426922.0</td>\n",
       "      <td>67.0</td>\n",
       "    </tr>\n",
       "    <tr>\n",
       "      <th>1292</th>\n",
       "      <td>1.0</td>\n",
       "      <td>0.94</td>\n",
       "      <td>0.988061</td>\n",
       "      <td>426922.0</td>\n",
       "      <td>98.0</td>\n",
       "    </tr>\n",
       "    <tr>\n",
       "      <th>1293</th>\n",
       "      <td>1.0</td>\n",
       "      <td>0.96</td>\n",
       "      <td>0.993415</td>\n",
       "      <td>426922.0</td>\n",
       "      <td>182.0</td>\n",
       "    </tr>\n",
       "    <tr>\n",
       "      <th>1294</th>\n",
       "      <td>1.0</td>\n",
       "      <td>0.98</td>\n",
       "      <td>0.996774</td>\n",
       "      <td>426922.0</td>\n",
       "      <td>384.0</td>\n",
       "    </tr>\n",
       "    <tr>\n",
       "      <th>1295</th>\n",
       "      <td>1.0</td>\n",
       "      <td>1.00</td>\n",
       "      <td>0.999943</td>\n",
       "      <td>426922.0</td>\n",
       "      <td>23965.0</td>\n",
       "    </tr>\n",
       "  </tbody>\n",
       "</table>\n",
       "</div>"
      ],
      "text/plain": [
       "      uss_limit  iss_limit        os  num_users  num_items\n",
       "1291        1.0       0.92  0.982808   426922.0       67.0\n",
       "1292        1.0       0.94  0.988061   426922.0       98.0\n",
       "1293        1.0       0.96  0.993415   426922.0      182.0\n",
       "1294        1.0       0.98  0.996774   426922.0      384.0\n",
       "1295        1.0       1.00  0.999943   426922.0    23965.0"
      ]
     },
     "execution_count": 13,
     "metadata": {},
     "output_type": "execute_result"
    }
   ],
   "source": [
    "df_overall_sparsity.to_csv(os.path.join(variables_output_folder, 'df_overall_sparsity.tsv'), sep = '\\t', header = True, index = False)\n",
    "df_overall_sparsity.tail()"
   ]
  },
  {
   "cell_type": "markdown",
   "metadata": {},
   "source": [
    "## Generating USS and ISS analysis"
   ]
  },
  {
   "cell_type": "code",
   "execution_count": 14,
   "metadata": {},
   "outputs": [],
   "source": [
    "df_overall_sparsity = pd.read_csv(os.path.join(variables_output_folder, 'df_overall_sparsity.tsv'), sep = '\\t', header = 0)"
   ]
  },
  {
   "cell_type": "code",
   "execution_count": 15,
   "metadata": {},
   "outputs": [
    {
     "data": {
      "text/html": [
       "<div>\n",
       "<style scoped>\n",
       "    .dataframe tbody tr th:only-of-type {\n",
       "        vertical-align: middle;\n",
       "    }\n",
       "\n",
       "    .dataframe tbody tr th {\n",
       "        vertical-align: top;\n",
       "    }\n",
       "\n",
       "    .dataframe thead th {\n",
       "        text-align: right;\n",
       "    }\n",
       "</style>\n",
       "<table border=\"1\" class=\"dataframe\">\n",
       "  <thead>\n",
       "    <tr style=\"text-align: right;\">\n",
       "      <th></th>\n",
       "      <th>id_user_dataset</th>\n",
       "      <th>uss</th>\n",
       "      <th>n_feedback</th>\n",
       "      <th>max_feedback</th>\n",
       "      <th>id_user</th>\n",
       "    </tr>\n",
       "  </thead>\n",
       "  <tbody>\n",
       "    <tr>\n",
       "      <th>136613</th>\n",
       "      <td>A27H9DOUGY9FOS</td>\n",
       "      <td>0.000000</td>\n",
       "      <td>277</td>\n",
       "      <td>277</td>\n",
       "      <td>2232217</td>\n",
       "    </tr>\n",
       "    <tr>\n",
       "      <th>411958</th>\n",
       "      <td>AV6QDP8Q0ONK4</td>\n",
       "      <td>0.133574</td>\n",
       "      <td>240</td>\n",
       "      <td>277</td>\n",
       "      <td>2507562</td>\n",
       "    </tr>\n",
       "    <tr>\n",
       "      <th>271194</th>\n",
       "      <td>A3EDIPCXT15C3T</td>\n",
       "      <td>0.234657</td>\n",
       "      <td>212</td>\n",
       "      <td>277</td>\n",
       "      <td>2366798</td>\n",
       "    </tr>\n",
       "    <tr>\n",
       "      <th>414867</th>\n",
       "      <td>AW3VZ5O895LRK</td>\n",
       "      <td>0.487365</td>\n",
       "      <td>142</td>\n",
       "      <td>277</td>\n",
       "      <td>2510471</td>\n",
       "    </tr>\n",
       "    <tr>\n",
       "      <th>372647</th>\n",
       "      <td>AIMR915K4YCN</td>\n",
       "      <td>0.548736</td>\n",
       "      <td>125</td>\n",
       "      <td>277</td>\n",
       "      <td>2468251</td>\n",
       "    </tr>\n",
       "  </tbody>\n",
       "</table>\n",
       "</div>"
      ],
      "text/plain": [
       "       id_user_dataset       uss  n_feedback  max_feedback  id_user\n",
       "136613  A27H9DOUGY9FOS  0.000000         277           277  2232217\n",
       "411958   AV6QDP8Q0ONK4  0.133574         240           277  2507562\n",
       "271194  A3EDIPCXT15C3T  0.234657         212           277  2366798\n",
       "414867   AW3VZ5O895LRK  0.487365         142           277  2510471\n",
       "372647    AIMR915K4YCN  0.548736         125           277  2468251"
      ]
     },
     "execution_count": 15,
     "metadata": {},
     "output_type": "execute_result"
    }
   ],
   "source": [
    "df_users_uss.sort_values(['uss'], ascending=True).head()"
   ]
  },
  {
   "cell_type": "code",
   "execution_count": 16,
   "metadata": {},
   "outputs": [
    {
     "data": {
      "text/plain": [
       "''"
      ]
     },
     "execution_count": 16,
     "metadata": {},
     "output_type": "execute_result"
    },
    {
     "data": {
      "image/png": "[encoded data removed]",
      "text/plain": [
       "<Figure size 576x576 with 1 Axes>"
      ]
     },
     "metadata": {
      "needs_background": "light"
     },
     "output_type": "display_data"
    }
   ],
   "source": [
    "df_num_analysis = df_users_uss.sort_values(['uss'], ascending=True)\n",
    "fig, ax = plt.subplots(figsize=(8,8))\n",
    "ax.grid(True)\n",
    "ax.hist(df_num_analysis['n_feedback'], range=(0, 0.2*df_num_analysis['n_feedback'].max()), bins=50, linewidth=0.8, edgecolor='black', color=style_dict['lps-color'])\n",
    "ax.set_title('Users Ratings Histogram')\n",
    "ax.set_xlabel('Number of Ratings', fontsize=14)\n",
    "ax.set_ylabel('Number of Users', fontsize=14)\n",
    "filepath=os.path.join(figures_output_folder, 'users_ratings_histogram.png')\n",
    "fig.savefig(filepath, bbox_inches = 'tight')\n",
    "bot.send_message(filePath=filepath) if bot_alive else ''  "
   ]
  },
  {
   "cell_type": "code",
   "execution_count": 18,
   "metadata": {},
   "outputs": [
    {
     "data": {
      "text/plain": [
       "''"
      ]
     },
     "execution_count": 18,
     "metadata": {},
     "output_type": "execute_result"
    },
    {
     "data": {
      "image/png": "[encoded data removed]",
      "text/plain": [
       "<Figure size 576x576 with 1 Axes>"
      ]
     },
     "metadata": {
      "needs_background": "light"
     },
     "output_type": "display_data"
    }
   ],
   "source": [
    "df_num_analysis = df_items_iss.sort_values(['iss'], ascending=True)\n",
    "fig, ax = plt.subplots(figsize=(8,8))\n",
    "ax.grid(True)\n",
    "ax.hist(df_num_analysis['n_feedback'], range=(0, 0.2*df_num_analysis['n_feedback'].max()), bins=50, linewidth=0.8, edgecolor='black', color=style_dict['lps-color'])\n",
    "ax.set_title('Items Ratings Histogram')\n",
    "ax.set_xlabel('Number of Ratings', fontsize=14)\n",
    "ax.set_ylabel('Number of Items', fontsize=14)\n",
    "filepath=os.path.join(figures_output_folder, 'items_ratings_histogram.png')\n",
    "fig.savefig(filepath, bbox_inches = 'tight')\n",
    "bot.send_message(filePath=filepath) if bot_alive else ''  "
   ]
  },
  {
   "cell_type": "code",
   "execution_count": 19,
   "metadata": {},
   "outputs": [
    {
     "data": {
      "text/plain": [
       "''"
      ]
     },
     "execution_count": 19,
     "metadata": {},
     "output_type": "execute_result"
    },
    {
     "data": {
      "image/png": "[encoded data removed]",
      "text/plain": [
       "<Figure size 576x576 with 1 Axes>"
      ]
     },
     "metadata": {
      "needs_background": "light"
     },
     "output_type": "display_data"
    }
   ],
   "source": [
    "df_num_analysis = df_overall_sparsity.groupby(['iss_limit', 'num_items']).mean().reset_index()[['iss_limit', 'num_items', 'os']]\n",
    "\n",
    "fig, ax = plt.subplots(figsize=(8,8))\n",
    "ax.plot(df_num_analysis['iss_limit'], df_num_analysis['num_items'])\n",
    "ax.axis([df_num_analysis['iss_limit'].min(), df_num_analysis['iss_limit'].max(), 0, df_num_analysis['num_items'].max()])\n",
    "ax.grid(True)\n",
    "\n",
    "ax.set_xticks([x/100.0 for x in np.arange (int(10*np.floor(10*df_num_analysis['iss_limit'].min())), 110, 10)])\n",
    "ax.set_xlabel('ISS Limit', fontsize = 20)\n",
    "ax.set_ylabel('Items Quantity', fontsize = 20)\n",
    "ax.tick_params(axis='both', which='major', labelsize=14)\n",
    "\n",
    "# Saving figure\n",
    "filename = '2d-num_items_x_isslimit.png'\n",
    "filepath = os.path.join(figures_output_folder, filename)\n",
    "fig.savefig(filepath, bbox_inches = 'tight')\n",
    "bot.send_message(filePath=filepath) if bot_alive else ''  "
   ]
  },
  {
   "cell_type": "code",
   "execution_count": 20,
   "metadata": {},
   "outputs": [
    {
     "data": {
      "text/plain": [
       "''"
      ]
     },
     "execution_count": 20,
     "metadata": {},
     "output_type": "execute_result"
    },
    {
     "data": {
      "image/png": "[encoded data removed]",
      "text/plain": [
       "<Figure size 576x576 with 1 Axes>"
      ]
     },
     "metadata": {
      "needs_background": "light"
     },
     "output_type": "display_data"
    }
   ],
   "source": [
    "df_num_analysis = df_overall_sparsity.groupby(['uss_limit', 'num_users']).mean().reset_index()[['uss_limit', 'num_users', 'os']]\n",
    "\n",
    "fig, ax = plt.subplots(figsize=(8,8))\n",
    "ax.plot(df_num_analysis['uss_limit'], df_num_analysis['num_users'])\n",
    "ax.axis([df_num_analysis['uss_limit'].min(), df_num_analysis['uss_limit'].max(), 0, df_num_analysis['num_users'].max()])\n",
    "ax.grid(True)\n",
    "\n",
    "ax.set_xticks([x/100.0 for x in np.arange (int(10*np.floor(10*df_num_analysis['uss_limit'].min())), 110, 10)])\n",
    "ax.set_xlabel('USS Limit', fontsize = 20)\n",
    "ax.set_ylabel('Users Quantity', fontsize = 20)\n",
    "ax.tick_params(axis='both', which='major', labelsize=14)\n",
    "\n",
    "# Saving figure\n",
    "filepath = os.path.join(figures_output_folder, '2d-num_users_x_usslimit.png')\n",
    "fig.savefig(filepath, bbox_inches = 'tight')\n",
    "bot.send_message(filePath=filepath) if bot_alive else ''  "
   ]
  },
  {
   "cell_type": "markdown",
   "metadata": {},
   "source": [
    "## Generating OS analysis"
   ]
  },
  {
   "cell_type": "code",
   "execution_count": 21,
   "metadata": {},
   "outputs": [
    {
     "data": {
      "text/plain": [
       "['.\\\\Outputs\\\\AMZIV\\\\OS\\\\Variables\\\\arr_os.joblib']"
      ]
     },
     "execution_count": 21,
     "metadata": {},
     "output_type": "execute_result"
    }
   ],
   "source": [
    "arr_os = np.zeros([len(uss_limits), len(iss_limits)])\n",
    "for uss_index, uss_limit in enumerate(uss_limits):\n",
    "    for iss_index, iss_limit in enumerate(iss_limits):\n",
    "        arr_os[uss_index, iss_index] = df_overall_sparsity[(df_overall_sparsity['uss_limit'] == uss_limit) & (df_overall_sparsity['iss_limit'] == iss_limit)]['os'].reset_index(drop = True)[0]\n",
    "\n",
    "joblib.dump(arr_os, os.path.join(variables_output_folder, 'arr_os.joblib'))        "
   ]
  },
  {
   "cell_type": "code",
   "execution_count": 22,
   "metadata": {},
   "outputs": [],
   "source": [
    "arr_os = joblib.load(os.path.join(variables_output_folder, 'arr_os.joblib'))"
   ]
  },
  {
   "cell_type": "code",
   "execution_count": 23,
   "metadata": {},
   "outputs": [
    {
     "data": {
      "text/plain": [
       "''"
      ]
     },
     "execution_count": 23,
     "metadata": {},
     "output_type": "execute_result"
    },
    {
     "data": {
      "image/png": "[encoded data removed]",
      "text/plain": [
       "<Figure size 720x720 with 2 Axes>"
      ]
     },
     "metadata": {
      "needs_background": "light"
     },
     "output_type": "display_data"
    }
   ],
   "source": [
    "cmapping = \"jet\"\n",
    "fig, ax = plt.subplots(figsize=(10,10))\n",
    "cax = plt.imshow(arr_os, cmap=cmapping)\n",
    "plt.gca().invert_yaxis()\n",
    "cbar = plt.colorbar(cax, ticks = [x/100.0 for x in np.arange(0,1000,10)], shrink = 0.83)\n",
    "tick_step = int(5)\n",
    "ax.set_xticklabels(uss_limits[0:len(uss_limits):tick_step])\n",
    "ax.set_yticklabels(iss_limits[0:len(uss_limits):tick_step])\n",
    "plt.xticks(np.arange(0, len(uss_limits), tick_step))\n",
    "plt.yticks(np.arange(0, len(iss_limits), tick_step))\n",
    "plt.clim(0, 1)\n",
    "\n",
    "tick_fontsize = 20\n",
    "label_fontsize = 25\n",
    "\n",
    "ax.set_xlabel('Last User Specific Sparsity', fontsize = label_fontsize)\n",
    "ax.set_ylabel('Last Item Specific Sparsity', fontsize = label_fontsize)\n",
    "# cbar = fig.colorbar(cax, ticks = [x/100.0 for x in np.arange(0,1000,5)])\n",
    "\n",
    "plt.xticks(rotation = 'vertical')\n",
    "ax.tick_params(axis='both', which='major', labelsize=tick_fontsize)\n",
    "cbar.set_label('OS', labelpad=-50,  y=1.05, rotation=0, fontsize = label_fontsize)\n",
    "cbar.ax.tick_params(labelsize = tick_fontsize)\n",
    "\n",
    "filename = '2d-OS.png'\n",
    "filepath = os.path.join(figures_output_folder, '2d-OS.png')\n",
    "fig.savefig(filepath, bbox_inches = 'tight')\n",
    "bot.send_message(filePath=filepath) if bot_alive else ''  "
   ]
  },
  {
   "cell_type": "code",
   "execution_count": 24,
   "metadata": {},
   "outputs": [
    {
     "data": {
      "text/plain": [
       "''"
      ]
     },
     "execution_count": 24,
     "metadata": {},
     "output_type": "execute_result"
    }
   ],
   "source": [
    "bot.send_message(text=\"End of analysis for the {} dataset\\n{}\".format(dataset_tag, '-'*20)) if bot_alive else ''"
   ]
  },
  {
   "cell_type": "markdown",
   "metadata": {},
   "source": [
    "__________________"
   ]
  }
 ],
 "metadata": {
  "celltoolbar": "Tags",
  "kernelspec": {
   "display_name": "Python 3",
   "language": "python",
   "name": "python3"
  },
  "language_info": {
   "codemirror_mode": {
    "name": "ipython",
    "version": 3
   },
   "file_extension": ".py",
   "mimetype": "text/x-python",
   "name": "python",
   "nbconvert_exporter": "python",
   "pygments_lexer": "ipython3",
   "version": "3.7.3"
  }
 },
 "nbformat": 4,
 "nbformat_minor": 2
}
