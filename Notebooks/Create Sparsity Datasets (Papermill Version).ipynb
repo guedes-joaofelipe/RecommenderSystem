{
 "cells": [
  {
   "cell_type": "markdown",
   "metadata": {},
   "source": [
    "## Imports"
   ]
  },
  {
   "cell_type": "code",
   "execution_count": 4,
   "metadata": {},
   "outputs": [],
   "source": [
    "import papermill as pm\n",
    "import os\n",
    "output_folder = './Output_Notebooks'\n",
    "\n",
    "if not os.path.exists(output_folder):\n",
    "    print ('Creating folder ' + output_folder)\n",
    "    os.makedirs(output_folder)\n",
    "\n"
   ]
  },
  {
   "cell_type": "markdown",
   "metadata": {},
   "source": [
    "## Parameters"
   ]
  },
  {
   "cell_type": "code",
   "execution_count": 16,
   "metadata": {},
   "outputs": [],
   "source": [
    "# Parameters to be used with Papermill\n",
    "arr_dataset_tag = ['AMZMTV'] # 'ML100k', 'ML1M', 'AMZIV', \n",
    "model_tag = 'OS'"
   ]
  },
  {
   "cell_type": "code",
   "execution_count": 17,
   "metadata": {},
   "outputs": [
    {
     "data": {
      "application/vnd.jupyter.widget-view+json": {
       "model_id": "478d152dc46540e7a1bc3101d0df64aa",
       "version_major": 2,
       "version_minor": 0
      },
      "text/plain": [
       "HBox(children=(IntProgress(value=0, max=32), HTML(value='')))"
      ]
     },
     "metadata": {},
     "output_type": "display_data"
    },
    {
     "name": "stdout",
     "output_type": "stream",
     "text": [
      "\n"
     ]
    }
   ],
   "source": [
    "for dataset_tag in arr_dataset_tag:\n",
    "    pm.execute_notebook(\n",
    "       './Create Sparsity Datasets (DB Version).ipynb',\n",
    "        os.path.join(output_folder, 'Create Sparsity Datasets (DB Version) [{}].ipynb'.format(dataset_tag)),\n",
    "        parameters = dict(dataset_tag=dataset_tag, model_tag=model_tag)\n",
    "    )"
   ]
  },
  {
   "cell_type": "markdown",
   "metadata": {},
   "source": [
    "__________________"
   ]
  }
 ],
 "metadata": {
  "kernelspec": {
   "display_name": "Python 3",
   "language": "python",
   "name": "python3"
  },
  "language_info": {
   "codemirror_mode": {
    "name": "ipython",
    "version": 3
   },
   "file_extension": ".py",
   "mimetype": "text/x-python",
   "name": "python",
   "nbconvert_exporter": "python",
   "pygments_lexer": "ipython3",
   "version": "3.7.3"
  }
 },
 "nbformat": 4,
 "nbformat_minor": 2
}
