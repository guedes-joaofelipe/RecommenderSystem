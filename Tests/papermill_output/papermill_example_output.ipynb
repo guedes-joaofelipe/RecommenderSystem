{
 "cells": [
  {
   "cell_type": "markdown",
   "metadata": {
    "papermill": {
     "duration": 0.004961,
     "end_time": "2019-06-05T21:40:21.531841",
     "exception": false,
     "start_time": "2019-06-05T21:40:21.526880",
     "status": "completed"
    },
    "tags": []
   },
   "source": [
    "https://github.com/nteract/papermill"
   ]
  },
  {
   "cell_type": "code",
   "execution_count": 1,
   "metadata": {
    "papermill": {
     "duration": 0.012965,
     "end_time": "2019-06-05T21:40:21.551787",
     "exception": false,
     "start_time": "2019-06-05T21:40:21.538822",
     "status": "completed"
    },
    "tags": [
     "parameters"
    ]
   },
   "outputs": [],
   "source": [
    "alpha = 0.1\n",
    "ratio = 0.2"
   ]
  },
  {
   "cell_type": "code",
   "execution_count": 2,
   "metadata": {
    "papermill": {
     "duration": 0.011996,
     "end_time": "2019-06-05T21:40:21.569769",
     "exception": false,
     "start_time": "2019-06-05T21:40:21.557773",
     "status": "completed"
    },
    "tags": [
     "injected-parameters"
    ]
   },
   "outputs": [],
   "source": [
    "# Parameters\n",
    "alpha = 0.6\n",
    "ratio = 0.1\n"
   ]
  },
  {
   "cell_type": "code",
   "execution_count": 3,
   "metadata": {
    "papermill": {
     "duration": 0.016934,
     "end_time": "2019-06-05T21:40:21.592679",
     "exception": false,
     "start_time": "2019-06-05T21:40:21.575745",
     "status": "completed"
    },
    "tags": []
   },
   "outputs": [
    {
     "name": "stdout",
     "output_type": "stream",
     "text": [
      "0.70\n"
     ]
    }
   ],
   "source": [
    "print ('{:.02f}'.format(alpha+ratio))"
   ]
  }
 ],
 "metadata": {
  "celltoolbar": "Tags",
  "kernelspec": {
   "display_name": "Python 3",
   "language": "python",
   "name": "python3"
  },
  "language_info": {
   "codemirror_mode": {
    "name": "ipython",
    "version": 3
   },
   "file_extension": ".py",
   "mimetype": "text/x-python",
   "name": "python",
   "nbconvert_exporter": "python",
   "pygments_lexer": "ipython3",
   "version": "3.7.2"
  },
  "papermill": {
   "duration": 2.250012,
   "end_time": "2019-06-05T21:40:21.876947",
   "environment_variables": {},
   "exception": null,
   "input_path": "./papermill_example.ipynb",
   "output_path": "./papermill_output\\papermill_example_output.ipynb",
   "parameters": {
    "alpha": 0.6,
    "ratio": 0.1
   },
   "start_time": "2019-06-05T21:40:19.626935",
   "version": "1.0.1"
  }
 },
 "nbformat": 4,
 "nbformat_minor": 2
}