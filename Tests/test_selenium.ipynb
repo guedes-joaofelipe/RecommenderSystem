{
 "cells": [
  {
   "cell_type": "code",
   "execution_count": 1,
   "metadata": {},
   "outputs": [],
   "source": [
    "from selenium import webdriver\n",
    "from selenium.webdriver.common.keys import Keys\n",
    "\n"
   ]
  },
  {
   "cell_type": "code",
   "execution_count": 7,
   "metadata": {},
   "outputs": [],
   "source": [
    "driver = webdriver.Chrome(executable_path=r'C:/Python36/Scripts/chromedriver.exe')"
   ]
  },
  {
   "cell_type": "code",
   "execution_count": 5,
   "metadata": {},
   "outputs": [],
   "source": [
    "\n",
    "\n",
    "driver.get(\"http://www.python.org\")\n",
    "assert \"Python\" in driver.title\n",
    "elem = driver.find_element_by_name(\"q\")\n",
    "elem.clear()\n",
    "elem.send_keys(\"pycon\")\n",
    "elem.send_keys(Keys.RETURN)\n",
    "assert \"No results found.\" not in driver.page_source\n",
    "driver.close()"
   ]
  },
  {
   "cell_type": "code",
   "execution_count": 8,
   "metadata": {},
   "outputs": [],
   "source": [
    "driver.get(\"http://sjc.salvar.cemaden.gov.br/resources/graficos/interativo/grafico_CEMADEN.php?menu=periodo&idpcd=6949&uf=SC\")"
   ]
  },
  {
   "cell_type": "code",
   "execution_count": 9,
   "metadata": {},
   "outputs": [
    {
     "name": "stdout",
     "output_type": "stream",
     "text": [
      "Informacoes das PCDs Cemaden\n"
     ]
    }
   ],
   "source": [
    "print (driver.title)"
   ]
  },
  {
   "cell_type": "code",
   "execution_count": 25,
   "metadata": {},
   "outputs": [
    {
     "data": {
      "text/plain": [
       "<selenium.webdriver.remote.webelement.WebElement (session=\"0ed6073915f37dfa63ec5764d978bff3\", element=\"0.45624894902787005-1\")>"
      ]
     },
     "execution_count": 25,
     "metadata": {},
     "output_type": "execute_result"
    }
   ],
   "source": [
    "driver.find_element_by_name('graph')"
   ]
  },
  {
   "cell_type": "code",
   "execution_count": 47,
   "metadata": {},
   "outputs": [],
   "source": [
    "driver.switch_to.default_content() \n",
    "iframe = driver.find_element_by_name(\"graph\")\n",
    "driver.switch_to.frame(iframe)"
   ]
  },
  {
   "cell_type": "code",
   "execution_count": 38,
   "metadata": {},
   "outputs": [],
   "source": []
  },
  {
   "cell_type": "code",
   "execution_count": 39,
   "metadata": {},
   "outputs": [],
   "source": []
  },
  {
   "cell_type": "code",
   "execution_count": 43,
   "metadata": {},
   "outputs": [],
   "source": [
    "lines = driver.find_element_by_xpath('/html/body/div[1]/div[2]/table/tbody')"
   ]
  },
  {
   "cell_type": "code",
   "execution_count": 46,
   "metadata": {},
   "outputs": [
    {
     "data": {
      "text/plain": [
       "'06/06/2019 01:00:00 0,00\\n06/06/2019 00:00:00 0,00\\n05/06/2019 23:00:00 0,00\\n05/06/2019 22:00:00 0,00\\n05/06/2019 21:00:00 0,00\\n05/06/2019 20:00:00 0,00\\n05/06/2019 19:00:00 0,00\\n05/06/2019 18:00:00 0,00\\n05/06/2019 17:00:00 0,00\\n05/06/2019 16:00:00 0,00\\n05/06/2019 15:40:00 0,20\\n05/06/2019 15:00:00 0,00\\n05/06/2019 14:00:00 0,00\\n05/06/2019 13:00:00 0,00\\n05/06/2019 12:00:00 0,00\\n05/06/2019 11:00:00 0,00\\n05/06/2019 10:00:00 0,00\\n05/06/2019 09:00:00 0,00\\n05/06/2019 08:00:00 0,00\\n05/06/2019 07:00:00 0,00\\n05/06/2019 06:00:00 0,00\\n05/06/2019 05:00:00 0,00\\n05/06/2019 04:00:00 0,00\\n05/06/2019 03:00:00 0,00\\n05/06/2019 02:00:00 0,00\\n  Total 0,20'"
      ]
     },
     "execution_count": 46,
     "metadata": {},
     "output_type": "execute_result"
    }
   ],
   "source": [
    "lines.text"
   ]
  },
  {
   "cell_type": "code",
   "execution_count": 48,
   "metadata": {},
   "outputs": [],
   "source": [
    "\n",
    "driver.close()"
   ]
  }
 ],
 "metadata": {
  "kernelspec": {
   "display_name": "Python 3",
   "language": "python",
   "name": "python3"
  },
  "language_info": {
   "codemirror_mode": {
    "name": "ipython",
    "version": 3
   },
   "file_extension": ".py",
   "mimetype": "text/x-python",
   "name": "python",
   "nbconvert_exporter": "python",
   "pygments_lexer": "ipython3",
   "version": "3.7.3"
  }
 },
 "nbformat": 4,
 "nbformat_minor": 2
}
