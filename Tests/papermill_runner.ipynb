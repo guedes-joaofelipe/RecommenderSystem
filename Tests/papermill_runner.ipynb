{
 "cells": [
  {
   "cell_type": "code",
   "execution_count": 7,
   "metadata": {},
   "outputs": [
    {
     "data": {
      "application/vnd.jupyter.widget-view+json": {
       "model_id": "dc51a1384e82447fac3cdeae69b01e50",
       "version_major": 2,
       "version_minor": 0
      },
      "text/plain": [
       "HBox(children=(IntProgress(value=0, max=4), HTML(value='')))"
      ]
     },
     "metadata": {},
     "output_type": "display_data"
    },
    {
     "data": {
      "text/plain": [
       "{'cells': [{'cell_type': 'markdown',\n",
       "   'metadata': {'tags': [],\n",
       "    'papermill': {'exception': False,\n",
       "     'start_time': '2019-06-05T21:40:21.526880',\n",
       "     'end_time': '2019-06-05T21:40:21.531841',\n",
       "     'duration': 0.004961,\n",
       "     'status': 'completed'}},\n",
       "   'source': 'https://github.com/nteract/papermill'},\n",
       "  {'cell_type': 'code',\n",
       "   'execution_count': 1,\n",
       "   'metadata': {'tags': ['parameters'],\n",
       "    'papermill': {'exception': False,\n",
       "     'start_time': '2019-06-05T21:40:21.538822',\n",
       "     'end_time': '2019-06-05T21:40:21.551787',\n",
       "     'duration': 0.012965,\n",
       "     'status': 'completed'}},\n",
       "   'outputs': [],\n",
       "   'source': 'alpha = 0.1\\nratio = 0.2'},\n",
       "  {'cell_type': 'code',\n",
       "   'metadata': {'tags': ['injected-parameters'],\n",
       "    'papermill': {'exception': False,\n",
       "     'start_time': '2019-06-05T21:40:21.557773',\n",
       "     'end_time': '2019-06-05T21:40:21.569769',\n",
       "     'duration': 0.011996,\n",
       "     'status': 'completed'}},\n",
       "   'execution_count': 2,\n",
       "   'source': '# Parameters\\nalpha = 0.6\\nratio = 0.1\\n',\n",
       "   'outputs': []},\n",
       "  {'cell_type': 'code',\n",
       "   'execution_count': 3,\n",
       "   'metadata': {'tags': [],\n",
       "    'papermill': {'exception': False,\n",
       "     'start_time': '2019-06-05T21:40:21.575745',\n",
       "     'end_time': '2019-06-05T21:40:21.592679',\n",
       "     'duration': 0.016934,\n",
       "     'status': 'completed'}},\n",
       "   'outputs': [{'output_type': 'stream', 'name': 'stdout', 'text': '0.70\\n'}],\n",
       "   'source': \"print ('{:.02f}'.format(alpha+ratio))\"}],\n",
       " 'metadata': {'celltoolbar': 'Tags',\n",
       "  'kernelspec': {'display_name': 'Python 3',\n",
       "   'language': 'python',\n",
       "   'name': 'python3'},\n",
       "  'language_info': {'name': 'python',\n",
       "   'version': '3.7.2',\n",
       "   'mimetype': 'text/x-python',\n",
       "   'codemirror_mode': {'name': 'ipython', 'version': 3},\n",
       "   'pygments_lexer': 'ipython3',\n",
       "   'nbconvert_exporter': 'python',\n",
       "   'file_extension': '.py'},\n",
       "  'papermill': {'parameters': {'alpha': 0.6, 'ratio': 0.1},\n",
       "   'environment_variables': {},\n",
       "   'version': '1.0.1',\n",
       "   'input_path': './papermill_example.ipynb',\n",
       "   'output_path': './papermill_output\\\\papermill_example_output.ipynb',\n",
       "   'start_time': '2019-06-05T21:40:19.626935',\n",
       "   'end_time': '2019-06-05T21:40:21.876947',\n",
       "   'duration': 2.250012,\n",
       "   'exception': None}},\n",
       " 'nbformat': 4,\n",
       " 'nbformat_minor': 2}"
      ]
     },
     "execution_count": 7,
     "metadata": {},
     "output_type": "execute_result"
    }
   ],
   "source": [
    "import papermill as pm\n",
    "import os\n",
    "output_folder = './papermill_output'\n",
    "\n",
    "if not os.path.exists(output_folder):\n",
    "    print ('Creating folder ' + output_folder)\n",
    "    os.makedirs(output_folder)\n",
    "\n",
    "pm.execute_notebook(\n",
    "   './papermill_example.ipynb',\n",
    "    os.path.join(output_folder, 'papermill_example_output.ipynb'),\n",
    "    parameters = dict(alpha=0.6, ratio=0.1)\n",
    ")"
   ]
  }
 ],
 "metadata": {
  "kernelspec": {
   "display_name": "Python 3",
   "language": "python",
   "name": "python3"
  },
  "language_info": {
   "codemirror_mode": {
    "name": "ipython",
    "version": 3
   },
   "file_extension": ".py",
   "mimetype": "text/x-python",
   "name": "python",
   "nbconvert_exporter": "python",
   "pygments_lexer": "ipython3",
   "version": "3.7.2"
  }
 },
 "nbformat": 4,
 "nbformat_minor": 2
}
