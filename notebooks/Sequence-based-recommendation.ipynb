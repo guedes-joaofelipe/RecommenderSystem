{
 "cells": [
  {
   "cell_type": "markdown",
   "metadata": {},
   "source": [
    "# Sequence Based Recommendations Module"
   ]
  },
  {
   "cell_type": "markdown",
   "metadata": {},
   "source": [
    "- This notebook aims to show how to use sequence-based-recommendation module created by Robin Devooght. Some of these functions have been utilized in recent papers provided by the authors tackling sequence-based recommender systems \n",
    "\n",
    "<par>All code can be accessed in https://github.com/rdevooght/sequence-based-recommendations but a few modifications have been made</par>"
   ]
  },
  {
   "cell_type": "markdown",
   "metadata": {},
   "source": [
    "## Methods\n",
    "\n",
    "The available methods are:\n",
    "* [Recurrent Neural Networks](#recurrent-neural-networks)\n",
    "* [Stacked Denoising Autoencoder](#stacked-denoising-autoencoders)\n",
    "* [Latent Tarjectory Modeling/word2vec](#latent-trajectory-modeling)\n",
    "* [BPR-MF](#bpr-mf)\n",
    "* [FPMC](#fpmc)\n",
    "* [FISM](#fism)\n",
    "* [Fossil](#fossil)\n",
    "* [Markov Chains](#markov-chain)\n",
    "* [User KNN](#user-knn)\n",
    "* [Popularity baseline](#pop)\n",
    "\n",
    "### Neural Networks\n",
    "#### Recurrent Neural Networks\n",
    "\n",
    "Use it with `-m RNN`.\n",
    "The RNN have many options allowing to change the type/size/number of layers, the training procedure and the objective function, and some options are specific to a particular objective function.\n",
    "\n",
    "##### Layers\n",
    "\n",
    "Option | Desciption\n",
    "------ | ----------\n",
    "`--r_t [LSTM, GRU, Vanilla]` | Type of recurrent layer (default is GRU)\n",
    "`--r_l size_of_layer1-size_of_layer2-etc.` | Size and number of layers. for example, `--r_l 100-50-50` creates a layer with 50 hidden neurons on top of another layer with 50 hidden neurons on top of a layer with 100 hidden neurons. Default: 32.\n",
    "`--r_bi` | Use bidirectional layers.\n",
    "`--r_emb size` | Adds an embedding layer before the recurrent layer. By default no embedding layer is used, but it is adviced to use one (e.g. `--r_emb 100`).\n",
    "\n",
    "##### Update mechanism\n",
    "\n",
    "Option | Desciption\n",
    "------ | ----------\n",
    "`--u_m [adagrad, adadelta, rmsprop, nesterov, adam]` | Update mechanism (see [Lasagne doc](http://lasagne.readthedocs.io/en/latest/modules/updates.html)). Default is adam\n",
    "`--u_l float` | Learning rate (default: 0.001). The default learning rate works well with adam. For adagrad `--u_l 0.1` is adviced.\n",
    "`--u_rho float` | rho parameter for Adadelta and RMSProp, or momentum for Nesterov momentum (default: 0.9).\n",
    "`--u_b1 float` | Beta 1 parameter for Adam (default: 0.9).\n",
    "`--u_b2 float` | Beta 2 parameter for Adam (default: 0.999).\n",
    "\n",
    "##### Noise\n",
    "\n",
    "Option | Desciption\n",
    "------ | ----------\n",
    "`--n_dropout P` | Dropout probability (default: 0.)\n",
    "`--n_shuf P` | Probability that an item is swapped with another one (default: 0.).\n",
    "`--n_shuf_std STD` | If an item is swapped, the position of the other item is drawn from a normal distribution whose std is defined by this parameter (default: 5.).\n",
    "\n",
    "##### Other options\n",
    "\n",
    "Option | Desciption\n",
    "------ | ----------\n",
    "`-b int` | Size of the mini-batchs (default: 16)\n",
    "`--max_length int` | Maximum length of sequences (default: 200)\n",
    "`-g val` | Gradient clipping (default: 100)\n",
    "`--repeated_interactions` | Use when a user can interact multiple times with the same item. If not set, the items that the user already saw are never recommended.\n",
    "\n",
    "##### Objective functions\n",
    "\n",
    "Option | Desciption\n",
    "------ | ----------\n",
    "`--loss [CCE, Blackout, TOP1, BPR, hinge, logit, logsig]` | Objective function. CCE is the categorical cross-entropy, BPR, TOP1 and Blackout are based on sampling, and hinge, logit and logsig allow to have multiple targets. Default is CCE.\n",
    "`-r float` | *Only for CCE*. Add a regularization term. A positive value will use L2 regularization and a negative value will use L1. Default: 0.\n",
    "`--db float` | *Only for CCE, Blackout, BPR and TOP1*. Increase the diversity bias to put more pressure on learning correct recomendations for unfrequent items (default: 0.).\n",
    "`--sampling float or int` | *Only for Blackout, BPR and TOP1*. Number of items to sample in the error computation. Use a float in [0,1] to express it as a fraction of the number of items in the catalog, or an int > 0 to specify the number of samples directly. Default: 32.\n",
    "`--n_targets N` | *Only for hinge, logit and logsig*. Number of items in the sequence that are used as targets. Default: 1.\n",
    "\n",
    "##### Clustering\n",
    "\n",
    "It is possible to combine RNNs with an item-clustering method. This leads to faster prediction on large dataset and creates meaningful item clusters.\n",
    "In order to use it, use the option `--clusters nb_of_clusters`.  \n",
    "For example, `python train.py -d path/to/dataset/ -m RNN --loss BPR --clusters 10` will train an RNN with the BPR loss and 10 clusters of items.\n",
    "Note that the clustering is only compatible with sampling-based loss (BPR, Blackout and TOP1). \n",
    "It also works with `--loss CCE`, but a sampling version of CCE is then used instead of the normal categorical cross-entropy.\n",
    "\t\n",
    "\n",
    "#### Stacked Denoising Autoencoders\n",
    "\n",
    "Use it with `-m SDAE`.\n",
    "SDAE the RNN options described in \"[Update mechanism](#update-mechanism)\" and \"[Other options](#other-options)\".\n",
    "\n",
    "Option | Desciption\n",
    "------ | ----------\n",
    "`--L size_of_layer1-size_of_layer2-etc.` | Size and number of layers. for example, `--r_l 50-32-50` creates a layer with 50 hidden neurons on top of another layer with 32 hidden neurons on top of a layer with 50 hidden neurons. Default: 20.\n",
    "`--in_do float` | Dropout rate applied to the input layer of the SDAE (default: 0.2).\n",
    "`--do float` | Dropout rate applied to the hidden layers of the SDAE (default: 0.5).\n",
    "\n",
    "#### Latent Trajectory Modeling\n",
    "\n",
    "Use it with `-m  LTM`.\n",
    "LTM is a method based on word2vec, described in \"[Latent Trajectory Modeling: A Light and Efficient Way to Introduce Time in Recommender Systems](http://dl.acm.org/citation.cfm?id=2799676)\".\n",
    "LTM works in two steps: it first produces an embedding of the items with the word2vec algorithm using the sequence of items in the training set, then it estimates for each user a translation vector that would best explain the trajectory of that user in the embedded space.\n",
    "Predictions are made by finding the closest items to the last user item translated by the user's translation vector.\n",
    "Our implementation is mainly a wrapper around [Gensim's word2vec implementation](https://radimrehurek.com/gensim/models/word2vec.html).\n",
    "\n",
    "Option | Desciption\n",
    "------ | ----------\n",
    "`-H int` | Number of neurons (default: 20).\n",
    "`--ltm_window int` | Size of word2vec's window (default: 5).\n",
    "`--ltm_damping float` | Temporal damping (default: 0.8).\n",
    "`--ltm_no_trajectory` | Use this option to make predictions directly with word2vec, without the trajectory estimation proposed in the LTM paper.\n",
    "\n",
    "### Factorization-based\n",
    "#### FPMC\n",
    "\n",
    "FPMC is a method combining factorized markov chains with the factorization of the user-item matrix (see \"Factorizing personalized Markov chains for next-basket recommendation\" by Rendle et al. in *Proceedings of WWW'10*).\n",
    "Use it with `-m FPMC`\n",
    "\n",
    "Option | Desciption\n",
    "------ | ----------\n",
    "`--k_cf int` | Rank of the user-item matrix factorization (default: 32).\n",
    "`--k_mc int` | Rank of the factorized Markov chain (default: 32).\n",
    "`-l val` | Learning rate (default: 0.01).\n",
    "`--cooling val` | Multiplicative factor applied to the learning rate after each epoch (default: 1)\n",
    "`--init_sigma val` | Standard deviation of the gaussian initialization (default: 1).\n",
    "`--fpmc_bias val` | Sampling bias (default: 100). By default the SGD process uses adaptive sampling to speed up learning. This parameter is used to control how much the sampling is biased towards high error items.\n",
    "`--no_adaptive_sampling` | No adaptive sampling\n",
    "`-r float` | Add a regularization term. A positive value will use L2 regularization and a negative value will use L1. Default: 0.\n",
    "\n",
    "#### BPR-MF\n",
    "\n",
    "BPR-MF is a matrix factorization method based on the BPR loss (see \"BPR: Bayesian personalized ranking from implicit feedback\" by Rendle et al. in *Proceedings of the twenty-fifth conference on uncertainty in artificial intelligence*)\n",
    "Use it with `-m BPRMF`\n",
    "\n",
    "Option | Desciption\n",
    "------ | ----------\n",
    "`-H int` | Rank of the user-item matrix factorization (default: 20).\n",
    "`-l val` | Learning rate (default: 0.01).\n",
    "`--cooling val` | Multiplicative factor applied to the learning rate after each epoch (default: 1)\n",
    "`--init_sigma val` | Standard deviation of the gaussian initialization (default: 1).\n",
    "`--fpmc_bias val` | Sampling bias (default: 100). By default the SGD process uses adaptive sampling to speed up learning. This parameter is used to control how much the sampling is biased towards high error items.\n",
    "`--no_adaptive_sampling` | No adaptive sampling\n",
    "`-r float` | Add a regularization term. A positive value will use L2 regularization and a negative value will use L1. Default: 0.\n",
    "\n",
    "#### FISM\n",
    "\n",
    "FISM is a method based of item-item factorization (see \"Fism: factored item similarity models for top-n recommender systems\" by Kabbur et al. in *Proceedings of SIGKDD'13*).\n",
    "It has the advantage over BPR-MF that it does not build a representation for each user. This leads to smaller models, and the ability to make recommendation to new users.\n",
    "Use it with `-m FISM --loss [BPR, RMSE]`\n",
    "\n",
    "Option | Desciption\n",
    "------ | ----------\n",
    "`--loss [BPR, RMSE]` | Loss function. \"BPR\" is the same loss as for BPR-MF, \"RMSE\" optimizes the square error. This cannot be left to default because the default loss is CCE, which is not compatible with FISM.\n",
    "`-H int` | Rank of the matrix factorization (default: 20).\n",
    "`--fism_alpha float` | Alpha parameter in FISM. (default: 0.2).\n",
    "`-l val` | Learning rate (default: 0.01).\n",
    "`--cooling val` | Multiplicative factor applied to the learning rate after each epoch (default: 1)\n",
    "`--init_sigma val` | Standard deviation of the gaussian initialization (default: 1).\n",
    "`-r float` | Add a regularization term. A positive value will use L2 regularization and a negative value will use L1. Default: 0.\n",
    "\n",
    "FISM can be combined with item-clustering the same way that RNN can.\n",
    "To do so, add the option `--clusters nb_of_clusters`.\n",
    "When using clustering, a completely different implementation is used, which is based on Theano instead of Numpy.\n",
    "This has some implications on the available options:\n",
    "* The loss must be choosen among CCE, BPR, Blackout and TOP1 instead of BPR and RMSE.\n",
    "* The number of samples for each training step can be specified using `--sampling nb_of_samples`.\n",
    "* The update mechanism is controled by the options defined in [Update mechanism](#update-mechanism) instead of `-l` and `--cooling`.\n",
    "\n",
    "#### Fossil\n",
    "\n",
    "Fossil combines FISM with factorized markov chains (see \"Fusing Similarity Models with Markov Chains for Sparse Sequential Recommendation\" by He and McAuley in *Proceedings of ICDM'16*).\n",
    "Unlike FPMC, Fossil can use higher-order markov chains.\n",
    "Use it with `-m Fossil`\n",
    "\n",
    "Option | Desciption\n",
    "------ | ----------\n",
    "`-H int` | Rank of the matrix factorization (default: 20).\n",
    "`--fism_alpha float` | Alpha parameter in FISM. (default: 0.2).\n",
    "`--fossil_order int` | Order of the markov chains in Fossil. (default: 1).\n",
    "`-l val` | Learning rate (default: 0.01).\n",
    "`--cooling val` | Multiplicative factor applied to the learning rate after each epoch (default: 1)\n",
    "`--init_sigma val` | Standard deviation of the gaussian initialization (default: 1).\n",
    "`-r float` | Add a regularization term. A positive value will use L2 regularization and a negative value will use L1. Default: 0.\n",
    "\n",
    "### Lazy\n",
    "\n",
    "**Lazy methods do not build models**, they make recommendation directly based on the dataset.\n",
    "They should therefore not be used with `train.py`, but only with `test.py`.\n",
    "\n",
    "#### POP\n",
    "\n",
    "Use it with `-m POP`.\n",
    "Always predict the most popular items.\n",
    "\n",
    "#### Markov Chain\n",
    "\n",
    "Use it with `-m MM`.\n",
    "Recommends the items that follow most often the last item the user's sequence.\n",
    "\n",
    "#### User KNN\n",
    "\n",
    "Use it with `-m UKNN`.\n",
    "User-based nearest neighbors approach. \n",
    "The similarity measure between users is the cosine similarity: #number-of-common-items / sqrt(#number-of-items-of-user-a * #number-of-items-of-user-b).\n",
    "\n",
    "Option | Desciption\n",
    "------ | ----------\n",
    "`--ns int` | Neighborhood size (default: 80).\n",
    "\t"
   ]
  },
  {
   "cell_type": "code",
   "execution_count": 2,
   "metadata": {},
   "outputs": [],
   "source": [
    "#Importing libraries\n",
    "import numpy as np\n",
    "import pandas as pd\n",
    "import matplotlib.pyplot as plt\n",
    "import time\n",
    "import joblib\n",
    "import os.path\n",
    "import sys\n",
    "sources_path = './../Sources'\n",
    "sys.path.append('./../Sources/Devooght/')\n",
    "if sources_path not in sys.path:\n",
    "    sys.path.append(sources_path)\n",
    "\n",
    "#from Evaluations.metrics import MSE, RMSE, MAE\n",
    "import os\n",
    "#sys.path.append('../Sources') # Adding my own libs source\n",
    "#from StackedAutoEncoderRS.SAERS import SAE"
   ]
  },
  {
   "cell_type": "code",
   "execution_count": 3,
   "metadata": {},
   "outputs": [],
   "source": [
    "%matplotlib inline\n",
    "results_path = './Results/'\n",
    "verbose = True"
   ]
  },
  {
   "cell_type": "markdown",
   "metadata": {},
   "source": [
    "_________________\n",
    "## Loading Dataset"
   ]
  },
  {
   "cell_type": "code",
   "execution_count": 4,
   "metadata": {},
   "outputs": [
    {
     "name": "stdout",
     "output_type": "stream",
     "text": [
      "CPU times: user 7 µs, sys: 4 µs, total: 11 µs\n",
      "Wall time: 11.9 µs\n"
     ]
    }
   ],
   "source": [
    "%%time\n",
    "\n",
    "dataset = '100k/' #100k dataset path\n",
    "#dataset = '10M/' #10M dataset path\n",
    "#dataset = '20M/' #20M dataset path\n",
    "\n",
    "dataset_path = '../../Datasets/movieLens/' + dataset; # Full dataset path\n",
    "\n",
    "filenames = {'movie': 'movie.csv', 'rating': 'rating.csv'}\n",
    "\n",
    "#df_ratings = preprocess.load_data(filename = dataset_path+filenames['rating'], \n",
    "#                       columns = ['userId', 'itemId', 'rating', 'timestamp'], \n",
    "#                       separator = ',',\n",
    "#                        verbose = True)\n"
   ]
  },
  {
   "cell_type": "markdown",
   "metadata": {},
   "source": [
    "___________________"
   ]
  },
  {
   "cell_type": "markdown",
   "metadata": {},
   "source": [
    "## Preprocessing\n",
    "\n",
    "This script (preprocess.py) takes a file containing a dataset of user/item interactions and split it into training/validation/test sets and save them in the format used by train.py and test.py.\n",
    "The original dataset must be in a format where each line correspond to a single user/item interaction.\n",
    "\n",
    "The only required argument is `-f path/to/dataset`, which is used to specify the original dataset. The script will create subfolders named \"data\", \"models\" and \"results\" in the folder containing the original dataset. \"data\" is used by preprocess.py to store all the files it produces, \"models\" is used by train.py to store the trained models and \"results\" is used by test.py to store the results of the tests.\n",
    "\n",
    "The optional arguments are the following:\n",
    "\n",
    "Option | Desciption\n",
    "------ | ----------\n",
    "`--columns` | Order of the columns in the file (eg: \"uirt\"), u for user, i for item, t for timestamp, r for rating. If r is not present a default rating of 1 is given to all interaction. If t is not present interactions are assumed to be in chronological order. Extra columns are ignored. Default: uit\n",
    "`--sep` | Separator between the column. If unspecified pandas will try to guess the separator\n",
    "`--min_user_activity` | Users with less interactions than this will be removed from the dataset. Default: 2\n",
    "`--min_item_pop` | Items with less interactions than this will be removed from the dataset. Default: 5\n",
    "`--val_size` | Number of users to put in the validation set. If in (0,1) it will be interpreted as the fraction of total number of users. Default: 0.1\n",
    "`--test_size` | Number of users to put in the test set. If in (0,1) it will be interpreted as the fraction of total number of users. Default: 0.1\n",
    "`--seed` | Seed for the random train/val/test split"
   ]
  },
  {
   "cell_type": "code",
   "execution_count": 5,
   "metadata": {},
   "outputs": [],
   "source": [
    "import Devooght.preprocess as preprocess\n",
    "reload(preprocess)\n",
    "# Arguments\n",
    "directory_path = os.path.join('.', 'Sequence_based_recommendation_files')"
   ]
  },
  {
   "cell_type": "markdown",
   "metadata": {},
   "source": [
    "* Creating Auxiliary Directories"
   ]
  },
  {
   "cell_type": "code",
   "execution_count": 6,
   "metadata": {},
   "outputs": [
    {
     "name": "stdout",
     "output_type": "stream",
     "text": [
      "[*] Creating directories in ./Sequence_based_recommendation_files\n",
      "[ ] Creating data directory\n",
      "[ ] Creating models directory\n",
      "[ ] Creating results directory\n",
      "[+] Directories created.\n",
      "[*] Loading data from ../../Datasets/movieLens/100k/rating.csv...\n",
      "[ ] Sorting timestamp column\n",
      "[+] Data Loaded\n",
      "   userId  itemId  rating           timestamp\n",
      "0     196     242       3 1997-12-04 15:55:49\n",
      "1     186     302       3 1998-04-04 19:22:22\n",
      "2      22     377       1 1997-11-07 07:18:36\n",
      "3     244      51       2 1997-11-27 05:02:03\n",
      "4     166     346       1 1998-02-02 05:33:16\n",
      "[*] Removing inactive users and rare items...\n",
      "[+] Rare users and items removed.\n",
      "CPU times: user 82 ms, sys: 9.25 ms, total: 91.2 ms\n",
      "Wall time: 91.7 ms\n"
     ]
    }
   ],
   "source": [
    "%%time\n",
    "\n",
    "# Creating Directory path\n",
    "directory_path = os.path.join('.', 'Sequence_based_recommendation_files')\n",
    "\n",
    "preprocess.create_dirs(dirname=directory_path, verbose = verbose)\n",
    "\n",
    "data = preprocess.load_data(\n",
    "                filename = dataset_path+filenames['rating'], \n",
    "                columns = ['userId', 'itemId', 'rating', 'timestamp'], \n",
    "                separator = ',',\n",
    "                sort_time = False,\n",
    "                verbose = verbose)    \n",
    "\n",
    "data = preprocess.remove_rare_elements(\n",
    "                data = data, \n",
    "                min_user_activity = 1, \n",
    "                min_item_popularity = 1,\n",
    "                verbose = verbose)\n"
   ]
  },
  {
   "cell_type": "code",
   "execution_count": 7,
   "metadata": {},
   "outputs": [
    {
     "name": "stdout",
     "output_type": "stream",
     "text": [
      "(100000, 4)\n"
     ]
    },
    {
     "data": {
      "text/html": [
       "<div>\n",
       "<style>\n",
       "    .dataframe thead tr:only-child th {\n",
       "        text-align: right;\n",
       "    }\n",
       "\n",
       "    .dataframe thead th {\n",
       "        text-align: left;\n",
       "    }\n",
       "\n",
       "    .dataframe tbody tr th {\n",
       "        vertical-align: top;\n",
       "    }\n",
       "</style>\n",
       "<table border=\"1\" class=\"dataframe\">\n",
       "  <thead>\n",
       "    <tr style=\"text-align: right;\">\n",
       "      <th></th>\n",
       "      <th>userId</th>\n",
       "      <th>itemId</th>\n",
       "      <th>rating</th>\n",
       "      <th>timestamp</th>\n",
       "    </tr>\n",
       "  </thead>\n",
       "  <tbody>\n",
       "    <tr>\n",
       "      <th>0</th>\n",
       "      <td>196</td>\n",
       "      <td>242</td>\n",
       "      <td>3</td>\n",
       "      <td>1997-12-04 15:55:49</td>\n",
       "    </tr>\n",
       "    <tr>\n",
       "      <th>1</th>\n",
       "      <td>186</td>\n",
       "      <td>302</td>\n",
       "      <td>3</td>\n",
       "      <td>1998-04-04 19:22:22</td>\n",
       "    </tr>\n",
       "    <tr>\n",
       "      <th>2</th>\n",
       "      <td>22</td>\n",
       "      <td>377</td>\n",
       "      <td>1</td>\n",
       "      <td>1997-11-07 07:18:36</td>\n",
       "    </tr>\n",
       "    <tr>\n",
       "      <th>3</th>\n",
       "      <td>244</td>\n",
       "      <td>51</td>\n",
       "      <td>2</td>\n",
       "      <td>1997-11-27 05:02:03</td>\n",
       "    </tr>\n",
       "    <tr>\n",
       "      <th>4</th>\n",
       "      <td>166</td>\n",
       "      <td>346</td>\n",
       "      <td>1</td>\n",
       "      <td>1998-02-02 05:33:16</td>\n",
       "    </tr>\n",
       "  </tbody>\n",
       "</table>\n",
       "</div>"
      ],
      "text/plain": [
       "   userId  itemId  rating           timestamp\n",
       "0     196     242       3 1997-12-04 15:55:49\n",
       "1     186     302       3 1998-04-04 19:22:22\n",
       "2      22     377       1 1997-11-07 07:18:36\n",
       "3     244      51       2 1997-11-27 05:02:03\n",
       "4     166     346       1 1998-02-02 05:33:16"
      ]
     },
     "execution_count": 7,
     "metadata": {},
     "output_type": "execute_result"
    }
   ],
   "source": [
    "print (data.shape)\n",
    "data.head()"
   ]
  },
  {
   "cell_type": "markdown",
   "metadata": {},
   "source": [
    "Save the mapping of original user and item ids to numerical consecutive ids in dirname.\n",
    "NB: some users and items might have been removed in previous steps and will therefore not appear in the mapping.\n",
    "    "
   ]
  },
  {
   "cell_type": "code",
   "execution_count": 8,
   "metadata": {},
   "outputs": [
    {
     "data": {
      "text/html": [
       "<div>\n",
       "<style>\n",
       "    .dataframe thead tr:only-child th {\n",
       "        text-align: right;\n",
       "    }\n",
       "\n",
       "    .dataframe thead th {\n",
       "        text-align: left;\n",
       "    }\n",
       "\n",
       "    .dataframe tbody tr th {\n",
       "        vertical-align: top;\n",
       "    }\n",
       "</style>\n",
       "<table border=\"1\" class=\"dataframe\">\n",
       "  <thead>\n",
       "    <tr style=\"text-align: right;\">\n",
       "      <th></th>\n",
       "      <th>userId</th>\n",
       "      <th>itemId</th>\n",
       "      <th>rating</th>\n",
       "      <th>timestamp</th>\n",
       "      <th>u_original</th>\n",
       "      <th>i_original</th>\n",
       "    </tr>\n",
       "  </thead>\n",
       "  <tbody>\n",
       "    <tr>\n",
       "      <th>0</th>\n",
       "      <td>195</td>\n",
       "      <td>241</td>\n",
       "      <td>3</td>\n",
       "      <td>1997-12-04 15:55:49</td>\n",
       "      <td>196</td>\n",
       "      <td>242</td>\n",
       "    </tr>\n",
       "    <tr>\n",
       "      <th>1</th>\n",
       "      <td>185</td>\n",
       "      <td>301</td>\n",
       "      <td>3</td>\n",
       "      <td>1998-04-04 19:22:22</td>\n",
       "      <td>186</td>\n",
       "      <td>302</td>\n",
       "    </tr>\n",
       "    <tr>\n",
       "      <th>2</th>\n",
       "      <td>21</td>\n",
       "      <td>376</td>\n",
       "      <td>1</td>\n",
       "      <td>1997-11-07 07:18:36</td>\n",
       "      <td>22</td>\n",
       "      <td>377</td>\n",
       "    </tr>\n",
       "    <tr>\n",
       "      <th>3</th>\n",
       "      <td>243</td>\n",
       "      <td>50</td>\n",
       "      <td>2</td>\n",
       "      <td>1997-11-27 05:02:03</td>\n",
       "      <td>244</td>\n",
       "      <td>51</td>\n",
       "    </tr>\n",
       "    <tr>\n",
       "      <th>4</th>\n",
       "      <td>165</td>\n",
       "      <td>345</td>\n",
       "      <td>1</td>\n",
       "      <td>1998-02-02 05:33:16</td>\n",
       "      <td>166</td>\n",
       "      <td>346</td>\n",
       "    </tr>\n",
       "  </tbody>\n",
       "</table>\n",
       "</div>"
      ],
      "text/plain": [
       "   userId  itemId  rating           timestamp u_original i_original\n",
       "0     195     241       3 1997-12-04 15:55:49        196        242\n",
       "1     185     301       3 1998-04-04 19:22:22        186        302\n",
       "2      21     376       1 1997-11-07 07:18:36         22        377\n",
       "3     243      50       2 1997-11-27 05:02:03        244         51\n",
       "4     165     345       1 1998-02-02 05:33:16        166        346"
      ]
     },
     "execution_count": 8,
     "metadata": {},
     "output_type": "execute_result"
    }
   ],
   "source": [
    "data = preprocess.save_index_mapping(data = data, \n",
    "                                     dirname = directory_path, \n",
    "                                     separator = ',')\n",
    "data.head()"
   ]
  },
  {
   "cell_type": "markdown",
   "metadata": {},
   "source": [
    "Splits the data set into training, validation and test sets.\n",
    "Each user is in one and only one set.\n",
    "nb_val_users is the number of users to put in the validation set.\n",
    "nb_test_users is the number of users to put in the test set."
   ]
  },
  {
   "cell_type": "code",
   "execution_count": 9,
   "metadata": {},
   "outputs": [
    {
     "name": "stdout",
     "output_type": "stream",
     "text": [
      "[*] Splitting data into training, validation and test sets\n",
      "[ ] Saving training, validation and test sets in the triplets format\n",
      "[+] Split data saved on ./Sequence_based_recommendation_files/data folder.\n",
      "(80847, 6)\n"
     ]
    },
    {
     "data": {
      "text/html": [
       "<div>\n",
       "<style>\n",
       "    .dataframe thead tr:only-child th {\n",
       "        text-align: right;\n",
       "    }\n",
       "\n",
       "    .dataframe thead th {\n",
       "        text-align: left;\n",
       "    }\n",
       "\n",
       "    .dataframe tbody tr th {\n",
       "        vertical-align: top;\n",
       "    }\n",
       "</style>\n",
       "<table border=\"1\" class=\"dataframe\">\n",
       "  <thead>\n",
       "    <tr style=\"text-align: right;\">\n",
       "      <th></th>\n",
       "      <th>userId</th>\n",
       "      <th>itemId</th>\n",
       "      <th>rating</th>\n",
       "      <th>timestamp</th>\n",
       "      <th>u_original</th>\n",
       "      <th>i_original</th>\n",
       "    </tr>\n",
       "  </thead>\n",
       "  <tbody>\n",
       "    <tr>\n",
       "      <th>0</th>\n",
       "      <td>195</td>\n",
       "      <td>241</td>\n",
       "      <td>3</td>\n",
       "      <td>1997-12-04 15:55:49</td>\n",
       "      <td>196</td>\n",
       "      <td>242</td>\n",
       "    </tr>\n",
       "    <tr>\n",
       "      <th>2</th>\n",
       "      <td>21</td>\n",
       "      <td>376</td>\n",
       "      <td>1</td>\n",
       "      <td>1997-11-07 07:18:36</td>\n",
       "      <td>22</td>\n",
       "      <td>377</td>\n",
       "    </tr>\n",
       "    <tr>\n",
       "      <th>3</th>\n",
       "      <td>243</td>\n",
       "      <td>50</td>\n",
       "      <td>2</td>\n",
       "      <td>1997-11-27 05:02:03</td>\n",
       "      <td>244</td>\n",
       "      <td>51</td>\n",
       "    </tr>\n",
       "    <tr>\n",
       "      <th>4</th>\n",
       "      <td>165</td>\n",
       "      <td>345</td>\n",
       "      <td>1</td>\n",
       "      <td>1998-02-02 05:33:16</td>\n",
       "      <td>166</td>\n",
       "      <td>346</td>\n",
       "    </tr>\n",
       "    <tr>\n",
       "      <th>6</th>\n",
       "      <td>114</td>\n",
       "      <td>264</td>\n",
       "      <td>2</td>\n",
       "      <td>1997-12-03 17:51:28</td>\n",
       "      <td>115</td>\n",
       "      <td>265</td>\n",
       "    </tr>\n",
       "  </tbody>\n",
       "</table>\n",
       "</div>"
      ],
      "text/plain": [
       "   userId  itemId  rating           timestamp u_original i_original\n",
       "0     195     241       3 1997-12-04 15:55:49        196        242\n",
       "2      21     376       1 1997-11-07 07:18:36         22        377\n",
       "3     243      50       2 1997-11-27 05:02:03        244         51\n",
       "4     165     345       1 1998-02-02 05:33:16        166        346\n",
       "6     114     264       2 1997-12-03 17:51:28        115        265"
      ]
     },
     "execution_count": 9,
     "metadata": {},
     "output_type": "execute_result"
    }
   ],
   "source": [
    "train_set, val_set, test_set = preprocess.split_data(\n",
    "    data = data, \n",
    "    nb_val_users = 0.1, # val_size\n",
    "    nb_test_users = 0.1, # test_size\n",
    "    dirname = directory_path,\n",
    "    verbose = verbose)\n",
    "print (train_set.shape)\n",
    "train_set.head()"
   ]
  },
  {
   "cell_type": "markdown",
   "metadata": {},
   "source": [
    "Convert the train/validation/test sets in the sequence format and save them.\n",
    "Also create the extended training sequences, which countains the first half of the sequences of users in the validation and test sets"
   ]
  },
  {
   "cell_type": "code",
   "execution_count": 10,
   "metadata": {},
   "outputs": [
    {
     "name": "stdout",
     "output_type": "stream",
     "text": [
      "[*] Making sequence format\n",
      "[ ] Saving training set in the sequences format...\n",
      "[ ] Saving validation set in the sequences format...\n",
      "[ ] Saving test set in the sequences format...\n",
      "[ ] Saving the extended training set in the sequences format...\n",
      "[+] Sequence format saved on ./Sequence_based_recommendation_files/data folder\n",
      "CPU times: user 357 ms, sys: 8.3 ms, total: 365 ms\n",
      "Wall time: 400 ms\n"
     ]
    }
   ],
   "source": [
    "%%time\n",
    "preprocess.make_sequence_format(\n",
    "    train_set = train_set, \n",
    "    val_set = val_set, \n",
    "    test_set = test_set, \n",
    "    dirname = directory_path,\n",
    "    verbose = verbose)"
   ]
  },
  {
   "cell_type": "markdown",
   "metadata": {},
   "source": [
    "Saving data stats"
   ]
  },
  {
   "cell_type": "code",
   "execution_count": 11,
   "metadata": {},
   "outputs": [
    {
     "name": "stdout",
     "output_type": "stream",
     "text": [
      "[*] Saving stats to ./Sequence_based_recommendation_files/data/stats file\n",
      "[+] Stats saved.\n"
     ]
    }
   ],
   "source": [
    "preprocess.save_data_stats(\n",
    "                data = data, \n",
    "                train_set = train_set, \n",
    "                val_set = val_set, \n",
    "                test_set = test_set, \n",
    "                dirname = directory_path,\n",
    "                verbose = verbose)"
   ]
  },
  {
   "cell_type": "code",
   "execution_count": 12,
   "metadata": {},
   "outputs": [
    {
     "name": "stdout",
     "output_type": "stream",
     "text": [
      "[*] Getting data stats from ./Sequence_based_recommendation_files/data/stats file.\n",
      "[+] Data stats returned\n"
     ]
    },
    {
     "data": {
      "text/html": [
       "<div>\n",
       "<style>\n",
       "    .dataframe thead tr:only-child th {\n",
       "        text-align: right;\n",
       "    }\n",
       "\n",
       "    .dataframe thead th {\n",
       "        text-align: left;\n",
       "    }\n",
       "\n",
       "    .dataframe tbody tr th {\n",
       "        vertical-align: top;\n",
       "    }\n",
       "</style>\n",
       "<table border=\"1\" class=\"dataframe\">\n",
       "  <thead>\n",
       "    <tr style=\"text-align: right;\">\n",
       "      <th></th>\n",
       "      <th>set</th>\n",
       "      <th>n_users</th>\n",
       "      <th>n_items</th>\n",
       "      <th>n_interactions</th>\n",
       "      <th>longest_sequence</th>\n",
       "    </tr>\n",
       "  </thead>\n",
       "  <tbody>\n",
       "    <tr>\n",
       "      <th>0</th>\n",
       "      <td>Full</td>\n",
       "      <td>943</td>\n",
       "      <td>1682</td>\n",
       "      <td>100000</td>\n",
       "      <td>737</td>\n",
       "    </tr>\n",
       "    <tr>\n",
       "      <th>1</th>\n",
       "      <td>Train</td>\n",
       "      <td>762</td>\n",
       "      <td>1648</td>\n",
       "      <td>80847</td>\n",
       "      <td>737</td>\n",
       "    </tr>\n",
       "    <tr>\n",
       "      <th>2</th>\n",
       "      <td>Val</td>\n",
       "      <td>89</td>\n",
       "      <td>1345</td>\n",
       "      <td>10457</td>\n",
       "      <td>540</td>\n",
       "    </tr>\n",
       "    <tr>\n",
       "      <th>3</th>\n",
       "      <td>Test</td>\n",
       "      <td>92</td>\n",
       "      <td>1135</td>\n",
       "      <td>8696</td>\n",
       "      <td>414</td>\n",
       "    </tr>\n",
       "  </tbody>\n",
       "</table>\n",
       "</div>"
      ],
      "text/plain": [
       "     set  n_users  n_items  n_interactions  longest_sequence\n",
       "0   Full      943     1682          100000               737\n",
       "1  Train      762     1648           80847               737\n",
       "2    Val       89     1345           10457               540\n",
       "3   Test       92     1135            8696               414"
      ]
     },
     "execution_count": 12,
     "metadata": {},
     "output_type": "execute_result"
    }
   ],
   "source": [
    "df_stats = preprocess.get_data_stats(dirname = directory_path, verbose = verbose)\n",
    "df_stats.head()"
   ]
  },
  {
   "cell_type": "markdown",
   "metadata": {},
   "source": [
    "Making Readme file"
   ]
  },
  {
   "cell_type": "code",
   "execution_count": 13,
   "metadata": {},
   "outputs": [],
   "source": [
    "preprocess.make_readme(dirname = directory_path, \n",
    "                       val_set = val_set, \n",
    "                       test_set = test_set)"
   ]
  },
  {
   "cell_type": "markdown",
   "metadata": {},
   "source": [
    "The following files were automatically generated by preprocess.py\n",
    "\n",
    "    user_id_mapping\n",
    "\t\tmapping between the users ids in the original dataset and the new users ids.\n",
    "\t\tthe first column contains the new id and the second the original id.\n",
    "        Inactive users might have been deleted from the original, and they will therefore not appear in the id mapping.\n",
    "\n",
    "\titem_id_mapping\n",
    "\t\tIdem for item ids.\n",
    "\n",
    "\ttrain_set_triplets\n",
    "\t\tTraining set in the triplets format.\n",
    "\t\tEach line is a user item interaction in the form (user_id, item_id, rating). \n",
    "\t\tInteractions are listed in chronological order.\n",
    "\n",
    "\ttrain_set_sequences\n",
    "\t\tTraining set in the sequence format.\n",
    "\t\tEach line contains all the interactions of a user in the form (user_id, first_item_id, first_rating, 2nd_item_id, 2nd_rating, ...).\n",
    "\n",
    "\ttrain_set_sequences+\n",
    "\t\tExtended training set in the sequence format.\n",
    "\t\tThe extended training set contains all the training set plus the first half of the interactions of each users in the validation and testing set.\n",
    "\n",
    "\tval_set_triplets\n",
    "\t\tValidation set in the triplets format\n",
    "\n",
    "\tval_set_triplets\n",
    "\t\tValidation set in the sequence format\n",
    "\n",
    "\ttest_set_triplets\n",
    "\t\tTest set in the triplets format\n",
    "\n",
    "\ttest_set_triplets\n",
    "\t\tTest set in the sequence format\n",
    "\n",
    "\tstats\n",
    "\t\tContains some informations about the dataset."
   ]
  },
  {
   "cell_type": "markdown",
   "metadata": {},
   "source": [
    "_________________________"
   ]
  },
  {
   "cell_type": "markdown",
   "metadata": {},
   "source": [
    "## Train\n",
    "\n",
    "This script is used to train models and offers many options regarding when to save new models and when to stop training.\n",
    "\n",
    "If you have multiple datasets with a partly common path (e.g. path/to/dataset1/, path/to/dataset2/, etc.) you can specify this common path in the variable DEFAULT_DIR of helpers/data_handling.py. For example, setting DEFAULT_DIR = \"path/to/\" and using the argument `-d dataset1` will look for the dataset in \"path/to/dataset1/\".\n",
    "\n",
    "The optional arguments are the following:\n",
    "\n",
    "Option | Desciption\n",
    "------ | ----------\n",
    "`--dir dirname/` | Name of the subfolder of \"path/to/dataset/models/\" in which to save the model. By default it will be saved directly in the models/ folder, but using subfolders can be useful when many models are tested.\n",
    "`--progress {int or float}` | Number of iterations (or seconds) between two evaluations of the model on the validation set. When the model is evaluated, progress is shown on the command line, and the model might be saved (depending on the `--save` option). An float value means that the evaluations happen at geometric intervals (rather than linear). Default: 2.0\n",
    "`--metrics value` | Metrics computed on the validation set, separated by commas. Available metrics are recall, sps, ndcg, item\\_coverage, user\\_coverage and blockbuster\\_share. Default: sps.\n",
    "`--save [All, Best, None]` | Policy for saving models. If \"None\", no model is saved. If \"All\", the current model is saved each time the model is evaluated on the validation set, and no model is destroyed. If \"Best\", the current model is only saved if it improves over the previous best results on the validation set, and the previous best model is deleted. If \"Best\" and multiple metrics are used, all the pareto-optimal models are saved. \n",
    "`--time_based_progress` | Base the interval between two evaluations on the number of elapsed seconds rather than on the number of iterations.\n",
    "`--mpi value` | Max number of iterations (or seconds) between two evaluations (useful when using geometric intervals). Default: inf.\n",
    "`--max_iter value` | Max number of iterations (default: inf).\n",
    "`--max_time value` | Max training time in seconds (default: inf).\n",
    "`--min_iter value` | Min number of iterations before making the first evaluation (default: 0).\n",
    "`--extended_set` | Use extended training set (contains first half of validation and test set). This is necessary for factorization based methods such as BPRMF and FPMC because they need to build a model for every user.\n",
    "`--tshuffle` | Shuffle the order of sequences between epochs.\n",
    "`--load_last_model` | Load Last model before starting training (it will search for a model build with all the same options and take the one with the largest number of epochs).\n",
    "`--es_m [WorstTimesX, StopAfterN, None]` | Early stopping method (by default none is used, and training continues until max_iter or max_time is reached). WorstTimesX will stop training if the number of iterations since the last best score on the validation set is longer than X times the longest time between two consecutive best scores. StopAfterN will stop the training if the model has not improved for the N last evaluations on the validation set.\n",
    "`--es_n N` | N parameter for StopAfterN (default: 5).\n",
    "`--es_x X` | X parameter for WorstTimesX (default: 2).\n",
    "`--es_min_wait num_epochs` | Mininum number of epochs before stopping (for WorstTimesX). Default: 1.\n",
    "`--es_LiB` | Lower is better for validation score. By default a higher validation score is considered better, but if it is not the case you can use this option.\n",
    "\n",
    "The options specific to each method are explained in the Methods section."
   ]
  },
  {
   "cell_type": "code",
   "execution_count": 14,
   "metadata": {},
   "outputs": [
    {
     "data": {
      "text/plain": [
       "<module 'Devooght.train' from './../Sources/Devooght/train.pyc'>"
      ]
     },
     "execution_count": 14,
     "metadata": {},
     "output_type": "execute_result"
    }
   ],
   "source": [
    "import Devooght.train as train\n",
    "reload(train)"
   ]
  },
  {
   "cell_type": "markdown",
   "metadata": {},
   "source": [
    "command_parser: a parser containing sub command parsers such as parser to predictor, training and early stopping\n",
    "\n",
    "sub_command_parser should be callables that will add arguments to the command parser\n",
    "\n",
    "4 sub commands parser are used:\n",
    "- **predictor_command_parser** from the helpers.command_parser module\n",
    "- **training_command_parser** from the train module\n",
    "- **early_stopping_command_parser** from the helpers.command_parser module\n",
    "- **test_command_parser** from the test module\n",
    "\n",
    "All commands are orchestraded by **command_parser** from the helpers.command_parser module\n",
    "\t"
   ]
  },
  {
   "cell_type": "code",
   "execution_count": 74,
   "metadata": {},
   "outputs": [],
   "source": [
    "import Devooght.train as train\n",
    "reload(train)\n",
    "import helpers.command_parser as parse\n",
    "reload(parse)\n",
    "parser = parse.command_parser(parse.predictor_command_parser, \n",
    "                            train.training_command_parser, \n",
    "                            parse.early_stopping_command_parser\n",
    ")"
   ]
  },
  {
   "cell_type": "code",
   "execution_count": 76,
   "metadata": {},
   "outputs": [],
   "source": [
    "args = parser.parse_args(['--dir', os.path.join(directory_path, 'models'), #directory_path + '/models/', \n",
    "                          '-d', directory_path, #directory_path + '/', \n",
    "                          '-b', '20', # Batch size: the number of training examples present in a single blatch\n",
    "                          '--max_iter', '50', # Maximum number of iterations: the number of batches needed to complete one epoch\n",
    "                          '--progress', '10', # when progress information should be printed during training\n",
    "                          '-m', 'FISM', # Method\n",
    "                          #'-i', '-1', # Number of batches - only on test parser\n",
    "                         '--loss', 'RMSE',\n",
    "                         '--save', 'Best']) \n"
   ]
  },
  {
   "cell_type": "code",
   "execution_count": 66,
   "metadata": {},
   "outputs": [
    {
     "data": {
      "text/plain": [
       "Namespace(balance=1.0, batch_size=20, c_sampling=-1, cluster_type='mix', clusters=-1, cooling=1.0, csn=0.0, dataset='./Sequence_based_recommendation_files', dir='./Sequence_based_recommendation_files/models', diversity_bias=0.0, dropout=0.5, early_stopping_method='None', es_LiB=False, es_min_wait=1.0, es_n=5, es_x=2.0, extended_set=False, fism_alpha=0.2, fossil_order=1, fpmc_bias=100.0, gradient_clipping=100, hidden=20, ignore_clusters=False, init_scale=1.0, init_sigma=1, input_dropout=0.2, k_cf=32, k_mc=32, layers='20', learning_rate=0.01, load_last_model=False, loss='RMSE', ltm_damping=0.8, ltm_no_trajectory=False, ltm_window=5, max_iter=50.0, max_length=30, max_scale=50, max_time=inf, method='FISM', metrics='sps', mf=False, min_access=0.05, min_iter=0.0, mpi=inf, n_dropout=0.0, n_ratings=0.0, n_shuf=0.0, n_shuf_std=5.0, n_swap=0.0, n_targets=1, no_adaptive_sampling=False, ns=80, pb=False, progress='10', r_bi=False, r_emb=0, r_l='50', rand_test_target=False, recurrent_layer_type='GRU', regularization=0.0, repeated_interactions=False, rf=False, sampling=32.0, sampling_bias=0.0, save='Best', scale_growing_rate=1.0, shuffle_targets=False, target_bias=-1.0, time_based_progress=False, tshuffle=False, u_b1=0.9, u_b2=0.999, u_l=0.001, u_rho=0.9, uf=False, update_manager='adam')"
      ]
     },
     "execution_count": 66,
     "metadata": {},
     "output_type": "execute_result"
    }
   ],
   "source": [
    "args"
   ]
  },
  {
   "cell_type": "code",
   "execution_count": 50,
   "metadata": {},
   "outputs": [
    {
     "data": {
      "text/plain": [
       "<factorization.fism.FISM at 0x7efd5e003590>"
      ]
     },
     "execution_count": 50,
     "metadata": {},
     "output_type": "execute_result"
    }
   ],
   "source": [
    "predictor = parse.get_predictor(args)\n",
    "predictor"
   ]
  },
  {
   "cell_type": "code",
   "execution_count": 67,
   "metadata": {},
   "outputs": [],
   "source": [
    "from helpers import data_handling as handler\n",
    "reload(handler)\n",
    "dataset = handler.DataHandler(dirname = args.dataset, \n",
    "                      extended_training_set = args.extended_set, \n",
    "                      shuffle_training = args.tshuffle)"
   ]
  },
  {
   "cell_type": "code",
   "execution_count": 68,
   "metadata": {
    "scrolled": true
   },
   "outputs": [
    {
     "name": "stdout",
     "output_type": "stream",
     "text": [
      "RMSE SGD delta:  4.70215235375\n",
      "RMSE SGD delta:  1.77813702403\n",
      "RMSE SGD delta:  12.6005451033\n",
      "RMSE SGD delta:  -20.0274075783\n",
      "RMSE SGD delta:  -3.72515675732\n",
      "RMSE SGD delta:  -0.706728653004\n",
      "RMSE SGD delta:  -6.79756517432\n",
      "RMSE SGD delta:  -2.11483135668\n",
      "RMSE SGD delta:  -5.12091222695\n",
      "RMSE SGD delta:  17.7864135435\n",
      "Opening file (1)\n",
      "Algorithm: FISM \n",
      "Batch Number: 10 \n",
      "Epochs: 0.000123690427598 in 0.0501880645752 s\n",
      "Last train cost : -0.162535372202\n",
      "recall :  0.00671670435069\n",
      "sps :  0.0\n",
      "Best validation  sps :  0.0\n",
      "blockbuster_share :  0.0294117647059\n",
      "item_coverage :  31\n",
      "ndcg :  0.0390445407843\n",
      "user_coverage :  0.269662921348\n",
      "-----------------\n",
      "Saving model in ./Sequence_based_recommendation_files/models/fism_RMSE_ne0.0_lr0.01_an1.0_k20_reg0.0_ini1.npz\n"
     ]
    },
    {
     "name": "stderr",
     "output_type": "stream",
     "text": [
      "10 0.000123690427598 0.0535559654236 -0.162535372202 0.00671670435069 0.0 0.0294117647059 31 0.0390445407843 0.269662921348\n"
     ]
    },
    {
     "name": "stdout",
     "output_type": "stream",
     "text": [
      "RMSE SGD delta:  -32.9028299541\n",
      "RMSE SGD delta:  19.4292130695\n",
      "RMSE SGD delta:  -15.4982582781\n",
      "RMSE SGD delta:  -0.418829649691\n",
      "RMSE SGD delta:  -13.8530214828\n",
      "RMSE SGD delta:  -0.321821660423\n",
      "RMSE SGD delta:  7.05708055755\n",
      "RMSE SGD delta:  1.54004610273\n",
      "RMSE SGD delta:  -4.52261588353\n",
      "RMSE SGD delta:  18.2536991331\n",
      "RMSE SGD delta:  -8.63798135481\n",
      "RMSE SGD delta:  -26.2823607796\n",
      "RMSE SGD delta:  -31.4360623713\n",
      "RMSE SGD delta:  23.773928755\n",
      "RMSE SGD delta:  -11.8565637945\n",
      "RMSE SGD delta:  -14.4984219717\n",
      "RMSE SGD delta:  -0.963188754786\n",
      "RMSE SGD delta:  -16.9735085421\n",
      "RMSE SGD delta:  -6.68897281463\n",
      "RMSE SGD delta:  22.6306655575\n",
      "RMSE SGD delta:  -3.54277578693\n",
      "RMSE SGD delta:  13.2512516981\n",
      "RMSE SGD delta:  7.84218346511\n",
      "RMSE SGD delta:  5.09788807733\n",
      "RMSE SGD delta:  -6.0555367707\n",
      "RMSE SGD delta:  2.84887512432\n",
      "RMSE SGD delta:  -9.5523142516\n",
      "RMSE SGD delta:  -5.20764794714\n",
      "RMSE SGD delta:  0.50467440892\n",
      "RMSE SGD delta:  -29.6741030048\n",
      "RMSE SGD delta:  -18.6678559085\n",
      "RMSE SGD delta:  -32.9937697008\n",
      "RMSE SGD delta:  7.92778187098\n",
      "RMSE SGD delta:  -61.9024510344\n",
      "RMSE SGD delta:  21.0570738876\n",
      "RMSE SGD delta:  -8.82659649262\n",
      "RMSE SGD delta:  -16.8492947207\n",
      "RMSE SGD delta:  -9.21846071884\n",
      "RMSE SGD delta:  8.22034378897\n",
      "RMSE SGD delta:  12.9132018701\n"
     ]
    }
   ],
   "source": [
    "# MUST be called before train, load or top_k_recommendations\n",
    "predictor.prepare_model(dataset)\n",
    "metrics = predictor.train(dataset, \n",
    "        save_dir = args.dir, \n",
    "        time_based_progress = args.time_based_progress, \n",
    "        progress = float(args.progress), \n",
    "        autosave = args.save, \n",
    "        max_progress_interval = args.mpi, \n",
    "        max_iter = args.max_iter,\n",
    "        min_iterations = args.min_iter,\n",
    "        max_time = args.max_time,\n",
    "        early_stopping = parse.get_early_stopper(args),\n",
    "        load_last_model = args.load_last_model,\n",
    "        validation_metrics = args.metrics.split(','))"
   ]
  },
  {
   "cell_type": "code",
   "execution_count": 27,
   "metadata": {},
   "outputs": [
    {
     "data": {
      "text/plain": [
       "[<matplotlib.lines.Line2D at 0x7efd5e124c90>]"
      ]
     },
     "execution_count": 27,
     "metadata": {},
     "output_type": "execute_result"
    },
    {
     "data": {
      "image/png": "[encoded data removed]",
      "text/plain": [
       "<matplotlib.figure.Figure at 0x7efd619d8d10>"
      ]
     },
     "metadata": {},
     "output_type": "display_data"
    }
   ],
   "source": [
    "plt.plot(predictor.get_train_costs())"
   ]
  },
  {
   "cell_type": "code",
   "execution_count": null,
   "metadata": {},
   "outputs": [],
   "source": [
    "user_items, true_item, false_item = predictor.get_auc_training_sample()\n",
    "#rmse_training_sample = predictor.get_rmse_training_sample()\n",
    "#predictor.item_score(user_items=)\n",
    "print (user_items)\n",
    "print (true_item)\n",
    "print (predictor.item_score(user_items=user_items, item = true_item))\n",
    "#print (false_item)\n",
    "user_items, true_item, false_item = predictor.get_rmse_training_sample()\n",
    "print (user_items)\n",
    "print (true_item)\n",
    "print (predictor.item_score(user_items=user_items, item = true_item))\n",
    "#print (false_item)"
   ]
  },
  {
   "cell_type": "code",
   "execution_count": null,
   "metadata": {},
   "outputs": [],
   "source": [
    "top_k_recommendations(sequence = user_items, user_id=None, k=10, exclude=None)"
   ]
  },
  {
   "cell_type": "code",
   "execution_count": null,
   "metadata": {},
   "outputs": [],
   "source": [
    "metrics[0]"
   ]
  },
  {
   "cell_type": "code",
   "execution_count": 28,
   "metadata": {},
   "outputs": [
    {
     "name": "stdout",
     "output_type": "stream",
     "text": [
      "Metrics: {'recall': 0.004756021892359606, 'sps': 0.011235955056179775, 'blockbuster_share': 0.03333333333333333, 'item_coverage': 26, 'ndcg': 0.033186774112860633, 'user_coverage': 0.21348314606741572}\n",
      "Time: 0.263276100159\n",
      "Best filename: ./Sequence_based_recommendation_files/models/fism_RMSE_ne0.0_lr0.01_an1.0_k20_reg0.0_ini1.npz\n"
     ]
    }
   ],
   "source": [
    "print (\"Metrics: {}\".format(metrics[0]))\n",
    "print (\"Time: {}\".format(metrics[1]))\n",
    "print (\"Best filename: {}\".format(metrics[2]))"
   ]
  },
  {
   "cell_type": "code",
   "execution_count": null,
   "metadata": {},
   "outputs": [],
   "source": [
    "predictor.get_auc_training_sample()"
   ]
  },
  {
   "cell_type": "code",
   "execution_count": null,
   "metadata": {},
   "outputs": [],
   "source": [
    "#from factorization.fism import FISM\n",
    "import factorization as fact\n",
    "reload(fact)\n",
    "#from neural_networks.fism_cluster import FISMCluster\n",
    "import neural_networks as nn\n",
    "reload(nn)\n",
    "\n",
    "if args.clusters > 0:\n",
    "    predictor = nn.fism_cluster.FISMCluster(h = args.hidden, \n",
    "                       reg = args.regularization, \n",
    "                       alpha = args.fism_alpha, \n",
    "                       loss = args.loss, \n",
    "                       interactions_are_unique = (not args.repeated_interactions), \n",
    "                       predict_with_clusters = (not args.ignore_clusters), \n",
    "                       sampling_bias = args.sampling_bias, \n",
    "                       sampling = args.sampling,  \n",
    "                       cluster_sampling = args.c_sampling, \n",
    "                       init_scale = args.init_scale, \n",
    "                       scale_growing_rate = args.scale_growing_rate, \n",
    "                       max_scale = args.max_scale, \n",
    "                       n_clusters = args.clusters, \n",
    "                       cluster_type = args.cluster_type, \n",
    "                       updater = updater, \n",
    "                       target_selection = target_selection, \n",
    "                       sequence_noise = sequence_noise, \n",
    "                       recurrent_layer = recurrent_layer, \n",
    "                       use_ratings_features = args.rf, \n",
    "                       use_movies_features = args.mf, \n",
    "                       use_users_features = args.uf, \n",
    "                       batch_size=args.batch_size)\n",
    "else:\n",
    "    predictor = fact.fism.FISM(k=args.hidden, \n",
    "                   reg = args.regularization, \n",
    "                   learning_rate = args.learning_rate, \n",
    "                   annealing=args.cooling, \n",
    "                   init_sigma = args.init_sigma, \n",
    "                   loss=args.loss, \n",
    "                   alpha=args.fism_alpha)\n",
    "\n"
   ]
  },
  {
   "cell_type": "code",
   "execution_count": null,
   "metadata": {},
   "outputs": [],
   "source": [
    "predictor.prepare_model(dataset)\n",
    "\n",
    "metrics = predictor.train(dataset, \n",
    "        save_dir = args.dir, \n",
    "        time_based_progress = args.time_based_progress, \n",
    "        progress = float(args.progress), \n",
    "        autosave = args.save, \n",
    "        max_progress_interval = args.mpi, \n",
    "        max_iter = args.max_iter,\n",
    "        min_iterations = args.min_iter,\n",
    "        max_time = args.max_time,\n",
    "        early_stopping = parse.get_early_stopper(args),\n",
    "        load_last_model = args.load_last_model,\n",
    "        validation_metrics = args.metrics.split(','))"
   ]
  },
  {
   "cell_type": "code",
   "execution_count": null,
   "metadata": {},
   "outputs": [],
   "source": []
  },
  {
   "cell_type": "markdown",
   "metadata": {},
   "source": [
    "## Test\n",
    "This script test the models built with train.py on the test set.\n",
    "The basic usage is:\n",
    "````\n",
    "python test.py -d path/to/dataset/ -m Method_name\n",
    "````\n",
    "The argument `-d` works in the same way as with train.py, and the precise model to test is specified by the `--dir` option and the methods-specific options.\n",
    "If multiple models fit the options (They are in the same subfolder and were trained with the same method and same options), they are all evaluated one after the other, except if the argument `-i epoch_number` is also specified, which will then select the model based on the number of epochs.\n",
    "\n",
    "`--metrics` allows to specify the list of metrics to compute, separated by commas. By default the metrics are: sps, recall, item\\_coverage, user\\_coverage, blockbuster_share.\n",
    "The \"blockbuster share\" is the percentage of correct recommendations among the 1% most popular items.\n",
    "The other available metrics are the sps, the ndcg and the assr (when clustering is used).\n",
    "\n",
    "All the metrics are computed \"@k\", with k=10 by default. k can be changed using the `-k` option.\n",
    "\n",
    "When the `--save` option is used, the results are saved in a file in \"path/to/dataset/results/\".\n",
    "the results of each model form a line of the file, and each line contains the number of epochs followed by the metrics specified by `--metrics`.\n",
    "\n",
    "When testing a method based on clustering, the option `--ignore_clusters` can be used to test how the method performs without clusters."
   ]
  },
  {
   "cell_type": "code",
   "execution_count": 94,
   "metadata": {},
   "outputs": [
    {
     "data": {
      "text/plain": [
       "<module 'Devooght.test' from './../Sources/Devooght/test.py'>"
      ]
     },
     "execution_count": 94,
     "metadata": {},
     "output_type": "execute_result"
    }
   ],
   "source": [
    "import Devooght.test as test\n",
    "reload(test)"
   ]
  },
  {
   "cell_type": "code",
   "execution_count": 83,
   "metadata": {},
   "outputs": [],
   "source": [
    "parser = parse.command_parser(parse.predictor_command_parser, \n",
    "                            test.test_command_parser)"
   ]
  },
  {
   "cell_type": "code",
   "execution_count": 88,
   "metadata": {},
   "outputs": [],
   "source": [
    "args = parser.parse_args(['--dir', os.path.join(directory_path, 'models'), #directory_path + '/models/', \n",
    "                          '-d', directory_path, #directory_path + '/', \n",
    "                          '-b', '20', # Batch size: the number of training examples present in a single blatch                                                    \n",
    "                          '-m', 'FISM', # Method\n",
    "                          '-i', '-1', # Number of batches - only on test parser\n",
    "                         '--loss', 'RMSE']) "
   ]
  },
  {
   "cell_type": "code",
   "execution_count": 96,
   "metadata": {},
   "outputs": [
    {
     "data": {
      "text/plain": [
       "'./Sequence_based_recommendation_files/models/fism_RMSE_ne*_lr0.01_an1.0_k20_reg0.0_ini1.npz'"
      ]
     },
     "execution_count": 96,
     "metadata": {},
     "output_type": "execute_result"
    }
   ],
   "source": [
    "import re\n",
    "os.path.join(args.dir, re.sub('_ml'+str(args.max_length), '_ml'+str(args.training_max_length), predictor._get_model_filename(args.number_of_batches)))"
   ]
  },
  {
   "cell_type": "code",
   "execution_count": 97,
   "metadata": {},
   "outputs": [
    {
     "name": "stdout",
     "output_type": "stream",
     "text": [
      "('Number of batches: ', '*')\n",
      "[ './Sequence_based_recommendation_files/models/./Sequence_based_recommendation_files/models/fism_RMSE_ne0.002_lr0.01_an1.0_k20_reg0.0_ini1.npz'\n",
      " './Sequence_based_recommendation_files/models/./Sequence_based_recommendation_files/models/fism_RMSE_ne0.0_lr0.01_an1.0_k20_reg0.0_ini1.npz'\n",
      " './Sequence_based_recommendation_files/models/./Sequence_based_recommendation_files/models/fism_RMSE_ne0.001_lr0.01_an1.0_k20_reg0.0_ini1.npz']\n",
      "output_file None\n",
      "('test_file', array([ './Sequence_based_recommendation_files/models/./Sequence_based_recommendation_files/models/fism_RMSE_ne0.0_lr0.01_an1.0_k20_reg0.0_ini1.npz',\n",
      "       './Sequence_based_recommendation_files/models/./Sequence_based_recommendation_files/models/fism_RMSE_ne0.001_lr0.01_an1.0_k20_reg0.0_ini1.npz',\n",
      "       './Sequence_based_recommendation_files/models/./Sequence_based_recommendation_files/models/fism_RMSE_ne0.002_lr0.01_an1.0_k20_reg0.0_ini1.npz'],\n",
      "      dtype='|S140'))\n",
      "Opening file (1)\n"
     ]
    },
    {
     "ename": "IndexError",
     "evalue": "index 1443 is out of bounds for axis 0 with size 1349",
     "output_type": "error",
     "traceback": [
      "\u001b[0;31m---------------------------------------------------------------------------\u001b[0m",
      "\u001b[0;31mIndexError\u001b[0m                                Traceback (most recent call last)",
      "\u001b[0;32m<ipython-input-97-a1f23f6499c4>\u001b[0m in \u001b[0;36m<module>\u001b[0;34m()\u001b[0m\n\u001b[1;32m     31\u001b[0m     \u001b[0;32mfor\u001b[0m \u001b[0mi\u001b[0m\u001b[0;34m,\u001b[0m \u001b[0mf\u001b[0m \u001b[0;32min\u001b[0m \u001b[0menumerate\u001b[0m\u001b[0;34m(\u001b[0m\u001b[0mtest_file\u001b[0m\u001b[0;34m)\u001b[0m\u001b[0;34m:\u001b[0m\u001b[0;34m\u001b[0m\u001b[0m\n\u001b[1;32m     32\u001b[0m         \u001b[0;32mif\u001b[0m \u001b[0mbatches\u001b[0m\u001b[0;34m[\u001b[0m\u001b[0mi\u001b[0m\u001b[0;34m]\u001b[0m \u001b[0;34m>\u001b[0m \u001b[0mlast_tested_batch\u001b[0m\u001b[0;34m:\u001b[0m\u001b[0;34m\u001b[0m\u001b[0m\n\u001b[0;32m---> 33\u001b[0;31m             \u001b[0mevaluator\u001b[0m \u001b[0;34m=\u001b[0m \u001b[0mtest\u001b[0m\u001b[0;34m.\u001b[0m\u001b[0mrun_tests\u001b[0m\u001b[0;34m(\u001b[0m\u001b[0mpredictor\u001b[0m\u001b[0;34m,\u001b[0m \u001b[0mf\u001b[0m\u001b[0;34m,\u001b[0m \u001b[0mdataset\u001b[0m\u001b[0;34m,\u001b[0m \u001b[0margs\u001b[0m\u001b[0;34m,\u001b[0m \u001b[0mget_full_recommendation_list\u001b[0m\u001b[0;34m=\u001b[0m\u001b[0margs\u001b[0m\u001b[0;34m.\u001b[0m\u001b[0msave_rank\u001b[0m\u001b[0;34m,\u001b[0m \u001b[0mk\u001b[0m\u001b[0;34m=\u001b[0m\u001b[0margs\u001b[0m\u001b[0;34m.\u001b[0m\u001b[0mnb_of_predictions\u001b[0m\u001b[0;34m)\u001b[0m\u001b[0;34m\u001b[0m\u001b[0m\n\u001b[0m\u001b[1;32m     34\u001b[0m             \u001b[0;32mprint\u001b[0m\u001b[0;34m(\u001b[0m\u001b[0;34m'-------------------'\u001b[0m\u001b[0;34m)\u001b[0m\u001b[0;34m\u001b[0m\u001b[0m\n\u001b[1;32m     35\u001b[0m             \u001b[0;32mprint\u001b[0m\u001b[0;34m(\u001b[0m\u001b[0;34m'({}/{}) results on {}'\u001b[0m\u001b[0;34m.\u001b[0m\u001b[0mformat\u001b[0m\u001b[0;34m(\u001b[0m\u001b[0mi\u001b[0m\u001b[0;34m+\u001b[0m\u001b[0;36m1\u001b[0m\u001b[0;34m,\u001b[0m \u001b[0mlen\u001b[0m\u001b[0;34m(\u001b[0m\u001b[0mfile\u001b[0m\u001b[0;34m)\u001b[0m\u001b[0;34m,\u001b[0m \u001b[0mf\u001b[0m\u001b[0;34m)\u001b[0m\u001b[0;34m)\u001b[0m\u001b[0;34m\u001b[0m\u001b[0m\n",
      "\u001b[0;32m/home/guedes.joaofelipe/Workplace/ProjetoFinal/Codigos/Sources/Devooght/test.py\u001b[0m in \u001b[0;36mrun_tests\u001b[0;34m(predictor, model_file, dataset, args, get_full_recommendation_list, k, verbose)\u001b[0m\n\u001b[1;32m     74\u001b[0m             \u001b[0mnb_of_dp\u001b[0m\u001b[0;34m.\u001b[0m\u001b[0mappend\u001b[0m\u001b[0;34m(\u001b[0m\u001b[0mn\u001b[0m\u001b[0;34m)\u001b[0m\u001b[0;34m\u001b[0m\u001b[0m\n\u001b[1;32m     75\u001b[0m         \u001b[0;32melse\u001b[0m\u001b[0;34m:\u001b[0m\u001b[0;34m\u001b[0m\u001b[0m\n\u001b[0;32m---> 76\u001b[0;31m             \u001b[0mrecommendations\u001b[0m \u001b[0;34m=\u001b[0m \u001b[0mpredictor\u001b[0m\u001b[0;34m.\u001b[0m\u001b[0mtop_k_recommendations\u001b[0m\u001b[0;34m(\u001b[0m\u001b[0mviewed\u001b[0m\u001b[0;34m,\u001b[0m \u001b[0muser_id\u001b[0m\u001b[0;34m=\u001b[0m\u001b[0muser_id\u001b[0m\u001b[0;34m,\u001b[0m \u001b[0mk\u001b[0m\u001b[0;34m=\u001b[0m\u001b[0mk\u001b[0m\u001b[0;34m)\u001b[0m\u001b[0;34m\u001b[0m\u001b[0m\n\u001b[0m\u001b[1;32m     77\u001b[0m \u001b[0;34m\u001b[0m\u001b[0m\n\u001b[1;32m     78\u001b[0m         \u001b[0mevaluator\u001b[0m\u001b[0;34m.\u001b[0m\u001b[0madd_instance\u001b[0m\u001b[0;34m(\u001b[0m\u001b[0mgoal\u001b[0m\u001b[0;34m,\u001b[0m \u001b[0mrecommendations\u001b[0m\u001b[0;34m)\u001b[0m\u001b[0;34m\u001b[0m\u001b[0m\n",
      "\u001b[0;32m/home/guedes.joaofelipe/Workplace/ProjetoFinal/Codigos/Sources/Devooght/factorization/fism.pyc\u001b[0m in \u001b[0;36mtop_k_recommendations\u001b[0;34m(self, sequence, user_id, k, exclude)\u001b[0m\n\u001b[1;32m    152\u001b[0m \u001b[0;34m\u001b[0m\u001b[0m\n\u001b[1;32m    153\u001b[0m         \u001b[0muser_items\u001b[0m \u001b[0;34m=\u001b[0m \u001b[0;34m[\u001b[0m\u001b[0mi\u001b[0m\u001b[0;34m[\u001b[0m\u001b[0;36m0\u001b[0m\u001b[0;34m]\u001b[0m \u001b[0;32mfor\u001b[0m \u001b[0mi\u001b[0m \u001b[0;32min\u001b[0m \u001b[0msequence\u001b[0m\u001b[0;34m]\u001b[0m \u001b[0;31m# sequence: [[itemId, rating]]\u001b[0m\u001b[0;34m\u001b[0m\u001b[0m\n\u001b[0;32m--> 154\u001b[0;31m         \u001b[0moutput\u001b[0m \u001b[0;34m=\u001b[0m \u001b[0mself\u001b[0m\u001b[0;34m.\u001b[0m\u001b[0mitem_score\u001b[0m\u001b[0;34m(\u001b[0m\u001b[0muser_items\u001b[0m\u001b[0;34m)\u001b[0m\u001b[0;34m\u001b[0m\u001b[0m\n\u001b[0m\u001b[1;32m    155\u001b[0m \u001b[0;34m\u001b[0m\u001b[0m\n\u001b[1;32m    156\u001b[0m         \u001b[0;31m# Put low similarity to viewed items to exclude them from recommendations\u001b[0m\u001b[0;34m\u001b[0m\u001b[0;34m\u001b[0m\u001b[0m\n",
      "\u001b[0;32m/home/guedes.joaofelipe/Workplace/ProjetoFinal/Codigos/Sources/Devooght/factorization/fism.pyc\u001b[0m in \u001b[0;36mitem_score\u001b[0;34m(self, user_items, item)\u001b[0m\n\u001b[1;32m     47\u001b[0m             \u001b[0;32mreturn\u001b[0m \u001b[0mself\u001b[0m\u001b[0;34m.\u001b[0m\u001b[0mbias\u001b[0m\u001b[0;34m[\u001b[0m\u001b[0mitem\u001b[0m\u001b[0;34m]\u001b[0m \u001b[0;34m+\u001b[0m \u001b[0mnp\u001b[0m\u001b[0;34m.\u001b[0m\u001b[0mpower\u001b[0m\u001b[0;34m(\u001b[0m\u001b[0mlen\u001b[0m\u001b[0;34m(\u001b[0m\u001b[0muser_items\u001b[0m\u001b[0;34m)\u001b[0m\u001b[0;34m,\u001b[0m \u001b[0;34m-\u001b[0m\u001b[0mself\u001b[0m\u001b[0;34m.\u001b[0m\u001b[0malpha\u001b[0m\u001b[0;34m)\u001b[0m \u001b[0;34m*\u001b[0m \u001b[0mnp\u001b[0m\u001b[0;34m.\u001b[0m\u001b[0mdot\u001b[0m\u001b[0;34m(\u001b[0m\u001b[0mself\u001b[0m\u001b[0;34m.\u001b[0m\u001b[0mV\u001b[0m\u001b[0;34m[\u001b[0m\u001b[0muser_items\u001b[0m\u001b[0;34m,\u001b[0m \u001b[0;34m:\u001b[0m\u001b[0;34m]\u001b[0m\u001b[0;34m.\u001b[0m\u001b[0msum\u001b[0m\u001b[0;34m(\u001b[0m\u001b[0maxis\u001b[0m\u001b[0;34m=\u001b[0m\u001b[0;36m0\u001b[0m\u001b[0;34m)\u001b[0m\u001b[0;34m,\u001b[0m \u001b[0mself\u001b[0m\u001b[0;34m.\u001b[0m\u001b[0mH\u001b[0m\u001b[0;34m[\u001b[0m\u001b[0mitem\u001b[0m\u001b[0;34m,\u001b[0m \u001b[0;34m:\u001b[0m\u001b[0;34m]\u001b[0m\u001b[0;34m)\u001b[0m\u001b[0;34m\u001b[0m\u001b[0m\n\u001b[1;32m     48\u001b[0m         \u001b[0;32melse\u001b[0m\u001b[0;34m:\u001b[0m\u001b[0;34m\u001b[0m\u001b[0m\n\u001b[0;32m---> 49\u001b[0;31m             \u001b[0;32mreturn\u001b[0m \u001b[0mself\u001b[0m\u001b[0;34m.\u001b[0m\u001b[0mbias\u001b[0m \u001b[0;34m+\u001b[0m \u001b[0mnp\u001b[0m\u001b[0;34m.\u001b[0m\u001b[0mpower\u001b[0m\u001b[0;34m(\u001b[0m\u001b[0mlen\u001b[0m\u001b[0;34m(\u001b[0m\u001b[0muser_items\u001b[0m\u001b[0;34m)\u001b[0m\u001b[0;34m,\u001b[0m \u001b[0;34m-\u001b[0m\u001b[0mself\u001b[0m\u001b[0;34m.\u001b[0m\u001b[0malpha\u001b[0m\u001b[0;34m)\u001b[0m \u001b[0;34m*\u001b[0m \u001b[0mnp\u001b[0m\u001b[0;34m.\u001b[0m\u001b[0mdot\u001b[0m\u001b[0;34m(\u001b[0m\u001b[0mself\u001b[0m\u001b[0;34m.\u001b[0m\u001b[0mV\u001b[0m\u001b[0;34m[\u001b[0m\u001b[0muser_items\u001b[0m\u001b[0;34m,\u001b[0m \u001b[0;34m:\u001b[0m\u001b[0;34m]\u001b[0m\u001b[0;34m.\u001b[0m\u001b[0msum\u001b[0m\u001b[0;34m(\u001b[0m\u001b[0maxis\u001b[0m\u001b[0;34m=\u001b[0m\u001b[0;36m0\u001b[0m\u001b[0;34m)\u001b[0m\u001b[0;34m,\u001b[0m \u001b[0mself\u001b[0m\u001b[0;34m.\u001b[0m\u001b[0mH\u001b[0m\u001b[0;34m.\u001b[0m\u001b[0mT\u001b[0m\u001b[0;34m)\u001b[0m\u001b[0;34m\u001b[0m\u001b[0m\n\u001b[0m\u001b[1;32m     50\u001b[0m \u001b[0;34m\u001b[0m\u001b[0m\n\u001b[1;32m     51\u001b[0m     \u001b[0;32mdef\u001b[0m \u001b[0mauc_sgd_step\u001b[0m\u001b[0;34m(\u001b[0m\u001b[0mself\u001b[0m\u001b[0;34m,\u001b[0m \u001b[0muser_items\u001b[0m\u001b[0;34m,\u001b[0m \u001b[0mtrue_item\u001b[0m\u001b[0;34m,\u001b[0m \u001b[0mfalse_item\u001b[0m\u001b[0;34m)\u001b[0m\u001b[0;34m:\u001b[0m\u001b[0;34m\u001b[0m\u001b[0m\n",
      "\u001b[0;31mIndexError\u001b[0m: index 1443 is out of bounds for axis 0 with size 1349"
     ]
    }
   ],
   "source": [
    "args.training_max_length = args.max_length\n",
    "# args.max_length = int(DATA_HANDLER.max_length/2)\n",
    "\n",
    "print (\"Number of batches: \", args.number_of_batches)\n",
    "if args.number_of_batches == -1:\n",
    "    args.number_of_batches = \"*\"\n",
    "    \n",
    "#dataset = handler.DataHandler(dirname=args.dataset)\n",
    "\n",
    "#predictor = parse.get_predictor(args)\n",
    "\n",
    "#predictor.prepare_model(dataset)\n",
    "\n",
    "test_file = test.find_models(predictor, dataset, args)\n",
    "print (test_file)\n",
    "\n",
    "if args.number_of_batches == \"*\" and args.method != \"UKNN\" and args.method != \"MM\" and args.method != \"POP\":\n",
    "    \n",
    "    output_file = test.save_file_name(predictor, dataset, args)\n",
    "\n",
    "    print (\"output_file {}\".format(output_file))\n",
    "    \n",
    "    last_tested_batch = test.get_last_tested_batch(output_file)\n",
    "    batches = np.array(map(test.extract_number_of_epochs, test_file))\n",
    "    sorted_ids = np.argsort(batches)\n",
    "    batches = batches[sorted_ids]\n",
    "    test_file = test_file[sorted_ids]\n",
    "    \n",
    "    print (\"test_file\", test_file)\n",
    "    \n",
    "    for i, f in enumerate(test_file):\n",
    "        if batches[i] > last_tested_batch:\n",
    "            evaluator = test.run_tests(predictor, f, dataset, args, get_full_recommendation_list=args.save_rank, k=args.nb_of_predictions)\n",
    "            print('-------------------')\n",
    "            print('({}/{}) results on {}'.format(i+1, len(file), f))            \n",
    "            test.print_results(evaluator, args.metrics.split(','), plot=False, file=output_file, n_batches=batches[i], print_full_rank_comparison=args.save_rank)\n",
    "else:\n",
    "    \n",
    "    evaluator = run_tests(predictor, file, dataset, args, get_full_recommendation_list=args.save_rank, k=args.nb_of_predictions)\n",
    "    print_results(evaluator, args.metrics.split(','), file=save_file_name(predictor, dataset, args), print_full_rank_comparison=args.save_rank)"
   ]
  },
  {
   "cell_type": "code",
   "execution_count": 90,
   "metadata": {},
   "outputs": [
    {
     "data": {
      "text/plain": [
       "False"
      ]
     },
     "execution_count": 90,
     "metadata": {},
     "output_type": "execute_result"
    }
   ],
   "source": [
    "args.save"
   ]
  },
  {
   "cell_type": "markdown",
   "metadata": {},
   "source": [
    "## Parser Tutorial"
   ]
  },
  {
   "cell_type": "code",
   "execution_count": null,
   "metadata": {},
   "outputs": [],
   "source": [
    "import argparse\n",
    "\n",
    "# Creating a parser\n",
    "parser = argparse.ArgumentParser(description='Process some integers.')\n",
    "\n",
    "# Adding arguments\n",
    "parser.add_argument('integers', metavar='N', type=int, nargs='+', help='an integer for the accumulator')\n",
    "parser.add_argument('--sum', dest='accumulate', action='store_const',\n",
    "                     const=sum, default=max,\n",
    "                     help='sum the integers (default: find the max)')\n",
    "parser.add_argument('--max', dest='accumulate', action='store_const',\n",
    "                     const=max, default=max,\n",
    "                     help='max the integers (default: find the max)')\n",
    "\n",
    "# Parsing arguments\n",
    "#parser.parse_args()\n",
    "parser.parse_args(['--sum', '7', '42'])\n",
    "parser.parse_args(['--max', '5', '4'])\n",
    "parser.epilog\n",
    "#parser.argument_default"
   ]
  }
 ],
 "metadata": {
  "kernelspec": {
   "display_name": "Python 2",
   "language": "python",
   "name": "python2"
  },
  "language_info": {
   "codemirror_mode": {
    "name": "ipython",
    "version": 2
   },
   "file_extension": ".py",
   "mimetype": "text/x-python",
   "name": "python",
   "nbconvert_exporter": "python",
   "pygments_lexer": "ipython2",
   "version": "2.7.5"
  }
 },
 "nbformat": 4,
 "nbformat_minor": 2
}
