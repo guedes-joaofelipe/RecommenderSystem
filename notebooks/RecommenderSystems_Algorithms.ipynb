{
 "cells": [
  {
   "cell_type": "markdown",
   "metadata": {},
   "source": [
    "# Imports"
   ]
  },
  {
   "cell_type": "code",
   "execution_count": 13,
   "metadata": {},
   "outputs": [
    {
     "data": {
      "text/plain": [
       "<module 'Recommender.recsys' from './../Sources/Recommender/recsys.pyc'>"
      ]
     },
     "execution_count": 13,
     "metadata": {},
     "output_type": "execute_result"
    }
   ],
   "source": [
    "#Importing libraries\n",
    "import sys\n",
    "import os\n",
    "import numpy as np\n",
    "import pandas as pd\n",
    "import matplotlib.pyplot as plt\n",
    "import time\n",
    "import joblib\n",
    "sources_path = './../Sources'\n",
    "if sources_path not in sys.path:\n",
    "    sys.path.append(sources_path)\n",
    "from messaging.telegrambot import Bot\n",
    "import telegram\n",
    "from Evaluations.metrics import MSE, RMSE, MAE\n",
    "from Environment import io\n",
    "devooght_package = os.path.join(sources_path, 'Devooght')\n",
    "if devooght_package not in sys.path:\n",
    "    sys.path.append(devooght_package)\n",
    "import Devooght.preprocess as preprocess\n",
    "reload(preprocess)\n",
    "from Recommender import recsys as recsys\n",
    "reload(recsys)\n",
    "#sys.path.append('../Sources') # Adding my own libs source\n",
    "#from StackedAutoEncoderRS.SAERS import SAE"
   ]
  },
  {
   "cell_type": "code",
   "execution_count": null,
   "metadata": {},
   "outputs": [],
   "source": [
    "reload(io)"
   ]
  },
  {
   "cell_type": "markdown",
   "metadata": {},
   "source": [
    "# Defining Constant Variables"
   ]
  },
  {
   "cell_type": "code",
   "execution_count": 9,
   "metadata": {},
   "outputs": [],
   "source": [
    "%matplotlib inline\n",
    "results_path = './Results/'\n",
    "verbose = True"
   ]
  },
  {
   "cell_type": "markdown",
   "metadata": {},
   "source": [
    "# Loading Dataset"
   ]
  },
  {
   "cell_type": "code",
   "execution_count": 10,
   "metadata": {},
   "outputs": [
    {
     "name": "stdout",
     "output_type": "stream",
     "text": [
      "[Loading Time: 0.0948848724365 s] rating.csv Shape:  (100000, 4)\n"
     ]
    }
   ],
   "source": [
    "#Loading dataset\n",
    "dataset = '100k/' #100k dataset path\n",
    "#dataset = '10M/' #10M dataset path\n",
    "#dataset = '20M/' #20M dataset path\n",
    "\n",
    "dataset_path = '../../Datasets/movieLens/' + dataset # Full dataset path\n",
    "\n",
    "filenames = {'movie': 'movie.csv', 'rating': 'rating.csv'}"
   ]
  },
  {
   "cell_type": "code",
   "execution_count": 16,
   "metadata": {},
   "outputs": [
    {
     "name": "stdout",
     "output_type": "stream",
     "text": [
      "[*] Loading data from ../../Datasets/movieLens/100k/rating.csv...\n",
      "[ ] Sorting timestamp column\n",
      "[+] Data Loaded\n",
      "   userId  itemId  rating           timestamp\n",
      "0     196     242       3 1997-12-04 15:55:49\n",
      "1     186     302       3 1998-04-04 19:22:22\n",
      "2      22     377       1 1997-11-07 07:18:36\n",
      "3     244      51       2 1997-11-27 05:02:03\n",
      "4     166     346       1 1998-02-02 05:33:16\n"
     ]
    }
   ],
   "source": [
    "df_ratings = preprocess.load_data(\n",
    "                filename = dataset_path+filenames['rating'], \n",
    "                columns = ['userId', 'itemId', 'rating', 'timestamp'], \n",
    "                separator = ',',\n",
    "                sort_time = False,\n",
    "                verbose = verbose)    "
   ]
  },
  {
   "cell_type": "code",
   "execution_count": 17,
   "metadata": {},
   "outputs": [
    {
     "data": {
      "text/html": [
       "<div>\n",
       "<style>\n",
       "    .dataframe thead tr:only-child th {\n",
       "        text-align: right;\n",
       "    }\n",
       "\n",
       "    .dataframe thead th {\n",
       "        text-align: left;\n",
       "    }\n",
       "\n",
       "    .dataframe tbody tr th {\n",
       "        vertical-align: top;\n",
       "    }\n",
       "</style>\n",
       "<table border=\"1\" class=\"dataframe\">\n",
       "  <thead>\n",
       "    <tr style=\"text-align: right;\">\n",
       "      <th></th>\n",
       "      <th>userId</th>\n",
       "      <th>itemId</th>\n",
       "      <th>rating</th>\n",
       "      <th>timestamp</th>\n",
       "    </tr>\n",
       "  </thead>\n",
       "  <tbody>\n",
       "    <tr>\n",
       "      <th>0</th>\n",
       "      <td>196</td>\n",
       "      <td>242</td>\n",
       "      <td>3</td>\n",
       "      <td>1997-12-04 15:55:49</td>\n",
       "    </tr>\n",
       "    <tr>\n",
       "      <th>1</th>\n",
       "      <td>186</td>\n",
       "      <td>302</td>\n",
       "      <td>3</td>\n",
       "      <td>1998-04-04 19:22:22</td>\n",
       "    </tr>\n",
       "    <tr>\n",
       "      <th>2</th>\n",
       "      <td>22</td>\n",
       "      <td>377</td>\n",
       "      <td>1</td>\n",
       "      <td>1997-11-07 07:18:36</td>\n",
       "    </tr>\n",
       "    <tr>\n",
       "      <th>3</th>\n",
       "      <td>244</td>\n",
       "      <td>51</td>\n",
       "      <td>2</td>\n",
       "      <td>1997-11-27 05:02:03</td>\n",
       "    </tr>\n",
       "    <tr>\n",
       "      <th>4</th>\n",
       "      <td>166</td>\n",
       "      <td>346</td>\n",
       "      <td>1</td>\n",
       "      <td>1998-02-02 05:33:16</td>\n",
       "    </tr>\n",
       "  </tbody>\n",
       "</table>\n",
       "</div>"
      ],
      "text/plain": [
       "   userId  itemId  rating           timestamp\n",
       "0     196     242       3 1997-12-04 15:55:49\n",
       "1     186     302       3 1998-04-04 19:22:22\n",
       "2      22     377       1 1997-11-07 07:18:36\n",
       "3     244      51       2 1997-11-27 05:02:03\n",
       "4     166     346       1 1998-02-02 05:33:16"
      ]
     },
     "execution_count": 17,
     "metadata": {},
     "output_type": "execute_result"
    }
   ],
   "source": [
    "df_ratings.head()"
   ]
  },
  {
   "cell_type": "markdown",
   "metadata": {},
   "source": [
    "# Creating Recommender Class"
   ]
  },
  {
   "cell_type": "markdown",
   "metadata": {},
   "source": [
    "# Creating Recommender Instance"
   ]
  },
  {
   "cell_type": "code",
   "execution_count": null,
   "metadata": {},
   "outputs": [],
   "source": []
  },
  {
   "cell_type": "code",
   "execution_count": 18,
   "metadata": {},
   "outputs": [
    {
     "name": "stdout",
     "output_type": "stream",
     "text": [
      "fism\n",
      "CPU times: user 6.7 ms, sys: 495 µs, total: 7.19 ms\n",
      "Wall time: 24.7 ms\n"
     ]
    }
   ],
   "source": [
    "%%time\n",
    "reload(recsys)\n",
    "rs = recsys.recommender(algorithm = 'fism')\n",
    "print rs.get_name()\n",
    "#rs.fit(df_ratings = df_ratings, \n",
    "#       k = 40,\n",
    "#       n_epochs = 10, \n",
    "#       n_factors = 40, \n",
    "#       columns = ['userId', 'itemId', 'rating', 'timestamp'],\n",
    "#       verbose = True)\n"
   ]
  },
  {
   "cell_type": "code",
   "execution_count": 19,
   "metadata": {},
   "outputs": [
    {
     "name": "stdout",
     "output_type": "stream",
     "text": [
      "[*] Creating directories in ./Sequence_based_recommendation_files/fism\n",
      "[ ] Creating data directory\n",
      "[ ] Creating models directory\n",
      "[ ] Creating results directory\n",
      "[+] Directories created.\n",
      "[*] Removing inactive users and rare items...\n",
      "[+] Rare users and items removed.\n",
      "[*] Splitting data into training, validation and test sets\n",
      "[ ] Saving training, validation and test sets in the triplets format\n",
      "[+] Split data saved on ./Sequence_based_recommendation_files/fism/data folder.\n",
      "[*] Making sequence format\n",
      "[ ] Saving training set in the sequences format...\n",
      "[ ] Saving validation set in the sequences format...\n",
      "[ ] Saving test set in the sequences format...\n",
      "[ ] Saving the extended training set in the sequences format...\n",
      "[+] Sequence format saved on ./Sequence_based_recommendation_files/fism/data folder\n",
      "[*] Saving stats to ./Sequence_based_recommendation_files/fism/data/stats file\n",
      "[+] Stats saved.\n",
      "RMSE SGD delta:  11.0799920572\n",
      "RMSE SGD delta:  -0.0852666676217\n",
      "RMSE SGD delta:  -9.41782020602\n",
      "RMSE SGD delta:  -15.618034934\n",
      "RMSE SGD delta:  3.20124618689\n",
      "RMSE SGD delta:  7.32843172106\n",
      "RMSE SGD delta:  -2.71782173437\n",
      "RMSE SGD delta:  -10.3151999973\n",
      "RMSE SGD delta:  -22.7689843969\n",
      "RMSE SGD delta:  -19.1625226285\n",
      "Opening file (1)\n",
      "Algorithm: FISM \n",
      "Batch Number: 10 \n",
      "Epochs: 0.00012662555557 in 0.855036973953 s\n",
      "Last train cost : -5.84759805995\n",
      "recall :  0.00536963186423\n",
      "sps :  0.0\n",
      "Best validation  sps :  0.0\n",
      "blockbuster_share :  0.1\n",
      "item_coverage :  27\n",
      "ndcg :  0.0359564138785\n",
      "user_coverage :  0.295454545455\n",
      "-----------------\n",
      "Saving model in ./Sequence_based_recommendation_files/fism/models/fism_RMSE_ne0.0_lr0.01_an1.0_k20_reg0.0_ini1.npz\n",
      "RMSE SGD delta:  15.2506838056\n",
      "RMSE SGD delta:  -11.517394908\n",
      "RMSE SGD delta:  -2.70450718377\n",
      "RMSE SGD delta:  -4.30478021993\n",
      "RMSE SGD delta:  72.9112346525\n",
      "RMSE SGD delta:  -11.9877819874\n",
      "RMSE SGD delta:  -0.429742721791\n",
      "RMSE SGD delta:  -14.1657388443\n",
      "RMSE SGD delta:  1.53458856939\n",
      "RMSE SGD delta:  -17.328970034\n",
      "RMSE SGD delta:  15.4506517382\n",
      "RMSE SGD delta:  -9.73690770139\n",
      "RMSE SGD delta:  23.4414348809\n",
      "RMSE SGD delta:  -44.9938059947\n",
      "RMSE SGD delta:  42.3557133909\n",
      "RMSE SGD delta:  7.16264936215\n",
      "RMSE SGD delta:  -64.4962491196\n",
      "RMSE SGD delta:  10.3105167797\n",
      "RMSE SGD delta:  -6.40101311829\n",
      "RMSE SGD delta:  23.8756524829\n",
      "RMSE SGD delta:  -12.5688169275\n",
      "RMSE SGD delta:  -5.86171409085\n",
      "RMSE SGD delta:  20.4539104032\n",
      "RMSE SGD delta:  -16.4240072832\n",
      "RMSE SGD delta:  -7.17383378315\n",
      "RMSE SGD delta:  -16.4014873556\n",
      "RMSE SGD delta:  16.7161736864\n",
      "RMSE SGD delta:  14.1133941019\n",
      "RMSE SGD delta:  -49.2288016848\n",
      "RMSE SGD delta:  -19.8897481084\n",
      "RMSE SGD delta:  -1.71763752877\n",
      "RMSE SGD delta:  -12.9619448432\n",
      "RMSE SGD delta:  -16.2406233341\n",
      "RMSE SGD delta:  25.0179324601\n",
      "RMSE SGD delta:  -49.684820564\n",
      "RMSE SGD delta:  39.4502600303\n",
      "RMSE SGD delta:  -21.534198548\n",
      "RMSE SGD delta:  1.71565021492\n",
      "RMSE SGD delta:  -15.1276573781\n",
      "RMSE SGD delta:  23.7095241147\n"
     ]
    },
    {
     "name": "stderr",
     "output_type": "stream",
     "text": [
      "10 0.00012662555557 0.856633901596 -5.84759805995 0.00536963186423 0.0 0.1 27 0.0359564138785 0.295454545455\n"
     ]
    },
    {
     "data": {
      "text/plain": [
       "0"
      ]
     },
     "execution_count": 19,
     "metadata": {},
     "output_type": "execute_result"
    }
   ],
   "source": [
    "rs.fit(df_ratings = df_ratings,       \n",
    "       verbose = verbose)"
   ]
  },
  {
   "cell_type": "code",
   "execution_count": 21,
   "metadata": {},
   "outputs": [
    {
     "data": {
      "text/plain": [
       "({'blockbuster_share': 0.1,\n",
       "  'item_coverage': 27,\n",
       "  'ndcg': 0.035956413878503318,\n",
       "  'recall': 0.005369631864229946,\n",
       "  'sps': 0.0,\n",
       "  'user_coverage': 0.29545454545454547},\n",
       " 0.9779658317565918,\n",
       " './Sequence_based_recommendation_files/fism/models/fism_RMSE_ne0.0_lr0.01_an1.0_k20_reg0.0_ini1.npz')"
      ]
     },
     "execution_count": 21,
     "metadata": {},
     "output_type": "execute_result"
    }
   ],
   "source": [
    "rs.get_metrics()"
   ]
  },
  {
   "cell_type": "markdown",
   "metadata": {},
   "source": [
    "# Getting Predictions for a Single User"
   ]
  },
  {
   "cell_type": "code",
   "execution_count": null,
   "metadata": {},
   "outputs": [],
   "source": [
    "#rs.get_top_n(10)\n",
    "#rs.get_model()\n",
    "print (rs.predict(userId = 196, itemId = 242))"
   ]
  },
  {
   "cell_type": "markdown",
   "metadata": {},
   "source": [
    "## Getting Predictions of Unknown Ratings"
   ]
  },
  {
   "cell_type": "code",
   "execution_count": null,
   "metadata": {},
   "outputs": [],
   "source": [
    "#rs.calculate_unknown_prediction()"
   ]
  },
  {
   "cell_type": "code",
   "execution_count": null,
   "metadata": {},
   "outputs": [],
   "source": [
    "%%time\n",
    "#df_unknown_predictions = rs.get_unknown_predictions(calculate_predictions = False)"
   ]
  },
  {
   "cell_type": "markdown",
   "metadata": {},
   "source": [
    "## Getting Predictions of Known Ratings"
   ]
  },
  {
   "cell_type": "code",
   "execution_count": null,
   "metadata": {},
   "outputs": [],
   "source": [
    "%%time\n",
    "df_known_predictions = rs.get_known_predictions(calculate_predictions = False)"
   ]
  },
  {
   "cell_type": "code",
   "execution_count": null,
   "metadata": {},
   "outputs": [],
   "source": [
    "df_known_predictions.head()"
   ]
  },
  {
   "cell_type": "code",
   "execution_count": null,
   "metadata": {},
   "outputs": [],
   "source": []
  },
  {
   "cell_type": "markdown",
   "metadata": {},
   "source": [
    "## Building users topN Recommendation"
   ]
  },
  {
   "cell_type": "code",
   "execution_count": null,
   "metadata": {},
   "outputs": [],
   "source": [
    "%%time\n",
    "known_sequences = rs.get_top_n(n=10, source = 'known', calculate_sequence = True)"
   ]
  },
  {
   "cell_type": "code",
   "execution_count": null,
   "metadata": {},
   "outputs": [],
   "source": [
    "print (len(known_sequences))\n",
    "#known_sequences"
   ]
  },
  {
   "cell_type": "code",
   "execution_count": null,
   "metadata": {},
   "outputs": [],
   "source": []
  },
  {
   "cell_type": "markdown",
   "metadata": {},
   "source": [
    "## Evaluating Algorithm"
   ]
  },
  {
   "cell_type": "code",
   "execution_count": null,
   "metadata": {},
   "outputs": [],
   "source": [
    "print (MSE(df_known_predictions['rating'], df_known_predictions['prediction']))\n",
    "print (RMSE(df_known_predictions['rating'], df_known_predictions['prediction']))\n",
    "print (MAE(df_known_predictions['rating'], df_known_predictions['prediction']))\n",
    "\n",
    "df_known_predictions.head()"
   ]
  },
  {
   "cell_type": "markdown",
   "metadata": {},
   "source": [
    "## Evaluating Number of Neighbours on KNN-Based-Algorithms"
   ]
  },
  {
   "cell_type": "code",
   "execution_count": null,
   "metadata": {},
   "outputs": [],
   "source": [
    "%%time\n",
    "knn_based_algorithms = ['knnbasic', 'kmeans']\n",
    "k_array = np.arange(1, 301, 5)\n",
    "\n",
    "for algorithm in knn_based_algorithms:    \n",
    "    time_zero = time.time()\n",
    "    rs = recsys.recommender(algorithm = algorithm)\n",
    "    print (\"----------------------------------------------------\")\n",
    "    print (\"Calculating evaluations for {}\".format(rs.get_name()))\n",
    "    \n",
    "    #knn_predictions = dict()\n",
    "    k_evaluations = dict()\n",
    "    \n",
    "    for k in k_array:            \n",
    "        # Fitting Algorithm\n",
    "        rs.fit(df_ratings = df_ratings, k = k, verbose = False)\n",
    "        \n",
    "        # Getting Known Predictions\n",
    "        df_known_predictions = rs.get_known_predictions(calculate_predictions = True)\n",
    "        \n",
    "        # Evaluating Known Predictions\n",
    "        mae = MAE(df_known_predictions['rating'], df_known_predictions['prediction'])\n",
    "        rmse = RMSE(df_known_predictions['rating'], df_known_predictions['prediction'])\n",
    "        mse = MSE(df_known_predictions['rating'], df_known_predictions['prediction'])\n",
    "        \n",
    "        k_evaluations[k] = {'mae': mae, 'rmse': rmse, 'mse': mse}\n",
    "        \n",
    "    # Saving evaluations\n",
    "    saveVariable(results_path = results_path, dataset = dataset, variable = k_evaluations, filename = '{}_evaluations_dic'.format(algorithm), verbose = True)\n",
    "    print (\"Elapsed time for {}: {}\".format(rs.get_name(), time.time()-time_zero))"
   ]
  },
  {
   "cell_type": "code",
   "execution_count": null,
   "metadata": {},
   "outputs": [],
   "source": [
    "# Loading algorithm evaluations variable\n",
    "for algorithm in knn_based_algorithms:\n",
    "    #algorithm = 'kmeans'#'knnbasic'\n",
    "    k_evaluations = loadVariable(results_path=results_path, dataset = dataset, filename = '{}_evaluations_dic'.format(algorithm), verbose = verbose)\n",
    "\n",
    "    # Converting Dictionary to array\n",
    "    k_array = np.array([])\n",
    "    rmse_array = np.array([])\n",
    "    mae_array = np.array([])\n",
    "    mse_array = np.array([])\n",
    "\n",
    "    for key in sorted(k_evaluations.keys()):\n",
    "        k_array = np.append(k_array, int(key))\n",
    "        rmse_array = np.append(rmse_array, k_evaluations[key]['rmse'])\n",
    "        mse_array = np.append(mse_array, k_evaluations[key]['mse'])\n",
    "        mae_array = np.append(mae_array, k_evaluations[key]['mae'])\n",
    "\n",
    "    # Plotting Evaluations\n",
    "    fig, ax = plt.subplots(figsize=(15, 15))\n",
    "    ax.plot(k_array, rmse_array, label = 'rmse')\n",
    "    ax.plot(k_array, mse_array, label = 'mse')\n",
    "    ax.plot(k_array, mae_array, label = 'mae')\n",
    "    #ax.axis([0, k_array[-1], 0, itemsQuantity[-1]])\n",
    "    ax.grid(True)\n",
    "    ax.legend(fontsize = 14)\n",
    "    ax.set_xticks([x for x in xrange (int(k_array[0]), int(k_array[-1])+1, 15)])\n",
    "    #ax.set_yticks([x for x in xrange (0, itemsQuantity[-1], 100)])\n",
    "\n",
    "    ax.set_xlabel('Number of Neighbours', fontsize = 20)\n",
    "    ax.set_ylabel('Evaluation', fontsize = 20)\n",
    "    ax.tick_params(axis='both', which='major', labelsize=14)\n",
    "    ax.set_title('Evaluations x Neighbours - {}'.format(algorithm.title()), fontsize = 20)\n",
    "\n",
    "    io.saveFigure(results_path, dataset, '{}_evaluations_per_neighbours.png'.format(algorithm), fig, verbose = True)"
   ]
  },
  {
   "cell_type": "markdown",
   "metadata": {},
   "source": [
    "## Evaluating Number of Factors on Matrix Factorization-based Algorithms"
   ]
  },
  {
   "cell_type": "code",
   "execution_count": null,
   "metadata": {},
   "outputs": [],
   "source": [
    "%%time\n",
    "matrix_factorization_based_algorithms = ['svd']\n",
    "n_factors_array = np.arange(70, 311, 20)\n",
    "\n",
    "\n",
    "for algorithm in matrix_factorization_based_algorithms:    \n",
    "    time_zero = time.time()\n",
    "    rs = recsys.recommender(algorithm = algorithm)\n",
    "    print (\"----------------------------------------------------\")\n",
    "    print (\"Calculating evaluations for {}\".format(rs.get_name()))\n",
    "    \n",
    "    matrix_factorization_evaluations = dict()\n",
    "    \n",
    "    for n_factors in n_factors_array:            \n",
    "        # Fitting Algorithm\n",
    "        rs.fit(df_ratings = df_ratings, n_factors = n_factors, verbose = False)\n",
    "        \n",
    "        # Getting Known Predictions\n",
    "        df_known_predictions = rs.get_known_predictions(calculate_predictions = True)\n",
    "        \n",
    "        # Evaluating Known Predictions\n",
    "        mae = MAE(df_known_predictions['rating'], df_known_predictions['prediction'])\n",
    "        rmse = RMSE(df_known_predictions['rating'], df_known_predictions['prediction'])\n",
    "        mse = MSE(df_known_predictions['rating'], df_known_predictions['prediction'])\n",
    "        \n",
    "        matrix_factorization_evaluations[n_factors] = {'mae': mae, 'rmse': rmse, 'mse': mse}\n",
    "        \n",
    "    # Saving evaluations\n",
    "    saveVariable(results_path = results_path, dataset = dataset, variable = matrix_factorization_evaluations, filename = '{}_evaluations_dic'.format(algorithm), verbose = True)\n",
    "    print (\"Elapsed time for {}: {}\".format(rs.get_name(), time.time()-time_zero))"
   ]
  },
  {
   "cell_type": "code",
   "execution_count": null,
   "metadata": {},
   "outputs": [],
   "source": [
    "# Loading algorithm evaluations variable\n",
    "for algorithm in matrix_factorization_based_algorithms:\n",
    "    #algorithm = 'kmeans'#'knnbasic'\n",
    "    n_factors_evaluations = loadVariable(results_path=results_path, dataset = dataset, filename = '{}_evaluations_dic'.format(algorithm), verbose = verbose)\n",
    "\n",
    "    # Converting Dictionary to array\n",
    "    n_factors_array = np.array([])\n",
    "    rmse_array = np.array([])\n",
    "    mae_array = np.array([])\n",
    "    mse_array = np.array([])\n",
    "\n",
    "    for key in sorted(n_factors_evaluations.keys()):\n",
    "        n_factors_array = np.append(n_factors_array, int(key))\n",
    "        rmse_array = np.append(rmse_array, n_factors_evaluations[key]['rmse'])\n",
    "        mse_array = np.append(mse_array, n_factors_evaluations[key]['mse'])\n",
    "        mae_array = np.append(mae_array, n_factors_evaluations[key]['mae'])\n",
    "\n",
    "    # Plotting Evaluations\n",
    "    fig, ax = plt.subplots(figsize=(10, 10))\n",
    "    ax.plot(n_factors_array, rmse_array, label = 'rmse')\n",
    "    ax.plot(n_factors_array, mse_array, label = 'mse')\n",
    "    ax.plot(n_factors_array, mae_array, label = 'mae')\n",
    "    #ax.axis([0, k_array[-1], 0, itemsQuantity[-1]])\n",
    "    ax.grid(True)\n",
    "    ax.legend(fontsize = 14)\n",
    "    ax.set_xticks([x for x in xrange (int(n_factors_array[0]), int(n_factors_array[-1])+1, 20)])\n",
    "    #ax.set_yticks([x for x in xrange (0, itemsQuantity[-1], 100)])\n",
    "\n",
    "    ax.set_xlabel('Number of Factors', fontsize = 20)\n",
    "    ax.set_ylabel('Evaluation', fontsize = 20)\n",
    "    ax.tick_params(axis='both', which='major', labelsize=14)\n",
    "    ax.set_title('Evaluations x Number of Factors - {}'.format(algorithm.title()), fontsize = 15)\n",
    "\n",
    "    saveFigure(results_path, dataset, '{}_evaluations_per_factors.png'.format(algorithm), fig, verbose = True)"
   ]
  }
 ],
 "metadata": {
  "kernelspec": {
   "display_name": "Python 3",
   "language": "python",
   "name": "python3"
  },
  "language_info": {
   "codemirror_mode": {
    "name": "ipython",
    "version": 3
   },
   "file_extension": ".py",
   "mimetype": "text/x-python",
   "name": "python",
   "nbconvert_exporter": "python",
   "pygments_lexer": "ipython3",
   "version": "3.7.3"
  }
 },
 "nbformat": 4,
 "nbformat_minor": 2
}
