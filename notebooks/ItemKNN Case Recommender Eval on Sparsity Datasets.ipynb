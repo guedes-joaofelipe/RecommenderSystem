{
 "cells": [
  {
   "cell_type": "markdown",
   "metadata": {},
   "source": [
    "# ItemKNN Template for Sparsity Evaluation\n",
    "\n",
    "## Imports "
   ]
  },
  {
   "cell_type": "code",
   "execution_count": 1,
   "metadata": {},
   "outputs": [],
   "source": [
    "import os, sys, joblib, json, time, re\n",
    "import pandas as pd\n",
    "import numpy as np\n",
    "import matplotlib.pyplot as plt \n",
    "from sklearn.model_selection import train_test_split, KFold\n",
    "%matplotlib inline \n",
    "from caserec.recommenders.rating_prediction.itemknn import ItemKNN\n",
    "from caserec.utils.process_data import ReadFile\n",
    "from random import choice\n",
    "from string import ascii_uppercase\n",
    "from IPython.display import clear_output\n",
    "lib_path = './../Sources'\n",
    "if (lib_path not in sys.path):\n",
    "    sys.path.append(lib_path) #src directory\n",
    "from lpsrec.messaging.print_functions import ProgressBar\n",
    "from lpsrec.messaging.telegrambot import Bot\n",
    "from lpsrec.utils import partition_dataframe, write_log\n",
    "import lpsrec.database as db\n",
    "from caserec.evaluation.rating_prediction import RatingPredictionEvaluation\n"
   ]
  },
  {
   "cell_type": "markdown",
   "metadata": {},
   "source": [
    "## Parameters\n",
    "These parameters are set by a [Papermill](https://github.com/nteract/papermill) runner script"
   ]
  },
  {
   "cell_type": "code",
   "execution_count": 2,
   "metadata": {
    "tags": [
     "parameters"
    ]
   },
   "outputs": [],
   "source": [
    "dataset_tag = 'ML100k'\n",
    "model_tag = 'ItemKNN'\n",
    "rank_length = 30\n",
    "random_state = 31415\n",
    "evaluation_metrics = ['PREC', 'RECALL', 'NDCG', 'MRR', 'MAP']\n",
    "bot_alive = False\n",
    "partition = 2\n",
    "nodes = 10\n",
    "n_folds = 5"
   ]
  },
  {
   "cell_type": "code",
   "execution_count": 3,
   "metadata": {},
   "outputs": [],
   "source": [
    "analysis_tag = '_'.join([str(x) for x in [rank_length, nodes, partition]])\n",
    "n_folds = None if n_folds == 1 else n_folds\n",
    "style_dict = json.load(open('./style_dict.json', 'r'))\n",
    "dataset_output_folder = os.path.join('.', 'Outputs', dataset_tag)\n",
    "variables_output_folder = os.path.join(dataset_output_folder, model_tag, 'Variables', analysis_tag)\n",
    "figures_output_folder = os.path.join(dataset_output_folder, model_tag, 'Figures', analysis_tag)\n",
    "progbar = ProgressBar(bar_length=20, bar_fill='#', elapsed_time=True)\n",
    "if not os.path.exists(variables_output_folder):    \n",
    "    os.makedirs(variables_output_folder)    \n",
    "if not os.path.exists(figures_output_folder):        \n",
    "    os.makedirs(figures_output_folder)"
   ]
  },
  {
   "cell_type": "code",
   "execution_count": 4,
   "metadata": {},
   "outputs": [],
   "source": [
    "plt.rc('font', **style_dict['font'])\n",
    "# plt.rc('axes.titlesize', fontsize=20)\n",
    "plt.rc('xtick', labelsize=style_dict['tick']['fontsize']) \n",
    "plt.rc('ytick', labelsize=style_dict['tick']['fontsize']) \n",
    "plt.rcParams.update({'figure.max_open_warning': 5})"
   ]
  },
  {
   "cell_type": "code",
   "execution_count": 5,
   "metadata": {},
   "outputs": [
    {
     "data": {
      "text/plain": [
       "''"
      ]
     },
     "execution_count": 5,
     "metadata": {},
     "output_type": "execute_result"
    }
   ],
   "source": [
    "bot = Bot(user_credentials='./JFGS.json')\n",
    "bot.send_message(text=\"{}\\nHello, John. Initiating sparsity analysis for the {} dataset on the {} model [{}/{}]\".format('-'*20, dataset_tag, model_tag, partition, nodes)) if bot_alive else ''"
   ]
  },
  {
   "cell_type": "markdown",
   "metadata": {},
   "source": [
    "## Connecting to Database"
   ]
  },
  {
   "cell_type": "code",
   "execution_count": 6,
   "metadata": {},
   "outputs": [],
   "source": [
    "username = 'postgres'\n",
    "password = 'admin'\n",
    "dbname = 'RecSys'\n",
    "hostname = 'localhost:5432'\n",
    "conn = db.get_database_connection(username, password, hostname, dbname)"
   ]
  },
  {
   "cell_type": "markdown",
   "metadata": {},
   "source": [
    "## Loading Dataset"
   ]
  },
  {
   "cell_type": "code",
   "execution_count": 7,
   "metadata": {},
   "outputs": [
    {
     "name": "stdout",
     "output_type": "stream",
     "text": [
      "Wall time: 1.29 s\n"
     ]
    }
   ],
   "source": [
    "%%time\n",
    "df_ratings = db.get_dataset_from_sparsity(data_path=None, conn=conn, dataset_tag=dataset_tag) \n",
    "df_ratings[['feedback_value']] = df_ratings[['feedback_value']].apply(pd.to_numeric)\n",
    "df_ratings.drop(['user', 'item', 'timestamp'], axis=1, inplace=True)\n",
    "df_ratings.columns = ['feedback_value', 'user', 'item']"
   ]
  },
  {
   "cell_type": "code",
   "execution_count": 8,
   "metadata": {},
   "outputs": [
    {
     "name": "stdout",
     "output_type": "stream",
     "text": [
      "(100000, 3)\n"
     ]
    },
    {
     "data": {
      "text/html": [
       "<div>\n",
       "<style scoped>\n",
       "    .dataframe tbody tr th:only-of-type {\n",
       "        vertical-align: middle;\n",
       "    }\n",
       "\n",
       "    .dataframe tbody tr th {\n",
       "        vertical-align: top;\n",
       "    }\n",
       "\n",
       "    .dataframe thead th {\n",
       "        text-align: right;\n",
       "    }\n",
       "</style>\n",
       "<table border=\"1\" class=\"dataframe\">\n",
       "  <thead>\n",
       "    <tr style=\"text-align: right;\">\n",
       "      <th></th>\n",
       "      <th>feedback_value</th>\n",
       "      <th>user</th>\n",
       "      <th>item</th>\n",
       "    </tr>\n",
       "  </thead>\n",
       "  <tbody>\n",
       "    <tr>\n",
       "      <th>0</th>\n",
       "      <td>5</td>\n",
       "      <td>1</td>\n",
       "      <td>1</td>\n",
       "    </tr>\n",
       "    <tr>\n",
       "      <th>1</th>\n",
       "      <td>3</td>\n",
       "      <td>1</td>\n",
       "      <td>2</td>\n",
       "    </tr>\n",
       "    <tr>\n",
       "      <th>2</th>\n",
       "      <td>4</td>\n",
       "      <td>1</td>\n",
       "      <td>3</td>\n",
       "    </tr>\n",
       "    <tr>\n",
       "      <th>3</th>\n",
       "      <td>3</td>\n",
       "      <td>1</td>\n",
       "      <td>4</td>\n",
       "    </tr>\n",
       "    <tr>\n",
       "      <th>4</th>\n",
       "      <td>3</td>\n",
       "      <td>1</td>\n",
       "      <td>5</td>\n",
       "    </tr>\n",
       "  </tbody>\n",
       "</table>\n",
       "</div>"
      ],
      "text/plain": [
       "   feedback_value  user  item\n",
       "0               5     1     1\n",
       "1               3     1     2\n",
       "2               4     1     3\n",
       "3               3     1     4\n",
       "4               3     1     5"
      ]
     },
     "execution_count": 8,
     "metadata": {},
     "output_type": "execute_result"
    }
   ],
   "source": [
    "print (df_ratings.shape)\n",
    "df_ratings.head()"
   ]
  },
  {
   "cell_type": "code",
   "execution_count": 9,
   "metadata": {},
   "outputs": [
    {
     "name": "stdout",
     "output_type": "stream",
     "text": [
      "Train size: 70000 \n",
      "Test size: 30000\n"
     ]
    }
   ],
   "source": [
    "df_train, df_test = train_test_split(df_ratings, test_size=0.3, random_state=random_state)\n",
    "print (\"Train size: {} \\nTest size: {}\".format(df_train.shape[0], df_test.shape[0]))"
   ]
  },
  {
   "cell_type": "markdown",
   "metadata": {},
   "source": [
    "## Training Model"
   ]
  },
  {
   "cell_type": "code",
   "execution_count": 11,
   "metadata": {},
   "outputs": [],
   "source": [
    "predictions_output_filepath = './predictions_output_' + ''.join(choice(ascii_uppercase) for i in range(12)) + '.dat'\n",
    "model = ItemKNN(train_file=df_train, test_file=df_test, k_neighbors=30, output_file = predictions_output_filepath)"
   ]
  },
  {
   "cell_type": "code",
   "execution_count": 12,
   "metadata": {},
   "outputs": [
    {
     "name": "stdout",
     "output_type": "stream",
     "text": [
      "[Case Recommender: Rating Prediction > ItemKNN Algorithm]\n",
      "\n",
      "train data:: 943 users and 1631 items (70000 interactions) | sparsity:: 95.45%\n",
      "test data:: 943 users and 1490 items (30000 interactions) | sparsity:: 97.86%\n",
      "\n",
      "training_time:: 3.059845 sec\n",
      "prediction_time:: 4.418180 sec\n",
      "Eval:: MAE: 0.799845 RMSE: 1.036748 \n",
      "Wall time: 14.6 s\n"
     ]
    }
   ],
   "source": [
    "%%time\n",
    "model.compute(verbose=True)"
   ]
  },
  {
   "cell_type": "markdown",
   "metadata": {},
   "source": [
    "## Evaluating Model"
   ]
  },
  {
   "cell_type": "code",
   "execution_count": 13,
   "metadata": {},
   "outputs": [],
   "source": [
    "# Creating evaluator with item-recommendation parameters\n",
    "evaluator = RatingPredictionEvaluation(sep = '\\t', \n",
    "                                       n_rank = np.arange(1,rank_length+1, 1), \n",
    "                                       as_rank = True,\n",
    "                                       metrics = ['PREC', 'RECALL'])"
   ]
  },
  {
   "cell_type": "code",
   "execution_count": 14,
   "metadata": {},
   "outputs": [
    {
     "name": "stdout",
     "output_type": "stream",
     "text": [
      "Eval:: PREC@1: 0.766702 PREC@2: 0.750795 PREC@3: 0.735949 PREC@4: 0.716596 PREC@5: 0.695864 PREC@6: 0.679215 PREC@7: 0.657931 PREC@8: 0.638123 PREC@9: 0.620007 PREC@10: 0.602121 PREC@11: 0.587776 PREC@12: 0.571492 PREC@13: 0.557631 PREC@14: 0.544008 PREC@15: 0.530223 PREC@16: 0.517564 PREC@17: 0.505521 PREC@18: 0.493284 PREC@19: 0.482614 PREC@20: 0.472853 PREC@21: 0.462657 PREC@22: 0.453581 PREC@23: 0.443635 PREC@24: 0.434076 PREC@25: 0.424942 PREC@26: 0.416918 PREC@27: 0.408507 PREC@28: 0.401265 PREC@29: 0.393608 PREC@30: 0.386285 RECALL@1: 0.093902 RECALL@2: 0.173493 RECALL@3: 0.246768 RECALL@4: 0.309619 RECALL@5: 0.362126 RECALL@6: 0.41057 RECALL@7: 0.44748 RECALL@8: 0.480074 RECALL@9: 0.50725 RECALL@10: 0.531456 RECALL@11: 0.555267 RECALL@12: 0.574708 RECALL@13: 0.593235 RECALL@14: 0.609718 RECALL@15: 0.62425 RECALL@16: 0.637123 RECALL@17: 0.649237 RECALL@18: 0.660193 RECALL@19: 0.670963 RECALL@20: 0.681393 RECALL@21: 0.690151 RECALL@22: 0.699017 RECALL@23: 0.706021 RECALL@24: 0.712669 RECALL@25: 0.719029 RECALL@26: 0.72556 RECALL@27: 0.731159 RECALL@28: 0.737221 RECALL@29: 0.742457 RECALL@30: 0.747318 \n"
     ]
    }
   ],
   "source": [
    "reader = ReadFile(input_file=predictions_output_filepath)\n",
    "predictions = reader.read()\n",
    "eval_results = evaluator.evaluate(predictions['feedback'], model.test_set)   \n",
    "for evaluation in model.evaluation_results.keys():\n",
    "    eval_results[evaluation] = model.evaluation_results[evaluation]\n",
    "os.remove(predictions_output_filepath)"
   ]
  },
  {
   "cell_type": "code",
   "execution_count": 15,
   "metadata": {},
   "outputs": [
    {
     "data": {
      "text/plain": [
       "['.\\\\Outputs\\\\ML100k\\\\ItemKNN\\\\Variables\\\\30_10_2\\\\evaluation_results.joblib']"
      ]
     },
     "execution_count": 15,
     "metadata": {},
     "output_type": "execute_result"
    }
   ],
   "source": [
    "joblib.dump(eval_results, os.path.join(variables_output_folder, 'evaluation_results.joblib'))"
   ]
  },
  {
   "cell_type": "markdown",
   "metadata": {},
   "source": [
    "### Plotting Evaluations"
   ]
  },
  {
   "cell_type": "code",
   "execution_count": 17,
   "metadata": {},
   "outputs": [
    {
     "data": {
      "text/plain": [
       "''"
      ]
     },
     "execution_count": 17,
     "metadata": {},
     "output_type": "execute_result"
    },
    {
     "data": {
      "image/png": "[encoded data removed]",
      "text/plain": [
       "<Figure size 720x720 with 1 Axes>"
      ]
     },
     "metadata": {
      "needs_background": "light"
     },
     "output_type": "display_data"
    }
   ],
   "source": [
    "evaluation_results = joblib.load(os.path.join(variables_output_folder, 'evaluation_results.joblib'))\n",
    "fig, ax = plt.subplots(nrows=1, ncols=1, figsize=(10,10))\n",
    "arr_k = np.arange(1, rank_length+1, 1)\n",
    "for evaluation_name in [m + '@' for m in evaluation_metrics]:\n",
    "    ax.plot(arr_k, [evaluation_results[evaluation_name + str(x)] for x in arr_k], label=evaluation_name + 'k', color=style_dict['evaluations'][evaluation_name + 'k'])\n",
    "ax.text(s='RMSE: {:.02f}\\nMAE: {:.02f}'.format(evaluation_results['RMSE'], evaluation_results['MAE']), \n",
    "        y=0.08, x=18, \n",
    "        fontsize=style_dict['label']['fontsize']-2, \n",
    "        color='black', bbox=dict(facecolor='#1F5A90', alpha=0.5))\n",
    "ax.set_xticks(np.arange(0, np.max(arr_k)+1, 2), minor=False)\n",
    "ax.set_xlabel('Rank k', fontsize = style_dict['label']['fontsize'])\n",
    "ax.tick_params(axis='both', which='major', labelsize=style_dict['tick']['fontsize'])\n",
    "ax.legend()\n",
    "ax.grid(True)\n",
    "\n",
    "filepath = os.path.join(figures_output_folder, 'item_rec_metrics.png')\n",
    "plt.savefig(filepath, bbox_inches = 'tight')\n",
    "bot.send_message(filePath=filepath) if bot_alive else ''"
   ]
  },
  {
   "cell_type": "markdown",
   "metadata": {},
   "source": [
    "## Evaluating on Sparsity Cenarios"
   ]
  },
  {
   "cell_type": "code",
   "execution_count": 18,
   "metadata": {},
   "outputs": [
    {
     "name": "stdout",
     "output_type": "stream",
     "text": [
      "Dataset MovieLens 100k (id_dataset = 1) with 100000 registers\n",
      "Number of sparsity cenarios:  1296\n"
     ]
    },
    {
     "data": {
      "text/html": [
       "<div>\n",
       "<style scoped>\n",
       "    .dataframe tbody tr th:only-of-type {\n",
       "        vertical-align: middle;\n",
       "    }\n",
       "\n",
       "    .dataframe tbody tr th {\n",
       "        vertical-align: top;\n",
       "    }\n",
       "\n",
       "    .dataframe thead th {\n",
       "        text-align: right;\n",
       "    }\n",
       "</style>\n",
       "<table border=\"1\" class=\"dataframe\">\n",
       "  <thead>\n",
       "    <tr style=\"text-align: right;\">\n",
       "      <th></th>\n",
       "      <th>id_sparsity_cenario</th>\n",
       "      <th>uss</th>\n",
       "      <th>iss</th>\n",
       "    </tr>\n",
       "  </thead>\n",
       "  <tbody>\n",
       "    <tr>\n",
       "      <th>0</th>\n",
       "      <td>10759</td>\n",
       "      <td>0.3</td>\n",
       "      <td>0.30</td>\n",
       "    </tr>\n",
       "    <tr>\n",
       "      <th>1</th>\n",
       "      <td>10760</td>\n",
       "      <td>0.3</td>\n",
       "      <td>0.32</td>\n",
       "    </tr>\n",
       "    <tr>\n",
       "      <th>2</th>\n",
       "      <td>10761</td>\n",
       "      <td>0.3</td>\n",
       "      <td>0.34</td>\n",
       "    </tr>\n",
       "    <tr>\n",
       "      <th>3</th>\n",
       "      <td>10762</td>\n",
       "      <td>0.3</td>\n",
       "      <td>0.36</td>\n",
       "    </tr>\n",
       "    <tr>\n",
       "      <th>4</th>\n",
       "      <td>10763</td>\n",
       "      <td>0.3</td>\n",
       "      <td>0.38</td>\n",
       "    </tr>\n",
       "  </tbody>\n",
       "</table>\n",
       "</div>"
      ],
      "text/plain": [
       "   id_sparsity_cenario  uss   iss\n",
       "0                10759  0.3  0.30\n",
       "1                10760  0.3  0.32\n",
       "2                10761  0.3  0.34\n",
       "3                10762  0.3  0.36\n",
       "4                10763  0.3  0.38"
      ]
     },
     "execution_count": 18,
     "metadata": {},
     "output_type": "execute_result"
    }
   ],
   "source": [
    "dataset_info = pd.read_sql(con=conn , sql=\"select * from datasets.dataset where version='{}'\".format(dataset_tag))\n",
    "df_sparsity_cenario = pd.read_sql(con=conn , sql=\"select * from sparsity.cenario\")\n",
    "sql_str = \"select id_user, id_item from sparsity.get_dataset_from_sparsity('{}', 1.0, 1.0)\".format(dataset_tag)\n",
    "df_whole = pd.read_sql(con=conn, sql=sql_str)\n",
    "print (\"Dataset {} (id_dataset = {}) with {} registers\".format(dataset_info['name'][0], dataset_info['id_dataset'][0], df_whole.shape[0]))\n",
    "print (\"Number of sparsity cenarios: \", df_sparsity_cenario.shape[0])\n",
    "df_sparsity_cenario.head()"
   ]
  },
  {
   "cell_type": "code",
   "execution_count": 19,
   "metadata": {},
   "outputs": [
    {
     "data": {
      "text/html": [
       "<div>\n",
       "<style scoped>\n",
       "    .dataframe tbody tr th:only-of-type {\n",
       "        vertical-align: middle;\n",
       "    }\n",
       "\n",
       "    .dataframe tbody tr th {\n",
       "        vertical-align: top;\n",
       "    }\n",
       "\n",
       "    .dataframe thead th {\n",
       "        text-align: right;\n",
       "    }\n",
       "</style>\n",
       "<table border=\"1\" class=\"dataframe\">\n",
       "  <thead>\n",
       "    <tr style=\"text-align: right;\">\n",
       "      <th></th>\n",
       "      <th>id_user_dataset</th>\n",
       "      <th>uss</th>\n",
       "      <th>n_feedback</th>\n",
       "      <th>max_feedback</th>\n",
       "      <th>id_user</th>\n",
       "    </tr>\n",
       "  </thead>\n",
       "  <tbody>\n",
       "    <tr>\n",
       "      <th>363</th>\n",
       "      <td>364</td>\n",
       "      <td>0.972863</td>\n",
       "      <td>20</td>\n",
       "      <td>737</td>\n",
       "      <td>364</td>\n",
       "    </tr>\n",
       "    <tr>\n",
       "      <th>823</th>\n",
       "      <td>824</td>\n",
       "      <td>0.972863</td>\n",
       "      <td>20</td>\n",
       "      <td>737</td>\n",
       "      <td>824</td>\n",
       "    </tr>\n",
       "    <tr>\n",
       "      <th>811</th>\n",
       "      <td>812</td>\n",
       "      <td>0.972863</td>\n",
       "      <td>20</td>\n",
       "      <td>737</td>\n",
       "      <td>812</td>\n",
       "    </tr>\n",
       "    <tr>\n",
       "      <th>241</th>\n",
       "      <td>242</td>\n",
       "      <td>0.972863</td>\n",
       "      <td>20</td>\n",
       "      <td>737</td>\n",
       "      <td>242</td>\n",
       "    </tr>\n",
       "    <tr>\n",
       "      <th>808</th>\n",
       "      <td>809</td>\n",
       "      <td>0.972863</td>\n",
       "      <td>20</td>\n",
       "      <td>737</td>\n",
       "      <td>809</td>\n",
       "    </tr>\n",
       "  </tbody>\n",
       "</table>\n",
       "</div>"
      ],
      "text/plain": [
       "    id_user_dataset       uss  n_feedback  max_feedback  id_user\n",
       "363             364  0.972863          20           737      364\n",
       "823             824  0.972863          20           737      824\n",
       "811             812  0.972863          20           737      812\n",
       "241             242  0.972863          20           737      242\n",
       "808             809  0.972863          20           737      809"
      ]
     },
     "execution_count": 19,
     "metadata": {},
     "output_type": "execute_result"
    }
   ],
   "source": [
    "sql_str = \"\"\"select * from sparsity.get_dataset_uss('{}')\"\"\".format(dataset_tag)\n",
    "df_users_uss = pd.read_sql(con=conn, sql=sql_str)\n",
    "df_users_uss.sort_values(['uss'], ascending=False).head()"
   ]
  },
  {
   "cell_type": "code",
   "execution_count": 20,
   "metadata": {},
   "outputs": [
    {
     "data": {
      "text/html": [
       "<div>\n",
       "<style scoped>\n",
       "    .dataframe tbody tr th:only-of-type {\n",
       "        vertical-align: middle;\n",
       "    }\n",
       "\n",
       "    .dataframe tbody tr th {\n",
       "        vertical-align: top;\n",
       "    }\n",
       "\n",
       "    .dataframe thead th {\n",
       "        text-align: right;\n",
       "    }\n",
       "</style>\n",
       "<table border=\"1\" class=\"dataframe\">\n",
       "  <thead>\n",
       "    <tr style=\"text-align: right;\">\n",
       "      <th></th>\n",
       "      <th>id_item_dataset</th>\n",
       "      <th>iss</th>\n",
       "      <th>n_feedback</th>\n",
       "      <th>max_feedback</th>\n",
       "      <th>id_item</th>\n",
       "    </tr>\n",
       "  </thead>\n",
       "  <tbody>\n",
       "    <tr>\n",
       "      <th>1681</th>\n",
       "      <td>1682</td>\n",
       "      <td>0.998285</td>\n",
       "      <td>1</td>\n",
       "      <td>583</td>\n",
       "      <td>1682</td>\n",
       "    </tr>\n",
       "    <tr>\n",
       "      <th>676</th>\n",
       "      <td>677</td>\n",
       "      <td>0.998285</td>\n",
       "      <td>1</td>\n",
       "      <td>583</td>\n",
       "      <td>677</td>\n",
       "    </tr>\n",
       "    <tr>\n",
       "      <th>710</th>\n",
       "      <td>711</td>\n",
       "      <td>0.998285</td>\n",
       "      <td>1</td>\n",
       "      <td>583</td>\n",
       "      <td>711</td>\n",
       "    </tr>\n",
       "    <tr>\n",
       "      <th>1586</th>\n",
       "      <td>1587</td>\n",
       "      <td>0.998285</td>\n",
       "      <td>1</td>\n",
       "      <td>583</td>\n",
       "      <td>1587</td>\n",
       "    </tr>\n",
       "    <tr>\n",
       "      <th>1585</th>\n",
       "      <td>1586</td>\n",
       "      <td>0.998285</td>\n",
       "      <td>1</td>\n",
       "      <td>583</td>\n",
       "      <td>1586</td>\n",
       "    </tr>\n",
       "  </tbody>\n",
       "</table>\n",
       "</div>"
      ],
      "text/plain": [
       "     id_item_dataset       iss  n_feedback  max_feedback  id_item\n",
       "1681            1682  0.998285           1           583     1682\n",
       "676              677  0.998285           1           583      677\n",
       "710              711  0.998285           1           583      711\n",
       "1586            1587  0.998285           1           583     1587\n",
       "1585            1586  0.998285           1           583     1586"
      ]
     },
     "execution_count": 20,
     "metadata": {},
     "output_type": "execute_result"
    }
   ],
   "source": [
    "sql_str = \"\"\"select * from sparsity.get_dataset_iss('{}')\"\"\".format(dataset_tag)\n",
    "df_items_iss = pd.read_sql(con=conn, sql=sql_str)\n",
    "df_items_iss.sort_values(['iss'], ascending=False).head()"
   ]
  },
  {
   "cell_type": "code",
   "execution_count": 21,
   "metadata": {},
   "outputs": [],
   "source": [
    "uss_limits = df_sparsity_cenario['uss'].unique()\n",
    "iss_limits = df_sparsity_cenario['iss'].unique()"
   ]
  },
  {
   "cell_type": "code",
   "execution_count": 22,
   "metadata": {},
   "outputs": [
    {
     "data": {
      "text/html": [
       "<div>\n",
       "<style scoped>\n",
       "    .dataframe tbody tr th:only-of-type {\n",
       "        vertical-align: middle;\n",
       "    }\n",
       "\n",
       "    .dataframe tbody tr th {\n",
       "        vertical-align: top;\n",
       "    }\n",
       "\n",
       "    .dataframe thead th {\n",
       "        text-align: right;\n",
       "    }\n",
       "</style>\n",
       "<table border=\"1\" class=\"dataframe\">\n",
       "  <thead>\n",
       "    <tr style=\"text-align: right;\">\n",
       "      <th></th>\n",
       "      <th>feedback_value</th>\n",
       "      <th>user</th>\n",
       "      <th>item</th>\n",
       "    </tr>\n",
       "  </thead>\n",
       "  <tbody>\n",
       "    <tr>\n",
       "      <th>0</th>\n",
       "      <td>5</td>\n",
       "      <td>1</td>\n",
       "      <td>1</td>\n",
       "    </tr>\n",
       "    <tr>\n",
       "      <th>1</th>\n",
       "      <td>3</td>\n",
       "      <td>1</td>\n",
       "      <td>2</td>\n",
       "    </tr>\n",
       "    <tr>\n",
       "      <th>2</th>\n",
       "      <td>4</td>\n",
       "      <td>1</td>\n",
       "      <td>3</td>\n",
       "    </tr>\n",
       "  </tbody>\n",
       "</table>\n",
       "</div>"
      ],
      "text/plain": [
       "   feedback_value  user  item\n",
       "0               5     1     1\n",
       "1               3     1     2\n",
       "2               4     1     3"
      ]
     },
     "execution_count": 22,
     "metadata": {},
     "output_type": "execute_result"
    }
   ],
   "source": [
    "df_ratings.head(3)"
   ]
  },
  {
   "cell_type": "code",
   "execution_count": 23,
   "metadata": {},
   "outputs": [
    {
     "name": "stdout",
     "output_type": "stream",
     "text": [
      "Input sparsity cenario dataframe shape:  (130, 5)\n"
     ]
    },
    {
     "data": {
      "text/html": [
       "<div>\n",
       "<style scoped>\n",
       "    .dataframe tbody tr th:only-of-type {\n",
       "        vertical-align: middle;\n",
       "    }\n",
       "\n",
       "    .dataframe tbody tr th {\n",
       "        vertical-align: top;\n",
       "    }\n",
       "\n",
       "    .dataframe thead th {\n",
       "        text-align: right;\n",
       "    }\n",
       "</style>\n",
       "<table border=\"1\" class=\"dataframe\">\n",
       "  <thead>\n",
       "    <tr style=\"text-align: right;\">\n",
       "      <th></th>\n",
       "      <th>uss_limit</th>\n",
       "      <th>iss_limit</th>\n",
       "      <th>os</th>\n",
       "      <th>num_users</th>\n",
       "      <th>num_items</th>\n",
       "    </tr>\n",
       "  </thead>\n",
       "  <tbody>\n",
       "    <tr>\n",
       "      <th>0</th>\n",
       "      <td>0.98</td>\n",
       "      <td>1.00</td>\n",
       "      <td>0.936953</td>\n",
       "      <td>943.0</td>\n",
       "      <td>1682.0</td>\n",
       "    </tr>\n",
       "    <tr>\n",
       "      <th>1</th>\n",
       "      <td>0.88</td>\n",
       "      <td>1.00</td>\n",
       "      <td>0.881747</td>\n",
       "      <td>389.0</td>\n",
       "      <td>1682.0</td>\n",
       "    </tr>\n",
       "    <tr>\n",
       "      <th>2</th>\n",
       "      <td>0.92</td>\n",
       "      <td>0.98</td>\n",
       "      <td>0.850611</td>\n",
       "      <td>503.0</td>\n",
       "      <td>1099.0</td>\n",
       "    </tr>\n",
       "    <tr>\n",
       "      <th>3</th>\n",
       "      <td>0.98</td>\n",
       "      <td>0.88</td>\n",
       "      <td>0.827987</td>\n",
       "      <td>943.0</td>\n",
       "      <td>465.0</td>\n",
       "    </tr>\n",
       "    <tr>\n",
       "      <th>4</th>\n",
       "      <td>0.96</td>\n",
       "      <td>0.90</td>\n",
       "      <td>0.811508</td>\n",
       "      <td>744.0</td>\n",
       "      <td>546.0</td>\n",
       "    </tr>\n",
       "  </tbody>\n",
       "</table>\n",
       "</div>"
      ],
      "text/plain": [
       "   uss_limit  iss_limit        os  num_users  num_items\n",
       "0       0.98       1.00  0.936953      943.0     1682.0\n",
       "1       0.88       1.00  0.881747      389.0     1682.0\n",
       "2       0.92       0.98  0.850611      503.0     1099.0\n",
       "3       0.98       0.88  0.827987      943.0      465.0\n",
       "4       0.96       0.90  0.811508      744.0      546.0"
      ]
     },
     "execution_count": 23,
     "metadata": {},
     "output_type": "execute_result"
    }
   ],
   "source": [
    "df_overall_sparsity = pd.read_csv(os.path.join('.', 'Outputs', dataset_tag, 'OS', 'Variables', 'df_overall_sparsity.tsv'), sep = '\\t', header = 0)\n",
    "if partition is not None:\n",
    "    df_overall_sparsity = partition_dataframe(df=df_overall_sparsity, nodes=nodes, sort_by='os', ascending=False)[partition-1].reset_index(drop = True)\n",
    "print (\"Input sparsity cenario dataframe shape: \", df_overall_sparsity.shape)\n",
    "df_overall_sparsity.head()"
   ]
  },
  {
   "cell_type": "code",
   "execution_count": 24,
   "metadata": {},
   "outputs": [],
   "source": [
    "def get_evaluation_results(model, df_train, df_test, rank_length, uss_limit = None, iss_limit = None):\n",
    "    predictions_output_filepath = './predictions_output_' + ''.join(choice(ascii_uppercase) for i in range(12)) + '.dat'\n",
    "    \n",
    "    model = ItemKNN(train_file=df_train, test_file=df_test, k_neighbors=30, output_file = predictions_output_filepath)\n",
    "    model.compute(verbose=False)    \n",
    "    \n",
    "    predictions = ReadFile(input_file=predictions_output_filepath).read()\n",
    "    eval_results = evaluator.evaluate(predictions['feedback'], model.test_set)   \n",
    "    for evaluation in model.evaluation_results.keys():\n",
    "        eval_results[evaluation] = model.evaluation_results[evaluation]\n",
    "    os.remove(predictions_output_filepath)\n",
    "    \n",
    "    evaluation_results = pd.DataFrame.from_dict(data=eval_results, orient='index').T\n",
    "    if (uss_limit is not None and iss_limit is not None):\n",
    "        evaluation_results['iss'] = [iss_limit]\n",
    "        evaluation_results['uss'] = [uss_limit]\n",
    "    return evaluation_results"
   ]
  },
  {
   "cell_type": "code",
   "execution_count": 25,
   "metadata": {
    "tags": [
     "main_analysis"
    ]
   },
   "outputs": [
    {
     "name": "stdout",
     "output_type": "stream",
     "text": [
      "[0:42:07][####################] 99.23% Processing folder 1/5...\n",
      "\n",
      "Eval:: MAE: 0.828557 RMSE: 1.049811 \n",
      "Eval:: PREC@1: 0.777778 PREC@2: 0.722222 PREC@3: 0.703704 PREC@4: 0.694444 PREC@5: 0.6 PREC@6: 0.537037 PREC@7: 0.492063 PREC@8: 0.458333 PREC@9: 0.407407 PREC@10: 0.366667 PREC@11: 0.333333 PREC@12: 0.305556 PREC@13: 0.282051 PREC@14: 0.261905 PREC@15: 0.244444 PREC@16: 0.229167 PREC@17: 0.215686 PREC@18: 0.203704 PREC@19: 0.192982 PREC@20: 0.183333 PREC@21: 0.174603 PREC@22: 0.166667 PREC@23: 0.15942 PREC@24: 0.152778 PREC@25: 0.146667 PREC@26: 0.141026 PREC@27: 0.135802 PREC@28: 0.130952 PREC@29: 0.126437 PREC@30: 0.122222 RECALL@1: 0.172354 RECALL@2: 0.316931 RECALL@3: 0.452249 RECALL@4: 0.587566 RECALL@5: 0.619974 RECALL@6: 0.649735 RECALL@7: 0.679497 RECALL@8: 0.709259 RECALL@9: 0.709259 RECALL@10: 0.709259 RECALL@11: 0.709259 RECALL@12: 0.709259 RECALL@13: 0.709259 RECALL@14: 0.709259 RECALL@15: 0.709259 RECALL@16: 0.709259 RECALL@17: 0.709259 RECALL@18: 0.709259 RECALL@19: 0.709259 RECALL@20: 0.709259 RECALL@21: 0.709259 RECALL@22: 0.709259 RECALL@23: 0.709259 RECALL@24: 0.709259 RECALL@25: 0.709259 RECALL@26: 0.709259 RECALL@27: 0.709259 RECALL@28: 0.709259 RECALL@29: 0.709259 RECALL@30: 0.709259 \n",
      "Processing folder 2/5...\n",
      "\n",
      "Eval:: MAE: 0.932272 RMSE: 1.260242 \n",
      "Eval:: PREC@1: 0.666667 PREC@2: 0.555556 PREC@3: 0.592593 PREC@4: 0.555556 PREC@5: 0.488889 PREC@6: 0.462963 PREC@7: 0.412698 PREC@8: 0.375 PREC@9: 0.333333 PREC@10: 0.3 PREC@11: 0.272727 PREC@12: 0.25 PREC@13: 0.230769 PREC@14: 0.214286 PREC@15: 0.2 PREC@16: 0.1875 PREC@17: 0.176471 PREC@18: 0.166667 PREC@19: 0.157895 PREC@20: 0.15 PREC@21: 0.142857 PREC@22: 0.136364 PREC@23: 0.130435 PREC@24: 0.125 PREC@25: 0.12 PREC@26: 0.115385 PREC@27: 0.111111 PREC@28: 0.107143 PREC@29: 0.103448 PREC@30: 0.1 RECALL@1: 0.175 RECALL@2: 0.266667 RECALL@3: 0.487963 RECALL@4: 0.561111 RECALL@5: 0.593519 RECALL@6: 0.648148 RECALL@7: 0.662037 RECALL@8: 0.675926 RECALL@9: 0.675926 RECALL@10: 0.675926 RECALL@11: 0.675926 RECALL@12: 0.675926 RECALL@13: 0.675926 RECALL@14: 0.675926 RECALL@15: 0.675926 RECALL@16: 0.675926 RECALL@17: 0.675926 RECALL@18: 0.675926 RECALL@19: 0.675926 RECALL@20: 0.675926 RECALL@21: 0.675926 RECALL@22: 0.675926 RECALL@23: 0.675926 RECALL@24: 0.675926 RECALL@25: 0.675926 RECALL@26: 0.675926 RECALL@27: 0.675926 RECALL@28: 0.675926 RECALL@29: 0.675926 RECALL@30: 0.675926 \n",
      "Processing folder 3/5...\n",
      "\n",
      "Eval:: MAE: 0.847692 RMSE: 1.158815 \n",
      "Eval:: PREC@1: 0.555556 PREC@2: 0.611111 PREC@3: 0.555556 PREC@4: 0.583333 PREC@5: 0.577778 PREC@6: 0.537037 PREC@7: 0.492063 PREC@8: 0.444444 PREC@9: 0.407407 PREC@10: 0.388889 PREC@11: 0.363636 PREC@12: 0.342593 PREC@13: 0.316239 PREC@14: 0.293651 PREC@15: 0.274074 PREC@16: 0.256944 PREC@17: 0.24183 PREC@18: 0.228395 PREC@19: 0.216374 PREC@20: 0.205556 PREC@21: 0.195767 PREC@22: 0.186869 PREC@23: 0.178744 PREC@24: 0.171296 PREC@25: 0.164444 PREC@26: 0.15812 PREC@27: 0.152263 PREC@28: 0.146825 PREC@29: 0.141762 PREC@30: 0.137037 RECALL@1: 0.091667 RECALL@2: 0.211111 RECALL@3: 0.280556 RECALL@4: 0.4 RECALL@5: 0.491667 RECALL@6: 0.533333 RECALL@7: 0.556481 RECALL@8: 0.565741 RECALL@9: 0.575 RECALL@10: 0.598148 RECALL@11: 0.607407 RECALL@12: 0.616667 RECALL@13: 0.616667 RECALL@14: 0.616667 RECALL@15: 0.616667 RECALL@16: 0.616667 RECALL@17: 0.616667 RECALL@18: 0.616667 RECALL@19: 0.616667 RECALL@20: 0.616667 RECALL@21: 0.616667 RECALL@22: 0.616667 RECALL@23: 0.616667 RECALL@24: 0.616667 RECALL@25: 0.616667 RECALL@26: 0.616667 RECALL@27: 0.616667 RECALL@28: 0.616667 RECALL@29: 0.616667 RECALL@30: 0.616667 \n",
      "Processing folder 4/5...\n",
      "\n",
      "Eval:: MAE: 0.793011 RMSE: 0.983732 \n",
      "Eval:: PREC@1: 0.666667 PREC@2: 0.666667 PREC@3: 0.62963 PREC@4: 0.611111 PREC@5: 0.6 PREC@6: 0.574074 PREC@7: 0.507937 PREC@8: 0.458333 PREC@9: 0.407407 PREC@10: 0.377778 PREC@11: 0.353535 PREC@12: 0.333333 PREC@13: 0.307692 PREC@14: 0.285714 PREC@15: 0.266667 PREC@16: 0.25 PREC@17: 0.235294 PREC@18: 0.222222 PREC@19: 0.210526 PREC@20: 0.2 PREC@21: 0.190476 PREC@22: 0.181818 PREC@23: 0.173913 PREC@24: 0.166667 PREC@25: 0.16 PREC@26: 0.153846 PREC@27: 0.148148 PREC@28: 0.142857 PREC@29: 0.137931 PREC@30: 0.133333 RECALL@1: 0.200265 RECALL@2: 0.444974 RECALL@3: 0.534127 RECALL@4: 0.62328 RECALL@5: 0.740212 RECALL@6: 0.801587 RECALL@7: 0.812698 RECALL@8: 0.82381 RECALL@9: 0.82381 RECALL@10: 0.834921 RECALL@11: 0.846032 RECALL@12: 0.857143 RECALL@13: 0.857143 RECALL@14: 0.857143 RECALL@15: 0.857143 RECALL@16: 0.857143 RECALL@17: 0.857143 RECALL@18: 0.857143 RECALL@19: 0.857143 RECALL@20: 0.857143 RECALL@21: 0.857143 RECALL@22: 0.857143 RECALL@23: 0.857143 RECALL@24: 0.857143 RECALL@25: 0.857143 RECALL@26: 0.857143 RECALL@27: 0.857143 RECALL@28: 0.857143 RECALL@29: 0.857143 RECALL@30: 0.857143 \n",
      "Processing folder 5/5...\n",
      "\n",
      "Eval:: MAE: 0.76491 RMSE: 1.054078 \n",
      "Eval:: PREC@1: 0.555556 PREC@2: 0.611111 PREC@3: 0.592593 PREC@4: 0.527778 PREC@5: 0.511111 PREC@6: 0.481481 PREC@7: 0.460317 PREC@8: 0.416667 PREC@9: 0.37037 PREC@10: 0.333333 PREC@11: 0.30303 PREC@12: 0.277778 PREC@13: 0.25641 PREC@14: 0.238095 PREC@15: 0.222222 PREC@16: 0.208333 PREC@17: 0.196078 PREC@18: 0.185185 PREC@19: 0.175439 PREC@20: 0.166667 PREC@21: 0.15873 PREC@22: 0.151515 PREC@23: 0.144928 PREC@24: 0.138889 PREC@25: 0.133333 PREC@26: 0.128205 PREC@27: 0.123457 PREC@28: 0.119048 PREC@29: 0.114943 PREC@30: 0.111111 RECALL@1: 0.141975 RECALL@2: 0.306173 RECALL@3: 0.498148 RECALL@4: 0.560494 RECALL@5: 0.669136 RECALL@6: 0.722222 RECALL@7: 0.780864 RECALL@8: 0.79321 RECALL@9: 0.79321 RECALL@10: 0.79321 RECALL@11: 0.79321 RECALL@12: 0.79321 RECALL@13: 0.79321 RECALL@14: 0.79321 RECALL@15: 0.79321 RECALL@16: 0.79321 RECALL@17: 0.79321 RECALL@18: 0.79321 RECALL@19: 0.79321 RECALL@20: 0.79321 RECALL@21: 0.79321 RECALL@22: 0.79321 RECALL@23: 0.79321 RECALL@24: 0.79321 RECALL@25: 0.79321 RECALL@26: 0.79321 RECALL@27: 0.79321 RECALL@28: 0.79321 RECALL@29: 0.79321 RECALL@30: 0.79321 \n",
      "Finished creating sparsity datasets [partition = 2] for\tML100k in\t0:42:07\n",
      "Wall time: 42min 9s\n"
     ]
    }
   ],
   "source": [
    "%%time\n",
    "write_log(filepath=os.path.join(variables_output_folder, 'log.txt'), \n",
    "          mode=\"w+\", \n",
    "          text='[{}]\\tUSS \\tISS \\tIndex\\tPerc\\tFolder\\n'.format(time.strftime(\"%Y-%m-%d %H:%M:%S\", time.gmtime())))    \n",
    "\n",
    "arr_k = np.arange(1, rank_length+1, 1)\n",
    "arr_df_eval_metadata = np.repeat(None, 1) if n_folds == None else np.repeat(None, n_folds)\n",
    "first_value = [True] if n_folds == None else np.repeat(True, n_folds)\n",
    "kf = None if n_folds == None else KFold(n_splits=n_folds, random_state=random_state) \n",
    "# for uss_index, uss_limit in enumerate(uss_limits):\n",
    "#     for iss_limit in iss_limits:   \n",
    "for index, cenario in df_overall_sparsity.iterrows():\n",
    "    clear_output()\n",
    "    progbar.update_progress(index/float(df_overall_sparsity.shape[0]))   \n",
    "\n",
    "    start_time = time.time()\n",
    "    df_ratings = db.get_dataset_from_sparsity(conn=conn, dataset_tag=dataset_tag,                                               \n",
    "                                              iss=cenario['iss_limit'], \n",
    "                                              uss=cenario['uss_limit'])\n",
    "\n",
    "    df_ratings.drop(['user', 'item', 'timestamp'], axis=1, inplace=True)    \n",
    "    df_ratings[['feedback_value']] = df_ratings[['feedback_value']].apply(pd.to_numeric)\n",
    "    df_ratings.columns = ['feedback_value', 'user', 'item']    \n",
    "    \n",
    "    if n_folds == None:\n",
    "        df_train, df_test = train_test_split(df_ratings, test_size=0.3, random_state=random_state)\n",
    "        evaluation_results = get_evaluation_results(model, df_train, df_test, rank_length, cenario['uss_limit'], cenario['iss_limit'])            \n",
    "        elapsed_time = time.time() - start_time\n",
    "        evaluation_results['elapsed_time'] = [elapsed_time]\n",
    "        \n",
    "        if (first_value[0]):            \n",
    "            first_value[0] = False\n",
    "            arr_df_eval_metadata[0] = evaluation_results.copy()    \n",
    "        else:\n",
    "            arr_df_eval_metadata[0] = arr_df_eval_metadata[0].append(evaluation_results)    \n",
    "        write_log(filepath=os.path.join(variables_output_folder, 'log.txt'), \n",
    "                  text='[{}]\\t{:.02f}\\t{:.02f}\\t{}/{}\\t{:.02f}%\\t{}/{}\\n'.format(time.strftime(\"%Y-%m-%d %H:%M:%S\", time.gmtime()), \n",
    "                                                                                 cenario['uss_limit'], \n",
    "                                                                                 cenario['iss_limit'], \n",
    "                                                                                 index+1, \n",
    "                                                                                 df_overall_sparsity.shape[0], \n",
    "                                                                                 100*(index/float(df_overall_sparsity.shape[0])), \n",
    "                                                                                 1, \n",
    "                                                                                 1)\n",
    "                 )\n",
    "    else:\n",
    "        \n",
    "        index_folder = 1\n",
    "        # Tentar fazer um shuffle e voltar com essa estrategia\n",
    "#         for train_index, test_index in kf.split(df_ratings):              \n",
    "#             df_train, df_test = df_ratings.iloc[train_index], df_ratings.iloc[test_index]            \n",
    "\n",
    "        for index_folder in np.arange(1, n_folds+1, 1):\n",
    "            df_train, df_test = train_test_split(df_ratings, test_size=0.3, random_state=random_state+10*index_folder-1)\n",
    "            \n",
    "            print (\"Processing folder {}/{}...\\n\".format(index_folder, n_folds))\n",
    "            evaluation_results = get_evaluation_results(model, df_train, df_test, rank_length, cenario['uss_limit'], cenario['iss_limit'])            \n",
    "            elapsed_time = time.time() - start_time\n",
    "            evaluation_results['elapsed_time'] = [elapsed_time]\n",
    "\n",
    "            if (first_value[index_folder-1]):            \n",
    "                first_value[index_folder-1] = False\n",
    "    #             df_eval_metadata = evaluation_results.copy()\n",
    "                arr_df_eval_metadata[index_folder-1] = evaluation_results.copy()\n",
    "            else:\n",
    "                arr_df_eval_metadata[index_folder-1] = arr_df_eval_metadata[index_folder-1].append(evaluation_results)    \n",
    "            write_log(filepath=os.path.join(variables_output_folder, 'log.txt'), \n",
    "                      text='[{}]\\t{:.02f}\\t{:.02f}\\t{}/{}\\t{:.02f}%\\t{}/{}\\n'.format(time.strftime(\"%Y-%m-%d %H:%M:%S\", time.gmtime()), \n",
    "                                                                                     cenario['uss_limit'], \n",
    "                                                                                     cenario['iss_limit'], \n",
    "                                                                                     index+1, \n",
    "                                                                                     df_overall_sparsity.shape[0], \n",
    "                                                                                     100*(index/float(df_overall_sparsity.shape[0])), \n",
    "                                                                                     index_folder, \n",
    "                                                                                     n_folds)\n",
    "                     )\n",
    "            index_folder += 1\n",
    "\n",
    "for index, df_eval_metadata in enumerate(arr_df_eval_metadata):\n",
    "    folder_name = '1_1' if n_folds == None else str(n_folds) + '_' + str(index+1)\n",
    "    df_eval_metadata.reset_index(drop = True, inplace=True)\n",
    "    df_eval_metadata.to_csv(os.path.join(variables_output_folder, 'df_eval_metadata_fold{}.tsv'.format(folder_name)), sep = '\\t', header = True, index = False)\n",
    "text = \"Finished creating sparsity datasets [partition = {}] for\\t{} in\\t{}\".format(partition, dataset_tag, progbar.get_elapsed_time())\n",
    "bot.send_message(text=text) if bot_alive else ''       \n",
    "write_log(filepath=os.path.join(variables_output_folder, 'log.txt'), text=text)\n",
    "print (text)"
   ]
  },
  {
   "cell_type": "code",
   "execution_count": null,
   "metadata": {},
   "outputs": [],
   "source": [
    "print (\"Variables saved @ \", variables_output_folder)\n",
    "bot.send_message(text=\"End of analysis for the {} dataset\\n{}\".format(dataset_tag, '-'*20)) if bot_alive else ''"
   ]
  },
  {
   "cell_type": "markdown",
   "metadata": {},
   "source": [
    "_________________"
   ]
  },
  {
   "cell_type": "code",
   "execution_count": null,
   "metadata": {},
   "outputs": [],
   "source": [
    "# df_eval_metadata = pd.read_csv(os.path.join(variables_output_folder, 'df_eval_metadata.tsv'), sep = '\\t', header = 0)"
   ]
  },
  {
   "cell_type": "code",
   "execution_count": null,
   "metadata": {},
   "outputs": [],
   "source": [
    "# df_eval_metadata.head()"
   ]
  },
  {
   "cell_type": "code",
   "execution_count": null,
   "metadata": {},
   "outputs": [],
   "source": [
    "# uss_limits = np.sort(np.array(df_eval_metadata['uss'].unique()))\n",
    "# iss_limits = np.sort(np.array(df_eval_metadata['iss'].unique()))\n",
    "# rank_lengths = np.arange(1, rank_length+1, 1) # Setting extra rank analysis\n",
    "\n",
    "# for rank in rank_lengths:\n",
    "#     arr_rank_metrics = [m + '@' + str(rank) for m in evaluation_metrics]\n",
    "#     for column in arr_rank_metrics:\n",
    "#         arr_metric = np.zeros([len(uss_limits), len(iss_limits)])\n",
    "#         for uss_index, uss_limit in enumerate(uss_limits):\n",
    "#             for iss_index, iss_limit in enumerate(iss_limits):            \n",
    "#                 arr_metric[uss_index, iss_index] = df_eval_metadata[(df_eval_metadata['uss'] == uss_limit) & (df_eval_metadata['iss'] == iss_limit)][column].reset_index(drop = True)[0]\n",
    "\n",
    "#         joblib.dump(arr_metric, os.path.join(variables_output_folder, 'arr_' + column.lower() + '_' + model_tag + '.joblib'))        "
   ]
  },
  {
   "cell_type": "markdown",
   "metadata": {},
   "source": [
    "## Plotting Results from Sparsity Cenarios"
   ]
  },
  {
   "cell_type": "code",
   "execution_count": null,
   "metadata": {},
   "outputs": [],
   "source": [
    "# cmapping = \"jet\"\n",
    "# tick_step = 5\n",
    "# figs = dict()\n",
    "# for metric in evaluation_metrics:\n",
    "#     figs[metric+'@'] = list()\n",
    "\n",
    "# for rank in rank_lengths:\n",
    "#     arr_rank_metrics = [m + '@' + str(rank) for m in evaluation_metrics]\n",
    "#     for column in arr_rank_metrics:\n",
    "#         arr_prec = joblib.load(os.path.join(variables_output_folder, 'arr_' + column.lower() + '_' + model_tag + '.joblib'))        \n",
    "\n",
    "#         fig, ax = plt.subplots(figsize=(style_dict['figure']['width'],style_dict['figure']['height']))    \n",
    "#         cax = plt.imshow(arr_prec, cmap=cmapping)\n",
    "#         plt.gca().invert_yaxis()\n",
    "#         cbar = plt.colorbar(cax, ticks = [x/100.0 for x in np.arange(0,1000,10)], shrink = 0.83)\n",
    "\n",
    "#         ax.set_xticklabels(uss_limits[0:len(uss_limits):tick_step])\n",
    "#         ax.set_yticklabels(iss_limits[0:len(uss_limits):tick_step])\n",
    "#         ax.set_xticks(np.arange(0, len(uss_limits), tick_step))    \n",
    "#         ax.set_yticks(np.arange(0, len(iss_limits), tick_step))    \n",
    "#         ax.set_xlabel('Last User Specific Sparsity', fontsize = style_dict['label']['fontsize'])\n",
    "#         ax.set_ylabel('Last Item Specific Sparsity', fontsize = style_dict['label']['fontsize'])    \n",
    "#         ax.tick_params(axis='both', which='major', labelsize=style_dict['tick']['fontsize'])\n",
    "#         cbar.set_label(column.title(), labelpad=-50,  y=1.08, rotation=0, fontsize = style_dict['label']['fontsize'])\n",
    "#         cbar.ax.tick_params(labelsize = style_dict['tick']['fontsize'])\n",
    "#         plt.clim(0, 1)\n",
    "#         plt.xticks(rotation = 'vertical')\n",
    "\n",
    "#         filename = '2d-' + column + '.png'       \n",
    "#         fig.savefig(os.path.join(figures_output_folder, filename), bbox_inches = 'tight')\n",
    "        \n",
    "#         fig.set_animated(True)\n",
    "#         figs[re.split(\"\\d\", column)[0]].append(fig)        \n",
    "#         if rank == rank_length: # Send only the target-analysis\n",
    "#             bot.send_message(filePath=os.path.join(figures_output_folder, filename)) if bot_alive else ''"
   ]
  },
  {
   "cell_type": "code",
   "execution_count": null,
   "metadata": {},
   "outputs": [],
   "source": [
    "\n",
    "\n",
    "# for metric in evaluation_metrics:    \n",
    "#     filepaths = [os.path.join(figures_output_folder, '2d-' + column + '.png' ) for column in [metric + '@' + str(rank) for rank in rank_lengths]]\n",
    "#     output_filepath = os.path.join(figures_output_folder, '2d-' + metric + '@k' + '.gif' )\n",
    "#     create_gif(filepaths, output_filepath, duration=0.2)"
   ]
  },
  {
   "cell_type": "code",
   "execution_count": null,
   "metadata": {},
   "outputs": [],
   "source": [
    "# from IPython import display\n",
    "# # display.HTML('<img src=\"{}\">'.format(output_filepath))"
   ]
  },
  {
   "cell_type": "code",
   "execution_count": null,
   "metadata": {},
   "outputs": [],
   "source": []
  },
  {
   "cell_type": "code",
   "execution_count": null,
   "metadata": {},
   "outputs": [],
   "source": [
    "# show_metric = lambda metric, k: figs[metric + '@'][int(k)-1]\n",
    "# interact(show_metric, k=widgets.IntSlider(min=1, max=rank_length, step=1, value=10), figs=figs, metric=evaluation_metrics)"
   ]
  },
  {
   "cell_type": "markdown",
   "metadata": {},
   "source": [
    "__________"
   ]
  }
 ],
 "metadata": {
  "kernelspec": {
   "display_name": "Python 3",
   "language": "python",
   "name": "python3"
  },
  "language_info": {
   "codemirror_mode": {
    "name": "ipython",
    "version": 3
   },
   "file_extension": ".py",
   "mimetype": "text/x-python",
   "name": "python",
   "nbconvert_exporter": "python",
   "pygments_lexer": "ipython3",
   "version": "3.7.3"
  }
 },
 "nbformat": 4,
 "nbformat_minor": 2
}
