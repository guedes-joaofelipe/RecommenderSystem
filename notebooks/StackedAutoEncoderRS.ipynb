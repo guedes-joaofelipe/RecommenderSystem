{
 "cells": [
  {
   "cell_type": "code",
   "execution_count": 9,
   "metadata": {},
   "outputs": [],
   "source": [
    "# Importing Necessary Libs\n",
    "from sklearn.model_selection import train_test_split\n",
    "from sklearn.preprocessing import MinMaxScaler\n",
    "from keras.models import Sequential, load_model\n",
    "from keras.layers import Dense\n",
    "from keras import optimizers\n",
    "from keras.callbacks import ModelCheckpoint, EarlyStopping\n",
    "from sklearn.metrics import mean_absolute_error, mean_squared_error \n",
    "\n",
    "# Importing Extra Libs\n",
    "import sys, os\n",
    "import time\n",
    "import numpy as np\n",
    "import pandas as pd\n",
    "import matplotlib.pyplot as plt"
   ]
  },
  {
   "cell_type": "markdown",
   "metadata": {},
   "source": [
    "<h1>Creating Extra Evaluating Metrics</h1>"
   ]
  },
  {
   "cell_type": "code",
   "execution_count": 10,
   "metadata": {},
   "outputs": [],
   "source": [
    "def MRRE(matrix, predicted_matrix):\n",
    "    sum_error = 0;\n",
    "    eval_quantity = 0;\n",
    "    \n",
    "    for i in xrange(len(matrix)):\n",
    "        for j in xrange(len(matrix[i])):\n",
    "            if matrix[i][j] != 0:                \n",
    "                sum_error += (matrix[i][j]-predicted_matrix[i][j])**2;\n",
    "                eval_quantity += 1;\n",
    "    \n",
    "    return sqrt(sum_error/float(eval_quantity));\n",
    "\n",
    "def RMSE(matrix, predicted_matrix):\n",
    "    return sqrt(mean_squared_error(R, R_predicted))\n"
   ]
  },
  {
   "cell_type": "markdown",
   "metadata": {},
   "source": [
    "<h1>Creating SAE Class for a Recommender System</h1>"
   ]
  },
  {
   "cell_type": "code",
   "execution_count": 5,
   "metadata": {},
   "outputs": [],
   "source": [
    "class SAE:\n",
    "\n",
    "    def __init__(self, input_matrix,\n",
    "                 numNeurons = 16,                  \n",
    "                 loss_metric = 'mse',\n",
    "                 learning_rate = 0.001):\n",
    "        \n",
    "        # Always call base method before doing anything.\n",
    "        self.input_matrix = input_matrix;\n",
    "        self.num_neurons = numNeurons;                        \n",
    "        self.loss_metric = loss_metric;\n",
    "        self.learning_rate = learning_rate;  \n",
    "        self.cv_metrics_values = {};\n",
    "        \n",
    "    def fit(self, verbose = False):\n",
    "        \n",
    "        # Splitting train and test set\n",
    "        self.x_train, self.x_test = train_test_split(self.input_matrix);\n",
    "        \n",
    "        # Scaling input to range (-1,1)\n",
    "        self.xNormScaler = MinMaxScaler(feature_range = (-1,1))\n",
    "        self.xNormScaler.fit(x_train)\n",
    "\n",
    "        self.x_norm_train = self.xNormScaler.transform(self.x_train)\n",
    "        self.x_norm_test = self.xNormScaler.transform(self.x_test)\n",
    "\n",
    "        #Setting autoencoder\n",
    "        self.inputDim = self.x_norm_train.shape[1] #Number of items\n",
    "\n",
    "        self.autoencoder = Sequential([\n",
    "                                  Dense(num_neurons, activation = 'selu', kernel_initializer = 'uniform', input_dim = inputDim),\n",
    "                                  Dense(inputDim, activation = 'tanh', kernel_initializer = 'uniform')\n",
    "                                 ])\n",
    "\n",
    "        #SGD = optimizers.SGD(lr=0.5, momentum=0.00, decay=0.0, nesterov=False)\n",
    "        #Adam = optimizers.Adam(lr=0.0005, decay = 0.00001)\n",
    "        self.Adam = optimizers.Adam(lr = self.learning_rate)\n",
    "\n",
    "        self.autoencoder.compile(optimizer = self.Adam, loss = self.loss_metric, metrics=['mae'])\n",
    "        #autoencoder.summary()\n",
    "        \n",
    "            self.earlyStopping = EarlyStopping(monitor = 'val_loss', patience = 10, mode = 'auto')\n",
    "\n",
    "            time_zero = time.time()\n",
    "\n",
    "            self.fitHistory = self.autoencoder.fit(\n",
    "                                        self.x_norm_train, \n",
    "                                        self.x_norm_train, \n",
    "                                        epochs = 2000,\n",
    "                                        verbose = 0,\n",
    "                                        shuffle = True,\n",
    "                                        validation_data = (self.x_norm_test, self.x_norm_test), \n",
    "                                        callbacks = [earlyStopping])\n",
    "\n",
    "            self.predicted_matrix = self.predict(self.input_matrix);\n",
    "        \n",
    "        \n",
    "        print('Time to fit model: '+str(time.time()-time_zero)+' seconds')\n",
    "        \n",
    "        return self    \n",
    "        \n",
    "    def cross_validate(self, n_folds = 10, metrics = ['rmse', 'mae', 'mrre'], verbose = True):\n",
    "        for metric in metrics:\n",
    "            self.cv_metrics_values[metric] = [];\n",
    "        \n",
    "        for i in xrange(n_folds):\n",
    "            time_zero = time.time();\n",
    "            self.fit(self.input_matrix);            \n",
    "            fold_mae = self.evaluate('mae');\n",
    "            fold_rmse = self.evaluate('rmse');\n",
    "            fold_mrre = self.evaluate('mrre');\n",
    "            self.cv_metrics_values['rmse'].append(fold_rmse)\n",
    "            self.cv_metrics_values['mae'].append(fold_mae)\n",
    "            self.cv_metrics_values['mrre'].append(fold_mrre)\n",
    "            \n",
    "            \n",
    "            print (\"Elapsed time for fold \" + str(i) + \": \", time.time()-time_zero)\n",
    "        \n",
    "        return self.cv_metrics_values;\n",
    "        \n",
    "    def evaluate(self, metric = 'rmse'):\n",
    "        \n",
    "        if metric == 'rmse':\n",
    "            return sqrt(mean_squared_error(self.input_matrix, self.predict(self.input_matrix)));\n",
    "        elif metric == 'mae':\n",
    "            return mean_absolute_error (self.input_matrix, self.predict(self.input_matrix));\n",
    "        elif metric == 'mrre':\n",
    "            return MRRE(self.input_matrix, self.predict(self.input_matrix))\n",
    "        \n",
    "        else:\n",
    "            return \"Invalid Metric: \" + str(metric);\n",
    "        \n",
    "        \n",
    "    def predict(self, matrix):\n",
    "        # Creating scaler model\n",
    "        matrix_norm_scaler = MinMaxScaler(feature_range = (-1,1));        \n",
    "        \n",
    "        # Fitting scaler model\n",
    "        matrix_norm_scaler.fit(matrix);        \n",
    "        \n",
    "        # Creating normalized matrix\n",
    "        matrix_norm = matrix_norm_scaler.transform(matrix);\n",
    "\n",
    "        # Predicting output for normalized input matrix\n",
    "        output = self.autoencoder.predict(matrix_norm);\n",
    "\n",
    "        # Denormalizing output\n",
    "        output_denormal = matrix_norm_scaler.inverse_transform(output);\n",
    "\n",
    "        # Rounding denormalized output to nearest integer\n",
    "        matrix_predicted = np.rint(output_denormal);\n",
    "        \n",
    "        return matrix_predicted\n",
    "\n",
    "        #print R_predicted\n",
    "        \n",
    "    def estimate(self, u, i): # Estimates an evaluation from a given user to an item        \n",
    "        return self.predicted_matrix[u][i]\n",
    "    \n"
   ]
  },
  {
   "cell_type": "markdown",
   "metadata": {},
   "source": [
    "<h1>Testing SAE Class</h1>"
   ]
  },
  {
   "cell_type": "markdown",
   "metadata": {},
   "source": [
    "<h2> Loading the Dataset</h2>"
   ]
  },
  {
   "cell_type": "code",
   "execution_count": 8,
   "metadata": {},
   "outputs": [
    {
     "ename": "FileNotFoundError",
     "evalue": "File b'../../Datasets/movieLens/100k/rating.csv' does not exist",
     "output_type": "error",
     "traceback": [
      "\u001b[1;31m---------------------------------------------------------------------------\u001b[0m",
      "\u001b[1;31mFileNotFoundError\u001b[0m                         Traceback (most recent call last)",
      "\u001b[1;32m<ipython-input-8-61d6a5723ff8>\u001b[0m in \u001b[0;36m<module>\u001b[1;34m()\u001b[0m\n\u001b[0;32m     13\u001b[0m \u001b[1;33m\u001b[0m\u001b[0m\n\u001b[0;32m     14\u001b[0m \u001b[1;32mglobal\u001b[0m \u001b[0mdf_ratings\u001b[0m\u001b[1;33m;\u001b[0m\u001b[1;33m\u001b[0m\u001b[0m\n\u001b[1;32m---> 15\u001b[1;33m \u001b[0mdf_ratings\u001b[0m \u001b[1;33m=\u001b[0m \u001b[0mpd\u001b[0m\u001b[1;33m.\u001b[0m\u001b[0mread_csv\u001b[0m\u001b[1;33m(\u001b[0m\u001b[0mdataset_path\u001b[0m\u001b[1;33m+\u001b[0m\u001b[0mfilenames\u001b[0m\u001b[1;33m[\u001b[0m\u001b[1;34m'rating'\u001b[0m\u001b[1;33m]\u001b[0m\u001b[1;33m)\u001b[0m\u001b[1;33m;\u001b[0m\u001b[1;33m\u001b[0m\u001b[0m\n\u001b[0m\u001b[0;32m     16\u001b[0m \u001b[0mprint\u001b[0m \u001b[1;33m(\u001b[0m\u001b[1;34m\"[Loading Time:\"\u001b[0m\u001b[1;33m,\u001b[0m\u001b[0mtime\u001b[0m\u001b[1;33m.\u001b[0m\u001b[0mtime\u001b[0m\u001b[1;33m(\u001b[0m\u001b[1;33m)\u001b[0m\u001b[1;33m-\u001b[0m\u001b[0mtime_zero\u001b[0m\u001b[1;33m,\u001b[0m\u001b[1;34m\"s]\"\u001b[0m\u001b[1;33m,\u001b[0m\u001b[0mfilenames\u001b[0m\u001b[1;33m[\u001b[0m\u001b[1;34m'rating'\u001b[0m\u001b[1;33m]\u001b[0m\u001b[1;33m,\u001b[0m\u001b[1;34m'Shape: '\u001b[0m\u001b[1;33m,\u001b[0m \u001b[0mdf_ratings\u001b[0m\u001b[1;33m.\u001b[0m\u001b[0mshape\u001b[0m\u001b[1;33m)\u001b[0m\u001b[1;33m\u001b[0m\u001b[0m\n",
      "\u001b[1;32mC:\\Anaconda\\lib\\site-packages\\pandas\\io\\parsers.py\u001b[0m in \u001b[0;36mparser_f\u001b[1;34m(filepath_or_buffer, sep, delimiter, header, names, index_col, usecols, squeeze, prefix, mangle_dupe_cols, dtype, engine, converters, true_values, false_values, skipinitialspace, skiprows, nrows, na_values, keep_default_na, na_filter, verbose, skip_blank_lines, parse_dates, infer_datetime_format, keep_date_col, date_parser, dayfirst, iterator, chunksize, compression, thousands, decimal, lineterminator, quotechar, quoting, escapechar, comment, encoding, dialect, tupleize_cols, error_bad_lines, warn_bad_lines, skipfooter, skip_footer, doublequote, delim_whitespace, as_recarray, compact_ints, use_unsigned, low_memory, buffer_lines, memory_map, float_precision)\u001b[0m\n\u001b[0;32m    707\u001b[0m                     skip_blank_lines=skip_blank_lines)\n\u001b[0;32m    708\u001b[0m \u001b[1;33m\u001b[0m\u001b[0m\n\u001b[1;32m--> 709\u001b[1;33m         \u001b[1;32mreturn\u001b[0m \u001b[0m_read\u001b[0m\u001b[1;33m(\u001b[0m\u001b[0mfilepath_or_buffer\u001b[0m\u001b[1;33m,\u001b[0m \u001b[0mkwds\u001b[0m\u001b[1;33m)\u001b[0m\u001b[1;33m\u001b[0m\u001b[0m\n\u001b[0m\u001b[0;32m    710\u001b[0m \u001b[1;33m\u001b[0m\u001b[0m\n\u001b[0;32m    711\u001b[0m     \u001b[0mparser_f\u001b[0m\u001b[1;33m.\u001b[0m\u001b[0m__name__\u001b[0m \u001b[1;33m=\u001b[0m \u001b[0mname\u001b[0m\u001b[1;33m\u001b[0m\u001b[0m\n",
      "\u001b[1;32mC:\\Anaconda\\lib\\site-packages\\pandas\\io\\parsers.py\u001b[0m in \u001b[0;36m_read\u001b[1;34m(filepath_or_buffer, kwds)\u001b[0m\n\u001b[0;32m    447\u001b[0m \u001b[1;33m\u001b[0m\u001b[0m\n\u001b[0;32m    448\u001b[0m     \u001b[1;31m# Create the parser.\u001b[0m\u001b[1;33m\u001b[0m\u001b[1;33m\u001b[0m\u001b[0m\n\u001b[1;32m--> 449\u001b[1;33m     \u001b[0mparser\u001b[0m \u001b[1;33m=\u001b[0m \u001b[0mTextFileReader\u001b[0m\u001b[1;33m(\u001b[0m\u001b[0mfilepath_or_buffer\u001b[0m\u001b[1;33m,\u001b[0m \u001b[1;33m**\u001b[0m\u001b[0mkwds\u001b[0m\u001b[1;33m)\u001b[0m\u001b[1;33m\u001b[0m\u001b[0m\n\u001b[0m\u001b[0;32m    450\u001b[0m \u001b[1;33m\u001b[0m\u001b[0m\n\u001b[0;32m    451\u001b[0m     \u001b[1;32mif\u001b[0m \u001b[0mchunksize\u001b[0m \u001b[1;32mor\u001b[0m \u001b[0miterator\u001b[0m\u001b[1;33m:\u001b[0m\u001b[1;33m\u001b[0m\u001b[0m\n",
      "\u001b[1;32mC:\\Anaconda\\lib\\site-packages\\pandas\\io\\parsers.py\u001b[0m in \u001b[0;36m__init__\u001b[1;34m(self, f, engine, **kwds)\u001b[0m\n\u001b[0;32m    816\u001b[0m             \u001b[0mself\u001b[0m\u001b[1;33m.\u001b[0m\u001b[0moptions\u001b[0m\u001b[1;33m[\u001b[0m\u001b[1;34m'has_index_names'\u001b[0m\u001b[1;33m]\u001b[0m \u001b[1;33m=\u001b[0m \u001b[0mkwds\u001b[0m\u001b[1;33m[\u001b[0m\u001b[1;34m'has_index_names'\u001b[0m\u001b[1;33m]\u001b[0m\u001b[1;33m\u001b[0m\u001b[0m\n\u001b[0;32m    817\u001b[0m \u001b[1;33m\u001b[0m\u001b[0m\n\u001b[1;32m--> 818\u001b[1;33m         \u001b[0mself\u001b[0m\u001b[1;33m.\u001b[0m\u001b[0m_make_engine\u001b[0m\u001b[1;33m(\u001b[0m\u001b[0mself\u001b[0m\u001b[1;33m.\u001b[0m\u001b[0mengine\u001b[0m\u001b[1;33m)\u001b[0m\u001b[1;33m\u001b[0m\u001b[0m\n\u001b[0m\u001b[0;32m    819\u001b[0m \u001b[1;33m\u001b[0m\u001b[0m\n\u001b[0;32m    820\u001b[0m     \u001b[1;32mdef\u001b[0m \u001b[0mclose\u001b[0m\u001b[1;33m(\u001b[0m\u001b[0mself\u001b[0m\u001b[1;33m)\u001b[0m\u001b[1;33m:\u001b[0m\u001b[1;33m\u001b[0m\u001b[0m\n",
      "\u001b[1;32mC:\\Anaconda\\lib\\site-packages\\pandas\\io\\parsers.py\u001b[0m in \u001b[0;36m_make_engine\u001b[1;34m(self, engine)\u001b[0m\n\u001b[0;32m   1047\u001b[0m     \u001b[1;32mdef\u001b[0m \u001b[0m_make_engine\u001b[0m\u001b[1;33m(\u001b[0m\u001b[0mself\u001b[0m\u001b[1;33m,\u001b[0m \u001b[0mengine\u001b[0m\u001b[1;33m=\u001b[0m\u001b[1;34m'c'\u001b[0m\u001b[1;33m)\u001b[0m\u001b[1;33m:\u001b[0m\u001b[1;33m\u001b[0m\u001b[0m\n\u001b[0;32m   1048\u001b[0m         \u001b[1;32mif\u001b[0m \u001b[0mengine\u001b[0m \u001b[1;33m==\u001b[0m \u001b[1;34m'c'\u001b[0m\u001b[1;33m:\u001b[0m\u001b[1;33m\u001b[0m\u001b[0m\n\u001b[1;32m-> 1049\u001b[1;33m             \u001b[0mself\u001b[0m\u001b[1;33m.\u001b[0m\u001b[0m_engine\u001b[0m \u001b[1;33m=\u001b[0m \u001b[0mCParserWrapper\u001b[0m\u001b[1;33m(\u001b[0m\u001b[0mself\u001b[0m\u001b[1;33m.\u001b[0m\u001b[0mf\u001b[0m\u001b[1;33m,\u001b[0m \u001b[1;33m**\u001b[0m\u001b[0mself\u001b[0m\u001b[1;33m.\u001b[0m\u001b[0moptions\u001b[0m\u001b[1;33m)\u001b[0m\u001b[1;33m\u001b[0m\u001b[0m\n\u001b[0m\u001b[0;32m   1050\u001b[0m         \u001b[1;32melse\u001b[0m\u001b[1;33m:\u001b[0m\u001b[1;33m\u001b[0m\u001b[0m\n\u001b[0;32m   1051\u001b[0m             \u001b[1;32mif\u001b[0m \u001b[0mengine\u001b[0m \u001b[1;33m==\u001b[0m \u001b[1;34m'python'\u001b[0m\u001b[1;33m:\u001b[0m\u001b[1;33m\u001b[0m\u001b[0m\n",
      "\u001b[1;32mC:\\Anaconda\\lib\\site-packages\\pandas\\io\\parsers.py\u001b[0m in \u001b[0;36m__init__\u001b[1;34m(self, src, **kwds)\u001b[0m\n\u001b[0;32m   1693\u001b[0m         \u001b[0mkwds\u001b[0m\u001b[1;33m[\u001b[0m\u001b[1;34m'allow_leading_cols'\u001b[0m\u001b[1;33m]\u001b[0m \u001b[1;33m=\u001b[0m \u001b[0mself\u001b[0m\u001b[1;33m.\u001b[0m\u001b[0mindex_col\u001b[0m \u001b[1;32mis\u001b[0m \u001b[1;32mnot\u001b[0m \u001b[1;32mFalse\u001b[0m\u001b[1;33m\u001b[0m\u001b[0m\n\u001b[0;32m   1694\u001b[0m \u001b[1;33m\u001b[0m\u001b[0m\n\u001b[1;32m-> 1695\u001b[1;33m         \u001b[0mself\u001b[0m\u001b[1;33m.\u001b[0m\u001b[0m_reader\u001b[0m \u001b[1;33m=\u001b[0m \u001b[0mparsers\u001b[0m\u001b[1;33m.\u001b[0m\u001b[0mTextReader\u001b[0m\u001b[1;33m(\u001b[0m\u001b[0msrc\u001b[0m\u001b[1;33m,\u001b[0m \u001b[1;33m**\u001b[0m\u001b[0mkwds\u001b[0m\u001b[1;33m)\u001b[0m\u001b[1;33m\u001b[0m\u001b[0m\n\u001b[0m\u001b[0;32m   1696\u001b[0m \u001b[1;33m\u001b[0m\u001b[0m\n\u001b[0;32m   1697\u001b[0m         \u001b[1;31m# XXX\u001b[0m\u001b[1;33m\u001b[0m\u001b[1;33m\u001b[0m\u001b[0m\n",
      "\u001b[1;32mpandas/_libs/parsers.pyx\u001b[0m in \u001b[0;36mpandas._libs.parsers.TextReader.__cinit__\u001b[1;34m()\u001b[0m\n",
      "\u001b[1;32mpandas/_libs/parsers.pyx\u001b[0m in \u001b[0;36mpandas._libs.parsers.TextReader._setup_parser_source\u001b[1;34m()\u001b[0m\n",
      "\u001b[1;31mFileNotFoundError\u001b[0m: File b'../../Datasets/movieLens/100k/rating.csv' does not exist"
     ]
    }
   ],
   "source": [
    "# Choosing Dataset to be Used\n",
    "\n",
    "dataset = '100k/' #100k dataset path\n",
    "#dataset = '1M/' #1M dataset path\n",
    "#dataset = '10M/' #10M dataset path\n",
    "#dataset = '20M/' #20M dataset path\n",
    "\n",
    "dataset_path = ('../../Datasets/movieLens/' + dataset) # Full dataset path\n",
    "\n",
    "filenames = {'movie': 'movie.csv', 'rating': 'rating.csv'};\n",
    "\n",
    "time_zero = time.time();\n",
    "\n",
    "global df_ratings;\n",
    "df_ratings = pd.read_csv(dataset_path+filenames['rating']);\n",
    "print (\"[Loading Time:\",time.time()-time_zero,\"s]\",filenames['rating'],'Shape: ', df_ratings.shape)"
   ]
  },
  {
   "cell_type": "markdown",
   "metadata": {},
   "source": [
    "<h2>Creating Utility Matrix</h2>"
   ]
  },
  {
   "cell_type": "code",
   "execution_count": 349,
   "metadata": {},
   "outputs": [],
   "source": [
    "# Auxiliary Functions\n",
    "global R;\n",
    "global results_path;\n",
    "results_path = './Results/';\n",
    "\n",
    "global usersIds;\n",
    "global moviesIds;\n",
    "\n",
    "def InitializeIds():\n",
    "    global usersIds;\n",
    "    global moviesIds;\n",
    "\n",
    "\n",
    "    usersIds = np.zeros(1);\n",
    "    moviesIds = np.zeros(1);\n",
    "\n",
    "\n",
    "    for count in xrange(len(df_ratings['rating'])):\n",
    "\n",
    "        if df_ratings['userId'][count] in usersIds:\n",
    "            pass;\n",
    "        else:\n",
    "            usersIds = np.append(usersIds, df_ratings['userId'][count]);   \n",
    "\n",
    "        if df_ratings['movieId'][count] in moviesIds:\n",
    "            pass;\n",
    "        else:\n",
    "            moviesIds = np.append(moviesIds, df_ratings['movieId'][count]);\n",
    "            currentMovieId = df_ratings['movieId'][count];\n",
    "\n",
    "\n",
    "def InitializeUtilityMatrix():\n",
    "    InitializeIds();\n",
    "    return np.zeros((usersIds.shape[0], moviesIds.shape[0]));\n",
    "\n",
    "def FillUtilityMatrix():\n",
    "    global R;\n",
    "    for register in xrange(len(df_ratings['userId'])):\n",
    "        userId = df_ratings['userId'][register];\n",
    "        movieId = df_ratings['movieId'][register];\n",
    "\n",
    "        #Getting userIndex from usersIds\n",
    "        #itemindex = numpy.where(array==item) --> Return an array with indexes found\n",
    "        userIndex = np.where(usersIds == userId);\n",
    "        if len(userIndex[0]) == 0: # If userIndex hasn't found any matching user id in usersIds array\n",
    "            print \"UserId\", userId, \"not found in usersIds array.\";\n",
    "            pass;\n",
    "        else:\n",
    "            try:\n",
    "                if len(userIndex[0]) > 1:\n",
    "                    print \"UserId \", userId, \"is double-counted in usersIds.\";\n",
    "                userIndex = userIndex[0][0]; #Get the first occurance of userId match\n",
    "            except IndexError:\n",
    "                print \"Error with user index: \", userIndex[0] ;\n",
    "                pass;\n",
    "\n",
    "\n",
    "        #Getting movieIndex from moviesIds\n",
    "        #itemindex = numpy.where(array==item) --> Return an array with indexes found\n",
    "        movieIndex = np.where(moviesIds == movieId);\n",
    "        if len(movieIndex[0]) == 0: # If userIndex hasn't found any matching user id in usersIds array\n",
    "            print \"MovieId\", movieId, \"not found in usersIds array.\";\n",
    "            pass;\n",
    "        else:\n",
    "            try:\n",
    "                if len(movieIndex[0]) > 1:\n",
    "                    print \"MovieId \", movieId, \"is double-counted in moviesIds.\";\n",
    "                movieIndex = movieIndex[0][0]; #Get the first occurance of movieId match\n",
    "            except IndexError:\n",
    "                print \"Error with movie index: \", movieIndex[0] ;\n",
    "                pass;            \n",
    "\n",
    "        R[userIndex][movieIndex] = df_ratings['rating'][register];\n",
    "        \n",
    "    return R;\n",
    "\n",
    "def saveVariable(filename, variable):\n",
    "    \n",
    "    compression_parameter = 9;\n",
    "    \n",
    "    filepath = results_path+\"Variables/\"+dataset+filename;\n",
    "    print \"[*] Saving variable to \" + filepath + \" file...\";\n",
    "    if os.path.isfile(filepath): #Check if file already exists\n",
    "        print \"[*] Removing existing file...\";\n",
    "        os.remove(filepath);\n",
    "        print \"[+] Existing file removed.\";    \n",
    "\n",
    "    #joblib.dump(value, filename, compress=0, protocol=None, cache_size=None)\n",
    "    joblib.dump(variable, filepath, compress = compression_parameter);\n",
    "    print \"[+] File saved.\";   \n"
   ]
  },
  {
   "cell_type": "code",
   "execution_count": 350,
   "metadata": {},
   "outputs": [
    {
     "name": "stdout",
     "output_type": "stream",
     "text": [
      "Elapsed time:  5.91675901413\n",
      "(944, 1683)\n",
      "Elapsed time:  13.5611162186\n"
     ]
    }
   ],
   "source": [
    "time_zero = time.time();\n",
    "global R;\n",
    "R = InitializeUtilityMatrix();\n",
    "\n",
    "print \"Elapsed time: \", time.time()-time_zero;\n",
    "\n",
    "R = FillUtilityMatrix();\n",
    "\n",
    "print R.shape\n",
    "print \"Elapsed time: \", time.time()-time_zero;"
   ]
  },
  {
   "cell_type": "code",
   "execution_count": 351,
   "metadata": {},
   "outputs": [
    {
     "name": "stdout",
     "output_type": "stream",
     "text": [
      "[*] Saving results to./Results/Figures/100k/ folder...\n",
      "[+] Results saved.\n",
      "Elapsed time:  0.284822940826\n"
     ]
    },
    {
     "data": {
      "image/png": "[encoded data removed]",
      "text/plain": [
       "<matplotlib.figure.Figure at 0x26fb8ad0>"
      ]
     },
     "metadata": {},
     "output_type": "display_data"
    }
   ],
   "source": [
    "# Visualizing Matrix Sparsity\n",
    "time_zero = time.time();\n",
    "\n",
    "%matplotlib inline\n",
    "\n",
    "#OS = calculateOverallSparsityMeasure(R);\n",
    "\n",
    "fig, ax = plt.subplots(figsize = (5,5));\n",
    "\n",
    "ax.spy(R);\n",
    "\n",
    "plt.xlabel(\"Movies - Total \"+str(R.shape[1]-1), fontsize = 10)\n",
    "plt.ylabel(\"Users - Total \"+str(R.shape[0]-1), fontsize = 10)\n",
    "#plt.title(\"OS: \" + str(OS) + '\\n', fontsize = 24)\n",
    "plt.tick_params(axis='both', which='major', labelsize=10)\n",
    "\n",
    "print \"[*] Saving results to\" + results_path + 'Figures/'+dataset + \" folder...\"\n",
    "plt.savefig(results_path+'Figures/'+dataset+'unsortedUtilityMatrix.png')\n",
    "\n",
    "print \"[+] Results saved.\"\n",
    "\n",
    "print \"Elapsed time: \", time.time()-time_zero; # Aprox. 5 s"
   ]
  },
  {
   "cell_type": "markdown",
   "metadata": {},
   "source": [
    "<h2>Fitting SAE to Dataset</h2>"
   ]
  },
  {
   "cell_type": "code",
   "execution_count": 412,
   "metadata": {},
   "outputs": [
    {
     "name": "stdout",
     "output_type": "stream",
     "text": [
      "Time to fit model: 17.2446098328 seconds\n"
     ]
    }
   ],
   "source": [
    "SAE_RS = SAE(R)\n",
    "SAE_RS.fit();"
   ]
  },
  {
   "cell_type": "markdown",
   "metadata": {},
   "source": [
    "<h2>Visualizing Training History</h2>"
   ]
  },
  {
   "cell_type": "code",
   "execution_count": 407,
   "metadata": {},
   "outputs": [
    {
     "data": {
      "image/png": "[encoded data removed]",
      "text/plain": [
       "<matplotlib.figure.Figure at 0x29873210>"
      ]
     },
     "metadata": {},
     "output_type": "display_data"
    }
   ],
   "source": [
    "%matplotlib inline\n",
    "fig, ax1 = plt.subplots(figsize = (10,10), nrows = 1, ncols = 1)\n",
    "#print plt.subplots(figsize = (20,20), nrows = 2, ncols = 2)\n",
    "\n",
    "tick_fontsize = 20\n",
    "label_fontsize = 25\n",
    "minor_ticks = [x/100.0 for x in xrange(20, 80,2)]\n",
    "\n",
    "ax1.set_yticks(minor_ticks, minor = True)\n",
    "\n",
    "ax1.grid(linestyle = '-', which = 'both')\n",
    "ax1.tick_params(axis='both', which='major', labelsize=tick_fontsize)\n",
    "ax1.set_title('RMSE per epoch')\n",
    "ax1.set_xlabel('Epoch', fontsize = label_fontsize)\n",
    "ax1.set_ylabel('RMSE', fontsize = label_fontsize)\n",
    "trainingSet_1, = ax1.plot(np.sqrt(SAE_RS.fitHistory.history['loss']), 'b', label = 'Trainig Set')\n",
    "\n",
    "validationSet_1, = ax1.plot(np.sqrt(SAE_RS.fitHistory.history['val_loss']), 'r', label = 'Validation Set')\n",
    "\n",
    "ax1.legend(handles=[trainingSet_1, validationSet_1], labels=['Training Set', 'Validation Set'], prop={'size': tick_fontsize})\n",
    "\n",
    "\n",
    "plt.savefig(results_path+'Figures/'+dataset+'SAE'+str(num_neurons)+'RMSE.png')\n",
    "\n",
    "#fig.savefig('{}/{}.{}'.format(saveFigDir, 'RMSE_per_epoch_autoencoder_30_40', 'pdf'), bbox_inches='tight')"
   ]
  },
  {
   "cell_type": "markdown",
   "metadata": {},
   "source": [
    "<h2>Evaluating Algorithm</h2>"
   ]
  },
  {
   "cell_type": "code",
   "execution_count": 373,
   "metadata": {},
   "outputs": [
    {
     "name": "stdout",
     "output_type": "stream",
     "text": [
      "0.102552862617\n",
      "0.0827296039058\n"
     ]
    }
   ],
   "source": [
    "print SAE_RS.fitHistory.history['val_mean_absolute_error'][-1]\n",
    "print SAE_RS.fitHistory.history['val_loss'][-1]\n",
    "#print MRRE(R, SAE_RS.predict(R))\n",
    "#print RMSE(R, SAE_RS.predict(R))\n",
    "#print SAE_RS.estimate(4,5)"
   ]
  },
  {
   "cell_type": "code",
   "execution_count": 411,
   "metadata": {},
   "outputs": [
    {
     "name": "stdout",
     "output_type": "stream",
     "text": [
      "[0.20341626635245777, 0.21022916100184297, 0.20232484365086562, 0.22040129611166503, 0.20396953080153477, 0.20755536421039911, 0.20833144505876311, 0.19362493328096522, 0.20058259564740119, 0.20913962657482099]\n"
     ]
    }
   ],
   "source": [
    "print SAE_RS.cv_metrics_values['mae']"
   ]
  },
  {
   "cell_type": "code",
   "execution_count": 408,
   "metadata": {},
   "outputs": [
    {
     "name": "stdout",
     "output_type": "stream",
     "text": [
      "Time to fit model: 14.8885519505 seconds\n",
      "Elapsed time for fold 0:  16.5365390778\n",
      "Time to fit model: 14.3471419811 seconds\n",
      "Elapsed time for fold 1:  15.813491106\n",
      "Time to fit model: 15.2793438435 seconds\n",
      "Elapsed time for fold 2:  16.8315989971\n",
      "Time to fit model: 14.6705951691 seconds\n",
      "Elapsed time for fold 3:  16.5344719887\n",
      "Time to fit model: 15.4385979176 seconds\n",
      "Elapsed time for fold 4:  17.0769300461\n",
      "Time to fit model: 16.3928558826 seconds\n",
      "Elapsed time for fold 5:  18.0574941635\n",
      "Time to fit model: 14.7476599216 seconds\n",
      "Elapsed time for fold 6:  16.600933075\n",
      "Time to fit model: 13.9695560932 seconds\n",
      "Elapsed time for fold 7:  15.5276358128\n",
      "Time to fit model: 16.1654090881 seconds\n",
      "Elapsed time for fold 8:  18.1327719688\n",
      "Time to fit model: 17.457365036 seconds\n",
      "Elapsed time for fold 9:  19.1820321083\n"
     ]
    },
    {
     "ename": "NameError",
     "evalue": "global name 'cv_metrics_values' is not defined",
     "output_type": "error",
     "traceback": [
      "\u001b[0;31m---------------------------------------------------------------------------\u001b[0m",
      "\u001b[0;31mNameError\u001b[0m                                 Traceback (most recent call last)",
      "\u001b[0;32m<ipython-input-408-ca26e40f9145>\u001b[0m in \u001b[0;36m<module>\u001b[0;34m()\u001b[0m\n\u001b[0;32m----> 1\u001b[0;31m \u001b[0;32mprint\u001b[0m \u001b[0mSAE_RS\u001b[0m\u001b[0;34m.\u001b[0m\u001b[0mcross_validate\u001b[0m\u001b[0;34m(\u001b[0m\u001b[0;34m)\u001b[0m\u001b[0;34m\u001b[0m\u001b[0m\n\u001b[0m",
      "\u001b[0;32m<ipython-input-405-60c63b6529e0>\u001b[0m in \u001b[0;36mcross_validate\u001b[0;34m(self, n_folds, metrics, verbose)\u001b[0m\n\u001b[1;32m     77\u001b[0m             \u001b[0;32mprint\u001b[0m \u001b[0;34m\"Elapsed time for fold \"\u001b[0m \u001b[0;34m+\u001b[0m \u001b[0mstr\u001b[0m\u001b[0;34m(\u001b[0m\u001b[0mi\u001b[0m\u001b[0;34m)\u001b[0m \u001b[0;34m+\u001b[0m \u001b[0;34m\": \"\u001b[0m\u001b[0;34m,\u001b[0m \u001b[0mtime\u001b[0m\u001b[0;34m.\u001b[0m\u001b[0mtime\u001b[0m\u001b[0;34m(\u001b[0m\u001b[0;34m)\u001b[0m\u001b[0;34m-\u001b[0m\u001b[0mtime_zero\u001b[0m\u001b[0;34m;\u001b[0m\u001b[0;34m\u001b[0m\u001b[0m\n\u001b[1;32m     78\u001b[0m \u001b[0;34m\u001b[0m\u001b[0m\n\u001b[0;32m---> 79\u001b[0;31m         \u001b[0;32mreturn\u001b[0m \u001b[0mcv_metrics_values\u001b[0m\u001b[0;34m;\u001b[0m\u001b[0;34m\u001b[0m\u001b[0m\n\u001b[0m\u001b[1;32m     80\u001b[0m \u001b[0;34m\u001b[0m\u001b[0m\n\u001b[1;32m     81\u001b[0m     \u001b[0;32mdef\u001b[0m \u001b[0mevaluate\u001b[0m\u001b[0;34m(\u001b[0m\u001b[0mself\u001b[0m\u001b[0;34m,\u001b[0m \u001b[0mmetric\u001b[0m \u001b[0;34m=\u001b[0m \u001b[0;34m'rmse'\u001b[0m\u001b[0;34m)\u001b[0m\u001b[0;34m:\u001b[0m\u001b[0;34m\u001b[0m\u001b[0m\n",
      "\u001b[0;31mNameError\u001b[0m: global name 'cv_metrics_values' is not defined"
     ]
    }
   ],
   "source": [
    "print SAE_RS.cross_validate()"
   ]
  },
  {
   "cell_type": "markdown",
   "metadata": {},
   "source": [
    "<h2> Reducing Dimensionality </h2>"
   ]
  },
  {
   "cell_type": "code",
   "execution_count": 198,
   "metadata": {},
   "outputs": [
    {
     "name": "stdout",
     "output_type": "stream",
     "text": [
      "(944, 944) (944,) (944, 1683)\n"
     ]
    }
   ],
   "source": [
    "U,s,V = np.linalg.svd(R, full_matrices = False);\n",
    "\n",
    "print U.shape, s.shape, V.shape"
   ]
  },
  {
   "cell_type": "code",
   "execution_count": 199,
   "metadata": {},
   "outputs": [
    {
     "name": "stdout",
     "output_type": "stream",
     "text": [
      "(944, 944)\n"
     ]
    }
   ],
   "source": [
    "S = np.zeros((s.shape[0], s.shape[0]))\n",
    "\n",
    "S = np.diag(s)\n",
    "print S.shape"
   ]
  },
  {
   "cell_type": "code",
   "execution_count": 200,
   "metadata": {},
   "outputs": [
    {
     "name": "stdout",
     "output_type": "stream",
     "text": [
      "True\n"
     ]
    }
   ],
   "source": [
    "\n",
    "print np.allclose(R, np.dot(U, np.dot(S,V)))"
   ]
  }
 ],
 "metadata": {
  "kernelspec": {
   "display_name": "Python 3",
   "language": "python",
   "name": "python3"
  },
  "language_info": {
   "codemirror_mode": {
    "name": "ipython",
    "version": 3
   },
   "file_extension": ".py",
   "mimetype": "text/x-python",
   "name": "python",
   "nbconvert_exporter": "python",
   "pygments_lexer": "ipython3",
   "version": "3.6.4"
  }
 },
 "nbformat": 4,
 "nbformat_minor": 2
}
