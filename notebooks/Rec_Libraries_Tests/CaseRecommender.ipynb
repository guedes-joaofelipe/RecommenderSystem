{
 "cells": [
  {
   "cell_type": "markdown",
   "metadata": {},
   "source": [
    "# Case Recommender Test\n",
    "\n",
    "This is a notebook implemented to test the available recommender systems algorithms in the CaseRecommender library, which can be accessed [here](https://github.com/caserec/CaseRecommender/wiki/Getting-Started).\n"
   ]
  },
  {
   "cell_type": "markdown",
   "metadata": {},
   "source": [
    "## Imports"
   ]
  },
  {
   "cell_type": "code",
   "execution_count": 1,
   "metadata": {},
   "outputs": [],
   "source": [
    "import pandas as pd\n",
    "import numpy as np\n",
    "import matplotlib.pyplot as plt \n",
    "%matplotlib inline "
   ]
  },
  {
   "cell_type": "markdown",
   "metadata": {},
   "source": [
    "### Loading Dataset"
   ]
  },
  {
   "cell_type": "code",
   "execution_count": 2,
   "metadata": {},
   "outputs": [
    {
     "data": {
      "text/html": [
       "<div>\n",
       "<style scoped>\n",
       "    .dataframe tbody tr th:only-of-type {\n",
       "        vertical-align: middle;\n",
       "    }\n",
       "\n",
       "    .dataframe tbody tr th {\n",
       "        vertical-align: top;\n",
       "    }\n",
       "\n",
       "    .dataframe thead th {\n",
       "        text-align: right;\n",
       "    }\n",
       "</style>\n",
       "<table border=\"1\" class=\"dataframe\">\n",
       "  <thead>\n",
       "    <tr style=\"text-align: right;\">\n",
       "      <th></th>\n",
       "      <th>user_id</th>\n",
       "      <th>item_id</th>\n",
       "      <th>rating</th>\n",
       "      <th>timestamp</th>\n",
       "    </tr>\n",
       "  </thead>\n",
       "  <tbody>\n",
       "    <tr>\n",
       "      <th>0</th>\n",
       "      <td>196</td>\n",
       "      <td>242</td>\n",
       "      <td>3</td>\n",
       "      <td>881250949</td>\n",
       "    </tr>\n",
       "    <tr>\n",
       "      <th>1</th>\n",
       "      <td>186</td>\n",
       "      <td>302</td>\n",
       "      <td>3</td>\n",
       "      <td>891717742</td>\n",
       "    </tr>\n",
       "    <tr>\n",
       "      <th>2</th>\n",
       "      <td>22</td>\n",
       "      <td>377</td>\n",
       "      <td>1</td>\n",
       "      <td>878887116</td>\n",
       "    </tr>\n",
       "    <tr>\n",
       "      <th>3</th>\n",
       "      <td>244</td>\n",
       "      <td>51</td>\n",
       "      <td>2</td>\n",
       "      <td>880606923</td>\n",
       "    </tr>\n",
       "    <tr>\n",
       "      <th>4</th>\n",
       "      <td>166</td>\n",
       "      <td>346</td>\n",
       "      <td>1</td>\n",
       "      <td>886397596</td>\n",
       "    </tr>\n",
       "  </tbody>\n",
       "</table>\n",
       "</div>"
      ],
      "text/plain": [
       "   user_id  item_id  rating  timestamp\n",
       "0      196      242       3  881250949\n",
       "1      186      302       3  891717742\n",
       "2       22      377       1  878887116\n",
       "3      244       51       2  880606923\n",
       "4      166      346       1  886397596"
      ]
     },
     "execution_count": 2,
     "metadata": {},
     "output_type": "execute_result"
    }
   ],
   "source": [
    "folder = \"../../Datasets/movieLens/100k_raw/\"\n",
    "dataset = \"{}u.data\".format(folder)\n",
    "output_folder = './outputs/'\n",
    "dataset_output_folder = output_folder + 'movieLens/100k/'\n",
    "\n",
    "# Visualize file content\n",
    "df = pd.read_csv(dataset, sep='\\t', header=None, names=['user_id', 'item_id', 'rating', 'timestamp'])\n",
    "df.head()"
   ]
  },
  {
   "cell_type": "code",
   "execution_count": 3,
   "metadata": {},
   "outputs": [
    {
     "data": {
      "text/html": [
       "<div>\n",
       "<style scoped>\n",
       "    .dataframe tbody tr th:only-of-type {\n",
       "        vertical-align: middle;\n",
       "    }\n",
       "\n",
       "    .dataframe tbody tr th {\n",
       "        vertical-align: top;\n",
       "    }\n",
       "\n",
       "    .dataframe thead th {\n",
       "        text-align: right;\n",
       "    }\n",
       "</style>\n",
       "<table border=\"1\" class=\"dataframe\">\n",
       "  <thead>\n",
       "    <tr style=\"text-align: right;\">\n",
       "      <th></th>\n",
       "      <th>item_id</th>\n",
       "      <th>title</th>\n",
       "    </tr>\n",
       "  </thead>\n",
       "  <tbody>\n",
       "    <tr>\n",
       "      <th>0</th>\n",
       "      <td>1</td>\n",
       "      <td>Toy Story (1995)</td>\n",
       "    </tr>\n",
       "    <tr>\n",
       "      <th>1</th>\n",
       "      <td>2</td>\n",
       "      <td>GoldenEye (1995)</td>\n",
       "    </tr>\n",
       "    <tr>\n",
       "      <th>2</th>\n",
       "      <td>3</td>\n",
       "      <td>Four Rooms (1995)</td>\n",
       "    </tr>\n",
       "    <tr>\n",
       "      <th>3</th>\n",
       "      <td>4</td>\n",
       "      <td>Get Shorty (1995)</td>\n",
       "    </tr>\n",
       "    <tr>\n",
       "      <th>4</th>\n",
       "      <td>5</td>\n",
       "      <td>Copycat (1995)</td>\n",
       "    </tr>\n",
       "  </tbody>\n",
       "</table>\n",
       "</div>"
      ],
      "text/plain": [
       "   item_id              title\n",
       "0        1   Toy Story (1995)\n",
       "1        2   GoldenEye (1995)\n",
       "2        3  Four Rooms (1995)\n",
       "3        4  Get Shorty (1995)\n",
       "4        5     Copycat (1995)"
      ]
     },
     "execution_count": 3,
     "metadata": {},
     "output_type": "execute_result"
    }
   ],
   "source": [
    "# Obtaing movie information\n",
    "movies_info = \"{}u.item\".format(folder)\n",
    "mv_df = pd.read_csv(movies_info, sep='|', header=None, encoding = \"ISO-8859-1\")\n",
    "mv_df = mv_df[[0,1]]\n",
    "mv_df.columns = ['item_id', 'title']\n",
    "\n",
    "mv_df.head()"
   ]
  },
  {
   "cell_type": "markdown",
   "metadata": {},
   "source": [
    "### Divide Dataset into Kfold"
   ]
  },
  {
   "cell_type": "code",
   "execution_count": 4,
   "metadata": {},
   "outputs": [],
   "source": [
    "# Make the import\n",
    "from caserec.utils.split_database import SplitDatabase\n",
    "import os\n",
    "if not os.path.exists(dataset_output_folder):\n",
    "    os.makedirs(dataset_output_folder)"
   ]
  },
  {
   "cell_type": "code",
   "execution_count": 5,
   "metadata": {},
   "outputs": [],
   "source": [
    "# input_file -> Input file with at least 2 columns (users and items)\n",
    "# dir_folds  -> Directory to write folds (train and test files)\n",
    "# n_splits   -> How much folds the strategy will divide\n",
    "n_folds = 5\n",
    "SplitDatabase(input_file=dataset, dir_folds=dataset_output_folder, n_splits=n_folds).k_fold_cross_validation()"
   ]
  },
  {
   "cell_type": "markdown",
   "metadata": {},
   "source": [
    "## Generating ranks with Case Recommender"
   ]
  },
  {
   "cell_type": "code",
   "execution_count": 7,
   "metadata": {},
   "outputs": [],
   "source": [
    "folder_number = '0'\n",
    "folder = \"{}/folds/{}/\".format(dataset_output_folder, folder_number)\n",
    "train = \"{}train.dat\".format(folder)\n",
    "test = \"{}test.dat\".format(folder)\n",
    "\n",
    "# File to write the predicted ranking\n",
    "ranking = \"{}ranking.dat\".format(folder)"
   ]
  },
  {
   "cell_type": "markdown",
   "metadata": {},
   "source": [
    "## Most Popular"
   ]
  },
  {
   "cell_type": "code",
   "execution_count": 8,
   "metadata": {},
   "outputs": [],
   "source": [
    "from caserec.recommenders.item_recommendation.most_popular import MostPopular"
   ]
  },
  {
   "cell_type": "code",
   "execution_count": null,
   "metadata": {},
   "outputs": [],
   "source": []
  },
  {
   "cell_type": "code",
   "execution_count": null,
   "metadata": {},
   "outputs": [],
   "source": []
  },
  {
   "cell_type": "code",
   "execution_count": 9,
   "metadata": {},
   "outputs": [],
   "source": [
    "# Make the import\n",
    "from caserec.recommenders.item_recommendation.itemknn import ItemKNN"
   ]
  },
  {
   "cell_type": "markdown",
   "metadata": {},
   "source": []
  },
  {
   "cell_type": "code",
   "execution_count": 10,
   "metadata": {},
   "outputs": [],
   "source": [
    "# train_file  -> File which contains the train set. \n",
    "# test_file   -> File which contains the test set.\n",
    "# output_file -> File with dir to write the final predictions\n",
    "\n",
    "model = ItemKNN(train_file=train, test_file=test, output_file=ranking,  rank_length=10)"
   ]
  },
  {
   "cell_type": "markdown",
   "metadata": {},
   "source": [
    "Using value of K as 15, correlation as similarity measure and evaluation the results only with NDCG"
   ]
  },
  {
   "cell_type": "code",
   "execution_count": 11,
   "metadata": {},
   "outputs": [
    {
     "name": "stdout",
     "output_type": "stream",
     "text": [
      "[Case Recommender: Item Recommendation > ItemKNN Algorithm]\n",
      "\n",
      "train data:: 943 users and 1661 items (80000 interactions) | sparsity:: 94.89%\n",
      "test data:: 942 users and 1379 items (20000 interactions) | sparsity:: 98.46%\n",
      "\n",
      "training_time:: 2.916604 sec\n",
      "prediction_time:: 16.974609 sec\n",
      "\n",
      "\n",
      "Eval:: NDCG@1: 0.416136 NDCG@3: 0.617502 NDCG@5: 0.613295 NDCG@10: 0.607952 \n"
     ]
    }
   ],
   "source": [
    "ItemKNN(train_file=train, test_file=test, output_file=ranking, k_neighbors=15, similarity_metric='correlation'\n",
    "       ).compute(metrics=['NDCG'])"
   ]
  },
  {
   "cell_type": "markdown",
   "metadata": {},
   "source": [
    "### Visualization of the results"
   ]
  },
  {
   "cell_type": "markdown",
   "metadata": {},
   "source": [
    "Movies watched by user with id 438"
   ]
  },
  {
   "cell_type": "code",
   "execution_count": null,
   "metadata": {},
   "outputs": [],
   "source": [
    "# Marging information\n",
    "\n",
    "train_df = pd.read_csv(train, sep='\\t', header=None, names=['user_id', 'item_id', 'rating', 'time'])\n",
    "train_df = train_df.merge(mv_df)\n",
    "train_df_user1 = train_df[train_df['user_id'] == 438]\n",
    "train_df_user1.reset_index(inplace=True, drop=True)\n",
    "train_df_user1"
   ]
  },
  {
   "cell_type": "markdown",
   "metadata": {},
   "source": [
    "Movies recommended for user with id 438"
   ]
  },
  {
   "cell_type": "code",
   "execution_count": null,
   "metadata": {},
   "outputs": [],
   "source": [
    "ranking_df = pd.read_csv(ranking, sep='\\t', header=None, names=['user_id', 'item_id', 'score'])\n",
    "ranking_df = ranking_df.merge(mv_df)\n",
    "ranking_df_user1 = ranking_df[ranking_df['user_id'] == 438]\n",
    "ranking_df_user1.reset_index(inplace=True, drop=True)\n",
    "ranking_df_user1"
   ]
  },
  {
   "cell_type": "markdown",
   "metadata": {},
   "source": [
    "## Generating Predictions with Case Recommender"
   ]
  },
  {
   "cell_type": "code",
   "execution_count": null,
   "metadata": {},
   "outputs": [],
   "source": [
    "folder_1 = \"{}/folds/1/\".format(dataset_output_folder)\n",
    "train = \"{}train.dat\".format(folder_1)\n",
    "test = \"{}test.dat\".format(folder_1)\n",
    "\n",
    "# File to write the predicted ranking\n",
    "predictions = \"{}predictions.dat\".format(folder_1)"
   ]
  },
  {
   "cell_type": "code",
   "execution_count": null,
   "metadata": {},
   "outputs": [],
   "source": [
    "# Make the import\n",
    "from caserec.recommenders.rating_prediction.itemknn import ItemKNN"
   ]
  },
  {
   "cell_type": "code",
   "execution_count": null,
   "metadata": {},
   "outputs": [],
   "source": [
    "# train_file  -> File which contains the train set. \n",
    "# test_file   -> File which contains the test set.\n",
    "# output_file -> File with dir to write the final predictions\n",
    "\n",
    "y = ItemKNN(train_file=train, test_file=test, output_file=predictions).compute()"
   ]
  },
  {
   "cell_type": "code",
   "execution_count": null,
   "metadata": {},
   "outputs": [],
   "source": []
  },
  {
   "cell_type": "markdown",
   "metadata": {},
   "source": [
    "### Visualizing the results"
   ]
  },
  {
   "cell_type": "markdown",
   "metadata": {},
   "source": [
    "Evaluating the rank for user with id = 8"
   ]
  },
  {
   "cell_type": "code",
   "execution_count": null,
   "metadata": {},
   "outputs": [],
   "source": [
    "# Marging information\n",
    "\n",
    "test_df = pd.read_csv(test, sep='\\t', header=None, names=['user_id', 'item_id', 'rating', 'time'])\n",
    "test_df = test_df.merge(mv_df)\n",
    "\n",
    "test_df_user8 = test_df[test_df['user_id'] == 8]\n",
    "test_df_user8.reset_index(inplace=True, drop=True)\n",
    "test_df_user8"
   ]
  },
  {
   "cell_type": "markdown",
   "metadata": {},
   "source": [
    "Rating prediction for the user 8 for the same movies "
   ]
  },
  {
   "cell_type": "code",
   "execution_count": null,
   "metadata": {},
   "outputs": [],
   "source": [
    "predictions_df = pd.read_csv(predictions, sep='\\t', header=None, names=['user_id', 'item_id', 'score'])\n",
    "predictions_df = predictions_df.merge(mv_df)\n",
    "\n",
    "predictions_df_user8 = predictions_df[predictions_df['user_id'] == 8]\n",
    "predictions_df_user8.reset_index(inplace=True, drop=True)\n",
    "predictions_df_user8"
   ]
  },
  {
   "cell_type": "markdown",
   "metadata": {},
   "source": [
    "## ItemKNN\n",
    "https://github.com/caserec/CaseRecommender/blob/master/caserec/recommenders/item_recommendation/itemknn.py\n",
    "\n",
    "Item Based Collaborative Filtering Recommender (Item KNN)\n",
    "    \n",
    "Item KNN predicts a user’s ranking based on similar items which him/her access."
   ]
  },
  {
   "cell_type": "code",
   "execution_count": 219,
   "metadata": {},
   "outputs": [],
   "source": [
    "from caserec.recommenders.item_recommendation.itemknn import ItemKNN\n",
    "top_n = 10\n",
    "fold_number = '0'\n",
    "\n",
    "k_neighbors = 30\n",
    "fold_folder = \"{}folds/{}/\".format(dataset_output_folder, fold_number)\n",
    "train = \"{}train.dat\".format(fold_folder)\n",
    "test = \"{}test.dat\".format(fold_folder)\n",
    "rank_cb = \"{}rank_cb.dat\".format(fold_folder)\n",
    "rank_attr = \"{}rank_attr.dat\".format(fold_folder)\n",
    "similarity = \"{}vsm.dat\".format(fold_folder)\n",
    "metrics = ('PREC', 'RECALL', 'NDCG', 'MAP')\n",
    "\n",
    "model = ItemKNN(train_file=train, \n",
    "                test_file=test, \n",
    "#                 as_binary=True, # If True, the explicit feedback will be transform to binary\n",
    "                k_neighbors=k_neighbors,\n",
    "                similarity_metric='cosine',\n",
    "                rank_length=top_n)\n"
   ]
  },
  {
   "cell_type": "code",
   "execution_count": 220,
   "metadata": {},
   "outputs": [
    {
     "name": "stdout",
     "output_type": "stream",
     "text": [
      "[Case Recommender: Item Recommendation > ItemKNN Algorithm]\n",
      "\n",
      "train data:: 943 users and 1651 items (80000 interactions) | sparsity:: 94.86%\n",
      "test data:: 942 users and 1404 items (20000 interactions) | sparsity:: 98.49%\n",
      "\n",
      "training_time:: 2.872298 sec\n",
      "prediction_time:: 20.142112 sec\n",
      "\n",
      "\n",
      "PREC@10\tRECALL@10\tMAP@10\tNDCG@10\t\n",
      "0.327282\t0.200777\t0.526182\t0.641745\t\n"
     ]
    }
   ],
   "source": [
    "metrics = ('Prec', 'Recall', 'NDCG', 'MAP')\n",
    "\n",
    "model.compute(metrics=None, \n",
    "             as_table=True,\n",
    "             n_ranks=[top_n])"
   ]
  },
  {
   "cell_type": "code",
   "execution_count": 221,
   "metadata": {},
   "outputs": [],
   "source": [
    "df_ranks_topn = pd.DataFrame(model.ranking, columns = ['user_id', 'item_id', 'rank'])"
   ]
  },
  {
   "cell_type": "code",
   "execution_count": 227,
   "metadata": {},
   "outputs": [
    {
     "name": "stdout",
     "output_type": "stream",
     "text": [
      "3\n"
     ]
    }
   ],
   "source": [
    "# model.ranking[:top_n]\n",
    "partial_sps = 0\n",
    "sps = 0\n",
    "rank = 3\n",
    "for user_id in df_ranks_topn['user_id'].unique():        \n",
    "    partial_sps = 1 if df_ranks_topn[df_ranks_topn['user_id'] == user_id]['item_id'].reset_index(drop=True)[rank] in df_test[df_test['user_id'] == user_id]['item_id'] else 0  \n",
    "    sps = sps + partial_sps\n",
    "\n",
    "print (sps)"
   ]
  },
  {
   "cell_type": "code",
   "execution_count": 55,
   "metadata": {},
   "outputs": [
    {
     "data": {
      "text/html": [
       "<div>\n",
       "<style scoped>\n",
       "    .dataframe tbody tr th:only-of-type {\n",
       "        vertical-align: middle;\n",
       "    }\n",
       "\n",
       "    .dataframe tbody tr th {\n",
       "        vertical-align: top;\n",
       "    }\n",
       "\n",
       "    .dataframe thead th {\n",
       "        text-align: right;\n",
       "    }\n",
       "</style>\n",
       "<table border=\"1\" class=\"dataframe\">\n",
       "  <thead>\n",
       "    <tr style=\"text-align: right;\">\n",
       "      <th></th>\n",
       "      <th>user_id</th>\n",
       "      <th>item_id</th>\n",
       "      <th>rating</th>\n",
       "      <th>time</th>\n",
       "    </tr>\n",
       "  </thead>\n",
       "  <tbody>\n",
       "    <tr>\n",
       "      <th>0</th>\n",
       "      <td>1</td>\n",
       "      <td>9</td>\n",
       "      <td>5</td>\n",
       "      <td>878543541</td>\n",
       "    </tr>\n",
       "    <tr>\n",
       "      <th>1</th>\n",
       "      <td>1</td>\n",
       "      <td>15</td>\n",
       "      <td>5</td>\n",
       "      <td>875071608</td>\n",
       "    </tr>\n",
       "    <tr>\n",
       "      <th>2</th>\n",
       "      <td>1</td>\n",
       "      <td>17</td>\n",
       "      <td>3</td>\n",
       "      <td>875073198</td>\n",
       "    </tr>\n",
       "    <tr>\n",
       "      <th>3</th>\n",
       "      <td>1</td>\n",
       "      <td>26</td>\n",
       "      <td>3</td>\n",
       "      <td>875072442</td>\n",
       "    </tr>\n",
       "    <tr>\n",
       "      <th>4</th>\n",
       "      <td>1</td>\n",
       "      <td>35</td>\n",
       "      <td>1</td>\n",
       "      <td>878542420</td>\n",
       "    </tr>\n",
       "  </tbody>\n",
       "</table>\n",
       "</div>"
      ],
      "text/plain": [
       "   user_id  item_id  rating       time\n",
       "0        1        9       5  878543541\n",
       "1        1       15       5  875071608\n",
       "2        1       17       3  875073198\n",
       "3        1       26       3  875072442\n",
       "4        1       35       1  878542420"
      ]
     },
     "execution_count": 55,
     "metadata": {},
     "output_type": "execute_result"
    }
   ],
   "source": [
    "pd.read_csv(test, sep='\\t', header=None, names=['user_id', 'item_id', 'rating', 'time']).head()"
   ]
  },
  {
   "cell_type": "code",
   "execution_count": 77,
   "metadata": {},
   "outputs": [],
   "source": [
    "model.test_set #.get(0, [])"
   ]
  },
  {
   "cell_type": "code",
   "execution_count": null,
   "metadata": {},
   "outputs": [],
   "source": []
  },
  {
   "cell_type": "code",
   "execution_count": 71,
   "metadata": {},
   "outputs": [
    {
     "data": {
      "text/plain": [
       "{9,\n",
       " 15,\n",
       " 17,\n",
       " 26,\n",
       " 35,\n",
       " 36,\n",
       " 38,\n",
       " 51,\n",
       " 56,\n",
       " 62,\n",
       " 67,\n",
       " 69,\n",
       " 70,\n",
       " 76,\n",
       " 78,\n",
       " 84,\n",
       " 88,\n",
       " 89,\n",
       " 93,\n",
       " 108,\n",
       " 115,\n",
       " 117,\n",
       " 124,\n",
       " 127,\n",
       " 134,\n",
       " 135,\n",
       " 144,\n",
       " 147,\n",
       " 151,\n",
       " 152,\n",
       " 153,\n",
       " 155,\n",
       " 156,\n",
       " 159,\n",
       " 164,\n",
       " 165,\n",
       " 167,\n",
       " 169,\n",
       " 170,\n",
       " 173,\n",
       " 177,\n",
       " 185,\n",
       " 186,\n",
       " 190,\n",
       " 192,\n",
       " 196,\n",
       " 201,\n",
       " 202,\n",
       " 206,\n",
       " 212,\n",
       " 214,\n",
       " 216,\n",
       " 217,\n",
       " 219,\n",
       " 221,\n",
       " 245,\n",
       " 250,\n",
       " 253,\n",
       " 260,\n",
       " 268}"
      ]
     },
     "execution_count": 71,
     "metadata": {},
     "output_type": "execute_result"
    }
   ],
   "source": [
    "#model.test_set\n",
    "\n",
    "# list(model.test_set['items_seen_by_user'][1])#[0]\n",
    "model.test_set['items_seen_by_user'][1]"
   ]
  },
  {
   "cell_type": "markdown",
   "metadata": {},
   "source": [
    "### Running best k neighbor analysis"
   ]
  },
  {
   "cell_type": "code",
   "execution_count": 141,
   "metadata": {},
   "outputs": [
    {
     "name": "stdout",
     "output_type": "stream",
     "text": [
      "Processing neighbours 4\n",
      "PREC@10\tRECALL@10\tMAP@10\tNDCG@10\t\n",
      "0.268047\t0.167212\t0.467241\t0.589527\t\n",
      "PREC@10\tRECALL@10\tMAP@10\tNDCG@10\t\n",
      "0.270426\t0.180411\t0.463259\t0.59234\t\n",
      "PREC@10\tRECALL@10\tMAP@10\tNDCG@10\t\n",
      "0.271095\t0.182398\t0.47898\t0.599043\t\n",
      "PREC@10\tRECALL@10\tMAP@10\tNDCG@10\t\n",
      "0.268936\t0.170625\t0.461564\t0.582094\t\n",
      "PREC@10\tRECALL@10\tMAP@10\tNDCG@10\t\n",
      "0.269745\t0.17164\t0.474259\t0.597189\t\n",
      "Processing neighbours 6\n",
      "PREC@10\tRECALL@10\tMAP@10\tNDCG@10\t\n",
      "0.284607\t0.176012\t0.480703\t0.605361\t\n",
      "PREC@10\tRECALL@10\tMAP@10\tNDCG@10\t\n",
      "0.28117\t0.181039\t0.4782\t0.600971\t\n",
      "PREC@10\tRECALL@10\tMAP@10\tNDCG@10\t\n",
      "0.287141\t0.189081\t0.485042\t0.611865\t\n",
      "PREC@10\tRECALL@10\tMAP@10\tNDCG@10\t\n",
      "0.281064\t0.17475\t0.471879\t0.591739\t\n",
      "PREC@10\tRECALL@10\tMAP@10\tNDCG@10\t\n",
      "0.285244\t0.185008\t0.485757\t0.609097\t\n",
      "Processing neighbours 8\n",
      "PREC@10\tRECALL@10\tMAP@10\tNDCG@10\t\n",
      "0.293206\t0.182316\t0.486715\t0.606499\t\n",
      "PREC@10\tRECALL@10\tMAP@10\tNDCG@10\t\n",
      "0.290957\t0.188459\t0.491314\t0.617156\t\n",
      "PREC@10\tRECALL@10\tMAP@10\tNDCG@10\t\n",
      "0.298512\t0.198905\t0.503419\t0.629996\t\n",
      "PREC@10\tRECALL@10\tMAP@10\tNDCG@10\t\n",
      "0.291702\t0.183122\t0.480169\t0.60102\t\n",
      "PREC@10\tRECALL@10\tMAP@10\tNDCG@10\t\n",
      "0.294268\t0.189817\t0.505887\t0.626331\t\n",
      "Processing neighbours 10\n",
      "PREC@10\tRECALL@10\tMAP@10\tNDCG@10\t\n",
      "0.297558\t0.183707\t0.488901\t0.614628\t\n",
      "PREC@10\tRECALL@10\tMAP@10\tNDCG@10\t\n",
      "0.291489\t0.185715\t0.502722\t0.624403\t\n",
      "PREC@10\tRECALL@10\tMAP@10\tNDCG@10\t\n",
      "0.30882\t0.201726\t0.511109\t0.636033\t\n",
      "PREC@10\tRECALL@10\tMAP@10\tNDCG@10\t\n",
      "0.300851\t0.190983\t0.495945\t0.615531\t\n",
      "PREC@10\tRECALL@10\tMAP@10\tNDCG@10\t\n",
      "0.302123\t0.19421\t0.503276\t0.622151\t\n",
      "Processing neighbours 12\n",
      "PREC@10\tRECALL@10\tMAP@10\tNDCG@10\t\n",
      "0.303928\t0.192701\t0.499994\t0.622791\t\n",
      "PREC@10\tRECALL@10\tMAP@10\tNDCG@10\t\n",
      "0.299787\t0.19105\t0.491513\t0.618724\t\n",
      "PREC@10\tRECALL@10\tMAP@10\tNDCG@10\t\n",
      "0.316259\t0.208663\t0.522521\t0.644269\t\n",
      "PREC@10\tRECALL@10\tMAP@10\tNDCG@10\t\n",
      "0.30734\t0.197726\t0.50396\t0.617868\t\n",
      "PREC@10\tRECALL@10\tMAP@10\tNDCG@10\t\n",
      "0.306263\t0.196443\t0.513186\t0.636207\t\n",
      "Processing neighbours 14\n",
      "PREC@10\tRECALL@10\tMAP@10\tNDCG@10\t\n",
      "0.31051\t0.192971\t0.502386\t0.625613\t\n",
      "PREC@10\tRECALL@10\tMAP@10\tNDCG@10\t\n",
      "0.304043\t0.191695\t0.498264\t0.619518\t\n",
      "PREC@10\tRECALL@10\tMAP@10\tNDCG@10\t\n",
      "0.319554\t0.210415\t0.531977\t0.655675\t\n",
      "PREC@10\tRECALL@10\tMAP@10\tNDCG@10\t\n",
      "0.312872\t0.19887\t0.504338\t0.619929\t\n",
      "PREC@10\tRECALL@10\tMAP@10\tNDCG@10\t\n",
      "0.31189\t0.19959\t0.510007\t0.628413\t\n",
      "Processing neighbours 16\n",
      "PREC@10\tRECALL@10\tMAP@10\tNDCG@10\t\n",
      "0.311253\t0.192538\t0.514423\t0.636953\t\n",
      "PREC@10\tRECALL@10\tMAP@10\tNDCG@10\t\n",
      "0.305638\t0.19319\t0.502118\t0.626335\t\n",
      "PREC@10\tRECALL@10\tMAP@10\tNDCG@10\t\n",
      "0.326567\t0.214158\t0.526774\t0.648971\t\n",
      "PREC@10\tRECALL@10\tMAP@10\tNDCG@10\t\n",
      "0.313404\t0.19907\t0.509663\t0.625669\t\n",
      "PREC@10\tRECALL@10\tMAP@10\tNDCG@10\t\n",
      "0.31104\t0.199451\t0.510439\t0.629057\t\n",
      "Processing neighbours 18\n",
      "PREC@10\tRECALL@10\tMAP@10\tNDCG@10\t\n",
      "0.315287\t0.197124\t0.509969\t0.628742\t\n",
      "PREC@10\tRECALL@10\tMAP@10\tNDCG@10\t\n",
      "0.312128\t0.199194\t0.51448\t0.636027\t\n",
      "PREC@10\tRECALL@10\tMAP@10\tNDCG@10\t\n",
      "0.32423\t0.212773\t0.530799\t0.650061\t\n",
      "PREC@10\tRECALL@10\tMAP@10\tNDCG@10\t\n",
      "0.316277\t0.198961\t0.513112\t0.628445\t\n",
      "PREC@10\tRECALL@10\tMAP@10\tNDCG@10\t\n",
      "0.311996\t0.198437\t0.515018\t0.631911\t\n",
      "Processing neighbours 20\n",
      "PREC@10\tRECALL@10\tMAP@10\tNDCG@10\t\n",
      "0.319108\t0.198886\t0.518256\t0.634754\t\n",
      "PREC@10\tRECALL@10\tMAP@10\tNDCG@10\t\n",
      "0.312234\t0.198319\t0.518985\t0.635907\t\n",
      "PREC@10\tRECALL@10\tMAP@10\tNDCG@10\t\n",
      "0.328693\t0.214491\t0.531117\t0.65044\t\n",
      "PREC@10\tRECALL@10\tMAP@10\tNDCG@10\t\n",
      "0.318936\t0.199919\t0.512674\t0.628878\t\n",
      "PREC@10\tRECALL@10\tMAP@10\tNDCG@10\t\n",
      "0.316348\t0.204027\t0.519009\t0.632466\t\n",
      "Processing neighbours 22\n",
      "PREC@10\tRECALL@10\tMAP@10\tNDCG@10\t\n",
      "0.319639\t0.19696\t0.518376\t0.635635\t\n",
      "PREC@10\tRECALL@10\tMAP@10\tNDCG@10\t\n",
      "0.31734\t0.200509\t0.512327\t0.630943\t\n",
      "PREC@10\tRECALL@10\tMAP@10\tNDCG@10\t\n",
      "0.330818\t0.213017\t0.532064\t0.648807\t\n",
      "PREC@10\tRECALL@10\tMAP@10\tNDCG@10\t\n",
      "0.320957\t0.201168\t0.510571\t0.626101\t\n",
      "PREC@10\tRECALL@10\tMAP@10\tNDCG@10\t\n",
      "0.317516\t0.204423\t0.516847\t0.633053\t\n",
      "Processing neighbours 24\n",
      "PREC@10\tRECALL@10\tMAP@10\tNDCG@10\t\n",
      "0.319958\t0.194712\t0.520105\t0.633499\t\n",
      "PREC@10\tRECALL@10\tMAP@10\tNDCG@10\t\n",
      "0.317979\t0.200013\t0.514685\t0.632874\t\n",
      "PREC@10\tRECALL@10\tMAP@10\tNDCG@10\t\n",
      "0.332944\t0.213804\t0.536912\t0.6516\t\n",
      "PREC@10\tRECALL@10\tMAP@10\tNDCG@10\t\n",
      "0.323723\t0.203101\t0.51555\t0.630524\t\n",
      "PREC@10\tRECALL@10\tMAP@10\tNDCG@10\t\n",
      "0.319639\t0.206469\t0.517716\t0.632348\t\n",
      "Processing neighbours 26\n",
      "PREC@10\tRECALL@10\tMAP@10\tNDCG@10\t\n",
      "0.320488\t0.193413\t0.522128\t0.633409\t\n",
      "PREC@10\tRECALL@10\tMAP@10\tNDCG@10\t\n",
      "0.316809\t0.196967\t0.520736\t0.6361\t\n",
      "PREC@10\tRECALL@10\tMAP@10\tNDCG@10\t\n",
      "0.330606\t0.215011\t0.540076\t0.656138\t\n",
      "PREC@10\tRECALL@10\tMAP@10\tNDCG@10\t\n",
      "0.322979\t0.20462\t0.519955\t0.637401\t\n",
      "PREC@10\tRECALL@10\tMAP@10\tNDCG@10\t\n",
      "0.320701\t0.207553\t0.523559\t0.638262\t\n",
      "Processing neighbours 28\n",
      "PREC@10\tRECALL@10\tMAP@10\tNDCG@10\t\n",
      "0.325372\t0.197706\t0.520834\t0.63677\t\n",
      "PREC@10\tRECALL@10\tMAP@10\tNDCG@10\t\n",
      "0.319894\t0.201129\t0.519117\t0.635263\t\n",
      "PREC@10\tRECALL@10\tMAP@10\tNDCG@10\t\n",
      "0.3339\t0.216633\t0.538106\t0.653672\t\n",
      "PREC@10\tRECALL@10\tMAP@10\tNDCG@10\t\n",
      "0.324787\t0.205434\t0.522793\t0.642637\t\n",
      "PREC@10\tRECALL@10\tMAP@10\tNDCG@10\t\n",
      "0.323673\t0.208342\t0.527726\t0.644745\t\n",
      "Processing neighbours 30\n",
      "PREC@10\tRECALL@10\tMAP@10\tNDCG@10\t\n",
      "0.327282\t0.200777\t0.526182\t0.641745\t\n",
      "PREC@10\tRECALL@10\tMAP@10\tNDCG@10\t\n",
      "0.318404\t0.199833\t0.514471\t0.636125\t\n",
      "PREC@10\tRECALL@10\tMAP@10\tNDCG@10\t\n",
      "0.334857\t0.216084\t0.538051\t0.656665\t\n",
      "PREC@10\tRECALL@10\tMAP@10\tNDCG@10\t\n",
      "0.327234\t0.206292\t0.519614\t0.637181\t\n",
      "PREC@10\tRECALL@10\tMAP@10\tNDCG@10\t\n",
      "0.322505\t0.205982\t0.530441\t0.643665\t\n",
      "Processing neighbours 32\n",
      "PREC@10\tRECALL@10\tMAP@10\tNDCG@10\t\n",
      "0.326964\t0.201576\t0.523256\t0.635164\t\n",
      "PREC@10\tRECALL@10\tMAP@10\tNDCG@10\t\n",
      "0.319255\t0.200665\t0.515187\t0.634011\t\n",
      "PREC@10\tRECALL@10\tMAP@10\tNDCG@10\t\n",
      "0.333475\t0.215729\t0.535491\t0.652978\t\n",
      "PREC@10\tRECALL@10\tMAP@10\tNDCG@10\t\n",
      "0.326809\t0.203827\t0.526787\t0.642833\t\n",
      "PREC@10\tRECALL@10\tMAP@10\tNDCG@10\t\n",
      "0.320807\t0.203186\t0.529106\t0.641808\t\n",
      "Processing neighbours 34\n",
      "PREC@10\tRECALL@10\tMAP@10\tNDCG@10\t\n",
      "0.32983\t0.202439\t0.527913\t0.642749\t\n",
      "PREC@10\tRECALL@10\tMAP@10\tNDCG@10\t\n",
      "0.320319\t0.199431\t0.525871\t0.642001\t\n",
      "PREC@10\tRECALL@10\tMAP@10\tNDCG@10\t\n",
      "0.332731\t0.214066\t0.536851\t0.65253\t\n",
      "PREC@10\tRECALL@10\tMAP@10\tNDCG@10\t\n",
      "0.32734\t0.204645\t0.521999\t0.640503\t\n",
      "PREC@10\tRECALL@10\tMAP@10\tNDCG@10\t\n",
      "0.32155\t0.203964\t0.522895\t0.636493\t\n",
      "Processing neighbours 36\n",
      "PREC@10\tRECALL@10\tMAP@10\tNDCG@10\t\n",
      "0.328769\t0.201433\t0.52827\t0.648242\t\n",
      "PREC@10\tRECALL@10\tMAP@10\tNDCG@10\t\n",
      "0.319043\t0.199745\t0.52829\t0.646959\t\n",
      "PREC@10\tRECALL@10\tMAP@10\tNDCG@10\t\n",
      "0.333156\t0.215396\t0.538971\t0.652629\t\n",
      "PREC@10\tRECALL@10\tMAP@10\tNDCG@10\t\n",
      "0.329468\t0.205012\t0.525292\t0.641568\t\n",
      "PREC@10\tRECALL@10\tMAP@10\tNDCG@10\t\n",
      "0.32155\t0.203975\t0.521022\t0.63882\t\n",
      "Processing neighbours 38\n",
      "PREC@10\tRECALL@10\tMAP@10\tNDCG@10\t\n",
      "0.329087\t0.200145\t0.534483\t0.651263\t\n",
      "PREC@10\tRECALL@10\tMAP@10\tNDCG@10\t\n",
      "0.32234\t0.202801\t0.526299\t0.648075\t\n",
      "PREC@10\tRECALL@10\tMAP@10\tNDCG@10\t\n",
      "0.337938\t0.216936\t0.541135\t0.656776\t\n",
      "PREC@10\tRECALL@10\tMAP@10\tNDCG@10\t\n",
      "0.330319\t0.207711\t0.523056\t0.639705\t\n",
      "PREC@10\tRECALL@10\tMAP@10\tNDCG@10\t\n",
      "0.322293\t0.201912\t0.528367\t0.64134\t\n",
      "Processing neighbours 40\n",
      "PREC@10\tRECALL@10\tMAP@10\tNDCG@10\t\n",
      "0.330149\t0.201432\t0.541863\t0.655354\t\n",
      "PREC@10\tRECALL@10\tMAP@10\tNDCG@10\t\n",
      "0.320745\t0.201769\t0.524253\t0.643394\t\n",
      "PREC@10\tRECALL@10\tMAP@10\tNDCG@10\t\n",
      "0.334325\t0.213038\t0.54187\t0.656063\t\n",
      "PREC@10\tRECALL@10\tMAP@10\tNDCG@10\t\n",
      "0.32883\t0.205835\t0.528071\t0.648533\t\n",
      "PREC@10\tRECALL@10\tMAP@10\tNDCG@10\t\n",
      "0.323142\t0.20201\t0.523476\t0.638719\t\n",
      "Processing neighbours 42\n",
      "PREC@10\tRECALL@10\tMAP@10\tNDCG@10\t\n",
      "0.330255\t0.201374\t0.538785\t0.653748\t\n",
      "PREC@10\tRECALL@10\tMAP@10\tNDCG@10\t\n",
      "0.32\t0.200431\t0.526274\t0.645518\t\n",
      "PREC@10\tRECALL@10\tMAP@10\tNDCG@10\t\n",
      "0.336663\t0.213843\t0.539303\t0.654817\t\n",
      "PREC@10\tRECALL@10\tMAP@10\tNDCG@10\t\n",
      "0.329574\t0.204324\t0.527505\t0.643421\t\n",
      "PREC@10\tRECALL@10\tMAP@10\tNDCG@10\t\n",
      "0.325902\t0.202599\t0.52046\t0.636542\t\n",
      "Processing neighbours 44\n",
      "PREC@10\tRECALL@10\tMAP@10\tNDCG@10\t\n",
      "0.330786\t0.202285\t0.540265\t0.659615\t\n",
      "PREC@10\tRECALL@10\tMAP@10\tNDCG@10\t\n",
      "0.320426\t0.202\t0.528449\t0.648118\t\n",
      "PREC@10\tRECALL@10\tMAP@10\tNDCG@10\t\n",
      "0.335919\t0.212085\t0.537518\t0.652421\t\n",
      "PREC@10\tRECALL@10\tMAP@10\tNDCG@10\t\n",
      "0.334574\t0.206214\t0.527044\t0.644157\t\n",
      "PREC@10\tRECALL@10\tMAP@10\tNDCG@10\t\n",
      "0.326858\t0.205212\t0.519529\t0.638112\t\n",
      "Processing neighbours 46\n",
      "PREC@10\tRECALL@10\tMAP@10\tNDCG@10\t\n",
      "0.329406\t0.202902\t0.53884\t0.656764\t\n",
      "PREC@10\tRECALL@10\tMAP@10\tNDCG@10\t\n",
      "0.319787\t0.20302\t0.528812\t0.646271\t\n",
      "PREC@10\tRECALL@10\tMAP@10\tNDCG@10\t\n",
      "0.335494\t0.212492\t0.538017\t0.654298\t\n",
      "PREC@10\tRECALL@10\tMAP@10\tNDCG@10\t\n",
      "0.334043\t0.207483\t0.525667\t0.640167\t\n"
     ]
    },
    {
     "name": "stdout",
     "output_type": "stream",
     "text": [
      "PREC@10\tRECALL@10\tMAP@10\tNDCG@10\t\n",
      "0.326221\t0.204249\t0.516948\t0.634476\t\n",
      "Processing neighbours 48\n",
      "PREC@10\tRECALL@10\tMAP@10\tNDCG@10\t\n",
      "0.329193\t0.202534\t0.542579\t0.662255\t\n",
      "PREC@10\tRECALL@10\tMAP@10\tNDCG@10\t\n",
      "0.32266\t0.2038\t0.530961\t0.649345\t\n",
      "PREC@10\tRECALL@10\tMAP@10\tNDCG@10\t\n",
      "0.336769\t0.213104\t0.537038\t0.656114\t\n",
      "PREC@10\tRECALL@10\tMAP@10\tNDCG@10\t\n",
      "0.332234\t0.206449\t0.526044\t0.640465\t\n",
      "PREC@10\tRECALL@10\tMAP@10\tNDCG@10\t\n",
      "0.325265\t0.201846\t0.518843\t0.633574\t\n",
      "Processing neighbours 50\n",
      "PREC@10\tRECALL@10\tMAP@10\tNDCG@10\t\n",
      "0.330042\t0.203885\t0.538233\t0.656401\t\n",
      "PREC@10\tRECALL@10\tMAP@10\tNDCG@10\t\n",
      "0.324255\t0.2053\t0.529421\t0.647749\t\n",
      "PREC@10\tRECALL@10\tMAP@10\tNDCG@10\t\n",
      "0.33932\t0.217\t0.538938\t0.652674\t\n",
      "PREC@10\tRECALL@10\tMAP@10\tNDCG@10\t\n",
      "0.331277\t0.204886\t0.525302\t0.642174\t\n",
      "PREC@10\tRECALL@10\tMAP@10\tNDCG@10\t\n",
      "0.329193\t0.205888\t0.521561\t0.635804\t\n",
      "Wall time: 56min 51s\n"
     ]
    }
   ],
   "source": [
    "%%time\n",
    "step_size = 2\n",
    "arr_k_neighbors = np.arange(4, 51, step_size)\n",
    "arr_n_folds = np.arange(0, n_folds, 1)\n",
    "\n",
    "all_folds_map = []\n",
    "all_folds_map_topn = []\n",
    "all_folds_ndcg_topn = []\n",
    "all_folds_prec_topn = []\n",
    "all_folds_recall_topn = []\n",
    "\n",
    "for k_neighbors in arr_k_neighbors:\n",
    "    print (\"Processing neighbours \" + str(k_neighbors))\n",
    "    \n",
    "    k_neighbors_map = []\n",
    "    k_neighbors_map_topn = []\n",
    "    k_neighbors_ndcg_topn = []\n",
    "    k_neighbors_prec_topn = []\n",
    "    k_neighbors_recall_topn = []\n",
    "    \n",
    "    for n_fold in arr_n_folds:\n",
    "        fold_folder = \"{}folds/{}/\".format(dataset_output_folder, n_fold)\n",
    "        train = \"{}train.dat\".format(fold_folder)\n",
    "        test = \"{}test.dat\".format(fold_folder)\n",
    "        \n",
    "        model = ItemKNN(\n",
    "                    train_file=train, \n",
    "                    test_file=test, \n",
    "    #                 as_binary=True, # If True, the explicit feedback will be transform to binary\n",
    "                    k_neighbors=k_neighbors,\n",
    "                    similarity_metric='cosine',\n",
    "                    rank_length=top_n)\n",
    "        \n",
    "        model.compute(\n",
    "            metrics=None, \n",
    "            as_table=True,\n",
    "            n_ranks=[top_n],\n",
    "            verbose=False)\n",
    "        \n",
    "        eval_results = model.evaluation_results\n",
    "        \n",
    "        k_neighbors_map.append(eval_results['MAP'])\n",
    "        k_neighbors_map_topn.append(eval_results['MAP@' + str(top_n)])\n",
    "        k_neighbors_ndcg_topn.append(eval_results['NDCG@' + str(top_n)])\n",
    "        k_neighbors_prec_topn.append(eval_results['PREC@' + str(top_n)])\n",
    "        k_neighbors_recall_topn.append(eval_results['RECALL@' + str(top_n)])\n",
    "        \n",
    "    all_folds_map.append(k_neighbors_map)\n",
    "    all_folds_map_topn.append(k_neighbors_map_topn)\n",
    "    all_folds_ndcg_topn.append(k_neighbors_ndcg_topn)\n",
    "    all_folds_prec_topn.append(k_neighbors_prec_topn)\n",
    "    all_folds_recall_topn.append(k_neighbors_recall_topn)"
   ]
  },
  {
   "cell_type": "code",
   "execution_count": 128,
   "metadata": {},
   "outputs": [],
   "source": []
  },
  {
   "cell_type": "code",
   "execution_count": 132,
   "metadata": {},
   "outputs": [
    {
     "data": {
      "text/plain": [
       "'5_folds_map_at_10_neigh_5_to_35_by_5'"
      ]
     },
     "execution_count": 132,
     "metadata": {},
     "output_type": "execute_result"
    }
   ],
   "source": []
  },
  {
   "cell_type": "code",
   "execution_count": 142,
   "metadata": {},
   "outputs": [
    {
     "data": {
      "text/plain": [
       "['./outputs/movieLens/100k/5_folds_ndcg_at_10_neigh_4_to_50_by_2.joblib']"
      ]
     },
     "execution_count": 142,
     "metadata": {},
     "output_type": "execute_result"
    }
   ],
   "source": [
    "import joblib\n",
    "filename = '{}_folds_{}_at_{}_neigh_{}_to_{}_by_{}.joblib'.format(n_folds, 'map', top_n, arr_k_neighbors[0], arr_k_neighbors[-1], step_size)\n",
    "joblib.dump(all_folds_map_topn, dataset_output_folder + filename)\n",
    "filename = '{}_folds_{}_at_{}_neigh_{}_to_{}_by_{}.joblib'.format(n_folds, 'recall', top_n, arr_k_neighbors[0], arr_k_neighbors[-1], step_size)\n",
    "joblib.dump(all_folds_recall_topn, dataset_output_folder + filename)\n",
    "filename = '{}_folds_{}_at_{}_neigh_{}_to_{}_by_{}.joblib'.format(n_folds, 'prec', top_n, arr_k_neighbors[0], arr_k_neighbors[-1], step_size)\n",
    "joblib.dump(all_folds_prec_topn, dataset_output_folder + filename)\n",
    "filename = '{}_folds_{}_at_{}_neigh_{}_to_{}_by_{}.joblib'.format(n_folds, 'ndcg', top_n, arr_k_neighbors[0], arr_k_neighbors[-1], step_size)\n",
    "joblib.dump(all_folds_ndcg_topn, dataset_output_folder + filename)"
   ]
  },
  {
   "cell_type": "code",
   "execution_count": 143,
   "metadata": {},
   "outputs": [
    {
     "data": {
      "image/png": "[encoded data removed]",
      "text/plain": [
       "<matplotlib.figure.Figure at 0x2311f1df6d8>"
      ]
     },
     "metadata": {},
     "output_type": "display_data"
    }
   ],
   "source": [
    "def plot_k_neighbors(all_folds_metric_topn, arr_k_neighbors, metric, filename = None):\n",
    "    fig, ax = plt.subplots(nrows=1, ncols=1, figsize = (8,8))\n",
    "    x = arr_k_neighbors\n",
    "    y = np.array([np.mean(x) for x in all_folds_metric_topn])\n",
    "    y_std = np.array([np.std(x) for x in all_folds_metric_topn])\n",
    "    # ax.plot(x, y)\n",
    "    ax.scatter(x, y)\n",
    "    ax.errorbar(x, y, y_std, ecolor='red', marker = 's')\n",
    "    ax.set_title(metric + ' x #Neighbors')\n",
    "    ax.set_xlabel('#Neighbors')\n",
    "    ax.set_ylabel(metric)\n",
    "    ax.grid()\n",
    "    \n",
    "    if (filename is not None):\n",
    "        plt.savefig(filename)\n",
    "\n",
    "filename = '{}_folds_{}_at_{}_neigh_{}_to_{}_by_{}.jpeg'.format(n_folds, 'map', top_n, arr_k_neighbors[0], arr_k_neighbors[-1], step_size)\n",
    "filename = dataset_output_folder + filename\n",
    "plot_k_neighbors(all_folds_map_topn, arr_k_neighbors, 'MAP@' + str(top_n), filename)"
   ]
  },
  {
   "cell_type": "code",
   "execution_count": 146,
   "metadata": {},
   "outputs": [
    {
     "data": {
      "image/png": "[encoded data removed]",
      "text/plain": [
       "<matplotlib.figure.Figure at 0x2311ef33978>"
      ]
     },
     "metadata": {},
     "output_type": "display_data"
    }
   ],
   "source": [
    "filename = '{}_folds_{}_at_{}_neigh_{}_to_{}_by_{}.jpeg'.format(n_folds, 'recall', top_n, arr_k_neighbors[0], arr_k_neighbors[-1], step_size)\n",
    "filename = dataset_output_folder + filename\n",
    "plot_k_neighbors(all_folds_recall_topn, arr_k_neighbors, 'RECALL@' + str(top_n), filename)"
   ]
  },
  {
   "cell_type": "code",
   "execution_count": 147,
   "metadata": {},
   "outputs": [
    {
     "data": {
      "image/png": "[encoded data removed]",
      "text/plain": [
       "<matplotlib.figure.Figure at 0x2311ef2dd68>"
      ]
     },
     "metadata": {},
     "output_type": "display_data"
    }
   ],
   "source": [
    "filename = '{}_folds_{}_at_{}_neigh_{}_to_{}_by_{}.jpeg'.format(n_folds, 'precision', top_n, arr_k_neighbors[0], arr_k_neighbors[-1], step_size)\n",
    "filename = dataset_output_folder + filename\n",
    "plot_k_neighbors(all_folds_prec_topn, arr_k_neighbors, 'PRECISION@' + str(top_n), filename)"
   ]
  },
  {
   "cell_type": "code",
   "execution_count": null,
   "metadata": {},
   "outputs": [],
   "source": []
  },
  {
   "cell_type": "markdown",
   "metadata": {},
   "source": [
    "## Most Popular"
   ]
  },
  {
   "cell_type": "code",
   "execution_count": 9,
   "metadata": {},
   "outputs": [],
   "source": [
    "from caserec.recommenders.item_recommendation.most_popular import MostPopular\n",
    "from caserec.utils.cross_validation import CrossValidation\n"
   ]
  },
  {
   "cell_type": "code",
   "execution_count": 12,
   "metadata": {},
   "outputs": [],
   "source": [
    "n_fold = 0\n",
    "top_n = 5\n",
    "fold_folder = \"{}folds/{}/\".format(dataset_output_folder, n_fold)\n",
    "train = \"{}train.dat\".format(fold_folder)\n",
    "test = \"{}test.dat\".format(fold_folder)\n",
    "\n",
    "model = MostPopular(train, \n",
    "                    test, \n",
    "                    as_binary=False,                   \n",
    "                    rank_length=top_n)\n",
    "\n"
   ]
  },
  {
   "cell_type": "code",
   "execution_count": 15,
   "metadata": {},
   "outputs": [
    {
     "ename": "TypeError",
     "evalue": "compute() got an unexpected keyword argument 'n_ranks'",
     "output_type": "error",
     "traceback": [
      "\u001b[1;31m---------------------------------------------------------------------------\u001b[0m",
      "\u001b[1;31mTypeError\u001b[0m                                 Traceback (most recent call last)",
      "\u001b[1;32m<ipython-input-15-7c28a8317325>\u001b[0m in \u001b[0;36m<module>\u001b[1;34m\u001b[0m\n\u001b[0;32m      3\u001b[0m     \u001b[0mas_table\u001b[0m\u001b[1;33m=\u001b[0m\u001b[1;32mTrue\u001b[0m\u001b[1;33m,\u001b[0m\u001b[1;33m\u001b[0m\u001b[1;33m\u001b[0m\u001b[0m\n\u001b[0;32m      4\u001b[0m     \u001b[0mn_ranks\u001b[0m\u001b[1;33m=\u001b[0m\u001b[1;33m[\u001b[0m\u001b[0mtop_n\u001b[0m\u001b[1;33m]\u001b[0m\u001b[1;33m,\u001b[0m\u001b[1;33m\u001b[0m\u001b[1;33m\u001b[0m\u001b[0m\n\u001b[1;32m----> 5\u001b[1;33m     verbose=True)\n\u001b[0m",
      "\u001b[1;31mTypeError\u001b[0m: compute() got an unexpected keyword argument 'n_ranks'"
     ]
    }
   ],
   "source": [
    "model.compute(\n",
    "    metrics=None, \n",
    "    as_table=True,\n",
    "    n_ranks=[top_n],\n",
    "    verbose=True)"
   ]
  },
  {
   "cell_type": "code",
   "execution_count": 14,
   "metadata": {},
   "outputs": [
    {
     "data": {
      "text/plain": [
       "{'PREC@1': 0.302227,\n",
       " 'RECALL@1': 0.017638,\n",
       " 'NDCG@1': 0.302227,\n",
       " 'MAP@1': 0.302227,\n",
       " 'MAP': 0.372722,\n",
       " 'PREC@3': 0.2234,\n",
       " 'RECALL@3': 0.036149,\n",
       " 'NDCG@3': 0.439824,\n",
       " 'MAP@3': 0.369919,\n",
       " 'PREC@5': 0.209544,\n",
       " 'RECALL@5': 0.059857,\n",
       " 'NDCG@5': 0.463937,\n",
       " 'MAP@5': 0.372722,\n",
       " 'PREC@10': 0.104772,\n",
       " 'RECALL@10': 0.059857,\n",
       " 'NDCG@10': 0.463937,\n",
       " 'MAP@10': 0.372722}"
      ]
     },
     "execution_count": 14,
     "metadata": {},
     "output_type": "execute_result"
    }
   ],
   "source": [
    "model.evaluation_results"
   ]
  },
  {
   "cell_type": "code",
   "execution_count": 165,
   "metadata": {},
   "outputs": [],
   "source": [
    "df_ranks_topn = pd.DataFrame(model.ranking, columns = ['user_id', 'item_id', 'rank'])"
   ]
  },
  {
   "cell_type": "code",
   "execution_count": 173,
   "metadata": {},
   "outputs": [],
   "source": [
    "# df_test = \n",
    "df_test = pd.read_csv(test, sep = '\\t', names = ['user_id', 'item_id', 'rating', 'timestamp'])"
   ]
  },
  {
   "cell_type": "code",
   "execution_count": 203,
   "metadata": {},
   "outputs": [
    {
     "data": {
      "text/plain": [
       "48      1\n",
       "49     25\n",
       "50    272\n",
       "51    274\n",
       "52    276\n",
       "53    279\n",
       "54    282\n",
       "55    284\n",
       "56    286\n",
       "57    288\n",
       "58    290\n",
       "59    296\n",
       "60    304\n",
       "Name: item_id, dtype: int64"
      ]
     },
     "execution_count": 203,
     "metadata": {},
     "output_type": "execute_result"
    }
   ],
   "source": [
    "df_test[df_test['user_id'] == 2]['item_id']"
   ]
  },
  {
   "cell_type": "code",
   "execution_count": 210,
   "metadata": {},
   "outputs": [
    {
     "data": {
      "text/html": [
       "<div>\n",
       "<style scoped>\n",
       "    .dataframe tbody tr th:only-of-type {\n",
       "        vertical-align: middle;\n",
       "    }\n",
       "\n",
       "    .dataframe tbody tr th {\n",
       "        vertical-align: top;\n",
       "    }\n",
       "\n",
       "    .dataframe thead th {\n",
       "        text-align: right;\n",
       "    }\n",
       "</style>\n",
       "<table border=\"1\" class=\"dataframe\">\n",
       "  <thead>\n",
       "    <tr style=\"text-align: right;\">\n",
       "      <th></th>\n",
       "      <th>user_id</th>\n",
       "      <th>item_id</th>\n",
       "      <th>rating</th>\n",
       "      <th>timestamp</th>\n",
       "    </tr>\n",
       "  </thead>\n",
       "  <tbody>\n",
       "  </tbody>\n",
       "</table>\n",
       "</div>"
      ],
      "text/plain": [
       "Empty DataFrame\n",
       "Columns: [user_id, item_id, rating, timestamp]\n",
       "Index: []"
      ]
     },
     "execution_count": 210,
     "metadata": {},
     "output_type": "execute_result"
    }
   ],
   "source": [
    "# df_test[df_test['user_id'] == 1]['item_id'].reset_index(drop = True)\n",
    "df_test[df_test['user_id'] == user_id]"
   ]
  },
  {
   "cell_type": "code",
   "execution_count": 218,
   "metadata": {},
   "outputs": [
    {
     "name": "stdout",
     "output_type": "stream",
     "text": [
      "0 0\n",
      "1 1\n",
      "1 0\n",
      "1 0\n",
      "1 0\n",
      "1 0\n",
      "1 0\n",
      "1 0\n",
      "1 0\n",
      "1 0\n",
      "1 0\n",
      "1 0\n",
      "1 0\n",
      "1 0\n",
      "1 0\n",
      "1 0\n",
      "1 0\n",
      "1 0\n",
      "1 0\n",
      "1 0\n",
      "1 0\n",
      "1 0\n",
      "1 0\n",
      "1 0\n",
      "1 0\n",
      "1 0\n",
      "1 0\n",
      "1 0\n",
      "1 0\n",
      "1 0\n",
      "1 0\n",
      "1 0\n",
      "1 0\n",
      "1 0\n",
      "1 0\n",
      "1 0\n",
      "1 0\n",
      "1 0\n",
      "1 0\n",
      "1 0\n",
      "1 0\n",
      "1 0\n",
      "1 0\n",
      "1 0\n",
      "1 0\n",
      "1 0\n",
      "1 0\n",
      "1 0\n",
      "1 0\n",
      "1 0\n",
      "1 0\n",
      "1 0\n",
      "1 0\n",
      "1 0\n",
      "1 0\n",
      "1 0\n",
      "1 0\n",
      "1 0\n",
      "1 0\n",
      "1 0\n",
      "1 0\n",
      "1 0\n",
      "1 0\n",
      "1 0\n",
      "1 0\n",
      "1 0\n",
      "1 0\n",
      "1 0\n",
      "1 0\n",
      "1 0\n",
      "1 0\n",
      "1 0\n",
      "1 0\n",
      "1 0\n",
      "1 0\n",
      "1 0\n",
      "1 0\n",
      "1 0\n",
      "1 0\n",
      "1 0\n",
      "1 0\n",
      "1 0\n",
      "1 0\n",
      "1 0\n",
      "1 0\n",
      "1 0\n",
      "1 0\n",
      "1 0\n",
      "1 0\n",
      "1 0\n",
      "1 0\n",
      "1 0\n",
      "1 0\n",
      "1 0\n",
      "1 0\n",
      "1 0\n",
      "1 0\n",
      "1 0\n",
      "1 0\n",
      "1 0\n",
      "1 0\n",
      "1 0\n",
      "1 0\n",
      "1 0\n",
      "1 0\n",
      "1 0\n",
      "1 0\n",
      "1 0\n",
      "1 0\n",
      "1 0\n",
      "1 0\n",
      "1 0\n",
      "1 0\n",
      "1 0\n",
      "1 0\n",
      "1 0\n",
      "1 0\n",
      "1 0\n",
      "1 0\n",
      "1 0\n",
      "1 0\n",
      "1 0\n",
      "1 0\n",
      "1 0\n",
      "1 0\n",
      "1 0\n",
      "1 0\n",
      "1 0\n",
      "1 0\n",
      "1 0\n",
      "1 0\n",
      "1 0\n",
      "1 0\n",
      "1 0\n",
      "1 0\n",
      "1 0\n",
      "1 0\n",
      "1 0\n",
      "1 0\n",
      "1 0\n",
      "1 0\n",
      "1 0\n",
      "1 0\n",
      "1 0\n",
      "1 0\n",
      "1 0\n",
      "1 0\n",
      "1 0\n",
      "1 0\n",
      "1 0\n",
      "1 0\n",
      "1 0\n",
      "1 0\n",
      "1 0\n",
      "1 0\n",
      "1 0\n",
      "1 0\n",
      "1 0\n",
      "1 0\n",
      "1 0\n",
      "1 0\n",
      "1 0\n",
      "1 0\n",
      "1 0\n",
      "1 0\n",
      "1 0\n",
      "1 0\n",
      "1 0\n",
      "1 0\n",
      "1 0\n",
      "1 0\n",
      "1 0\n",
      "1 0\n",
      "1 0\n",
      "1 0\n",
      "1 0\n",
      "1 0\n",
      "1 0\n",
      "1 0\n",
      "1 0\n",
      "1 0\n",
      "1 0\n",
      "1 0\n",
      "1 0\n",
      "1 0\n",
      "1 0\n",
      "1 0\n",
      "1 0\n",
      "1 0\n",
      "1 0\n",
      "1 0\n",
      "1 0\n",
      "1 0\n",
      "1 0\n",
      "1 0\n",
      "1 0\n",
      "1 0\n",
      "1 0\n",
      "1 0\n",
      "1 0\n",
      "1 0\n",
      "1 0\n",
      "1 0\n",
      "1 0\n",
      "1 0\n",
      "1 0\n",
      "1 0\n",
      "1 0\n",
      "1 0\n",
      "1 0\n",
      "1 0\n",
      "1 0\n",
      "1 0\n",
      "1 0\n",
      "1 0\n",
      "1 0\n",
      "1 0\n",
      "1 0\n",
      "1 0\n",
      "1 0\n",
      "1 0\n",
      "1 0\n",
      "1 0\n",
      "1 0\n",
      "1 0\n",
      "1 0\n",
      "1 0\n",
      "1 0\n",
      "1 0\n",
      "1 0\n",
      "1 0\n",
      "1 0\n",
      "1 0\n",
      "1 0\n",
      "1 0\n",
      "1 0\n",
      "1 0\n",
      "1 0\n",
      "1 0\n",
      "1 0\n",
      "1 0\n",
      "1 0\n",
      "1 0\n",
      "1 0\n",
      "1 0\n",
      "1 0\n",
      "1 0\n",
      "1 0\n",
      "1 0\n",
      "1 0\n",
      "1 0\n",
      "1 0\n",
      "1 0\n",
      "1 0\n",
      "1 0\n",
      "1 0\n",
      "1 0\n",
      "1 0\n",
      "1 0\n",
      "1 0\n",
      "1 0\n",
      "1 0\n",
      "1 0\n",
      "1 0\n",
      "1 0\n",
      "1 0\n",
      "1 0\n",
      "1 0\n",
      "1 0\n",
      "1 0\n",
      "1 0\n",
      "1 0\n",
      "1 0\n",
      "1 0\n",
      "1 0\n",
      "1 0\n",
      "1 0\n",
      "1 0\n",
      "1 0\n",
      "1 0\n",
      "1 0\n",
      "1 0\n",
      "1 0\n",
      "1 0\n",
      "1 0\n",
      "1 0\n",
      "1 0\n",
      "1 0\n",
      "1 0\n",
      "1 0\n",
      "1 0\n",
      "1 0\n",
      "1 0\n",
      "1 0\n",
      "1 0\n",
      "1 0\n",
      "1 0\n",
      "1 0\n",
      "1 0\n",
      "1 0\n",
      "1 0\n",
      "1 0\n",
      "1 0\n",
      "1 0\n",
      "1 0\n",
      "1 0\n",
      "1 0\n",
      "1 0\n",
      "1 0\n",
      "1 0\n",
      "1 0\n",
      "1 0\n",
      "1 0\n",
      "1 0\n",
      "1 0\n",
      "1 0\n",
      "1 0\n",
      "1 0\n",
      "1 0\n",
      "1 0\n",
      "1 0\n",
      "1 0\n",
      "1 0\n",
      "1 0\n",
      "1 0\n",
      "1 0\n",
      "1 0\n",
      "1 0\n",
      "1 0\n",
      "1 0\n",
      "1 0\n",
      "1 0\n",
      "1 0\n",
      "1 0\n",
      "1 0\n",
      "1 0\n",
      "1 0\n",
      "1 0\n",
      "1 0\n",
      "1 0\n",
      "1 0\n",
      "1 0\n",
      "1 0\n",
      "1 0\n",
      "1 0\n",
      "1 0\n",
      "1 0\n",
      "1 0\n",
      "1 0\n",
      "1 0\n",
      "1 0\n",
      "1 0\n",
      "1 0\n",
      "1 0\n",
      "1 0\n",
      "1 0\n",
      "1 0\n",
      "1 0\n",
      "1 0\n",
      "1 0\n",
      "1 0\n",
      "1 0\n",
      "1 0\n",
      "1 0\n",
      "1 0\n",
      "1 0\n",
      "1 0\n",
      "1 0\n",
      "1 0\n",
      "1 0\n",
      "1 0\n",
      "1 0\n",
      "1 0\n",
      "1 0\n",
      "1 0\n",
      "1 0\n",
      "1 0\n",
      "1 0\n",
      "1 0\n",
      "1 0\n",
      "1 0\n",
      "1 0\n",
      "1 0\n",
      "1 0\n",
      "1 0\n",
      "1 0\n",
      "1 0\n",
      "1 0\n",
      "1 0\n",
      "1 0\n",
      "1 0\n",
      "1 0\n",
      "1 0\n",
      "1 0\n",
      "1 0\n",
      "1 0\n",
      "1 0\n",
      "1 0\n",
      "1 0\n",
      "1 0\n",
      "1 0\n",
      "1 0\n",
      "1 0\n",
      "1 0\n",
      "1 0\n",
      "1 0\n",
      "1 0\n",
      "1 0\n",
      "1 0\n",
      "1 0\n",
      "1 0\n",
      "1 0\n",
      "1 0\n",
      "1 0\n",
      "1 0\n",
      "1 0\n",
      "1 0\n",
      "1 0\n",
      "1 0\n",
      "1 0\n",
      "1 0\n",
      "1 0\n",
      "1 0\n",
      "1 0\n",
      "1 0\n",
      "1 0\n",
      "1 0\n",
      "1 0\n",
      "1 0\n",
      "1 0\n",
      "1 0\n",
      "1 0\n",
      "1 0\n",
      "1 0\n",
      "1 0\n",
      "1 0\n",
      "1 0\n",
      "1 0\n",
      "1 0\n",
      "1 0\n",
      "1 0\n",
      "1 0\n",
      "1 0\n",
      "1 0\n",
      "1 0\n",
      "1 0\n",
      "1 0\n",
      "1 0\n",
      "1 0\n",
      "1 0\n",
      "1 0\n",
      "1 0\n",
      "1 0\n",
      "1 0\n",
      "1 0\n",
      "1 0\n",
      "1 0\n",
      "1 0\n",
      "1 0\n",
      "1 0\n",
      "1 0\n",
      "1 0\n",
      "1 0\n",
      "1 0\n",
      "1 0\n",
      "1 0\n",
      "1 0\n",
      "1 0\n",
      "1 0\n",
      "1 0\n",
      "1 0\n",
      "1 0\n",
      "1 0\n",
      "1 0\n",
      "1 0\n",
      "1 0\n",
      "1 0\n",
      "1 0\n",
      "1 0\n",
      "1 0\n",
      "1 0\n",
      "1 0\n",
      "1 0\n",
      "1 0\n",
      "1 0\n",
      "1 0\n",
      "1 0\n",
      "1 0\n",
      "1 0\n",
      "1 0\n",
      "1 0\n",
      "1 0\n",
      "1 0\n",
      "1 0\n",
      "1 0\n",
      "1 0\n",
      "1 0\n",
      "1 0\n",
      "1 0\n",
      "1 0\n",
      "1 0\n",
      "1 0\n",
      "1 0\n",
      "1 0\n",
      "1 0\n",
      "1 0\n",
      "1 0\n",
      "1 0\n",
      "1 0\n",
      "1 0\n",
      "1 0\n",
      "1 0\n",
      "1 0\n",
      "1 0\n",
      "1 0\n",
      "1 0\n",
      "1 0\n",
      "1 0\n",
      "1 0\n",
      "1 0\n",
      "1 0\n",
      "1 0\n",
      "1 0\n",
      "1 0\n",
      "1 0\n",
      "1 0\n",
      "1 0\n",
      "1 0\n",
      "1 0\n",
      "1 0\n",
      "1 0\n",
      "1 0\n",
      "1 0\n",
      "1 0\n",
      "1 0\n",
      "1 0\n",
      "1 0\n",
      "1 0\n",
      "1 0\n",
      "1 0\n",
      "1 0\n",
      "1 0\n",
      "1 0\n",
      "1 0\n",
      "1 0\n",
      "1 0\n",
      "1 0\n",
      "1 0\n",
      "1 0\n",
      "1 0\n",
      "1 0\n",
      "1 0\n",
      "1 0\n",
      "1 0\n",
      "1 0\n",
      "1 0\n",
      "1 0\n",
      "1 0\n",
      "1 0\n",
      "1 0\n",
      "1 0\n",
      "1 0\n",
      "1 0\n",
      "1 0\n",
      "1 0\n",
      "1 0\n",
      "1 0\n",
      "1 0\n",
      "1 0\n",
      "1 0\n",
      "1 0\n",
      "1 0\n",
      "1 0\n",
      "1 0\n",
      "1 0\n",
      "1 0\n",
      "1 0\n",
      "1 0\n",
      "1 0\n",
      "1 0\n",
      "1 0\n",
      "1 0\n",
      "1 0\n",
      "1 0\n",
      "1 0\n",
      "1 0\n",
      "1 0\n",
      "1 0\n",
      "1 0\n",
      "1 0\n",
      "1 0\n",
      "1 0\n",
      "1 0\n",
      "1 0\n",
      "1 0\n",
      "1 0\n",
      "1 0\n",
      "1 0\n",
      "1 0\n",
      "1 0\n",
      "1 0\n",
      "1 0\n",
      "1 0\n",
      "1 0\n",
      "1 0\n",
      "1 0\n",
      "1 0\n",
      "1 0\n",
      "1 0\n",
      "1 0\n",
      "1 0\n",
      "1 0\n",
      "1 0\n",
      "1 0\n",
      "1 0\n",
      "1 0\n",
      "1 0\n",
      "1 0\n",
      "1 0\n",
      "1 0\n",
      "1 0\n",
      "1 0\n",
      "1 0\n",
      "1 0\n",
      "1 0\n",
      "1 0\n",
      "1 0\n",
      "1 0\n",
      "1 0\n",
      "1 0\n",
      "1 0\n",
      "1 0\n",
      "1 0\n",
      "1 0\n",
      "1 0\n",
      "1 0\n",
      "1 0\n",
      "1 0\n",
      "1 0\n",
      "1 0\n",
      "1 0\n",
      "1 0\n",
      "1 0\n",
      "1 0\n",
      "1 0\n",
      "1 0\n",
      "1 0\n",
      "1 0\n",
      "1 0\n",
      "1 0\n",
      "1 0\n",
      "1 0\n",
      "1 0\n",
      "1 0\n",
      "1 0\n",
      "1 0\n",
      "1 0\n",
      "1 0\n",
      "1 0\n",
      "1 0\n",
      "1 0\n",
      "1 0\n",
      "1 0\n",
      "1 0\n",
      "1 0\n",
      "1 0\n",
      "1 0\n",
      "1 0\n",
      "1 0\n",
      "1 0\n",
      "1 0\n",
      "1 0\n",
      "1 0\n",
      "1 0\n",
      "1 0\n",
      "1 0\n",
      "1 0\n",
      "1 0\n",
      "1 0\n",
      "1 0\n",
      "1 0\n",
      "1 0\n",
      "1 0\n",
      "1 0\n",
      "1 0\n",
      "1 0\n",
      "1 0\n",
      "1 0\n",
      "1 0\n",
      "1 0\n",
      "1 0\n",
      "1 0\n",
      "1 0\n",
      "1 0\n",
      "1 0\n",
      "1 0\n",
      "1 0\n",
      "1 0\n",
      "1 0\n",
      "1 0\n",
      "1 0\n",
      "1 0\n",
      "1 0\n",
      "1 0\n",
      "1 0\n",
      "1 0\n",
      "1 0\n",
      "1 0\n",
      "1 0\n",
      "1 0\n",
      "1 0\n",
      "1 0\n",
      "1 0\n",
      "1 0\n",
      "1 0\n",
      "1 0\n",
      "1 0\n",
      "1 0\n",
      "1 0\n",
      "1 0\n",
      "1 0\n",
      "1 0\n",
      "1 0\n",
      "1 0\n",
      "1 0\n",
      "1 0\n",
      "1 0\n",
      "1 0\n",
      "1 0\n",
      "1 0\n",
      "1 0\n",
      "1 0\n",
      "1 0\n",
      "1 0\n",
      "1 0\n",
      "1 0\n",
      "1 0\n",
      "1 0\n",
      "1 0\n",
      "1 0\n",
      "1 0\n",
      "1 0\n",
      "1 0\n",
      "1 0\n",
      "1 0\n",
      "1 0\n",
      "1 0\n",
      "1 0\n",
      "1 0\n",
      "1 0\n",
      "1 0\n",
      "1 0\n",
      "1 0\n",
      "1 0\n",
      "1 0\n",
      "1 0\n",
      "1 0\n",
      "1 0\n",
      "1 0\n",
      "1 0\n",
      "1 0\n",
      "1 0\n",
      "1 0\n",
      "1 0\n",
      "1 0\n",
      "1 0\n",
      "1 0\n",
      "1 0\n",
      "1 0\n",
      "1 0\n",
      "1 0\n",
      "1 0\n",
      "1 0\n",
      "1 0\n",
      "1 0\n",
      "1 0\n",
      "1 0\n",
      "1 0\n",
      "1 0\n",
      "1 0\n",
      "1 0\n",
      "1 0\n",
      "1 0\n",
      "1 0\n",
      "1 0\n",
      "1 0\n",
      "1 0\n",
      "1 0\n",
      "1 0\n",
      "1 0\n",
      "1 0\n",
      "1 0\n",
      "1 0\n",
      "1 0\n",
      "1 0\n",
      "1 0\n",
      "1 0\n",
      "1 0\n",
      "1 0\n",
      "1 0\n",
      "1 0\n",
      "1 0\n",
      "1 0\n",
      "1 0\n",
      "1 0\n",
      "1 0\n",
      "1 0\n",
      "1 0\n",
      "1 0\n",
      "1 0\n",
      "1 0\n",
      "1 0\n",
      "1 0\n",
      "1 0\n",
      "1 0\n",
      "1 0\n",
      "1 0\n",
      "1 0\n",
      "1 0\n",
      "1 0\n",
      "1 0\n",
      "1 0\n",
      "1 0\n",
      "1 0\n",
      "1 0\n",
      "1 0\n",
      "1 0\n",
      "1 0\n",
      "1 0\n",
      "1 0\n",
      "1 0\n",
      "1 0\n",
      "1 0\n",
      "1 0\n",
      "1 0\n",
      "1 0\n",
      "1 0\n",
      "1 0\n",
      "1 0\n",
      "1 0\n",
      "1 0\n",
      "1 0\n",
      "1 0\n",
      "1 0\n",
      "1 0\n",
      "1 0\n",
      "1 0\n",
      "1 0\n",
      "1 0\n",
      "1 0\n",
      "1 0\n",
      "1 0\n",
      "1 0\n",
      "1 0\n",
      "1 0\n",
      "1 0\n",
      "1 0\n",
      "1 0\n",
      "1 0\n",
      "1 0\n",
      "1 0\n",
      "1 0\n",
      "1 0\n",
      "1 0\n",
      "1 0\n",
      "1 0\n",
      "1 0\n",
      "1 0\n",
      "1 0\n",
      "1 0\n",
      "1 0\n",
      "1 0\n",
      "1 0\n",
      "1 0\n",
      "1 0\n",
      "1 0\n",
      "1 0\n",
      "1 0\n",
      "1 0\n",
      "1 0\n",
      "1 0\n",
      "1 0\n",
      "1 0\n",
      "1 0\n",
      "1 0\n",
      "1 0\n",
      "1 0\n",
      "1 0\n",
      "1 0\n",
      "1 0\n",
      "1 0\n",
      "1 0\n",
      "1 0\n",
      "1 0\n",
      "1 0\n",
      "1 0\n",
      "1 0\n",
      "1 0\n",
      "1 0\n",
      "1 0\n",
      "1 0\n",
      "1 0\n",
      "1 0\n",
      "1 0\n",
      "1 0\n",
      "1 0\n",
      "1 0\n",
      "1 0\n",
      "1 0\n",
      "1 0\n",
      "1 0\n",
      "1 0\n",
      "1 0\n",
      "1 0\n",
      "1 0\n",
      "1 0\n",
      "1 0\n",
      "1 0\n",
      "1 0\n",
      "1 0\n",
      "1 0\n",
      "1 0\n",
      "1 0\n",
      "1 0\n",
      "1 0\n",
      "1 0\n",
      "1 0\n",
      "1 0\n",
      "1 0\n",
      "1 0\n",
      "1 0\n",
      "1 0\n",
      "1 0\n",
      "1 0\n",
      "1 0\n",
      "1 0\n",
      "1 0\n",
      "1 0\n",
      "1 0\n",
      "1 0\n",
      "1 0\n",
      "1 0\n"
     ]
    }
   ],
   "source": [
    "partial_sps = 0\n",
    "sps = 0\n",
    "for user_id in df_test['user_id'].unique():    \n",
    "    print (sps, partial_sps)\n",
    "    partial_sps = 1 if df_test[df_test['user_id'] == user_id]['item_id'].reset_index(drop=True)[0] in df_ranks_topn[df_ranks_topn['user_id'] == user_id]['item_id'] else 0\n",
    "    sps = sps + partial_sps"
   ]
  },
  {
   "cell_type": "code",
   "execution_count": 216,
   "metadata": {},
   "outputs": [
    {
     "data": {
      "text/plain": [
       "1"
      ]
     },
     "execution_count": 216,
     "metadata": {},
     "output_type": "execute_result"
    }
   ],
   "source": [
    "sps"
   ]
  },
  {
   "cell_type": "markdown",
   "metadata": {},
   "source": [
    "## ItemAttributeKNN\n",
    "\n",
    "Item Based Collaborative Filtering Recommender with Attributes (Item Attribute KNN)\n",
    "    \n",
    "Its philosophy is as follows: in order to determine the rating of User u on item m, we can find other movies that are similar to item m, and based on User u’s ratings on those similar movies we infer his rating on item m.\n",
    "    \n",
    "However, instead of traditional ItemKNN, this approach uses a metadata or pre-computed similarity matrix."
   ]
  },
  {
   "cell_type": "code",
   "execution_count": 18,
   "metadata": {},
   "outputs": [],
   "source": [
    "from caserec.recommenders.item_recommendation.item_attribute_knn import ItemAttributeKNN"
   ]
  },
  {
   "cell_type": "code",
   "execution_count": 33,
   "metadata": {},
   "outputs": [],
   "source": [
    "fold_number = '0'\n",
    "fold_folder = \"{}folds/{}/\".format(dataset_output_folder, fold_number)\n",
    "train = \"{}train.dat\".format(fold_folder)\n",
    "test = \"{}test.dat\".format(fold_folder)\n",
    "rank_cb = \"{}rank_cb.dat\".format(fold_folder)\n",
    "rank_attr = \"{}rank_attr.dat\".format(fold_folder)\n",
    "similarity = \"{}vsm.dat\".format(fold_folder)\n",
    "top_n = 10\n",
    "metrics = ('PREC', 'RECALL', 'NDCG', 'MAP')\n",
    "\n",
    "model = ItemAttributeKNN(train_file=train, \n",
    "                 test_file=test, \n",
    "#                  similarity_file=similarity, \n",
    "                metadata_similarity_sep='\\t', \n",
    "                metadata_file=output_folder + 'metadata_file.csv',                \n",
    "                 output_file=rank_attr, \n",
    "                 rank_length=top_n)\n",
    "#     compute(metrics=metrics, n_ranks=[10, 20, 50])"
   ]
  },
  {
   "cell_type": "code",
   "execution_count": null,
   "metadata": {},
   "outputs": [],
   "source": [
    "model.create_matrix()"
   ]
  },
  {
   "cell_type": "code",
   "execution_count": null,
   "metadata": {},
   "outputs": [],
   "source": [
    "model.output_file"
   ]
  },
  {
   "cell_type": "code",
   "execution_count": null,
   "metadata": {},
   "outputs": [],
   "source": [
    "model.compute_similarity()"
   ]
  },
  {
   "cell_type": "code",
   "execution_count": 30,
   "metadata": {},
   "outputs": [
    {
     "data": {
      "text/plain": [
       "'./outputs/'"
      ]
     },
     "execution_count": 30,
     "metadata": {},
     "output_type": "execute_result"
    }
   ],
   "source": [
    "output_folder"
   ]
  },
  {
   "cell_type": "code",
   "execution_count": 32,
   "metadata": {},
   "outputs": [],
   "source": [
    "mv_df.to_csv(output_folder + 'metadata_file.csv', columns=['item_id', 'title'], sep = '\\t')"
   ]
  },
  {
   "cell_type": "code",
   "execution_count": 46,
   "metadata": {},
   "outputs": [
    {
     "data": {
      "text/plain": [
       "array([0, 1, 2, 3, 4])"
      ]
     },
     "execution_count": 46,
     "metadata": {},
     "output_type": "execute_result"
    }
   ],
   "source": [
    "import numpy as np\n",
    "np.arange(0, 5, 1)\n"
   ]
  },
  {
   "cell_type": "code",
   "execution_count": 50,
   "metadata": {},
   "outputs": [],
   "source": [
    "df_sim = pd.DataFrame(columns=['item_id_1', 'item_id_2', 'sim'])"
   ]
  },
  {
   "cell_type": "code",
   "execution_count": 57,
   "metadata": {},
   "outputs": [
    {
     "data": {
      "text/html": [
       "<div>\n",
       "<style scoped>\n",
       "    .dataframe tbody tr th:only-of-type {\n",
       "        vertical-align: middle;\n",
       "    }\n",
       "\n",
       "    .dataframe tbody tr th {\n",
       "        vertical-align: top;\n",
       "    }\n",
       "\n",
       "    .dataframe thead th {\n",
       "        text-align: right;\n",
       "    }\n",
       "</style>\n",
       "<table border=\"1\" class=\"dataframe\">\n",
       "  <thead>\n",
       "    <tr style=\"text-align: right;\">\n",
       "      <th></th>\n",
       "      <th>item_id_1</th>\n",
       "      <th>item_id_2</th>\n",
       "      <th>sim</th>\n",
       "    </tr>\n",
       "  </thead>\n",
       "  <tbody>\n",
       "    <tr>\n",
       "      <th>0</th>\n",
       "      <td>1</td>\n",
       "      <td>2</td>\n",
       "      <td>5</td>\n",
       "    </tr>\n",
       "  </tbody>\n",
       "</table>\n",
       "</div>"
      ],
      "text/plain": [
       "  item_id_1 item_id_2 sim\n",
       "0         1         2   5"
      ]
     },
     "execution_count": 57,
     "metadata": {},
     "output_type": "execute_result"
    }
   ],
   "source": [
    "df_sim = df_sim.append({'item_id_1': 1, 'item_id_2': 2, 'sim': 5}, ignore_index=True)"
   ]
  },
  {
   "cell_type": "code",
   "execution_count": 59,
   "metadata": {},
   "outputs": [
    {
     "data": {
      "text/plain": [
       "1.0"
      ]
     },
     "execution_count": 59,
     "metadata": {},
     "output_type": "execute_result"
    }
   ],
   "source": [
    "sim_matrix[1, 1]"
   ]
  },
  {
   "cell_type": "code",
   "execution_count": 62,
   "metadata": {},
   "outputs": [
    {
     "ename": "KeyboardInterrupt",
     "evalue": "",
     "output_type": "error",
     "traceback": [
      "\u001b[1;31m---------------------------------------------------------------------------\u001b[0m",
      "\u001b[1;31mKeyboardInterrupt\u001b[0m                         Traceback (most recent call last)",
      "\u001b[1;32m<ipython-input-62-f6538700fa00>\u001b[0m in \u001b[0;36m<module>\u001b[1;34m()\u001b[0m\n\u001b[0;32m      3\u001b[0m     \u001b[1;32mfor\u001b[0m \u001b[0mitem_y\u001b[0m \u001b[1;32min\u001b[0m \u001b[0mnp\u001b[0m\u001b[1;33m.\u001b[0m\u001b[0marange\u001b[0m\u001b[1;33m(\u001b[0m\u001b[1;36m1\u001b[0m\u001b[1;33m,\u001b[0m \u001b[0mlen\u001b[0m\u001b[1;33m(\u001b[0m\u001b[0mmodel\u001b[0m\u001b[1;33m.\u001b[0m\u001b[0mitem_to_item_id\u001b[0m\u001b[1;33m)\u001b[0m\u001b[1;33m,\u001b[0m \u001b[1;36m1\u001b[0m\u001b[1;33m)\u001b[0m\u001b[1;33m:\u001b[0m\u001b[1;33m\u001b[0m\u001b[0m\n\u001b[0;32m      4\u001b[0m         df_sim = df_sim.append({'item_id_1': model.item_to_item_id[item_x], 'item_id_2': model.item_to_item_id[item_y], 'sim': sim_matrix[model.item_to_item_id[item_x], model.item_to_item_id[item_y]]}, \n\u001b[1;32m----> 5\u001b[1;33m                                ignore_index=True)\n\u001b[0m\u001b[0;32m      6\u001b[0m         \u001b[1;32mif\u001b[0m \u001b[1;33m(\u001b[0m\u001b[0mitem_y\u001b[0m \u001b[1;33m>\u001b[0m \u001b[0mitem_x\u001b[0m\u001b[1;33m)\u001b[0m\u001b[1;33m:\u001b[0m\u001b[1;33m\u001b[0m\u001b[0m\n\u001b[0;32m      7\u001b[0m             \u001b[1;32mbreak\u001b[0m\u001b[1;33m\u001b[0m\u001b[0m\n",
      "\u001b[1;32mC:\\Anaconda\\lib\\site-packages\\pandas\\core\\frame.py\u001b[0m in \u001b[0;36mappend\u001b[1;34m(self, other, ignore_index, verify_integrity)\u001b[0m\n\u001b[0;32m   5192\u001b[0m             \u001b[0mto_concat\u001b[0m \u001b[1;33m=\u001b[0m \u001b[1;33m[\u001b[0m\u001b[0mself\u001b[0m\u001b[1;33m,\u001b[0m \u001b[0mother\u001b[0m\u001b[1;33m]\u001b[0m\u001b[1;33m\u001b[0m\u001b[0m\n\u001b[0;32m   5193\u001b[0m         return concat(to_concat, ignore_index=ignore_index,\n\u001b[1;32m-> 5194\u001b[1;33m                       verify_integrity=verify_integrity)\n\u001b[0m\u001b[0;32m   5195\u001b[0m \u001b[1;33m\u001b[0m\u001b[0m\n\u001b[0;32m   5196\u001b[0m     def join(self, other, on=None, how='left', lsuffix='', rsuffix='',\n",
      "\u001b[1;32mC:\\Anaconda\\lib\\site-packages\\pandas\\core\\reshape\\concat.py\u001b[0m in \u001b[0;36mconcat\u001b[1;34m(objs, axis, join, join_axes, ignore_index, keys, levels, names, verify_integrity, copy)\u001b[0m\n\u001b[0;32m    211\u001b[0m                        \u001b[0mverify_integrity\u001b[0m\u001b[1;33m=\u001b[0m\u001b[0mverify_integrity\u001b[0m\u001b[1;33m,\u001b[0m\u001b[1;33m\u001b[0m\u001b[0m\n\u001b[0;32m    212\u001b[0m                        copy=copy)\n\u001b[1;32m--> 213\u001b[1;33m     \u001b[1;32mreturn\u001b[0m \u001b[0mop\u001b[0m\u001b[1;33m.\u001b[0m\u001b[0mget_result\u001b[0m\u001b[1;33m(\u001b[0m\u001b[1;33m)\u001b[0m\u001b[1;33m\u001b[0m\u001b[0m\n\u001b[0m\u001b[0;32m    214\u001b[0m \u001b[1;33m\u001b[0m\u001b[0m\n\u001b[0;32m    215\u001b[0m \u001b[1;33m\u001b[0m\u001b[0m\n",
      "\u001b[1;32mC:\\Anaconda\\lib\\site-packages\\pandas\\core\\reshape\\concat.py\u001b[0m in \u001b[0;36mget_result\u001b[1;34m(self)\u001b[0m\n\u001b[0;32m    406\u001b[0m             new_data = concatenate_block_managers(\n\u001b[0;32m    407\u001b[0m                 \u001b[0mmgrs_indexers\u001b[0m\u001b[1;33m,\u001b[0m \u001b[0mself\u001b[0m\u001b[1;33m.\u001b[0m\u001b[0mnew_axes\u001b[0m\u001b[1;33m,\u001b[0m \u001b[0mconcat_axis\u001b[0m\u001b[1;33m=\u001b[0m\u001b[0mself\u001b[0m\u001b[1;33m.\u001b[0m\u001b[0maxis\u001b[0m\u001b[1;33m,\u001b[0m\u001b[1;33m\u001b[0m\u001b[0m\n\u001b[1;32m--> 408\u001b[1;33m                 copy=self.copy)\n\u001b[0m\u001b[0;32m    409\u001b[0m             \u001b[1;32mif\u001b[0m \u001b[1;32mnot\u001b[0m \u001b[0mself\u001b[0m\u001b[1;33m.\u001b[0m\u001b[0mcopy\u001b[0m\u001b[1;33m:\u001b[0m\u001b[1;33m\u001b[0m\u001b[0m\n\u001b[0;32m    410\u001b[0m                 \u001b[0mnew_data\u001b[0m\u001b[1;33m.\u001b[0m\u001b[0m_consolidate_inplace\u001b[0m\u001b[1;33m(\u001b[0m\u001b[1;33m)\u001b[0m\u001b[1;33m\u001b[0m\u001b[0m\n",
      "\u001b[1;32mC:\\Anaconda\\lib\\site-packages\\pandas\\core\\internals.py\u001b[0m in \u001b[0;36mconcatenate_block_managers\u001b[1;34m(mgrs_indexers, axes, concat_axis, copy)\u001b[0m\n\u001b[0;32m   5198\u001b[0m         \u001b[1;32melif\u001b[0m \u001b[0mis_uniform_join_units\u001b[0m\u001b[1;33m(\u001b[0m\u001b[0mjoin_units\u001b[0m\u001b[1;33m)\u001b[0m\u001b[1;33m:\u001b[0m\u001b[1;33m\u001b[0m\u001b[0m\n\u001b[0;32m   5199\u001b[0m             b = join_units[0].block.concat_same_type(\n\u001b[1;32m-> 5200\u001b[1;33m                 [ju.block for ju in join_units], placement=placement)\n\u001b[0m\u001b[0;32m   5201\u001b[0m         \u001b[1;32melse\u001b[0m\u001b[1;33m:\u001b[0m\u001b[1;33m\u001b[0m\u001b[0m\n\u001b[0;32m   5202\u001b[0m             b = make_block(\n",
      "\u001b[1;32mC:\\Anaconda\\lib\\site-packages\\pandas\\core\\internals.py\u001b[0m in \u001b[0;36mconcat_same_type\u001b[1;34m(self, to_concat, placement)\u001b[0m\n\u001b[0;32m    321\u001b[0m         \"\"\"\n\u001b[0;32m    322\u001b[0m         values = self._concatenator([blk.values for blk in to_concat],\n\u001b[1;32m--> 323\u001b[1;33m                                     axis=self.ndim - 1)\n\u001b[0m\u001b[0;32m    324\u001b[0m         return self.make_block_same_class(\n\u001b[0;32m    325\u001b[0m             values, placement=placement or slice(0, len(values), 1))\n",
      "\u001b[1;31mKeyboardInterrupt\u001b[0m: "
     ]
    }
   ],
   "source": [
    "\n",
    "for item_x in np.arange(1, len(model.item_to_item_id), 1):    \n",
    "    for item_y in np.arange(1, len(model.item_to_item_id), 1):    \n",
    "        df_sim = df_sim.append({'item_id_1': model.item_to_item_id[item_x], 'item_id_2': model.item_to_item_id[item_y], 'sim': sim_matrix[model.item_to_item_id[item_x], model.item_to_item_id[item_y]]}, \n",
    "                               ignore_index=True)\n",
    "        if (item_y > item_x):\n",
    "            break\n",
    "        "
   ]
  },
  {
   "cell_type": "code",
   "execution_count": 34,
   "metadata": {},
   "outputs": [
    {
     "name": "stdout",
     "output_type": "stream",
     "text": [
      "[Case Recommender: Item Recommendation > Item Attribute KNN Algorithm]\n",
      "\n",
      "train data:: 943 users and 1661 items (80000 interactions) | sparsity:: 94.89%\n",
      "test data:: 942 users and 1379 items (20000 interactions) | sparsity:: 98.46%\n",
      "\n"
     ]
    },
    {
     "ename": "ValueError",
     "evalue": "invalid literal for int() with base 10: ''",
     "output_type": "error",
     "traceback": [
      "\u001b[1;31m---------------------------------------------------------------------------\u001b[0m",
      "\u001b[1;31mValueError\u001b[0m                                Traceback (most recent call last)",
      "\u001b[1;32m<ipython-input-34-19af513f61a3>\u001b[0m in \u001b[0;36m<module>\u001b[1;34m()\u001b[0m\n\u001b[1;32m----> 1\u001b[1;33m \u001b[0mmodel\u001b[0m\u001b[1;33m.\u001b[0m\u001b[0mcompute\u001b[0m\u001b[1;33m(\u001b[0m\u001b[0mmetrics\u001b[0m\u001b[1;33m=\u001b[0m\u001b[0mmetrics\u001b[0m\u001b[1;33m,\u001b[0m \u001b[0mn_ranks\u001b[0m\u001b[1;33m=\u001b[0m\u001b[0mtop_n\u001b[0m\u001b[1;33m)\u001b[0m\u001b[1;33m\u001b[0m\u001b[0m\n\u001b[0m",
      "\u001b[1;32mC:\\Anaconda\\lib\\site-packages\\caserec\\recommenders\\item_recommendation\\itemknn.py\u001b[0m in \u001b[0;36mcompute\u001b[1;34m(self, verbose, metrics, verbose_evaluation, as_table, table_sep, n_ranks)\u001b[0m\n\u001b[0;32m    182\u001b[0m \u001b[1;33m\u001b[0m\u001b[0m\n\u001b[0;32m    183\u001b[0m         \u001b[1;32mif\u001b[0m \u001b[0mverbose\u001b[0m\u001b[1;33m:\u001b[0m\u001b[1;33m\u001b[0m\u001b[0m\n\u001b[1;32m--> 184\u001b[1;33m             \u001b[0mprint\u001b[0m\u001b[1;33m(\u001b[0m\u001b[1;34m\"training_time:: %4f sec\"\u001b[0m \u001b[1;33m%\u001b[0m \u001b[0mtimed\u001b[0m\u001b[1;33m(\u001b[0m\u001b[0mself\u001b[0m\u001b[1;33m.\u001b[0m\u001b[0minit_model\u001b[0m\u001b[1;33m)\u001b[0m\u001b[1;33m)\u001b[0m\u001b[1;33m\u001b[0m\u001b[0m\n\u001b[0m\u001b[0;32m    185\u001b[0m             \u001b[1;32mif\u001b[0m \u001b[0mself\u001b[0m\u001b[1;33m.\u001b[0m\u001b[0mextra_info_header\u001b[0m \u001b[1;32mis\u001b[0m \u001b[1;32mnot\u001b[0m \u001b[1;32mNone\u001b[0m\u001b[1;33m:\u001b[0m\u001b[1;33m\u001b[0m\u001b[0m\n\u001b[0;32m    186\u001b[0m                 \u001b[0mprint\u001b[0m\u001b[1;33m(\u001b[0m\u001b[0mself\u001b[0m\u001b[1;33m.\u001b[0m\u001b[0mextra_info_header\u001b[0m\u001b[1;33m)\u001b[0m\u001b[1;33m\u001b[0m\u001b[0m\n",
      "\u001b[1;32mC:\\Anaconda\\lib\\site-packages\\caserec\\utils\\extra_functions.py\u001b[0m in \u001b[0;36mtimed\u001b[1;34m(f)\u001b[0m\n\u001b[0;32m     61\u001b[0m     \"\"\"\n\u001b[0;32m     62\u001b[0m     \u001b[0mstart\u001b[0m \u001b[1;33m=\u001b[0m \u001b[0mtime\u001b[0m\u001b[1;33m.\u001b[0m\u001b[0mtime\u001b[0m\u001b[1;33m(\u001b[0m\u001b[1;33m)\u001b[0m\u001b[1;33m\u001b[0m\u001b[0m\n\u001b[1;32m---> 63\u001b[1;33m     \u001b[0mf\u001b[0m\u001b[1;33m(\u001b[0m\u001b[1;33m)\u001b[0m\u001b[1;33m\u001b[0m\u001b[0m\n\u001b[0m\u001b[0;32m     64\u001b[0m     \u001b[0melapsed\u001b[0m \u001b[1;33m=\u001b[0m \u001b[0mtime\u001b[0m\u001b[1;33m.\u001b[0m\u001b[0mtime\u001b[0m\u001b[1;33m(\u001b[0m\u001b[1;33m)\u001b[0m \u001b[1;33m-\u001b[0m \u001b[0mstart\u001b[0m\u001b[1;33m\u001b[0m\u001b[0m\n\u001b[0;32m     65\u001b[0m     \u001b[1;32mreturn\u001b[0m \u001b[0melapsed\u001b[0m\u001b[1;33m\u001b[0m\u001b[0m\n",
      "\u001b[1;32mC:\\Anaconda\\lib\\site-packages\\caserec\\recommenders\\item_recommendation\\item_attribute_knn.py\u001b[0m in \u001b[0;36minit_model\u001b[1;34m(self)\u001b[0m\n\u001b[0;32m    111\u001b[0m \u001b[1;33m\u001b[0m\u001b[0m\n\u001b[0;32m    112\u001b[0m         \u001b[1;32mif\u001b[0m \u001b[0mself\u001b[0m\u001b[1;33m.\u001b[0m\u001b[0mmetadata_file\u001b[0m \u001b[1;32mis\u001b[0m \u001b[1;32mnot\u001b[0m \u001b[1;32mNone\u001b[0m\u001b[1;33m:\u001b[0m\u001b[1;33m\u001b[0m\u001b[0m\n\u001b[1;32m--> 113\u001b[1;33m             metadata = ReadFile(self.metadata_file, sep=self.metadata_similarity_sep, as_binary=self.metadata_as_binary\n\u001b[0m\u001b[0;32m    114\u001b[0m                                 ).read_metadata_or_similarity()\n\u001b[0;32m    115\u001b[0m \u001b[1;33m\u001b[0m\u001b[0m\n",
      "\u001b[1;32mC:\\Anaconda\\lib\\site-packages\\caserec\\utils\\process_data.py\u001b[0m in \u001b[0;36mread_metadata_or_similarity\u001b[1;34m(self)\u001b[0m\n\u001b[0;32m    150\u001b[0m                         \u001b[0mnumber_interactions\u001b[0m \u001b[1;33m+=\u001b[0m \u001b[1;36m1\u001b[0m\u001b[1;33m\u001b[0m\u001b[0m\n\u001b[0;32m    151\u001b[0m                     \u001b[1;32melse\u001b[0m\u001b[1;33m:\u001b[0m\u001b[1;33m\u001b[0m\u001b[0m\n\u001b[1;32m--> 152\u001b[1;33m                         \u001b[0mattr1\u001b[0m\u001b[1;33m,\u001b[0m \u001b[0mattr2\u001b[0m\u001b[1;33m,\u001b[0m \u001b[0mvalue\u001b[0m \u001b[1;33m=\u001b[0m \u001b[0mint\u001b[0m\u001b[1;33m(\u001b[0m\u001b[0minline\u001b[0m\u001b[1;33m[\u001b[0m\u001b[1;36m0\u001b[0m\u001b[1;33m]\u001b[0m\u001b[1;33m)\u001b[0m\u001b[1;33m,\u001b[0m \u001b[0minline\u001b[0m\u001b[1;33m[\u001b[0m\u001b[1;36m1\u001b[0m\u001b[1;33m]\u001b[0m\u001b[1;33m,\u001b[0m \u001b[0mfloat\u001b[0m\u001b[1;33m(\u001b[0m\u001b[0minline\u001b[0m\u001b[1;33m[\u001b[0m\u001b[1;36m2\u001b[0m\u001b[1;33m]\u001b[0m\u001b[1;33m)\u001b[0m\u001b[1;33m\u001b[0m\u001b[0m\n\u001b[0m\u001b[0;32m    153\u001b[0m                         \u001b[0mdict_values\u001b[0m\u001b[1;33m.\u001b[0m\u001b[0msetdefault\u001b[0m\u001b[1;33m(\u001b[0m\u001b[0mattr1\u001b[0m\u001b[1;33m,\u001b[0m \u001b[1;33m{\u001b[0m\u001b[1;33m}\u001b[0m\u001b[1;33m)\u001b[0m\u001b[1;33m.\u001b[0m\u001b[0mupdate\u001b[0m\u001b[1;33m(\u001b[0m\u001b[1;33m{\u001b[0m\u001b[0mattr2\u001b[0m\u001b[1;33m:\u001b[0m \u001b[1;36m1.0\u001b[0m \u001b[1;32mif\u001b[0m \u001b[0mself\u001b[0m\u001b[1;33m.\u001b[0m\u001b[0mas_binary\u001b[0m \u001b[1;32melse\u001b[0m \u001b[0mvalue\u001b[0m\u001b[1;33m}\u001b[0m\u001b[1;33m)\u001b[0m\u001b[1;33m\u001b[0m\u001b[0m\n\u001b[0;32m    154\u001b[0m                         \u001b[0mlist_col_1\u001b[0m\u001b[1;33m.\u001b[0m\u001b[0madd\u001b[0m\u001b[1;33m(\u001b[0m\u001b[0mattr1\u001b[0m\u001b[1;33m)\u001b[0m\u001b[1;33m\u001b[0m\u001b[0m\n",
      "\u001b[1;31mValueError\u001b[0m: invalid literal for int() with base 10: ''"
     ]
    }
   ],
   "source": [
    "model.compute(metrics=metrics, n_ranks=top_n)"
   ]
  },
  {
   "cell_type": "code",
   "execution_count": null,
   "metadata": {},
   "outputs": [],
   "source": []
  },
  {
   "cell_type": "code",
   "execution_count": 10,
   "metadata": {},
   "outputs": [],
   "source": [
    "from caserec.recommenders.rating_prediction.svdplusplus import SVDPlusPlus\n",
    "from caserec.recommenders.rating_prediction.matrixfactorization import MatrixFactorization\n",
    "from caserec.utils.cross_validation import CrossValidation"
   ]
  },
  {
   "cell_type": "code",
   "execution_count": 11,
   "metadata": {},
   "outputs": [],
   "source": [
    "fold_number = '0'\n",
    "fold_folder = \"{}folds/{}/\".format(dataset_output_folder, fold_number)\n",
    "train = \"{}train.dat\".format(fold_folder)\n",
    "test = \"{}test.dat\".format(fold_folder)\n",
    "\n",
    "db = '../../datasets/ml-100k/u.data'\n",
    "folds_path = '../../datasets/ml-100k/'\n",
    "\n",
    "metadata_item = '../../datasets/ml-100k/db_item_subject.dat'\n",
    "sm_item = '../../datasets/ml-100k/sim_item.dat'\n",
    "metadata_user = '../../datasets/ml-100k/metadata_user.dat'\n",
    "sm_user = '../../datasets/ml-100k/sim_user.dat'\n",
    "\n",
    "tr = '../../datasets/ml-100k/folds/0/train.dat'\n",
    "te = '../../datasets/ml-100k/folds/0/test.dat'\n"
   ]
  },
  {
   "cell_type": "code",
   "execution_count": 13,
   "metadata": {},
   "outputs": [],
   "source": [
    "\n",
    "# Cross Validation\n",
    "# recommender = MatrixFactorization()\n",
    "\n",
    "# CrossValidation(input_file=db, recommender=recommender, dir_folds=folds_path, header=1, k_folds=5).compute()\n",
    "\n",
    "# Simple\n",
    "model = MatrixFactorization(train, test)\n",
    "# SVDPlusPlus(tr, te).compute()"
   ]
  },
  {
   "cell_type": "code",
   "execution_count": 21,
   "metadata": {},
   "outputs": [
    {
     "name": "stdout",
     "output_type": "stream",
     "text": [
      "[Case Recommender: Rating Prediction > Matrix Factorization]\n",
      "\n",
      "train data:: 943 users and 1657 items (80000 interactions) | sparsity:: 94.88%\n",
      "test data:: 940 users and 1401 items (20000 interactions) | sparsity:: 98.48%\n",
      "\n",
      "training_time:: 4.755904 sec\n",
      "prediction_time:: 0.036900 sec\n",
      "\n",
      "\n"
     ]
    },
    {
     "ename": "KeyError",
     "evalue": "'MAP'",
     "output_type": "error",
     "traceback": [
      "\u001b[1;31m---------------------------------------------------------------------------\u001b[0m",
      "\u001b[1;31mKeyError\u001b[0m                                  Traceback (most recent call last)",
      "\u001b[1;32m<ipython-input-21-8b514b9c103b>\u001b[0m in \u001b[0;36m<module>\u001b[1;34m()\u001b[0m\n\u001b[1;32m----> 1\u001b[1;33m \u001b[0mmodel\u001b[0m\u001b[1;33m.\u001b[0m\u001b[0mcompute\u001b[0m\u001b[1;33m(\u001b[0m\u001b[0mmetrics\u001b[0m \u001b[1;33m=\u001b[0m \u001b[1;33m[\u001b[0m\u001b[1;34m'MAP'\u001b[0m\u001b[1;33m]\u001b[0m\u001b[1;33m)\u001b[0m\u001b[1;33m\u001b[0m\u001b[0m\n\u001b[0m",
      "\u001b[1;32mC:\\Anaconda\\lib\\site-packages\\caserec\\recommenders\\rating_prediction\\matrixfactorization.py\u001b[0m in \u001b[0;36mcompute\u001b[1;34m(self, verbose, metrics, verbose_evaluation, as_table, table_sep)\u001b[0m\n\u001b[0;32m    268\u001b[0m \u001b[1;33m\u001b[0m\u001b[0m\n\u001b[0;32m    269\u001b[0m         \u001b[1;32mif\u001b[0m \u001b[0mself\u001b[0m\u001b[1;33m.\u001b[0m\u001b[0mtest_file\u001b[0m \u001b[1;32mis\u001b[0m \u001b[1;32mnot\u001b[0m \u001b[1;32mNone\u001b[0m\u001b[1;33m:\u001b[0m\u001b[1;33m\u001b[0m\u001b[0m\n\u001b[1;32m--> 270\u001b[1;33m             \u001b[0mself\u001b[0m\u001b[1;33m.\u001b[0m\u001b[0mevaluate\u001b[0m\u001b[1;33m(\u001b[0m\u001b[0mmetrics\u001b[0m\u001b[1;33m,\u001b[0m \u001b[0mverbose_evaluation\u001b[0m\u001b[1;33m,\u001b[0m \u001b[0mas_table\u001b[0m\u001b[1;33m=\u001b[0m\u001b[0mas_table\u001b[0m\u001b[1;33m,\u001b[0m \u001b[0mtable_sep\u001b[0m\u001b[1;33m=\u001b[0m\u001b[0mtable_sep\u001b[0m\u001b[1;33m)\u001b[0m\u001b[1;33m\u001b[0m\u001b[0m\n\u001b[0m",
      "\u001b[1;32mC:\\Anaconda\\lib\\site-packages\\caserec\\recommenders\\rating_prediction\\base_rating_prediction.py\u001b[0m in \u001b[0;36mevaluate\u001b[1;34m(self, metrics, verbose, as_table, table_sep)\u001b[0m\n\u001b[0;32m    152\u001b[0m         results = RatingPredictionEvaluation(verbose=verbose, as_table=as_table, table_sep=table_sep, metrics=metrics\n\u001b[0;32m    153\u001b[0m                                              \u001b[1;33m)\u001b[0m\u001b[1;33m.\u001b[0m\u001b[0mevaluate_recommender\u001b[0m\u001b[1;33m(\u001b[0m\u001b[0mpredictions\u001b[0m\u001b[1;33m=\u001b[0m\u001b[0mself\u001b[0m\u001b[1;33m.\u001b[0m\u001b[0mpredictions\u001b[0m\u001b[1;33m,\u001b[0m\u001b[1;33m\u001b[0m\u001b[0m\n\u001b[1;32m--> 154\u001b[1;33m                                                                     test_set=self.test_set)\n\u001b[0m\u001b[0;32m    155\u001b[0m \u001b[1;33m\u001b[0m\u001b[0m\n\u001b[0;32m    156\u001b[0m         \u001b[1;32mfor\u001b[0m \u001b[0mmetric\u001b[0m \u001b[1;32min\u001b[0m \u001b[0mmetrics\u001b[0m\u001b[1;33m:\u001b[0m\u001b[1;33m\u001b[0m\u001b[0m\n",
      "\u001b[1;32mC:\\Anaconda\\lib\\site-packages\\caserec\\evaluation\\base_evaluation.py\u001b[0m in \u001b[0;36mevaluate_recommender\u001b[1;34m(self, predictions, test_set)\u001b[0m\n\u001b[0;32m    104\u001b[0m             \u001b[0mpredictions_dict\u001b[0m\u001b[1;33m.\u001b[0m\u001b[0msetdefault\u001b[0m\u001b[1;33m(\u001b[0m\u001b[0msample\u001b[0m\u001b[1;33m[\u001b[0m\u001b[1;36m0\u001b[0m\u001b[1;33m]\u001b[0m\u001b[1;33m,\u001b[0m \u001b[1;33m{\u001b[0m\u001b[1;33m}\u001b[0m\u001b[1;33m)\u001b[0m\u001b[1;33m.\u001b[0m\u001b[0mupdate\u001b[0m\u001b[1;33m(\u001b[0m\u001b[1;33m{\u001b[0m\u001b[0msample\u001b[0m\u001b[1;33m[\u001b[0m\u001b[1;36m1\u001b[0m\u001b[1;33m]\u001b[0m\u001b[1;33m:\u001b[0m \u001b[0msample\u001b[0m\u001b[1;33m[\u001b[0m\u001b[1;36m2\u001b[0m\u001b[1;33m]\u001b[0m\u001b[1;33m}\u001b[0m\u001b[1;33m)\u001b[0m\u001b[1;33m\u001b[0m\u001b[0m\n\u001b[0;32m    105\u001b[0m \u001b[1;33m\u001b[0m\u001b[0m\n\u001b[1;32m--> 106\u001b[1;33m         \u001b[1;32mreturn\u001b[0m \u001b[0mself\u001b[0m\u001b[1;33m.\u001b[0m\u001b[0mevaluate\u001b[0m\u001b[1;33m(\u001b[0m\u001b[0mpredictions_dict\u001b[0m\u001b[1;33m,\u001b[0m \u001b[0mtest_set\u001b[0m\u001b[1;33m)\u001b[0m\u001b[1;33m\u001b[0m\u001b[0m\n\u001b[0m\u001b[0;32m    107\u001b[0m \u001b[1;33m\u001b[0m\u001b[0m\n\u001b[0;32m    108\u001b[0m     \u001b[1;32mdef\u001b[0m \u001b[0mevaluate_folds\u001b[0m\u001b[1;33m(\u001b[0m\u001b[0mself\u001b[0m\u001b[1;33m,\u001b[0m \u001b[0mfolds_dir\u001b[0m\u001b[1;33m,\u001b[0m \u001b[0mpredictions_file_name\u001b[0m\u001b[1;33m,\u001b[0m \u001b[0mtest_file_name\u001b[0m\u001b[1;33m,\u001b[0m \u001b[0mk_folds\u001b[0m\u001b[1;33m=\u001b[0m\u001b[1;36m10\u001b[0m\u001b[1;33m)\u001b[0m\u001b[1;33m:\u001b[0m\u001b[1;33m\u001b[0m\u001b[0m\n",
      "\u001b[1;32mC:\\Anaconda\\lib\\site-packages\\caserec\\evaluation\\rating_prediction.py\u001b[0m in \u001b[0;36mevaluate\u001b[1;34m(self, predictions, test_set)\u001b[0m\n\u001b[0;32m     99\u001b[0m \u001b[1;33m\u001b[0m\u001b[0m\n\u001b[0;32m    100\u001b[0m             \u001b[1;32mif\u001b[0m \u001b[0mself\u001b[0m\u001b[1;33m.\u001b[0m\u001b[0mverbose\u001b[0m\u001b[1;33m:\u001b[0m\u001b[1;33m\u001b[0m\u001b[0m\n\u001b[1;32m--> 101\u001b[1;33m                 \u001b[0mself\u001b[0m\u001b[1;33m.\u001b[0m\u001b[0mprint_results\u001b[0m\u001b[1;33m(\u001b[0m\u001b[0meval_results\u001b[0m\u001b[1;33m)\u001b[0m\u001b[1;33m\u001b[0m\u001b[0m\n\u001b[0m\u001b[0;32m    102\u001b[0m \u001b[1;33m\u001b[0m\u001b[0m\n\u001b[0;32m    103\u001b[0m         \u001b[1;32melse\u001b[0m\u001b[1;33m:\u001b[0m\u001b[1;33m\u001b[0m\u001b[0m\n",
      "\u001b[1;32mC:\\Anaconda\\lib\\site-packages\\caserec\\evaluation\\base_evaluation.py\u001b[0m in \u001b[0;36mprint_results\u001b[1;34m(self, evaluation_results)\u001b[0m\n\u001b[0;32m    165\u001b[0m             \u001b[0mevaluation\u001b[0m \u001b[1;33m=\u001b[0m \u001b[1;34m'Eval:: '\u001b[0m\u001b[1;33m\u001b[0m\u001b[0m\n\u001b[0;32m    166\u001b[0m             \u001b[1;32mfor\u001b[0m \u001b[0mmetrics\u001b[0m \u001b[1;32min\u001b[0m \u001b[0mself\u001b[0m\u001b[1;33m.\u001b[0m\u001b[0mmetrics\u001b[0m\u001b[1;33m:\u001b[0m\u001b[1;33m\u001b[0m\u001b[0m\n\u001b[1;32m--> 167\u001b[1;33m                 \u001b[0mevaluation\u001b[0m \u001b[1;33m+=\u001b[0m \u001b[0mmetrics\u001b[0m\u001b[1;33m.\u001b[0m\u001b[0mupper\u001b[0m\u001b[1;33m(\u001b[0m\u001b[1;33m)\u001b[0m \u001b[1;33m+\u001b[0m \u001b[1;34m': '\u001b[0m \u001b[1;33m+\u001b[0m \u001b[0mstr\u001b[0m\u001b[1;33m(\u001b[0m\u001b[0mevaluation_results\u001b[0m\u001b[1;33m[\u001b[0m\u001b[0mmetrics\u001b[0m\u001b[1;33m.\u001b[0m\u001b[0mupper\u001b[0m\u001b[1;33m(\u001b[0m\u001b[1;33m)\u001b[0m\u001b[1;33m]\u001b[0m\u001b[1;33m)\u001b[0m \u001b[1;33m+\u001b[0m \u001b[1;34m' '\u001b[0m\u001b[1;33m\u001b[0m\u001b[0m\n\u001b[0m\u001b[0;32m    168\u001b[0m             \u001b[0mprint\u001b[0m\u001b[1;33m(\u001b[0m\u001b[0mevaluation\u001b[0m\u001b[1;33m)\u001b[0m\u001b[1;33m\u001b[0m\u001b[0m\n",
      "\u001b[1;31mKeyError\u001b[0m: 'MAP'"
     ]
    }
   ],
   "source": [
    "model.compute(metrics = ['MAP'])"
   ]
  },
  {
   "cell_type": "code",
   "execution_count": 20,
   "metadata": {},
   "outputs": [
    {
     "ename": "TypeError",
     "evalue": "evaluate() got an unexpected keyword argument 'as_rank'",
     "output_type": "error",
     "traceback": [
      "\u001b[1;31m---------------------------------------------------------------------------\u001b[0m",
      "\u001b[1;31mTypeError\u001b[0m                                 Traceback (most recent call last)",
      "\u001b[1;32m<ipython-input-20-24bd353c7957>\u001b[0m in \u001b[0;36m<module>\u001b[1;34m()\u001b[0m\n\u001b[1;32m----> 1\u001b[1;33m \u001b[0mmodel\u001b[0m\u001b[1;33m.\u001b[0m\u001b[0mevaluate\u001b[0m\u001b[1;33m(\u001b[0m\u001b[0mmetrics\u001b[0m \u001b[1;33m=\u001b[0m \u001b[1;33m[\u001b[0m\u001b[1;34m'RMSE'\u001b[0m\u001b[1;33m]\u001b[0m\u001b[1;33m,\u001b[0m \u001b[0mas_rank\u001b[0m \u001b[1;33m=\u001b[0m \u001b[1;32mTrue\u001b[0m\u001b[1;33m)\u001b[0m\u001b[1;33m\u001b[0m\u001b[0m\n\u001b[0m",
      "\u001b[1;31mTypeError\u001b[0m: evaluate() got an unexpected keyword argument 'as_rank'"
     ]
    }
   ],
   "source": [
    "model.evaluate(metrics = ['RMSE'], as_rank = True)"
   ]
  },
  {
   "cell_type": "code",
   "execution_count": 41,
   "metadata": {},
   "outputs": [
    {
     "data": {
      "text/plain": [
       "1.0"
      ]
     },
     "execution_count": 41,
     "metadata": {},
     "output_type": "execute_result"
    }
   ],
   "source": [
    "from caserec.evaluation.item_recommendation import precision_at_k\n",
    "precision_at_k(np.array(df_user['rating']), 10)"
   ]
  },
  {
   "cell_type": "code",
   "execution_count": 50,
   "metadata": {},
   "outputs": [
    {
     "ename": "AttributeError",
     "evalue": "'list' object has no attribute 'get'",
     "output_type": "error",
     "traceback": [
      "\u001b[1;31m---------------------------------------------------------------------------\u001b[0m",
      "\u001b[1;31mAttributeError\u001b[0m                            Traceback (most recent call last)",
      "\u001b[1;32m<ipython-input-50-d2696c924797>\u001b[0m in \u001b[0;36m<module>\u001b[1;34m()\u001b[0m\n\u001b[1;32m----> 1\u001b[1;33m \u001b[0mlist_feedback\u001b[0m \u001b[1;33m=\u001b[0m \u001b[0mset\u001b[0m\u001b[1;33m(\u001b[0m\u001b[0mlist\u001b[0m\u001b[1;33m(\u001b[0m\u001b[0mmodel\u001b[0m\u001b[1;33m.\u001b[0m\u001b[0mpredictions\u001b[0m\u001b[1;33m.\u001b[0m\u001b[0mget\u001b[0m\u001b[1;33m(\u001b[0m\u001b[1;36m1\u001b[0m\u001b[1;33m,\u001b[0m \u001b[1;33m[\u001b[0m\u001b[1;33m]\u001b[0m\u001b[1;33m)\u001b[0m\u001b[1;33m)\u001b[0m\u001b[1;33m[\u001b[0m\u001b[1;33m:\u001b[0m\u001b[0mn\u001b[0m\u001b[1;33m]\u001b[0m\u001b[1;33m)\u001b[0m\u001b[1;33m\u001b[0m\u001b[0m\n\u001b[0m\u001b[0;32m      2\u001b[0m \u001b[1;31m#intersection = list(list_feedback.intersection(test_set['items_seen_by_user'].get(user, [])))\u001b[0m\u001b[1;33m\u001b[0m\u001b[1;33m\u001b[0m\u001b[0m\n",
      "\u001b[1;31mAttributeError\u001b[0m: 'list' object has no attribute 'get'"
     ]
    }
   ],
   "source": [
    "list_feedback = set(list(model.predictions.get(1, []))[:n])\n",
    "#intersection = list(list_feedback.intersection(test_set['items_seen_by_user'].get(user, [])))"
   ]
  },
  {
   "cell_type": "code",
   "execution_count": 32,
   "metadata": {},
   "outputs": [],
   "source": [
    "df_predictions = pd.DataFrame(model.predictions, columns = ['user_id', 'item_id', 'rating'])\n",
    "df_user = df_predictions[df_predictions['user_id'] == 1].sort_values(['rating'], ascending=False).reset_index(drop = True)"
   ]
  },
  {
   "cell_type": "code",
   "execution_count": 45,
   "metadata": {},
   "outputs": [
    {
     "data": {
      "text/plain": [
       "4.3095690220042835"
      ]
     },
     "execution_count": 45,
     "metadata": {},
     "output_type": "execute_result"
    }
   ],
   "source": [
    "np.mean(np.array(df_user['rating'].loc[:10]))#.sort_values(['rating'], ascending=False)"
   ]
  },
  {
   "cell_type": "code",
   "execution_count": 16,
   "metadata": {},
   "outputs": [
    {
     "ename": "KeyError",
     "evalue": "'MAP'",
     "output_type": "error",
     "traceback": [
      "\u001b[1;31m---------------------------------------------------------------------------\u001b[0m",
      "\u001b[1;31mKeyError\u001b[0m                                  Traceback (most recent call last)",
      "\u001b[1;32m<ipython-input-16-93a434eff193>\u001b[0m in \u001b[0;36m<module>\u001b[1;34m()\u001b[0m\n\u001b[1;32m----> 1\u001b[1;33m \u001b[0mmodel\u001b[0m\u001b[1;33m.\u001b[0m\u001b[0mevaluate\u001b[0m\u001b[1;33m(\u001b[0m\u001b[0mmetrics\u001b[0m \u001b[1;33m=\u001b[0m \u001b[1;33m[\u001b[0m\u001b[1;34m'RMSE'\u001b[0m\u001b[1;33m,\u001b[0m \u001b[1;34m'MAP'\u001b[0m\u001b[1;33m]\u001b[0m\u001b[1;33m)\u001b[0m\u001b[1;33m\u001b[0m\u001b[0m\n\u001b[0m",
      "\u001b[1;32mC:\\Anaconda\\lib\\site-packages\\caserec\\recommenders\\rating_prediction\\base_rating_prediction.py\u001b[0m in \u001b[0;36mevaluate\u001b[1;34m(self, metrics, verbose, as_table, table_sep)\u001b[0m\n\u001b[0;32m    152\u001b[0m         results = RatingPredictionEvaluation(verbose=verbose, as_table=as_table, table_sep=table_sep, metrics=metrics\n\u001b[0;32m    153\u001b[0m                                              \u001b[1;33m)\u001b[0m\u001b[1;33m.\u001b[0m\u001b[0mevaluate_recommender\u001b[0m\u001b[1;33m(\u001b[0m\u001b[0mpredictions\u001b[0m\u001b[1;33m=\u001b[0m\u001b[0mself\u001b[0m\u001b[1;33m.\u001b[0m\u001b[0mpredictions\u001b[0m\u001b[1;33m,\u001b[0m\u001b[1;33m\u001b[0m\u001b[0m\n\u001b[1;32m--> 154\u001b[1;33m                                                                     test_set=self.test_set)\n\u001b[0m\u001b[0;32m    155\u001b[0m \u001b[1;33m\u001b[0m\u001b[0m\n\u001b[0;32m    156\u001b[0m         \u001b[1;32mfor\u001b[0m \u001b[0mmetric\u001b[0m \u001b[1;32min\u001b[0m \u001b[0mmetrics\u001b[0m\u001b[1;33m:\u001b[0m\u001b[1;33m\u001b[0m\u001b[0m\n",
      "\u001b[1;32mC:\\Anaconda\\lib\\site-packages\\caserec\\evaluation\\base_evaluation.py\u001b[0m in \u001b[0;36mevaluate_recommender\u001b[1;34m(self, predictions, test_set)\u001b[0m\n\u001b[0;32m    104\u001b[0m             \u001b[0mpredictions_dict\u001b[0m\u001b[1;33m.\u001b[0m\u001b[0msetdefault\u001b[0m\u001b[1;33m(\u001b[0m\u001b[0msample\u001b[0m\u001b[1;33m[\u001b[0m\u001b[1;36m0\u001b[0m\u001b[1;33m]\u001b[0m\u001b[1;33m,\u001b[0m \u001b[1;33m{\u001b[0m\u001b[1;33m}\u001b[0m\u001b[1;33m)\u001b[0m\u001b[1;33m.\u001b[0m\u001b[0mupdate\u001b[0m\u001b[1;33m(\u001b[0m\u001b[1;33m{\u001b[0m\u001b[0msample\u001b[0m\u001b[1;33m[\u001b[0m\u001b[1;36m1\u001b[0m\u001b[1;33m]\u001b[0m\u001b[1;33m:\u001b[0m \u001b[0msample\u001b[0m\u001b[1;33m[\u001b[0m\u001b[1;36m2\u001b[0m\u001b[1;33m]\u001b[0m\u001b[1;33m}\u001b[0m\u001b[1;33m)\u001b[0m\u001b[1;33m\u001b[0m\u001b[0m\n\u001b[0;32m    105\u001b[0m \u001b[1;33m\u001b[0m\u001b[0m\n\u001b[1;32m--> 106\u001b[1;33m         \u001b[1;32mreturn\u001b[0m \u001b[0mself\u001b[0m\u001b[1;33m.\u001b[0m\u001b[0mevaluate\u001b[0m\u001b[1;33m(\u001b[0m\u001b[0mpredictions_dict\u001b[0m\u001b[1;33m,\u001b[0m \u001b[0mtest_set\u001b[0m\u001b[1;33m)\u001b[0m\u001b[1;33m\u001b[0m\u001b[0m\n\u001b[0m\u001b[0;32m    107\u001b[0m \u001b[1;33m\u001b[0m\u001b[0m\n\u001b[0;32m    108\u001b[0m     \u001b[1;32mdef\u001b[0m \u001b[0mevaluate_folds\u001b[0m\u001b[1;33m(\u001b[0m\u001b[0mself\u001b[0m\u001b[1;33m,\u001b[0m \u001b[0mfolds_dir\u001b[0m\u001b[1;33m,\u001b[0m \u001b[0mpredictions_file_name\u001b[0m\u001b[1;33m,\u001b[0m \u001b[0mtest_file_name\u001b[0m\u001b[1;33m,\u001b[0m \u001b[0mk_folds\u001b[0m\u001b[1;33m=\u001b[0m\u001b[1;36m10\u001b[0m\u001b[1;33m)\u001b[0m\u001b[1;33m:\u001b[0m\u001b[1;33m\u001b[0m\u001b[0m\n",
      "\u001b[1;32mC:\\Anaconda\\lib\\site-packages\\caserec\\evaluation\\rating_prediction.py\u001b[0m in \u001b[0;36mevaluate\u001b[1;34m(self, predictions, test_set)\u001b[0m\n\u001b[0;32m     99\u001b[0m \u001b[1;33m\u001b[0m\u001b[0m\n\u001b[0;32m    100\u001b[0m             \u001b[1;32mif\u001b[0m \u001b[0mself\u001b[0m\u001b[1;33m.\u001b[0m\u001b[0mverbose\u001b[0m\u001b[1;33m:\u001b[0m\u001b[1;33m\u001b[0m\u001b[0m\n\u001b[1;32m--> 101\u001b[1;33m                 \u001b[0mself\u001b[0m\u001b[1;33m.\u001b[0m\u001b[0mprint_results\u001b[0m\u001b[1;33m(\u001b[0m\u001b[0meval_results\u001b[0m\u001b[1;33m)\u001b[0m\u001b[1;33m\u001b[0m\u001b[0m\n\u001b[0m\u001b[0;32m    102\u001b[0m \u001b[1;33m\u001b[0m\u001b[0m\n\u001b[0;32m    103\u001b[0m         \u001b[1;32melse\u001b[0m\u001b[1;33m:\u001b[0m\u001b[1;33m\u001b[0m\u001b[0m\n",
      "\u001b[1;32mC:\\Anaconda\\lib\\site-packages\\caserec\\evaluation\\base_evaluation.py\u001b[0m in \u001b[0;36mprint_results\u001b[1;34m(self, evaluation_results)\u001b[0m\n\u001b[0;32m    165\u001b[0m             \u001b[0mevaluation\u001b[0m \u001b[1;33m=\u001b[0m \u001b[1;34m'Eval:: '\u001b[0m\u001b[1;33m\u001b[0m\u001b[0m\n\u001b[0;32m    166\u001b[0m             \u001b[1;32mfor\u001b[0m \u001b[0mmetrics\u001b[0m \u001b[1;32min\u001b[0m \u001b[0mself\u001b[0m\u001b[1;33m.\u001b[0m\u001b[0mmetrics\u001b[0m\u001b[1;33m:\u001b[0m\u001b[1;33m\u001b[0m\u001b[0m\n\u001b[1;32m--> 167\u001b[1;33m                 \u001b[0mevaluation\u001b[0m \u001b[1;33m+=\u001b[0m \u001b[0mmetrics\u001b[0m\u001b[1;33m.\u001b[0m\u001b[0mupper\u001b[0m\u001b[1;33m(\u001b[0m\u001b[1;33m)\u001b[0m \u001b[1;33m+\u001b[0m \u001b[1;34m': '\u001b[0m \u001b[1;33m+\u001b[0m \u001b[0mstr\u001b[0m\u001b[1;33m(\u001b[0m\u001b[0mevaluation_results\u001b[0m\u001b[1;33m[\u001b[0m\u001b[0mmetrics\u001b[0m\u001b[1;33m.\u001b[0m\u001b[0mupper\u001b[0m\u001b[1;33m(\u001b[0m\u001b[1;33m)\u001b[0m\u001b[1;33m]\u001b[0m\u001b[1;33m)\u001b[0m \u001b[1;33m+\u001b[0m \u001b[1;34m' '\u001b[0m\u001b[1;33m\u001b[0m\u001b[0m\n\u001b[0m\u001b[0;32m    168\u001b[0m             \u001b[0mprint\u001b[0m\u001b[1;33m(\u001b[0m\u001b[0mevaluation\u001b[0m\u001b[1;33m)\u001b[0m\u001b[1;33m\u001b[0m\u001b[0m\n",
      "\u001b[1;31mKeyError\u001b[0m: 'MAP'"
     ]
    }
   ],
   "source": [
    "model.evaluate(metrics = ['RMSE', 'MAP'])"
   ]
  },
  {
   "cell_type": "markdown",
   "metadata": {},
   "source": [
    "## BPRMF"
   ]
  },
  {
   "cell_type": "code",
   "execution_count": 57,
   "metadata": {},
   "outputs": [],
   "source": [
    "from caserec.recommenders.item_recommendation.bprmf import BprMF\n",
    "\n",
    "# tr = '../../datasets/ml-100k/folds/0/train.dat'\n",
    "# te = '../../datasets/ml-100k/folds/0/test.dat'\n",
    "top_n = 10\n",
    "\n",
    "model = BprMF(train, test, batch_size=30, rank_length = top_n)#.compute()"
   ]
  },
  {
   "cell_type": "code",
   "execution_count": 54,
   "metadata": {},
   "outputs": [
    {
     "name": "stdout",
     "output_type": "stream",
     "text": [
      "[Case Recommender: Item Recommendation > BPRMF]\n",
      "\n",
      "train data:: 943 users and 1657 items (80000 interactions) | sparsity:: 94.88%\n",
      "test data:: 940 users and 1401 items (20000 interactions) | sparsity:: 98.48%\n",
      "\n",
      "training_time:: 2.224077 sec\n",
      "prediction_time:: 0.982096 sec\n",
      "\n",
      "\n",
      "Eval:: PREC@1: 0.217021 PREC@3: 0.193262 PREC@5: 0.185745 PREC@10: 0.156489 RECALL@1: 0.017564 RECALL@3: 0.045592 RECALL@5: 0.072926 RECALL@10: 0.121103 MAP@1: 0.217021 MAP@3: 0.304433 MAP@5: 0.328044 MAP@10: 0.326646 NDCG@1: 0.217021 NDCG@3: 0.385686 NDCG@5: 0.435804 NDCG@10: 0.460224 \n"
     ]
    }
   ],
   "source": [
    "model.compute(metrics = ['PREC'])"
   ]
  },
  {
   "cell_type": "code",
   "execution_count": 61,
   "metadata": {},
   "outputs": [
    {
     "name": "stdout",
     "output_type": "stream",
     "text": [
      "[Case Recommender: Item Recommendation > BPRMF]\n",
      "\n",
      "train data:: 943 users and 1657 items (80000 interactions) | sparsity:: 94.88%\n",
      "test data:: 940 users and 1401 items (20000 interactions) | sparsity:: 98.48%\n",
      "\n",
      "training_time:: 2.689388 sec\n",
      "prediction_time:: 1.125491 sec\n",
      "\n",
      "\n",
      "PREC@1\tPREC@3\tPREC@5\tPREC@10\tRECALL@1\tRECALL@3\tRECALL@5\tRECALL@10\tMAP@1\tMAP@3\tMAP@5\tMAP@10\tNDCG@1\tNDCG@3\tNDCG@5\tNDCG@10\t\n",
      "0.185106\t0.205319\t0.187872\t0.157234\t0.015407\t0.050376\t0.074052\t0.120316\t0.185106\t0.306028\t0.326875\t0.323273\t0.185106\t0.415017\t0.452651\t0.470804\t\n"
     ]
    }
   ],
   "source": [
    "metrics = ('Prec', 'Recall', 'NDCG', 'MAP')\n",
    "\n",
    "\n",
    "model.compute(metrics=None, \n",
    "             as_table=True)"
   ]
  },
  {
   "cell_type": "code",
   "execution_count": 59,
   "metadata": {},
   "outputs": [
    {
     "data": {
      "text/plain": [
       "{'MAP': 0.334259,\n",
       " 'MAP@1': 0.219149,\n",
       " 'MAP@10': 0.334259,\n",
       " 'MAP@3': 0.31117,\n",
       " 'MAP@5': 0.339774,\n",
       " 'NDCG@1': 0.219149,\n",
       " 'NDCG@10': 0.470263,\n",
       " 'NDCG@3': 0.397059,\n",
       " 'NDCG@5': 0.455984,\n",
       " 'PREC@1': 0.219149,\n",
       " 'PREC@10': 0.162128,\n",
       " 'PREC@3': 0.199291,\n",
       " 'PREC@5': 0.194894,\n",
       " 'RECALL@1': 0.018399,\n",
       " 'RECALL@10': 0.123498,\n",
       " 'RECALL@3': 0.049066,\n",
       " 'RECALL@5': 0.074591}"
      ]
     },
     "execution_count": 59,
     "metadata": {},
     "output_type": "execute_result"
    }
   ],
   "source": [
    "model.evaluation_results"
   ]
  },
  {
   "cell_type": "code",
   "execution_count": 90,
   "metadata": {},
   "outputs": [],
   "source": [
    "from caserec.evaluation.rating_prediction import RatingPredictionEvaluation\n",
    "\n",
    "evaluator = RatingPredictionEvaluation(sep = '\\t', n_rank = [10], as_rank = True, metrics = ['PREC'])"
   ]
  },
  {
   "cell_type": "code",
   "execution_count": 66,
   "metadata": {},
   "outputs": [],
   "source": [
    "model.predict()"
   ]
  },
  {
   "cell_type": "code",
   "execution_count": 67,
   "metadata": {},
   "outputs": [
    {
     "ename": "AttributeError",
     "evalue": "'BprMF' object has no attribute 'predictions'",
     "output_type": "error",
     "traceback": [
      "\u001b[1;31m---------------------------------------------------------------------------\u001b[0m",
      "\u001b[1;31mAttributeError\u001b[0m                            Traceback (most recent call last)",
      "\u001b[1;32m<ipython-input-67-f207e53571c1>\u001b[0m in \u001b[0;36m<module>\u001b[1;34m()\u001b[0m\n\u001b[1;32m----> 1\u001b[1;33m \u001b[0mevaluator\u001b[0m\u001b[1;33m.\u001b[0m\u001b[0mevaluate\u001b[0m\u001b[1;33m(\u001b[0m\u001b[0mmodel\u001b[0m\u001b[1;33m.\u001b[0m\u001b[0mpredictions\u001b[0m\u001b[1;33m,\u001b[0m \u001b[0mmodel\u001b[0m\u001b[1;33m.\u001b[0m\u001b[0mtest_set\u001b[0m\u001b[1;33m)\u001b[0m\u001b[1;33m\u001b[0m\u001b[0m\n\u001b[0m",
      "\u001b[1;31mAttributeError\u001b[0m: 'BprMF' object has no attribute 'predictions'"
     ]
    }
   ],
   "source": [
    "evaluator.evaluate(model.predictions, model.test_set)"
   ]
  },
  {
   "cell_type": "code",
   "execution_count": 80,
   "metadata": {},
   "outputs": [
    {
     "name": "stdout",
     "output_type": "stream",
     "text": [
      "[Case Recommender: Rating Prediction > Matrix Factorization]\n",
      "\n",
      "train data:: 943 users and 1657 items (80000 interactions) | sparsity:: 94.88%\n",
      "test data:: 940 users and 1401 items (20000 interactions) | sparsity:: 98.48%\n",
      "\n",
      "training_time:: 20.522973 sec\n",
      "prediction_time:: 0.040890 sec\n",
      "\n",
      "\n",
      "Eval:: MAE: 0.748833 RMSE: 0.954029 \n"
     ]
    }
   ],
   "source": [
    "from caserec.recommenders.rating_prediction.matrixfactorization import MatrixFactorization\n",
    "\n",
    "temp_filepath = './temp_file.dat'\n",
    "\n",
    "model = MatrixFactorization(train, test, output_file = temp_filepath)\n",
    "\n",
    "model.compute()"
   ]
  },
  {
   "cell_type": "code",
   "execution_count": 76,
   "metadata": {},
   "outputs": [],
   "source": [
    "predictions = model.predictions\n",
    "test_set = model.test_set"
   ]
  },
  {
   "cell_type": "code",
   "execution_count": 81,
   "metadata": {},
   "outputs": [],
   "source": [
    "from caserec.utils.process_data import ReadFile\n",
    "\n",
    "reader = ReadFile(input_file=temp_filepath)"
   ]
  },
  {
   "cell_type": "code",
   "execution_count": 83,
   "metadata": {},
   "outputs": [],
   "source": [
    "predictions = reader.read()"
   ]
  },
  {
   "cell_type": "markdown",
   "metadata": {},
   "source": [
    "## SAE "
   ]
  },
  {
   "cell_type": "code",
   "execution_count": 5,
   "metadata": {},
   "outputs": [
    {
     "name": "stderr",
     "output_type": "stream",
     "text": [
      "C:\\Anaconda\\lib\\site-packages\\h5py\\__init__.py:36: FutureWarning: Conversion of the second argument of issubdtype from `float` to `np.floating` is deprecated. In future, it will be treated as `np.float64 == np.dtype(float).type`.\n",
      "  from ._conv import register_converters as _register_converters\n",
      "Using TensorFlow backend.\n"
     ]
    }
   ],
   "source": [
    "from caserec.recommenders.rating_prediction.ae import AE"
   ]
  },
  {
   "cell_type": "code",
   "execution_count": 17,
   "metadata": {},
   "outputs": [
    {
     "data": {
      "text/plain": [
       "['desktop.ini', 'test.dat', 'train.dat']"
      ]
     },
     "execution_count": 17,
     "metadata": {},
     "output_type": "execute_result"
    }
   ],
   "source": [
    "import os\n",
    "os.listdir()"
   ]
  },
  {
   "cell_type": "code",
   "execution_count": 18,
   "metadata": {},
   "outputs": [
    {
     "name": "stdout",
     "output_type": "stream",
     "text": [
      "[Case Recommender: Rating Prediction > AE]\n",
      "\n",
      "train data:: 943 users and 1593 items (50000 interactions) | sparsity:: 96.67%\n",
      "test data:: 943 users and 1593 items (50000 interactions) | sparsity:: 96.67%\n",
      "\n",
      "training_time:: 11.153176 sec\n",
      "prediction_time:: 0.129653 sec\n",
      "\n",
      "\n",
      "Eval:: MAE: 1.012531 RMSE: 1.297551 \n"
     ]
    }
   ],
   "source": [
    "dataset_folder = './../../Datasets/MovieLens/100k/outputs/sparsity_datasets/usslimit_1.0_isslimit_1.0/folds/0/'\n",
    "\n",
    "tr = dataset_folder + 'train.dat'\n",
    "te = dataset_folder + 'train.dat'\n",
    "\n",
    "model = AE(tr, te)\n",
    "model.compute(verbose=True)"
   ]
  },
  {
   "cell_type": "code",
   "execution_count": 26,
   "metadata": {},
   "outputs": [
    {
     "data": {
      "text/plain": [
       "[<matplotlib.lines.Line2D at 0x1ec74ab8358>]"
      ]
     },
     "execution_count": 26,
     "metadata": {},
     "output_type": "execute_result"
    },
    {
     "data": {
      "image/png": "[encoded data removed]",
      "text/plain": [
       "<matplotlib.figure.Figure at 0x1ec72d67a90>"
      ]
     },
     "metadata": {},
     "output_type": "display_data"
    }
   ],
   "source": [
    "plt.plot(model.fitHistory.history['mean_absolute_error'])"
   ]
  },
  {
   "cell_type": "code",
   "execution_count": 43,
   "metadata": {},
   "outputs": [
    {
     "data": {
      "text/plain": [
       "1.297551"
      ]
     },
     "execution_count": 43,
     "metadata": {},
     "output_type": "execute_result"
    }
   ],
   "source": [
    "model.evaluation_results['RMSE']\n"
   ]
  },
  {
   "cell_type": "code",
   "execution_count": 44,
   "metadata": {},
   "outputs": [
    {
     "name": "stdout",
     "output_type": "stream",
     "text": [
      "[Case Recommender: Rating Prediction > AE]\n",
      "\n",
      "train data:: 943 users and 1593 items (50000 interactions) | sparsity:: 96.67%\n",
      "test data:: 943 users and 1593 items (50000 interactions) | sparsity:: 96.67%\n",
      "\n",
      "training_time:: 16.665414 sec\n",
      "prediction_time:: 0.142619 sec\n",
      "\n",
      "\n",
      "Eval:: MAE: 0.997577 RMSE: 1.27936 \n",
      "[Case Recommender: Rating Prediction > AE]\n",
      "\n",
      "train data:: 943 users and 1593 items (50000 interactions) | sparsity:: 96.67%\n",
      "test data:: 943 users and 1593 items (50000 interactions) | sparsity:: 96.67%\n",
      "\n",
      "training_time:: 17.243889 sec\n",
      "prediction_time:: 0.137631 sec\n",
      "\n",
      "\n",
      "Eval:: MAE: 0.947253 RMSE: 1.128168 \n"
     ]
    }
   ],
   "source": [
    "step_size = 1000\n",
    "max_percentage = 0.8\n",
    "array_eval_neurons = []\n",
    "print (\"Number of evaluations: \", len( np.arange(10, int(max_percentage*len(model.items)), step_size)))\n",
    "\n",
    "for num_neurons in np.arange(10, int(max_percentage*len(model.items)), step_size):\n",
    "    model = AE(tr, te, num_neurons=num_neurons)\n",
    "    model.compute(verbose=True)\n",
    "    \n",
    "    line = [num_neurons, model.evaluation_results['MAE'], model.evaluation_results['RMSE']]\n",
    "    array_eval_neurons.append(line)"
   ]
  },
  {
   "cell_type": "code",
   "execution_count": 53,
   "metadata": {},
   "outputs": [
    {
     "data": {
      "text/html": [
       "<div>\n",
       "<style scoped>\n",
       "    .dataframe tbody tr th:only-of-type {\n",
       "        vertical-align: middle;\n",
       "    }\n",
       "\n",
       "    .dataframe tbody tr th {\n",
       "        vertical-align: top;\n",
       "    }\n",
       "\n",
       "    .dataframe thead th {\n",
       "        text-align: right;\n",
       "    }\n",
       "</style>\n",
       "<table border=\"1\" class=\"dataframe\">\n",
       "  <thead>\n",
       "    <tr style=\"text-align: right;\">\n",
       "      <th></th>\n",
       "      <th>neurons</th>\n",
       "      <th>MAE</th>\n",
       "      <th>RMSE</th>\n",
       "    </tr>\n",
       "  </thead>\n",
       "  <tbody>\n",
       "    <tr>\n",
       "      <th>0</th>\n",
       "      <td>10</td>\n",
       "      <td>0.997577</td>\n",
       "      <td>1.279360</td>\n",
       "    </tr>\n",
       "    <tr>\n",
       "      <th>1</th>\n",
       "      <td>1010</td>\n",
       "      <td>0.947253</td>\n",
       "      <td>1.128168</td>\n",
       "    </tr>\n",
       "  </tbody>\n",
       "</table>\n",
       "</div>"
      ],
      "text/plain": [
       "   neurons       MAE      RMSE\n",
       "0       10  0.997577  1.279360\n",
       "1     1010  0.947253  1.128168"
      ]
     },
     "execution_count": 53,
     "metadata": {},
     "output_type": "execute_result"
    }
   ],
   "source": [
    "df_eval_neurons = pd.DataFrame(data=array_eval_neurons, columns=['neurons', 'MAE', 'RMSE'])\n",
    "df_eval_neurons"
   ]
  },
  {
   "cell_type": "code",
   "execution_count": 68,
   "metadata": {},
   "outputs": [
    {
     "data": {
      "text/plain": [
       "Text(0.5,0,'Number of Neurons')"
      ]
     },
     "execution_count": 68,
     "metadata": {},
     "output_type": "execute_result"
    },
    {
     "data": {
      "image/png": "[encoded data removed]",
      "text/plain": [
       "<matplotlib.figure.Figure at 0x1ec04ac19b0>"
      ]
     },
     "metadata": {},
     "output_type": "display_data"
    }
   ],
   "source": [
    "fig, ax = plt.subplots(ncols=1, nrows=1, figsize=(10,10))\n",
    "ax.plot(df_eval_neurons['neurons'], df_eval_neurons['MAE'], label='MAE')\n",
    "ax.plot(df_eval_neurons['neurons'], df_eval_neurons['RMSE'], label='RMSE')\n",
    "ax.legend()\n",
    "ax.grid()\n",
    "ax.set_title('Metrics x Number of Neurons')\n",
    "ax.set_xlabel('Number of Neurons')\n"
   ]
  }
 ],
 "metadata": {
  "kernelspec": {
   "display_name": "Python 3",
   "language": "python",
   "name": "python3"
  },
  "language_info": {
   "codemirror_mode": {
    "name": "ipython",
    "version": 3
   },
   "file_extension": ".py",
   "mimetype": "text/x-python",
   "name": "python",
   "nbconvert_exporter": "python",
   "pygments_lexer": "ipython3",
   "version": "3.7.3"
  }
 },
 "nbformat": 4,
 "nbformat_minor": 2
}
