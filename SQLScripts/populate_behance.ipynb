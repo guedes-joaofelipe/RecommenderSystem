{
 "cells": [
  {
   "cell_type": "markdown",
   "metadata": {},
   "source": [
    "# Populate Behance \n",
    "\n",
    "This is a auxiliary script to populate the [Behance Dataset](http://cseweb.ucsd.edu/~jmcauley/datasets.html#behance) in the RecSys database.\n",
    "\n",
    "## Imports"
   ]
  },
  {
   "cell_type": "code",
   "execution_count": 1,
   "metadata": {},
   "outputs": [],
   "source": [
    "import sys, os \n",
    "import numpy as np \n",
    "import pandas as pd \n",
    "from sqlalchemy import types\n",
    "lib_path = './../Sources'\n",
    "if (lib_path not in sys.path):\n",
    "    sys.path.append(lib_path) #src directory\n",
    "import lpsrec.database as db"
   ]
  },
  {
   "cell_type": "markdown",
   "metadata": {},
   "source": [
    "## Getting Connection do Database"
   ]
  },
  {
   "cell_type": "code",
   "execution_count": 2,
   "metadata": {},
   "outputs": [],
   "source": [
    "username = 'postgres'\n",
    "password = 'admin'\n",
    "dbname = 'RecSys'\n",
    "hostname = 'localhost:5432'\n",
    "conn = db.get_database_connection(username, password, hostname, dbname)"
   ]
  },
  {
   "cell_type": "markdown",
   "metadata": {},
   "source": [
    "## Registering Dataset"
   ]
  },
  {
   "cell_type": "code",
   "execution_count": 8,
   "metadata": {},
   "outputs": [
    {
     "data": {
      "text/html": [
       "<div>\n",
       "<style scoped>\n",
       "    .dataframe tbody tr th:only-of-type {\n",
       "        vertical-align: middle;\n",
       "    }\n",
       "\n",
       "    .dataframe tbody tr th {\n",
       "        vertical-align: top;\n",
       "    }\n",
       "\n",
       "    .dataframe thead th {\n",
       "        text-align: right;\n",
       "    }\n",
       "</style>\n",
       "<table border=\"1\" class=\"dataframe\">\n",
       "  <thead>\n",
       "    <tr style=\"text-align: right;\">\n",
       "      <th></th>\n",
       "      <th>id_dataset</th>\n",
       "      <th>name</th>\n",
       "      <th>url</th>\n",
       "      <th>registers</th>\n",
       "      <th>size</th>\n",
       "      <th>id_cluster</th>\n",
       "      <th>version</th>\n",
       "      <th>id_utility</th>\n",
       "    </tr>\n",
       "  </thead>\n",
       "  <tbody>\n",
       "  </tbody>\n",
       "</table>\n",
       "</div>"
      ],
      "text/plain": [
       "Empty DataFrame\n",
       "Columns: [id_dataset, name, url, registers, size, id_cluster, version, id_utility]\n",
       "Index: []"
      ]
     },
     "execution_count": 8,
     "metadata": {},
     "output_type": "execute_result"
    }
   ],
   "source": [
    "df_dataset_info = pd.read_sql(con=conn, sql=\"SELECT * FROM datasets.dataset WHERE version = 'BEH1M'\")\n",
    "df_dataset_info.head()"
   ]
  },
  {
   "cell_type": "code",
   "execution_count": 18,
   "metadata": {},
   "outputs": [],
   "source": [
    "df_cluster = pd.read_sql(con=conn, sql=\"SELECT * FROM datasets.clusters WHERE tag = 'Behance'\")\n",
    "if df_cluster.shape[0] > 0:\n",
    "    id_cluster = df_cluster['id_cluster'][0]\n",
    "else:\n",
    "    conn.execute(\"INSERT INTO datasets.clusters (tag) VALUES ('Behance')\")\n",
    "    id_cluster = pd.read_sql(con=conn, sql=\"SELECT * FROM datasets.clusters WHERE tag = 'Behance'\")['id_cluster'][0]"
   ]
  },
  {
   "cell_type": "code",
   "execution_count": 16,
   "metadata": {},
   "outputs": [],
   "source": [
    "# Register Utilities\n",
    "df_utility = pd.read_sql(con=conn, sql=\"SELECT * FROM datasets.utility WHERE utility = 'art'\")\n",
    "if df_utility.shape[0] > 0:\n",
    "    id_utility = df_utility['id_utility'][0]\n",
    "else: \n",
    "    conn.execute(\"insert into datasets.utility (utility, description) values ('art', 'art website likes')\")\n",
    "    df_utility = pd.read_sql(con=conn, sql=\"SELECT * FROM datasets.utility WHERE utility = 'art'\")\n",
    "    id_utility = df_utility['id_utility'][0]"
   ]
  },
  {
   "cell_type": "code",
   "execution_count": 23,
   "metadata": {},
   "outputs": [],
   "source": [
    "# Actual parameter values may differ, what you see is a default string representation of values\n",
    "df_dataset = pd.read_sql(con=conn, sql=\"SELECT * FROM datasets.dataset WHERE version = 'BEH1M'\")\n",
    "if df_dataset.shape[0] > 0:\n",
    "    id_dataset = df_dataset['id_dataset'][0]\n",
    "else: \n",
    "    sql_str = \"\"\"\n",
    "        INSERT INTO datasets.dataset (\"name\",url,id_cluster,\"version\", id_utility)\n",
    "        VALUES ('Behance Art Reviews',\n",
    "                'https://drive.google.com/drive/folders/0B9Ck8jw-TZUEc3NlMjVXdDlPU1k', \n",
    "                \"\"\" + str(id_cluster) + \"\"\",\n",
    "                'BEH1M', \n",
    "                \"\"\" + str(id_utility) + \"\"\")\"\"\"\n",
    "    conn.execute(sql_str)\n",
    "    id_dataset = pd.read_sql(con=conn, sql=\"SELECT * FROM datasets.dataset WHERE version = 'BEH1M'\")['id_dataset'][0]\n"
   ]
  },
  {
   "cell_type": "markdown",
   "metadata": {},
   "source": [
    "## Loading Dataset "
   ]
  },
  {
   "cell_type": "code",
   "execution_count": null,
   "metadata": {},
   "outputs": [],
   "source": [
    "dataset_path = './../Datasets/Behance/Behance1M_raw/'\n",
    "os.listdir(dataset_path)"
   ]
  },
  {
   "cell_type": "code",
   "execution_count": 29,
   "metadata": {},
   "outputs": [
    {
     "name": "stdout",
     "output_type": "stream",
     "text": [
      "Number of ratings:  1000000\n",
      "Number of users who have ratings:  63497\n",
      "Number of items who have ratings:  178788\n"
     ]
    },
    {
     "data": {
      "text/html": [
       "<div>\n",
       "<style scoped>\n",
       "    .dataframe tbody tr th:only-of-type {\n",
       "        vertical-align: middle;\n",
       "    }\n",
       "\n",
       "    .dataframe tbody tr th {\n",
       "        vertical-align: top;\n",
       "    }\n",
       "\n",
       "    .dataframe thead th {\n",
       "        text-align: right;\n",
       "    }\n",
       "</style>\n",
       "<table border=\"1\" class=\"dataframe\">\n",
       "  <thead>\n",
       "    <tr style=\"text-align: right;\">\n",
       "      <th></th>\n",
       "      <th>id_user</th>\n",
       "      <th>id_item</th>\n",
       "      <th>timestamp</th>\n",
       "    </tr>\n",
       "  </thead>\n",
       "  <tbody>\n",
       "    <tr>\n",
       "      <th>0</th>\n",
       "      <td>276633</td>\n",
       "      <td>1588231</td>\n",
       "      <td>1307583271</td>\n",
       "    </tr>\n",
       "    <tr>\n",
       "      <th>1</th>\n",
       "      <td>1238354</td>\n",
       "      <td>1529213</td>\n",
       "      <td>1307583273</td>\n",
       "    </tr>\n",
       "    <tr>\n",
       "      <th>2</th>\n",
       "      <td>165550</td>\n",
       "      <td>485000</td>\n",
       "      <td>1307583337</td>\n",
       "    </tr>\n",
       "    <tr>\n",
       "      <th>3</th>\n",
       "      <td>2173258</td>\n",
       "      <td>776972</td>\n",
       "      <td>1307583340</td>\n",
       "    </tr>\n",
       "    <tr>\n",
       "      <th>4</th>\n",
       "      <td>165550</td>\n",
       "      <td>158226</td>\n",
       "      <td>1307583406</td>\n",
       "    </tr>\n",
       "  </tbody>\n",
       "</table>\n",
       "</div>"
      ],
      "text/plain": [
       "   id_user  id_item   timestamp\n",
       "0   276633  1588231  1307583271\n",
       "1  1238354  1529213  1307583273\n",
       "2   165550   485000  1307583337\n",
       "3  2173258   776972  1307583340\n",
       "4   165550   158226  1307583406"
      ]
     },
     "execution_count": 29,
     "metadata": {},
     "output_type": "execute_result"
    }
   ],
   "source": [
    "df_ratings = pd.read_csv(os.path.join(dataset_path, 'Behance_appreciate_1M'), sep=' ', header=None)\n",
    "df_ratings.columns = ['id_user', 'id_item', 'timestamp']\n",
    "print (\"Number of ratings: \", df_ratings.shape[0])\n",
    "print (\"Number of users who have ratings: \", df_ratings['id_user'].unique().shape[0])\n",
    "print (\"Number of items who have ratings: \", df_ratings['id_item'].unique().shape[0])\n",
    "df_ratings.head()"
   ]
  },
  {
   "cell_type": "markdown",
   "metadata": {},
   "source": [
    "## Inserting Users"
   ]
  },
  {
   "cell_type": "code",
   "execution_count": 27,
   "metadata": {},
   "outputs": [
    {
     "data": {
      "text/html": [
       "<div>\n",
       "<style scoped>\n",
       "    .dataframe tbody tr th:only-of-type {\n",
       "        vertical-align: middle;\n",
       "    }\n",
       "\n",
       "    .dataframe tbody tr th {\n",
       "        vertical-align: top;\n",
       "    }\n",
       "\n",
       "    .dataframe thead th {\n",
       "        text-align: right;\n",
       "    }\n",
       "</style>\n",
       "<table border=\"1\" class=\"dataframe\">\n",
       "  <thead>\n",
       "    <tr style=\"text-align: right;\">\n",
       "      <th></th>\n",
       "      <th>id_dataset</th>\n",
       "      <th>id_user_dataset</th>\n",
       "    </tr>\n",
       "  </thead>\n",
       "  <tbody>\n",
       "    <tr>\n",
       "      <th>63492</th>\n",
       "      <td>8</td>\n",
       "      <td>1719679</td>\n",
       "    </tr>\n",
       "    <tr>\n",
       "      <th>63493</th>\n",
       "      <td>8</td>\n",
       "      <td>3256217</td>\n",
       "    </tr>\n",
       "    <tr>\n",
       "      <th>63494</th>\n",
       "      <td>8</td>\n",
       "      <td>1694139</td>\n",
       "    </tr>\n",
       "    <tr>\n",
       "      <th>63495</th>\n",
       "      <td>8</td>\n",
       "      <td>1684834</td>\n",
       "    </tr>\n",
       "    <tr>\n",
       "      <th>63496</th>\n",
       "      <td>8</td>\n",
       "      <td>697018</td>\n",
       "    </tr>\n",
       "  </tbody>\n",
       "</table>\n",
       "</div>"
      ],
      "text/plain": [
       "       id_dataset  id_user_dataset\n",
       "63492           8          1719679\n",
       "63493           8          3256217\n",
       "63494           8          1694139\n",
       "63495           8          1684834\n",
       "63496           8           697018"
      ]
     },
     "execution_count": 27,
     "metadata": {},
     "output_type": "execute_result"
    }
   ],
   "source": [
    "df_datasets_user = pd.DataFrame(columns=[\"id_dataset\", \"id_user_dataset\"])\n",
    "df_datasets_user['id_user_dataset'] = df_ratings['id_user'].unique()\n",
    "df_datasets_user['id_dataset'] = np.repeat(id_dataset, df_datasets_user.shape[0])\n",
    "df_datasets_user.tail()"
   ]
  },
  {
   "cell_type": "markdown",
   "metadata": {},
   "source": [
    "Registering users on `datasets.user`"
   ]
  },
  {
   "cell_type": "code",
   "execution_count": 31,
   "metadata": {},
   "outputs": [
    {
     "name": "stdout",
     "output_type": "stream",
     "text": [
      "Wall time: 9.47 s\n"
     ]
    }
   ],
   "source": [
    "%%time\n",
    "df_types = {\"id_dataset\": types.INTEGER(), \"id_user_dataset\": types.INTEGER()}\n",
    "conn.execute(\"delete from datasets.user_info where id_user in (select id_user from datasets.user where id_dataset = {})\" .format(id_dataset))\n",
    "conn.execute(\"delete from datasets.user where id_user in (select id_user from datasets.user where id_dataset = {})\" .format(id_dataset))\n",
    "df_datasets_user.to_sql(con=conn, schema='datasets', if_exists='append', name='user', index=False, dtype=df_types)"
   ]
  },
  {
   "cell_type": "code",
   "execution_count": 32,
   "metadata": {},
   "outputs": [
    {
     "data": {
      "text/html": [
       "<div>\n",
       "<style scoped>\n",
       "    .dataframe tbody tr th:only-of-type {\n",
       "        vertical-align: middle;\n",
       "    }\n",
       "\n",
       "    .dataframe tbody tr th {\n",
       "        vertical-align: top;\n",
       "    }\n",
       "\n",
       "    .dataframe thead th {\n",
       "        text-align: right;\n",
       "    }\n",
       "</style>\n",
       "<table border=\"1\" class=\"dataframe\">\n",
       "  <thead>\n",
       "    <tr style=\"text-align: right;\">\n",
       "      <th></th>\n",
       "      <th>count</th>\n",
       "    </tr>\n",
       "  </thead>\n",
       "  <tbody>\n",
       "    <tr>\n",
       "      <th>0</th>\n",
       "      <td>63497</td>\n",
       "    </tr>\n",
       "  </tbody>\n",
       "</table>\n",
       "</div>"
      ],
      "text/plain": [
       "   count\n",
       "0  63497"
      ]
     },
     "execution_count": 32,
     "metadata": {},
     "output_type": "execute_result"
    }
   ],
   "source": [
    "pd.read_sql(con=conn, sql=\"SELECT count(1) FROM datasets.user WHERE id_dataset = \" + str(id_dataset))"
   ]
  },
  {
   "cell_type": "markdown",
   "metadata": {},
   "source": [
    "## Inserting Items"
   ]
  },
  {
   "cell_type": "code",
   "execution_count": 33,
   "metadata": {},
   "outputs": [
    {
     "data": {
      "text/html": [
       "<div>\n",
       "<style scoped>\n",
       "    .dataframe tbody tr th:only-of-type {\n",
       "        vertical-align: middle;\n",
       "    }\n",
       "\n",
       "    .dataframe tbody tr th {\n",
       "        vertical-align: top;\n",
       "    }\n",
       "\n",
       "    .dataframe thead th {\n",
       "        text-align: right;\n",
       "    }\n",
       "</style>\n",
       "<table border=\"1\" class=\"dataframe\">\n",
       "  <thead>\n",
       "    <tr style=\"text-align: right;\">\n",
       "      <th></th>\n",
       "      <th>id_dataset</th>\n",
       "      <th>id_item_dataset</th>\n",
       "    </tr>\n",
       "  </thead>\n",
       "  <tbody>\n",
       "    <tr>\n",
       "      <th>178783</th>\n",
       "      <td>8</td>\n",
       "      <td>1768808</td>\n",
       "    </tr>\n",
       "    <tr>\n",
       "      <th>178784</th>\n",
       "      <td>8</td>\n",
       "      <td>2496565</td>\n",
       "    </tr>\n",
       "    <tr>\n",
       "      <th>178785</th>\n",
       "      <td>8</td>\n",
       "      <td>2134380</td>\n",
       "    </tr>\n",
       "    <tr>\n",
       "      <th>178786</th>\n",
       "      <td>8</td>\n",
       "      <td>372177</td>\n",
       "    </tr>\n",
       "    <tr>\n",
       "      <th>178787</th>\n",
       "      <td>8</td>\n",
       "      <td>1345469</td>\n",
       "    </tr>\n",
       "  </tbody>\n",
       "</table>\n",
       "</div>"
      ],
      "text/plain": [
       "        id_dataset  id_item_dataset\n",
       "178783           8          1768808\n",
       "178784           8          2496565\n",
       "178785           8          2134380\n",
       "178786           8           372177\n",
       "178787           8          1345469"
      ]
     },
     "execution_count": 33,
     "metadata": {},
     "output_type": "execute_result"
    }
   ],
   "source": [
    "df_datasets_item = pd.DataFrame(columns=[\"id_dataset\", \"id_item_dataset\"])\n",
    "df_datasets_item['id_item_dataset'] = df_ratings['id_item'].unique()\n",
    "df_datasets_item['id_dataset'] = np.repeat(id_dataset, df_datasets_item.shape[0])\n",
    "df_datasets_item.tail()"
   ]
  },
  {
   "cell_type": "markdown",
   "metadata": {},
   "source": [
    "Registering items on `datasets.item`"
   ]
  },
  {
   "cell_type": "code",
   "execution_count": 34,
   "metadata": {},
   "outputs": [
    {
     "name": "stdout",
     "output_type": "stream",
     "text": [
      "Wall time: 19.9 s\n"
     ]
    }
   ],
   "source": [
    "%%time\n",
    "df_types = {\"id_dataset\": types.INTEGER(), \"id_item_dataset\": types.INTEGER()}\n",
    "conn.execute(\"delete from datasets.item_info where id_item in (select id_item from datasets.item where id_dataset = {})\" .format(id_dataset))\n",
    "conn.execute(\"delete from datasets.item where id_item in (select id_item from datasets.item where id_dataset = {})\" .format(id_dataset))\n",
    "df_datasets_item.to_sql(con=conn, schema='datasets', name='item', if_exists='append', index=False, dtype=df_types)"
   ]
  },
  {
   "cell_type": "code",
   "execution_count": 35,
   "metadata": {},
   "outputs": [
    {
     "data": {
      "text/html": [
       "<div>\n",
       "<style scoped>\n",
       "    .dataframe tbody tr th:only-of-type {\n",
       "        vertical-align: middle;\n",
       "    }\n",
       "\n",
       "    .dataframe tbody tr th {\n",
       "        vertical-align: top;\n",
       "    }\n",
       "\n",
       "    .dataframe thead th {\n",
       "        text-align: right;\n",
       "    }\n",
       "</style>\n",
       "<table border=\"1\" class=\"dataframe\">\n",
       "  <thead>\n",
       "    <tr style=\"text-align: right;\">\n",
       "      <th></th>\n",
       "      <th>count</th>\n",
       "    </tr>\n",
       "  </thead>\n",
       "  <tbody>\n",
       "    <tr>\n",
       "      <th>0</th>\n",
       "      <td>178788</td>\n",
       "    </tr>\n",
       "  </tbody>\n",
       "</table>\n",
       "</div>"
      ],
      "text/plain": [
       "    count\n",
       "0  178788"
      ]
     },
     "execution_count": 35,
     "metadata": {},
     "output_type": "execute_result"
    }
   ],
   "source": [
    "pd.read_sql(con=conn, sql=\"SELECT count(1) FROM datasets.item WHERE id_dataset = \" + str(id_dataset))"
   ]
  },
  {
   "cell_type": "markdown",
   "metadata": {},
   "source": [
    "## Inserting Ratings"
   ]
  },
  {
   "cell_type": "code",
   "execution_count": 39,
   "metadata": {},
   "outputs": [],
   "source": [
    "df_ratings.to_sql(con=conn, schema='transistory', if_exists='replace', name='beh1m_ratings', index=False, dtype={'id_user': types.VARCHAR(50), 'id_item': types.VARCHAR(50), 'timestamp': types.INTEGER()})"
   ]
  },
  {
   "cell_type": "code",
   "execution_count": 40,
   "metadata": {},
   "outputs": [
    {
     "data": {
      "text/html": [
       "<div>\n",
       "<style scoped>\n",
       "    .dataframe tbody tr th:only-of-type {\n",
       "        vertical-align: middle;\n",
       "    }\n",
       "\n",
       "    .dataframe tbody tr th {\n",
       "        vertical-align: top;\n",
       "    }\n",
       "\n",
       "    .dataframe thead th {\n",
       "        text-align: right;\n",
       "    }\n",
       "</style>\n",
       "<table border=\"1\" class=\"dataframe\">\n",
       "  <thead>\n",
       "    <tr style=\"text-align: right;\">\n",
       "      <th></th>\n",
       "      <th>id_user</th>\n",
       "      <th>id_item</th>\n",
       "      <th>timestamp</th>\n",
       "    </tr>\n",
       "  </thead>\n",
       "  <tbody>\n",
       "    <tr>\n",
       "      <th>999995</th>\n",
       "      <td>697018</td>\n",
       "      <td>329834</td>\n",
       "      <td>1321254585</td>\n",
       "    </tr>\n",
       "    <tr>\n",
       "      <th>999996</th>\n",
       "      <td>3265059</td>\n",
       "      <td>704143</td>\n",
       "      <td>1321254605</td>\n",
       "    </tr>\n",
       "    <tr>\n",
       "      <th>999997</th>\n",
       "      <td>157213</td>\n",
       "      <td>1345469</td>\n",
       "      <td>1321254649</td>\n",
       "    </tr>\n",
       "    <tr>\n",
       "      <th>999998</th>\n",
       "      <td>19740</td>\n",
       "      <td>2240652</td>\n",
       "      <td>1321254672</td>\n",
       "    </tr>\n",
       "    <tr>\n",
       "      <th>999999</th>\n",
       "      <td>697018</td>\n",
       "      <td>1912005</td>\n",
       "      <td>1321254674</td>\n",
       "    </tr>\n",
       "  </tbody>\n",
       "</table>\n",
       "</div>"
      ],
      "text/plain": [
       "        id_user  id_item   timestamp\n",
       "999995   697018   329834  1321254585\n",
       "999996  3265059   704143  1321254605\n",
       "999997   157213  1345469  1321254649\n",
       "999998    19740  2240652  1321254672\n",
       "999999   697018  1912005  1321254674"
      ]
     },
     "execution_count": 40,
     "metadata": {},
     "output_type": "execute_result"
    }
   ],
   "source": [
    "df_ratings_temp = pd.read_sql(con=conn, sql=\"SELECT * FROM transistory.beh1m_ratings\")\n",
    "df_ratings_temp.tail()"
   ]
  },
  {
   "cell_type": "code",
   "execution_count": 44,
   "metadata": {},
   "outputs": [
    {
     "data": {
      "text/plain": [
       "<sqlalchemy.engine.result.ResultProxy at 0x1fd80dfd7b8>"
      ]
     },
     "execution_count": 44,
     "metadata": {},
     "output_type": "execute_result"
    }
   ],
   "source": [
    "sql_str = \"\"\"\n",
    "insert into datasets.feedback \n",
    "(id_user, id_item, value, \"timestamp\", id_feedback_type)\n",
    "select us.id_user, it.id_item, 1, to_timestamp(\"timestamp\"), ft.id_feedback_type as type  \n",
    "from transistory.beh1m_ratings tran \n",
    "inner join datasets.\"user\" us on us.id_user_dataset = tran.id_user and us.id_dataset = \"\"\" + str(id_dataset) + \"\"\" \n",
    "inner join datasets.item it on it.id_item_dataset = tran.id_item and it.id_dataset = \"\"\" + str(id_dataset) + \"\"\" \n",
    "inner join datasets.feedback_type ft on ft.info_type = 'implicit'\"\"\"\n",
    "conn.execute(sql_str)"
   ]
  },
  {
   "cell_type": "code",
   "execution_count": 48,
   "metadata": {},
   "outputs": [
    {
     "data": {
      "text/html": [
       "<div>\n",
       "<style scoped>\n",
       "    .dataframe tbody tr th:only-of-type {\n",
       "        vertical-align: middle;\n",
       "    }\n",
       "\n",
       "    .dataframe tbody tr th {\n",
       "        vertical-align: top;\n",
       "    }\n",
       "\n",
       "    .dataframe thead th {\n",
       "        text-align: right;\n",
       "    }\n",
       "</style>\n",
       "<table border=\"1\" class=\"dataframe\">\n",
       "  <thead>\n",
       "    <tr style=\"text-align: right;\">\n",
       "      <th></th>\n",
       "      <th>id_user</th>\n",
       "      <th>id_item</th>\n",
       "      <th>value</th>\n",
       "      <th>timestamp</th>\n",
       "      <th>id_feedback_type</th>\n",
       "      <th>id_item</th>\n",
       "      <th>id_dataset</th>\n",
       "      <th>id_item_dataset</th>\n",
       "      <th>id_user</th>\n",
       "      <th>id_dataset</th>\n",
       "      <th>id_user_dataset</th>\n",
       "      <th>id_dataset</th>\n",
       "      <th>name</th>\n",
       "      <th>url</th>\n",
       "      <th>registers</th>\n",
       "      <th>size</th>\n",
       "      <th>id_cluster</th>\n",
       "      <th>version</th>\n",
       "      <th>id_utility</th>\n",
       "    </tr>\n",
       "  </thead>\n",
       "  <tbody>\n",
       "    <tr>\n",
       "      <th>999995</th>\n",
       "      <td>4188603</td>\n",
       "      <td>844681</td>\n",
       "      <td>1</td>\n",
       "      <td>2011-06-09 06:59:45</td>\n",
       "      <td>2</td>\n",
       "      <td>844681</td>\n",
       "      <td>8</td>\n",
       "      <td>1498639</td>\n",
       "      <td>4188603</td>\n",
       "      <td>8</td>\n",
       "      <td>654822</td>\n",
       "      <td>8</td>\n",
       "      <td>Behance Art Reviews</td>\n",
       "      <td>https://drive.google.com/drive/folders/0B9Ck8j...</td>\n",
       "      <td>None</td>\n",
       "      <td>None</td>\n",
       "      <td>4</td>\n",
       "      <td>BEH1M</td>\n",
       "      <td>4</td>\n",
       "    </tr>\n",
       "    <tr>\n",
       "      <th>999996</th>\n",
       "      <td>4188603</td>\n",
       "      <td>886310</td>\n",
       "      <td>1</td>\n",
       "      <td>2011-07-04 11:26:51</td>\n",
       "      <td>2</td>\n",
       "      <td>886310</td>\n",
       "      <td>8</td>\n",
       "      <td>1718465</td>\n",
       "      <td>4188603</td>\n",
       "      <td>8</td>\n",
       "      <td>654822</td>\n",
       "      <td>8</td>\n",
       "      <td>Behance Art Reviews</td>\n",
       "      <td>https://drive.google.com/drive/folders/0B9Ck8j...</td>\n",
       "      <td>None</td>\n",
       "      <td>None</td>\n",
       "      <td>4</td>\n",
       "      <td>BEH1M</td>\n",
       "      <td>4</td>\n",
       "    </tr>\n",
       "    <tr>\n",
       "      <th>999997</th>\n",
       "      <td>4188603</td>\n",
       "      <td>897199</td>\n",
       "      <td>1</td>\n",
       "      <td>2011-07-10 05:13:13</td>\n",
       "      <td>2</td>\n",
       "      <td>897199</td>\n",
       "      <td>8</td>\n",
       "      <td>1759040</td>\n",
       "      <td>4188603</td>\n",
       "      <td>8</td>\n",
       "      <td>654822</td>\n",
       "      <td>8</td>\n",
       "      <td>Behance Art Reviews</td>\n",
       "      <td>https://drive.google.com/drive/folders/0B9Ck8j...</td>\n",
       "      <td>None</td>\n",
       "      <td>None</td>\n",
       "      <td>4</td>\n",
       "      <td>BEH1M</td>\n",
       "      <td>4</td>\n",
       "    </tr>\n",
       "    <tr>\n",
       "      <th>999998</th>\n",
       "      <td>4188603</td>\n",
       "      <td>992017</td>\n",
       "      <td>1</td>\n",
       "      <td>2011-10-12 06:03:16</td>\n",
       "      <td>2</td>\n",
       "      <td>992017</td>\n",
       "      <td>8</td>\n",
       "      <td>2302088</td>\n",
       "      <td>4188603</td>\n",
       "      <td>8</td>\n",
       "      <td>654822</td>\n",
       "      <td>8</td>\n",
       "      <td>Behance Art Reviews</td>\n",
       "      <td>https://drive.google.com/drive/folders/0B9Ck8j...</td>\n",
       "      <td>None</td>\n",
       "      <td>None</td>\n",
       "      <td>4</td>\n",
       "      <td>BEH1M</td>\n",
       "      <td>4</td>\n",
       "    </tr>\n",
       "    <tr>\n",
       "      <th>999999</th>\n",
       "      <td>4188603</td>\n",
       "      <td>1010575</td>\n",
       "      <td>1</td>\n",
       "      <td>2011-11-02 10:47:43</td>\n",
       "      <td>2</td>\n",
       "      <td>1010575</td>\n",
       "      <td>8</td>\n",
       "      <td>2401834</td>\n",
       "      <td>4188603</td>\n",
       "      <td>8</td>\n",
       "      <td>654822</td>\n",
       "      <td>8</td>\n",
       "      <td>Behance Art Reviews</td>\n",
       "      <td>https://drive.google.com/drive/folders/0B9Ck8j...</td>\n",
       "      <td>None</td>\n",
       "      <td>None</td>\n",
       "      <td>4</td>\n",
       "      <td>BEH1M</td>\n",
       "      <td>4</td>\n",
       "    </tr>\n",
       "  </tbody>\n",
       "</table>\n",
       "</div>"
      ],
      "text/plain": [
       "        id_user  id_item value           timestamp  id_feedback_type  id_item  \\\n",
       "999995  4188603   844681     1 2011-06-09 06:59:45                 2   844681   \n",
       "999996  4188603   886310     1 2011-07-04 11:26:51                 2   886310   \n",
       "999997  4188603   897199     1 2011-07-10 05:13:13                 2   897199   \n",
       "999998  4188603   992017     1 2011-10-12 06:03:16                 2   992017   \n",
       "999999  4188603  1010575     1 2011-11-02 10:47:43                 2  1010575   \n",
       "\n",
       "        id_dataset id_item_dataset  id_user  id_dataset id_user_dataset  \\\n",
       "999995           8         1498639  4188603           8          654822   \n",
       "999996           8         1718465  4188603           8          654822   \n",
       "999997           8         1759040  4188603           8          654822   \n",
       "999998           8         2302088  4188603           8          654822   \n",
       "999999           8         2401834  4188603           8          654822   \n",
       "\n",
       "        id_dataset                 name  \\\n",
       "999995           8  Behance Art Reviews   \n",
       "999996           8  Behance Art Reviews   \n",
       "999997           8  Behance Art Reviews   \n",
       "999998           8  Behance Art Reviews   \n",
       "999999           8  Behance Art Reviews   \n",
       "\n",
       "                                                      url registers  size  \\\n",
       "999995  https://drive.google.com/drive/folders/0B9Ck8j...      None  None   \n",
       "999996  https://drive.google.com/drive/folders/0B9Ck8j...      None  None   \n",
       "999997  https://drive.google.com/drive/folders/0B9Ck8j...      None  None   \n",
       "999998  https://drive.google.com/drive/folders/0B9Ck8j...      None  None   \n",
       "999999  https://drive.google.com/drive/folders/0B9Ck8j...      None  None   \n",
       "\n",
       "        id_cluster version  id_utility  \n",
       "999995           4   BEH1M           4  \n",
       "999996           4   BEH1M           4  \n",
       "999997           4   BEH1M           4  \n",
       "999998           4   BEH1M           4  \n",
       "999999           4   BEH1M           4  "
      ]
     },
     "execution_count": 48,
     "metadata": {},
     "output_type": "execute_result"
    }
   ],
   "source": [
    "sql_str = \"\"\"\n",
    "    SELECT * FROM datasets.feedback fb\n",
    "    INNER JOIN datasets.item it ON fb.id_item = it.id_item\n",
    "    INNER JOIN datasets.user us ON fb.id_user = us.id_user\n",
    "    INNER JOIN datasets.dataset ds ON it.id_dataset = ds.id_dataset AND us.id_dataset = ds.id_dataset\n",
    "    WHERE ds.id_dataset = \"\"\" + str(id_dataset)\n",
    "pd.read_sql(con=conn, sql=sql_str).tail()"
   ]
  },
  {
   "cell_type": "markdown",
   "metadata": {},
   "source": [
    "## Update Datasets Stats "
   ]
  },
  {
   "cell_type": "code",
   "execution_count": 56,
   "metadata": {},
   "outputs": [],
   "source": [
    "# To be implemented"
   ]
  },
  {
   "cell_type": "markdown",
   "metadata": {},
   "source": [
    "## Updating USS and ISS Table"
   ]
  },
  {
   "cell_type": "code",
   "execution_count": 53,
   "metadata": {},
   "outputs": [
    {
     "data": {
      "text/plain": [
       "<sqlalchemy.engine.result.ResultProxy at 0x1fd870477b8>"
      ]
     },
     "execution_count": 53,
     "metadata": {},
     "output_type": "execute_result"
    }
   ],
   "source": [
    "%%time\n",
    "conn.execute(\"CALL sparsity.update_uss()\")\n",
    "print (\"USS table updated\")\n",
    "conn.execute(\"CALL sparsity.update_iss()\")\n",
    "print (\"ISS table updated\")"
   ]
  },
  {
   "cell_type": "markdown",
   "metadata": {},
   "source": [
    "## Getting Sparsity Dataset"
   ]
  },
  {
   "cell_type": "code",
   "execution_count": 55,
   "metadata": {},
   "outputs": [
    {
     "data": {
      "text/html": [
       "<div>\n",
       "<style scoped>\n",
       "    .dataframe tbody tr th:only-of-type {\n",
       "        vertical-align: middle;\n",
       "    }\n",
       "\n",
       "    .dataframe tbody tr th {\n",
       "        vertical-align: top;\n",
       "    }\n",
       "\n",
       "    .dataframe thead th {\n",
       "        text-align: right;\n",
       "    }\n",
       "</style>\n",
       "<table border=\"1\" class=\"dataframe\">\n",
       "  <thead>\n",
       "    <tr style=\"text-align: right;\">\n",
       "      <th></th>\n",
       "      <th>id_user_dataset</th>\n",
       "      <th>id_item_dataset</th>\n",
       "      <th>value</th>\n",
       "      <th>timestamp</th>\n",
       "      <th>id_user</th>\n",
       "      <th>id_item</th>\n",
       "    </tr>\n",
       "  </thead>\n",
       "  <tbody>\n",
       "    <tr>\n",
       "      <th>999995</th>\n",
       "      <td>1694139</td>\n",
       "      <td>1617781</td>\n",
       "      <td>1</td>\n",
       "      <td>2011-11-14 04:01:30</td>\n",
       "      <td>4251616</td>\n",
       "      <td>861263</td>\n",
       "    </tr>\n",
       "    <tr>\n",
       "      <th>999996</th>\n",
       "      <td>1684834</td>\n",
       "      <td>1064879</td>\n",
       "      <td>1</td>\n",
       "      <td>2011-11-14 04:03:52</td>\n",
       "      <td>4251617</td>\n",
       "      <td>849314</td>\n",
       "    </tr>\n",
       "    <tr>\n",
       "      <th>999997</th>\n",
       "      <td>1684834</td>\n",
       "      <td>915804</td>\n",
       "      <td>1</td>\n",
       "      <td>2011-11-14 04:06:16</td>\n",
       "      <td>4251617</td>\n",
       "      <td>849320</td>\n",
       "    </tr>\n",
       "    <tr>\n",
       "      <th>999998</th>\n",
       "      <td>697018</td>\n",
       "      <td>329834</td>\n",
       "      <td>1</td>\n",
       "      <td>2011-11-14 04:09:45</td>\n",
       "      <td>4251618</td>\n",
       "      <td>844882</td>\n",
       "    </tr>\n",
       "    <tr>\n",
       "      <th>999999</th>\n",
       "      <td>697018</td>\n",
       "      <td>1912005</td>\n",
       "      <td>1</td>\n",
       "      <td>2011-11-14 04:11:14</td>\n",
       "      <td>4251618</td>\n",
       "      <td>932713</td>\n",
       "    </tr>\n",
       "  </tbody>\n",
       "</table>\n",
       "</div>"
      ],
      "text/plain": [
       "       id_user_dataset id_item_dataset value           timestamp  id_user  \\\n",
       "999995         1694139         1617781     1 2011-11-14 04:01:30  4251616   \n",
       "999996         1684834         1064879     1 2011-11-14 04:03:52  4251617   \n",
       "999997         1684834          915804     1 2011-11-14 04:06:16  4251617   \n",
       "999998          697018          329834     1 2011-11-14 04:09:45  4251618   \n",
       "999999          697018         1912005     1 2011-11-14 04:11:14  4251618   \n",
       "\n",
       "        id_item  \n",
       "999995   861263  \n",
       "999996   849314  \n",
       "999997   849320  \n",
       "999998   844882  \n",
       "999999   932713  "
      ]
     },
     "execution_count": 55,
     "metadata": {},
     "output_type": "execute_result"
    }
   ],
   "source": [
    "pd.read_sql(con=conn, sql=\"select * from sparsity.get_dataset_from_sparsity('BEH1M', 1.0, 1.0)\").tail()"
   ]
  }
 ],
 "metadata": {
  "kernelspec": {
   "display_name": "Python 3",
   "language": "python",
   "name": "python3"
  },
  "language_info": {
   "codemirror_mode": {
    "name": "ipython",
    "version": 3
   },
   "file_extension": ".py",
   "mimetype": "text/x-python",
   "name": "python",
   "nbconvert_exporter": "python",
   "pygments_lexer": "ipython3",
   "version": "3.7.3"
  }
 },
 "nbformat": 4,
 "nbformat_minor": 2
}
